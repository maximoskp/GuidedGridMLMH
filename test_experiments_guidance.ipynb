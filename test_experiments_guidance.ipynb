{
 "cells": [
  {
   "cell_type": "code",
   "execution_count": 35,
   "id": "4636fa01",
   "metadata": {},
   "outputs": [],
   "source": [
    "import torch.nn.functional as F\n",
    "import torch\n",
    "from GridMLM_tokenizers import GuidedGridMLMTokenizer\n",
    "from models import GuidedMLMH\n",
    "from generate_utils import load_model\n",
    "import pickle\n",
    "import pandas as pd\n",
    "import os"
   ]
  },
  {
   "cell_type": "code",
   "execution_count": 36,
   "id": "f169e664",
   "metadata": {},
   "outputs": [],
   "source": [
    "curricula = ['random', 'base2']\n",
    "subfolders = ['unf_CA', 'disentangle/unf_CA']\n",
    "ablations = ['all', 'kl', 'rec', 'con']\n",
    "\n",
    "device_name = 'cuda:2'\n",
    "\n",
    "tokenizer = GuidedGridMLMTokenizer(fixed_length=256)\n",
    "model = load_model(\n",
    "        curriculum_type=curricula[0],\n",
    "        subfolder=subfolders[0],\n",
    "        ablation=ablations[0],\n",
    "        device_name=device_name,\n",
    "        tokenizer=tokenizer\n",
    ")\n",
    "device = model.device"
   ]
  },
  {
   "cell_type": "code",
   "execution_count": 37,
   "id": "ba2dbdf7",
   "metadata": {},
   "outputs": [
    {
     "name": "stdout",
     "output_type": "stream",
     "text": [
      "['unf_CA_random_all_test_test.pickle', 'unf_CA_base2_kl_jazz_jazz.pickle', 'unf_CA_random_rec_test_test.pickle', 'unf_CA_random_kl_test_jazz.pickle', 'unf_CA_random_con_test_test.pickle', 'unf_CA_base2_kl_test_jazz.pickle', 'unf_CA_base2_con_test_test.pickle', 'unf_CA_base2_kl_jazz_test.pickle', 'unf_CA_random_rec_test_jazz.pickle', 'unf_CA_base2_all_jazz_test.pickle', 'unf_CA_base2_all_test_jazz.pickle', 'unf_CA_random_kl_jazz_test.pickle', 'unf_CA_random_kl_jazz_jazz.pickle', 'unf_CA_random_rec_jazz_jazz.pickle', 'unf_CA_base2_con_jazz_test.pickle', 'unf_CA_base2_kl_test_test.pickle', 'unf_CA_base2_con_jazz_jazz.pickle', 'unf_CA_random_all_jazz_jazz.pickle', 'unf_CA_random_con_test_jazz.pickle', 'unf_CA_base2_con_test_jazz.pickle', 'unf_CA_base2_rec_jazz_test.pickle', 'unf_CA_base2_all_test_test.pickle', 'unf_CA_random_con_jazz_test.pickle', 'unf_CA_random_kl_test_test.pickle', 'unf_CA_random_all_test_jazz.pickle', 'unf_CA_base2_rec_jazz_jazz.pickle', 'unf_CA_base2_rec_test_test.pickle', 'unf_CA_base2_all_jazz_jazz.pickle', 'unf_CA_base2_rec_test_jazz.pickle', 'unf_CA_random_all_jazz_test.pickle', 'unf_CA_random_rec_jazz_test.pickle', 'unf_CA_random_con_jazz_jazz.pickle']\n"
     ]
    }
   ],
   "source": [
    "save_folder = '/media/maindisk/data/hooktheory_hr/guidance_experiment_data/'\n",
    "files = os.listdir(save_folder)\n",
    "print(files)"
   ]
  },
  {
   "cell_type": "code",
   "execution_count": 38,
   "id": "b766e0c5",
   "metadata": {},
   "outputs": [
    {
     "name": "stdout",
     "output_type": "stream",
     "text": [
      "/media/maindisk/data/hooktheory_hr/guidance_experiment_data/unf_CA_random_all_test_test.pickle\n"
     ]
    }
   ],
   "source": [
    "file = 'unf_CA_random_all_test_test.pickle'\n",
    "with open(save_folder+file, 'rb') as f:\n",
    "    print(save_folder+file)\n",
    "    ds = pickle.load(f)"
   ]
  },
  {
   "cell_type": "code",
   "execution_count": 39,
   "id": "bebc6254",
   "metadata": {},
   "outputs": [],
   "source": [
    "# for file in files:\n",
    "#     with open(save_folder+file, 'rb') as f:\n",
    "#         print(save_folder+file)\n",
    "#         ds = pickle.load(f)"
   ]
  },
  {
   "cell_type": "code",
   "execution_count": 47,
   "id": "da636847",
   "metadata": {},
   "outputs": [
    {
     "name": "stdout",
     "output_type": "stream",
     "text": [
      "100\n",
      "dict_keys(['input_encoded', 'results'])\n",
      "original_ids: [65, 65, 65, 65, 65, 65, 65, 65, 65, 65, 65, 65, 214, 214, 214, 214, 214, 214, 214, 214, 214, 214, 214, 214, 69, 69, 69, 69, 69, 69, 69, 69, 69, 69, 69, 69, 72, 72, 72, 72, 72, 72, 72, 72, 72, 72, 72, 72, 65, 65, 65, 65, 65, 65, 65, 65, 65, 65, 65, 65, 214, 214, 214, 214, 214, 214, 214, 214, 214, 214, 214, 214, 69, 69, 69, 69, 69, 69, 69, 69, 69, 69, 69, 69, 65, 65, 65, 65, 65, 65, 65, 65, 65, 65, 65, 65, 1, 1, 1, 1, 1, 1, 1, 1, 1, 1, 1, 1, 1, 1, 1, 1, 1, 1, 1, 1, 1, 1, 1, 1, 1, 1, 1, 1, 1, 1, 1, 1, 1, 1, 1, 1, 1, 1, 1, 1, 1, 1, 1, 1, 1, 1, 1, 1, 1, 1, 1, 1, 1, 1, 1, 1, 1, 1, 1, 1, 1, 1, 1, 1, 1, 1, 1, 1, 1, 1, 1, 1, 1, 1, 1, 1, 1, 1, 1, 1, 1, 1, 1, 1, 1, 1, 1, 1, 1, 1, 1, 1, 1, 1, 1, 1, 1, 1, 1, 1, 1, 1, 1, 1, 1, 1, 1, 1, 1, 1, 1, 1, 1, 1, 1, 1, 1, 1, 1, 1, 1, 1, 1, 1, 1, 1, 1, 1, 1, 1, 1, 1, 1, 1, 1, 1, 1, 1, 1, 1, 1, 1, 1, 1, 1, 1, 1, 1, 1, 1, 1, 1, 1, 1, 1, 1, 1, 1, 1, 1]\n",
      "guiding_ids: [4, 4, 4, 4, 4, 4, 4, 4, 268, 268, 268, 268, 268, 268, 268, 268, 268, 268, 268, 268, 268, 268, 268, 268, 268, 268, 268, 268, 268, 268, 268, 268, 268, 268, 268, 268, 268, 268, 268, 268, 209, 209, 209, 209, 209, 209, 209, 209, 209, 209, 209, 209, 209, 209, 209, 209, 209, 209, 209, 209, 209, 209, 209, 209, 209, 209, 209, 209, 209, 209, 209, 209, 151, 151, 151, 151, 151, 151, 151, 151, 151, 151, 151, 151, 151, 151, 151, 151, 151, 151, 151, 151, 151, 151, 151, 151, 151, 151, 151, 151, 151, 151, 151, 151, 272, 272, 272, 272, 272, 272, 272, 272, 272, 272, 272, 272, 272, 272, 272, 272, 272, 272, 272, 272, 272, 272, 272, 272, 272, 272, 272, 272, 272, 272, 272, 272, 214, 214, 214, 214, 214, 214, 214, 214, 214, 214, 214, 214, 214, 214, 214, 214, 64, 64, 64, 64, 64, 64, 64, 64, 64, 64, 64, 64, 64, 64, 64, 64, 151, 151, 151, 151, 151, 151, 151, 151, 151, 151, 151, 151, 151, 151, 151, 151, 151, 151, 151, 151, 151, 151, 151, 151, 151, 151, 151, 151, 151, 151, 151, 151, 209, 209, 209, 209, 209, 209, 209, 209, 209, 209, 209, 209, 209, 209, 209, 209, 209, 209, 209, 209, 209, 209, 209, 209, 209, 209, 209, 209, 209, 209, 209, 209, 268, 268, 268, 268, 268, 268, 268, 268, 268, 268, 268, 268, 268, 268, 268, 268, 268, 268, 268, 268, 268, 268, 268, 268]\n",
      "gen_ids: [268, 268, 268, 268, 268, 268, 268, 268, 268, 268, 268, 268, 268, 268, 268, 268, 268, 268, 209, 209, 209, 209, 209, 209, 209, 209, 209, 209, 209, 209, 209, 209, 151, 151, 151, 151, 151, 151, 151, 151, 151, 151, 151, 151, 151, 151, 151, 151, 209, 209, 209, 209, 209, 209, 209, 209, 209, 209, 209, 209, 209, 209, 209, 209, 268, 268, 268, 268, 268, 268, 268, 268, 268, 268, 268, 268, 268, 268, 268, 268, 268, 268, 268, 268, 209, 209, 209, 209, 209, 209, 209, 209, 209, 209, 209, 209, 1, 1, 1, 1, 1, 1, 1, 1, 1, 1, 1, 1, 1, 1, 1, 1, 1, 1, 1, 1, 1, 1, 1, 1, 1, 1, 1, 1, 1, 1, 1, 1, 1, 1, 1, 1, 1, 1, 1, 1, 1, 1, 1, 1, 1, 1, 1, 1, 1, 1, 1, 1, 1, 1, 1, 1, 1, 1, 1, 1, 1, 1, 1, 1, 1, 1, 1, 1, 1, 1, 1, 1, 1, 1, 1, 1, 1, 1, 1, 1, 1, 1, 1, 1, 1, 1, 1, 1, 1, 1, 1, 1, 1, 1, 1, 1, 1, 1, 1, 1, 1, 1, 1, 1, 1, 1, 1, 1, 1, 1, 1, 1, 1, 1, 1, 1, 1, 1, 1, 1, 1, 1, 1, 1, 1, 1, 1, 1, 1, 1, 1, 1, 1, 1, 1, 1, 1, 1, 1, 1, 1, 1, 1, 1, 1, 1, 1, 1, 1, 1, 1, 1, 1, 1, 1, 1, 1, 1, 1, 1]\n",
      "input_z: tensor(0.0229)\n",
      "guide_z: tensor(0.0354)\n",
      "input_guide: tensor(0.1925)\n"
     ]
    }
   ],
   "source": [
    "# d = ds[0]\n",
    "print(len(ds))\n",
    "d = ds[0]\n",
    "print(d.keys())\n",
    "original_ids = d['input_encoded']['input_ids']\n",
    "results = d['results']\n",
    "r = results[3]\n",
    "guiding_ids = r['guide_encoded']['input_ids']\n",
    "gen_ids = r['generated']['input_ids']\n",
    "print('original_ids:', original_ids)\n",
    "print('guiding_ids:', guiding_ids)\n",
    "print('gen_ids:', gen_ids)\n",
    "\n",
    "z_original = model.get_z_from_harmony(torch.LongTensor([original_ids]).to(device)).detach().cpu()[0].tolist()\n",
    "z_guiding = model.get_z_from_harmony(torch.LongTensor([guiding_ids]).to(device)).detach().cpu()[0].tolist()\n",
    "z_gen = model.get_z_from_harmony(torch.LongTensor([gen_ids]).to(device)).detach().cpu()[0].tolist()\n",
    "\n",
    "guide_z = F.cosine_similarity(torch.FloatTensor(z_original), torch.FloatTensor(z_gen), dim=-1)\n",
    "input_z = F.cosine_similarity(torch.FloatTensor(z_guiding), torch.FloatTensor(z_gen), dim=-1)\n",
    "input_guide = F.cosine_similarity(torch.FloatTensor(z_guiding), torch.FloatTensor(z_original), dim=-1)\n",
    "print('input_z:', input_z)\n",
    "print('guide_z:', guide_z)\n",
    "print('input_guide:', input_guide)"
   ]
  }
 ],
 "metadata": {
  "kernelspec": {
   "display_name": "torch",
   "language": "python",
   "name": "python3"
  },
  "language_info": {
   "codemirror_mode": {
    "name": "ipython",
    "version": 3
   },
   "file_extension": ".py",
   "mimetype": "text/x-python",
   "name": "python",
   "nbconvert_exporter": "python",
   "pygments_lexer": "ipython3",
   "version": "3.12.2"
  }
 },
 "nbformat": 4,
 "nbformat_minor": 5
}
