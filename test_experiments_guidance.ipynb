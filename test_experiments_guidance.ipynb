{
 "cells": [
  {
   "cell_type": "code",
   "execution_count": 5,
   "id": "4636fa01",
   "metadata": {},
   "outputs": [],
   "source": [
    "import pickle\n",
    "import pandas as pd\n",
    "import os"
   ]
  },
  {
   "cell_type": "code",
   "execution_count": 6,
   "id": "ba2dbdf7",
   "metadata": {},
   "outputs": [
    {
     "name": "stdout",
     "output_type": "stream",
     "text": [
      "['unf_CA_base2_kl_jazz_jazz.pickle', 'unf_CA_random_rec_test_test.pickle', 'unf_CA_random_kl_test_jazz.pickle', 'unf_CA_random_con_test_test.pickle', 'unf_CA_base2_kl_test_jazz.pickle', 'unf_CA_base2_con_test_test.pickle', 'unf_CA_base2_kl_jazz_test.pickle', 'unf_CA_random_rec_test_jazz.pickle', 'unf_CA_base2_all_jazz_test.pickle', 'unf_CA_base2_all_test_jazz.pickle', 'unf_CA_random_kl_jazz_test.pickle', 'unf_CA_random_kl_jazz_jazz.pickle', 'unf_CA_random_rec_jazz_jazz.pickle', 'unf_CA_base2_con_jazz_test.pickle', 'unf_CA_base2_kl_test_test.pickle', 'unf_CA_base2_con_jazz_jazz.pickle', 'unf_CA_random_all_jazz_jazz.pickle', 'unf_CA_random_con_test_jazz.pickle', 'unf_CA_base2_con_test_jazz.pickle', 'unf_CA_base2_rec_jazz_test.pickle', 'unf_CA_base2_all_test_test.pickle', 'unf_CA_random_con_jazz_test.pickle', 'unf_CA_random_kl_test_test.pickle', 'unf_CA_random_all_test_jazz.pickle', 'unf_CA_base2_rec_jazz_jazz.pickle', 'unf_CA_base2_rec_test_test.pickle', 'unf_CA_base2_all_jazz_jazz.pickle', 'unf_CA_base2_rec_test_jazz.pickle', 'unf_CA_random_all_jazz_test.pickle', 'unf_CA_random_rec_jazz_test.pickle', 'unf_CA_random_con_jazz_jazz.pickle']\n"
     ]
    }
   ],
   "source": [
    "save_folder = '/media/maindisk/data/hooktheory_hr/guidance_experiment_data/'\n",
    "files = os.listdir(save_folder)\n",
    "print(files)"
   ]
  },
  {
   "cell_type": "code",
   "execution_count": 14,
   "id": "b766e0c5",
   "metadata": {},
   "outputs": [
    {
     "name": "stdout",
     "output_type": "stream",
     "text": [
      "/media/maindisk/data/hooktheory_hr/guidance_experiment_data/unf_CA_random_all_test_test.pickle\n"
     ]
    }
   ],
   "source": [
    "file = 'unf_CA_random_all_test_test.pickle'\n",
    "with open(save_folder+file, 'rb') as f:\n",
    "    print(save_folder+file)\n",
    "    ds = pickle.load(f)"
   ]
  },
  {
   "cell_type": "code",
   "execution_count": 16,
   "id": "bebc6254",
   "metadata": {},
   "outputs": [],
   "source": [
    "# for file in files:\n",
    "#     with open(save_folder+file, 'rb') as f:\n",
    "#         print(save_folder+file)\n",
    "#         ds = pickle.load(f)"
   ]
  },
  {
   "cell_type": "code",
   "execution_count": 19,
   "id": "da636847",
   "metadata": {},
   "outputs": [
    {
     "name": "stdout",
     "output_type": "stream",
     "text": [
      "1000\n"
     ]
    }
   ],
   "source": [
    "# d = ds[0]\n",
    "print(len(ds))"
   ]
  }
 ],
 "metadata": {
  "kernelspec": {
   "display_name": "torch",
   "language": "python",
   "name": "python3"
  },
  "language_info": {
   "codemirror_mode": {
    "name": "ipython",
    "version": 3
   },
   "file_extension": ".py",
   "mimetype": "text/x-python",
   "name": "python",
   "nbconvert_exporter": "python",
   "pygments_lexer": "ipython3",
   "version": "3.12.2"
  }
 },
 "nbformat": 4,
 "nbformat_minor": 5
}
