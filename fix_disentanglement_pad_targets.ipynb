{
 "cells": [
  {
   "cell_type": "code",
   "execution_count": null,
   "id": "c18000ac",
   "metadata": {},
   "outputs": [
    {
     "name": "stderr",
     "output_type": "stream",
     "text": [
      "/home/maximos/miniconda3/envs/torch/lib/python3.12/site-packages/tqdm/auto.py:21: TqdmWarning: IProgress not found. Please update jupyter and ipywidgets. See https://ipywidgets.readthedocs.io/en/stable/user_install.html\n",
      "  from .autonotebook import tqdm as notebook_tqdm\n"
     ]
    }
   ],
   "source": [
    "# CAUTION: we do NOT want to run this. It appears that we need to learn padding...\n",
    "# This needed to run only after the first run of generate_disentanglement_all.py\n",
    "# because of the neglected -100 to the pad_token_id_ tokens.\n",
    "# Assumingly this was fixed after the first run.\n",
    "import pickle\n",
    "import torch\n",
    "import os\n",
    "from GridMLM_tokenizers import GuidedGridMLMTokenizer"
   ]
  },
  {
   "cell_type": "code",
   "execution_count": 2,
   "id": "7c036a1c",
   "metadata": {},
   "outputs": [
    {
     "name": "stdout",
     "output_type": "stream",
     "text": [
      "['unf_CA_random_rec.pickle', 'unf_CA_random_all.pickle', 'unf_CA_base2_rec.pickle', 'unf_CA_base2_con.pickle', 'unf_CA_random_con.pickle', 'unf_CA_base2_kl.pickle', 'unf_CA_base2_all.pickle', 'unf_CA_random_kl.pickle']\n"
     ]
    }
   ],
   "source": [
    "pickles_folder = '/media/maindisk/data/hooktheory_hr/guidance_disentanglement_data/'\n",
    "pickle_files = os.listdir( pickles_folder )\n",
    "print(pickle_files)\n",
    "\n",
    "tokenizer = GuidedGridMLMTokenizer(fixed_length=256)"
   ]
  },
  {
   "cell_type": "code",
   "execution_count": 3,
   "id": "055ebc2b",
   "metadata": {},
   "outputs": [
    {
     "name": "stdout",
     "output_type": "stream",
     "text": [
      "4\n"
     ]
    }
   ],
   "source": [
    "print(tokenizer.nc_token_id)"
   ]
  },
  {
   "cell_type": "code",
   "execution_count": 12,
   "id": "3f1cbdf9",
   "metadata": {},
   "outputs": [
    {
     "name": "stdout",
     "output_type": "stream",
     "text": [
      "processing:  unf_CA_random_rec.pickle\n",
      "processing:  unf_CA_random_all.pickle\n",
      "processing:  unf_CA_base2_rec.pickle\n",
      "processing:  unf_CA_base2_con.pickle\n",
      "processing:  unf_CA_random_con.pickle\n",
      "processing:  unf_CA_base2_kl.pickle\n",
      "processing:  unf_CA_base2_all.pickle\n",
      "processing:  unf_CA_random_kl.pickle\n"
     ]
    }
   ],
   "source": [
    "for pf in pickle_files:\n",
    "    print('processing: ', pf)\n",
    "    new_ds = []\n",
    "    with open(pickles_folder + pf, 'rb') as f:\n",
    "        ds = pickle.load(f)\n",
    "    for d in ds:\n",
    "        g = torch.LongTensor( d['input_ids'] )\n",
    "        g[ g == tokenizer.pad_token_id ] = -100\n",
    "        g[ g == tokenizer.pad_token_id ] = -100\n",
    "        d['input_ids'] = g.tolist()\n",
    "        new_ds.append(d)\n",
    "    with open(pickles_folder + pf, 'wb') as f:\n",
    "        pickle.dump(new_ds, f)"
   ]
  }
 ],
 "metadata": {
  "kernelspec": {
   "display_name": "torch",
   "language": "python",
   "name": "python3"
  },
  "language_info": {
   "codemirror_mode": {
    "name": "ipython",
    "version": 3
   },
   "file_extension": ".py",
   "mimetype": "text/x-python",
   "name": "python",
   "nbconvert_exporter": "python",
   "pygments_lexer": "ipython3",
   "version": "3.12.2"
  }
 },
 "nbformat": 4,
 "nbformat_minor": 5
}
