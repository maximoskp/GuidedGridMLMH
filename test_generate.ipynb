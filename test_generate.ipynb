{
 "cells": [
  {
   "cell_type": "code",
   "execution_count": 1,
   "id": "3b797008",
   "metadata": {},
   "outputs": [
    {
     "name": "stderr",
     "output_type": "stream",
     "text": [
      "/home/maximos/miniconda3/envs/torch/lib/python3.12/site-packages/tqdm/auto.py:21: TqdmWarning: IProgress not found. Please update jupyter and ipywidgets. See https://ipywidgets.readthedocs.io/en/stable/user_install.html\n",
      "  from .autonotebook import tqdm as notebook_tqdm\n"
     ]
    }
   ],
   "source": [
    "import torch\n",
    "from data_utils import GuidedGridMLMDataset, GuidedGridMLM_collate_fn\n",
    "from torch.utils.data import DataLoader\n",
    "from GridMLM_tokenizers import GuidedGridMLMTokenizer\n",
    "from models import GuidedMLMH\n",
    "from tqdm import tqdm\n",
    "import numpy as np\n",
    "from generate_utils import structured_progressive_generate, \\\n",
    "    random_progressive_generate, load_model, overlay_generated_harmony, \\\n",
    "    save_harmonized_score, generate_files_with_base2\n",
    "import os"
   ]
  },
  {
   "cell_type": "code",
   "execution_count": 2,
   "id": "24c327e8",
   "metadata": {},
   "outputs": [],
   "source": [
    "# we need the folders of the actual musicXMLs, not the dataset,\n",
    "# we need to load them through the tokenizer because we need the melody part\n",
    "val_dir = '/media/maindisk/data/hooktheory_hr/hooktheory_all12_test'\n",
    "jazz_dir = '/media/maindisk/data/gjt_melodies/gjt'"
   ]
  },
  {
   "cell_type": "code",
   "execution_count": 3,
   "id": "6a1717fa",
   "metadata": {},
   "outputs": [
    {
     "name": "stdout",
     "output_type": "stream",
     "text": [
      "total data_files: 1886\n",
      "total data_files: 650\n"
     ]
    }
   ],
   "source": [
    "val_files = []\n",
    "for dirpath, _, filenames in os.walk(val_dir):\n",
    "    for file in filenames:\n",
    "        if file.endswith('.xml') or file.endswith('.mxl') or file.endswith('.musicxml'):\n",
    "            full_path = os.path.join(dirpath, file)\n",
    "            val_files.append(full_path)\n",
    "print('total data_files:', len(val_files))\n",
    "\n",
    "jazz_files = []\n",
    "for dirpath, _, filenames in os.walk(jazz_dir):\n",
    "    for file in filenames:\n",
    "        if file.endswith('.xml') or file.endswith('.mxl') or file.endswith('.musicxml'):\n",
    "            full_path = os.path.join(dirpath, file)\n",
    "            jazz_files.append(full_path)\n",
    "print('total data_files:', len(jazz_files))"
   ]
  },
  {
   "cell_type": "code",
   "execution_count": 4,
   "id": "2e397dab",
   "metadata": {},
   "outputs": [],
   "source": [
    "tokenizer = GuidedGridMLMTokenizer(fixed_length=256)"
   ]
  },
  {
   "cell_type": "code",
   "execution_count": 5,
   "id": "1b4a2caf",
   "metadata": {},
   "outputs": [],
   "source": [
    "device_name = 'cuda:2'\n",
    "subfolder = 'all12'\n",
    "curriculum_type='base2'\n",
    "ablation = 'all'\n",
    "model = load_model(curriculum_type = curriculum_type, subfolder=subfolder, ablation=ablation, \\\n",
    "        device_name = device_name, tokenizer=tokenizer)"
   ]
  },
  {
   "cell_type": "code",
   "execution_count": 6,
   "id": "cfb5d900",
   "metadata": {},
   "outputs": [
    {
     "name": "stderr",
     "output_type": "stream",
     "text": [
      "/home/maximos/miniconda3/envs/torch/lib/python3.12/site-packages/music21/stream/base.py:3694: Music21DeprecationWarning: .flat is deprecated.  Call .flatten() instead\n",
      "  return self.iter().getElementsByClass(classFilterList)\n",
      "/home/maximos/miniconda3/envs/torch/lib/python3.12/site-packages/music21/base.py:559: UserWarning: Setting an ID that could be mistaken for a memory location is discouraged: got 138042516821760\n",
      "  warnings.warn(msg)\n",
      "/home/maximos/miniconda3/envs/torch/lib/python3.12/site-packages/music21/stream/base.py:3694: Music21DeprecationWarning: .flat is deprecated.  Call .flatten() instead\n",
      "  return self.iter().getElementsByClass(classFilterList)\n",
      "libpng warning: iCCP: known incorrect sRGB profile\n",
      "Error at line 30 col 47: no instrument found for part 'P5f5740f56a79f0167da998a9b4cb4db2'\n",
      "Error at line 988 col 47: no instrument found for part 'P184b6af55427159ae6cababfa67c9b45'\n",
      "convert <examples_musicXML/all12/base2/all/gen_0.mxl>...\n",
      "\tto <examples_MIDI/all12/base2/all/gen_0.mid>\n",
      "... success!\n",
      "libpng warning: iCCP: known incorrect sRGB profile\n",
      "Error at line 30 col 47: no instrument found for part 'Pd3521d098970b4bf5d9b9c310172d91e'\n",
      "Error at line 988 col 47: no instrument found for part 'P78b6d34facb9d5f14bbe6a90ed43e1db'\n",
      "convert <examples_musicXML/all12/base2/all/real_0.mxl>...\n",
      "\tto <examples_MIDI/all12/base2/all/real_0.mid>\n",
      "... success!\n",
      "libpng warning: iCCP: known incorrect sRGB profile\n",
      "Error at line 30 col 47: no instrument found for part 'Pb8f5d646343c4cbf157303e00cbd9d79'\n",
      "Error at line 992 col 47: no instrument found for part 'Pc057542eaefbf1008fd3e6e0b3da7a06'\n",
      "next note at 30000 track 0 for tie not found (version 206)\n",
      "convert <examples_musicXML/all12/base2/all/guide_0.mxl>...\n",
      "\tto <examples_MIDI/all12/base2/all/guide_0.mid>\n",
      "... success!\n"
     ]
    }
   ],
   "source": [
    "jazz_idx = 0\n",
    "val_idx = 0\n",
    "\n",
    "guide_f = jazz_files[jazz_idx]\n",
    "input_f = val_files[val_idx]\n",
    "\n",
    "mxl_folder = 'examples_musicXML/' + subfolder + '/' + curriculum_type + '/' + ablation + '/'\n",
    "midi_folder = 'examples_MIDI/' + subfolder + '/' + curriculum_type + '/' + ablation + '/'\n",
    "os.makedirs(mxl_folder, exist_ok=True)\n",
    "os.makedirs(midi_folder, exist_ok=True)\n",
    "\n",
    "gen_harm, real_harm, guide_harm = generate_files_with_base2(\n",
    "    model=model,\n",
    "    tokenizer=tokenizer,\n",
    "    input_f=input_f,\n",
    "    guide_f=guide_f,\n",
    "    mxl_folder=mxl_folder,\n",
    "    midi_folder=midi_folder,\n",
    "    name_suffix=0\n",
    ")"
   ]
  }
 ],
 "metadata": {
  "kernelspec": {
   "display_name": "torch",
   "language": "python",
   "name": "python3"
  },
  "language_info": {
   "codemirror_mode": {
    "name": "ipython",
    "version": 3
   },
   "file_extension": ".py",
   "mimetype": "text/x-python",
   "name": "python",
   "nbconvert_exporter": "python",
   "pygments_lexer": "ipython3",
   "version": "3.12.2"
  }
 },
 "nbformat": 4,
 "nbformat_minor": 5
}
