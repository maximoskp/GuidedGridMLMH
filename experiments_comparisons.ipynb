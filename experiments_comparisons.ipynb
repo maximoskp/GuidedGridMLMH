{
 "cells": [
  {
   "cell_type": "code",
   "execution_count": 2,
   "id": "d70b3521",
   "metadata": {},
   "outputs": [],
   "source": [
    "import pandas as pd\n",
    "import matplotlib.pyplot as plt\n",
    "from scipy.stats import mannwhitneyu\n",
    "import os"
   ]
  },
  {
   "cell_type": "code",
   "execution_count": 3,
   "id": "20846ba6",
   "metadata": {},
   "outputs": [
    {
     "name": "stdout",
     "output_type": "stream",
     "text": [
      "['unf_CA_base2_rec_jazz_jazz_False.png', 'unf_CA_base2_rec_jazz_jazz.csv', 'disentangle_unf_CA_random_rec_test_jazz_True.png', 'disentangle_unf_CA_base2_kl_test_jazz.csv', 'unf_CA_random_con_test_test.csv', 'unf_CA_base2_rec_test_test_True.png', 'unf_CA_base2_all_jazz_test_True.png', 'unf_CA_base2_con_jazz_jazz.csv', 'unf_CA_random_kl_jazz_jazz.csv', 'unf_CA_base2_con_test_test_True.png', 'unf_CA_base2_kl_jazz_jazz.csv', 'unf_CA_base2_rec_test_test.csv', 'unf_CA_base2_kl_test_test.csv', 'unf_CA_base2_con_jazz_test.csv', 'disentangle_unf_CA_random_kl_test_jazz.csv', 'unf_CA_random_rec_jazz_jazz_False.png', 'disentangle_unf_CA_random_con_test_test.csv', 'disentangle_unf_CA_random_all_test_test.csv', 'disentangle_unf_CA_random_rec_jazz_jazz.csv', 'disentangle_unf_CA_base2_con_jazz_test_True.png', 'disentangle_unf_CA_random_con_jazz_jazz_False.png', 'disentangle_unf_CA_random_rec_jazz_test_True.png', 'disentangle_unf_CA_random_con_jazz_test.csv', 'unf_CA_random_kl_jazz_test.csv', 'disentangle_unf_CA_random_all_test_jazz.csv', 'unf_CA_random_rec_jazz_jazz.csv', 'disentangle_unf_CA_random_kl_jazz_jazz.csv', 'disentangle_unf_CA_base2_con_test_jazz_True.png', 'unf_CA_random_con_jazz_jazz_True.png', 'unf_CA_base2_con_test_jazz.csv', 'disentangle_unf_CA_random_all_test_test_True.png', 'unf_CA_base2_rec_jazz_test.csv', 'disentangle_unf_CA_base2_rec_test_jazz_True.png', 'unf_CA_random_all_test_jazz_True.png', 'unf_CA_base2_kl_test_jazz.csv', 'unf_CA_base2_rec_test_jazz_True.png', 'unf_CA_random_all_test_jazz.csv', 'unf_CA_random_all_jazz_jazz_True.png', 'disentangle_unf_CA_base2_kl_test_test.csv', 'unf_CA_random_con_jazz_test.csv', 'unf_CA_random_all_jazz_test.csv', 'disentangle_unf_CA_base2_kl_jazz_test_False.png', 'unf_CA_base2_all_test_test_True.png', 'unf_CA_random_all_jazz_test_True.png', 'disentangle_unf_CA_base2_all_test_jazz.csv', 'unf_CA_base2_kl_jazz_jazz_False.png', 'unf_CA_random_kl_jazz_jazz_False.png', 'disentangle_unf_CA_random_kl_test_test.csv', 'unf_CA_base2_all_jazz_jazz.csv', 'disentangle_unf_CA_random_rec_test_jazz.csv', 'unf_CA_base2_all_jazz_test.csv', 'disentangle_unf_CA_random_kl_jazz_test.csv', 'disentangle_unf_CA_random_all_jazz_test_True.png', 'unf_CA_base2_rec_jazz_test_True.png', 'disentangle_unf_CA_base2_all_jazz_test.csv', 'unf_CA_random_con_test_jazz.csv', 'unf_CA_base2_kl_test_test_False.png', 'disentangle_unf_CA_base2_con_jazz_jazz_False.png', 'disentangle_unf_CA_base2_all_jazz_test_True.png', 'disentangle_unf_CA_base2_rec_jazz_test.csv', 'disentangle_unf_CA_random_kl_test_jazz_False.png', 'disentangle_unf_CA_random_all_jazz_jazz_True.png', 'disentangle_unf_CA_base2_kl_test_test_False.png', 'unf_CA_random_con_test_test_True.png', 'unf_CA_base2_all_test_test.csv', 'unf_CA_random_rec_jazz_test.csv', 'disentangle_unf_CA_base2_all_jazz_jazz_False.png', 'unf_CA_random_kl_test_jazz_False.png', 'disentangle_unf_CA_base2_rec_jazz_test_True.png', 'disentangle_unf_CA_base2_con_test_test_True.png', 'disentangle_unf_CA_random_con_test_jazz_True.png', 'unf_CA_base2_kl_jazz_test.csv', 'unf_CA_base2_all_test_jazz_True.png', 'unf_CA_base2_all_test_jazz.csv', 'disentangle_unf_CA_random_all_test_jazz_True.png', 'unf_CA_base2_con_test_jazz_True.png', 'unf_CA_random_rec_test_test_False.png', 'disentangle_unf_CA_random_rec_test_test.csv', 'disentangle_unf_CA_base2_rec_jazz_jazz.csv', 'disentangle_unf_CA_base2_rec_test_jazz.csv', 'disentangle_unf_CA_random_con_test_jazz.csv', 'unf_CA_base2_kl_jazz_test_False.png', 'disentangle_unf_CA_random_all_jazz_jazz.csv', 'disentangle_unf_CA_base2_all_test_jazz_True.png', 'unf_CA_random_rec_jazz_test_False.png', 'disentangle_unf_CA_random_con_jazz_jazz.csv', 'unf_CA_base2_kl_test_jazz_False.png', 'unf_CA_random_kl_test_test.csv', 'unf_CA_random_con_jazz_jazz.csv', 'disentangle_unf_CA_base2_con_jazz_jazz.csv', 'unf_CA_base2_con_jazz_test_True.png', 'unf_CA_random_kl_test_jazz.csv', 'disentangle_unf_CA_random_rec_jazz_jazz_False.png', 'disentangle_unf_CA_random_con_test_test_True.png', 'unf_CA_random_kl_test_test_False.png', 'disentangle_unf_CA_random_con_jazz_test_True.png', 'unf_CA_base2_con_jazz_jazz_False.png', 'unf_CA_random_all_jazz_jazz.csv', 'unf_CA_random_rec_test_jazz.csv', 'disentangle_unf_CA_base2_all_test_test.csv', 'disentangle_unf_CA_base2_rec_jazz_jazz_False.png', 'disentangle_unf_CA_base2_kl_jazz_jazz_False.png', 'disentangle_unf_CA_base2_con_jazz_test.csv', 'disentangle_unf_CA_base2_rec_test_test.csv', 'disentangle_unf_CA_random_kl_test_test_False.png', 'disentangle_unf_CA_random_kl_jazz_jazz_False.png', 'disentangle_unf_CA_random_kl_jazz_test_False.png', 'unf_CA_random_con_jazz_test_True.png', 'disentangle_unf_CA_base2_con_test_test.csv', 'unf_CA_base2_rec_test_jazz.csv', 'disentangle_unf_CA_random_rec_test_test_True.png', 'disentangle_unf_CA_base2_kl_test_jazz_False.png', 'disentangle_unf_CA_base2_all_jazz_jazz.csv', 'unf_CA_random_con_test_jazz_True.png', 'unf_CA_random_con_jazz_jazz_False.png', 'disentangle_unf_CA_base2_kl_jazz_test.csv', 'disentangle_unf_CA_base2_kl_jazz_jazz.csv', 'unf_CA_random_all_test_test_True.png', 'unf_CA_random_all_test_test.csv', 'disentangle_unf_CA_base2_all_test_test_True.png', 'unf_CA_random_kl_jazz_test_False.png', 'disentangle_unf_CA_random_rec_jazz_test.csv', 'unf_CA_base2_con_test_test.csv', 'unf_CA_base2_all_jazz_jazz_False.png', 'disentangle_unf_CA_random_all_jazz_test.csv', 'disentangle_unf_CA_base2_con_test_jazz.csv', 'unf_CA_random_rec_test_test.csv', 'disentangle_unf_CA_base2_rec_test_test_True.png', 'unf_CA_random_rec_test_jazz_False.png']\n"
     ]
    }
   ],
   "source": [
    "results_folder = 'results/experiments/'\n",
    "files = os.listdir(results_folder)\n",
    "print(files)"
   ]
  },
  {
   "cell_type": "code",
   "execution_count": 4,
   "id": "7bee3011",
   "metadata": {},
   "outputs": [],
   "source": [
    "curricula = ['random', 'base2']\n",
    "subfolders = ['unf_CA', 'disentangle/unf_CA']\n",
    "ablations = ['all', 'kl', 'rec', 'con']\n",
    "datasets = ['test', 'jazz']"
   ]
  },
  {
   "cell_type": "code",
   "execution_count": null,
   "id": "ec7e37c2",
   "metadata": {},
   "outputs": [],
   "source": []
  }
 ],
 "metadata": {
  "kernelspec": {
   "display_name": "torch",
   "language": "python",
   "name": "python3"
  },
  "language_info": {
   "codemirror_mode": {
    "name": "ipython",
    "version": 3
   },
   "file_extension": ".py",
   "mimetype": "text/x-python",
   "name": "python",
   "nbconvert_exporter": "python",
   "pygments_lexer": "ipython3",
   "version": "3.12.2"
  }
 },
 "nbformat": 4,
 "nbformat_minor": 5
}
