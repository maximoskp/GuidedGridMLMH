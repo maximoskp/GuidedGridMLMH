{
 "cells": [
  {
   "cell_type": "code",
   "execution_count": 4,
   "id": "91184a5e",
   "metadata": {},
   "outputs": [],
   "source": [
    "from train_gmlmh_fn import train_gmlmh\n",
    "from data_utils import GuidedGridMLMDataset, GuidedGridMLM_collate_fn\n",
    "from torch.utils.data import DataLoader\n",
    "from GridMLM_tokenizers import GuidedGridMLMTokenizer\n",
    "import multiprocessing\n",
    "\n",
    "# train_dir = '/media/maindisk/maximos/data/hooktheory_train'\n",
    "# val_dir = '/media/maindisk/maximos/data/hooktheory_test'\n",
    "# train_dir = '/media/maindisk/data/hooktheory/hooktheory_train'\n",
    "# val_dir = '/media/maindisk/data/hooktheory/hooktheory_test'\n",
    "train_dir = '/media/maindisk/data/gjt_melodies/gjt'\n",
    "val_dir = '/media/maindisk/data/gjt_melodies/gjt'\n",
    "batchsize = 32"
   ]
  },
  {
   "cell_type": "code",
   "execution_count": 5,
   "id": "d9dc05cc",
   "metadata": {},
   "outputs": [
    {
     "name": "stdout",
     "output_type": "stream",
     "text": [
      "Loading data file.\n",
      "Loading data file.\n"
     ]
    }
   ],
   "source": [
    "tokenizer = GuidedGridMLMTokenizer(fixed_length=256)\n",
    "\n",
    "train_dataset = GuidedGridMLMDataset(train_dir, tokenizer, 512, frontloading=True)\n",
    "val_dataset = GuidedGridMLMDataset(val_dir, tokenizer, 512, frontloading=True)\n",
    "\n",
    "trainloader = DataLoader(train_dataset, batch_size=batchsize, shuffle=True, collate_fn=GuidedGridMLM_collate_fn)\n",
    "valloader = DataLoader(val_dataset, batch_size=batchsize, shuffle=False, collate_fn=GuidedGridMLM_collate_fn)\n",
    "\n",
    "task_args = {\n",
    "    'subfolder': 'CA',\n",
    "    'epochs': 50,\n",
    "    'lr': 5e-5,\n",
    "    'curriculum_type': 'base2',\n",
    "    'device_name': 'cuda:0',\n",
    "    'tqdm_position': 0,\n",
    "    'validations_per_epoch': 1,\n",
    "    'loss_scheme': 'con'\n",
    "}"
   ]
  },
  {
   "cell_type": "code",
   "execution_count": 6,
   "id": "0a4af1fd",
   "metadata": {},
   "outputs": [
    {
     "name": "stdout",
     "output_type": "stream",
     "text": [
      "results_path: results/CA/base2_con.csv\n"
     ]
    },
    {
     "name": "stderr",
     "output_type": "stream",
     "text": [
      "Epoch 0@0 | trn_ba:   0%|          | 0/21 [00:00<?, ?batch/s]"
     ]
    },
    {
     "name": "stderr",
     "output_type": "stream",
     "text": [
      "Epoch 0@0 | trn_ba:  95%|█████████▌| 20/21 [00:06<00:00,  3.09batch/s, accuracy=0.00273, loss=9.42]"
     ]
    },
    {
     "name": "stdout",
     "output_type": "stream",
     "text": [
      "validation\n"
     ]
    },
    {
     "name": "stderr",
     "output_type": "stream",
     "text": [
      "Epoch 0@21| val_ba: 100%|██████████| 21/21 [00:01<00:00, 10.66batch/s, accuracy=0.00865, loss=15.1]\n",
      "Epoch 0@0 | trn_ba: 100%|██████████| 21/21 [00:08<00:00,  2.41batch/s, accuracy=0.00273, loss=9.42]\n"
     ]
    },
    {
     "name": "stdout",
     "output_type": "stream",
     "text": [
      "saving!\n",
      "validation: accuracy=0.008652197145430892, loss=15.094031878880092\n",
      "results_path:  results/CA/base2_con.csv\n"
     ]
    },
    {
     "name": "stderr",
     "output_type": "stream",
     "text": [
      "Epoch 1@21 | trn_ba:  95%|█████████▌| 20/21 [00:06<00:00,  3.04batch/s, accuracy=0.0277, loss=8.9] "
     ]
    },
    {
     "name": "stdout",
     "output_type": "stream",
     "text": [
      "validation\n"
     ]
    },
    {
     "name": "stderr",
     "output_type": "stream",
     "text": [
      "Epoch 1@42| val_ba: 100%|██████████| 21/21 [00:02<00:00, 10.31batch/s, accuracy=0.0409, loss=14.4]\n"
     ]
    },
    {
     "name": "stdout",
     "output_type": "stream",
     "text": [
      "saving!\n"
     ]
    },
    {
     "name": "stderr",
     "output_type": "stream",
     "text": [
      "Epoch 1@21 | trn_ba: 100%|██████████| 21/21 [00:09<00:00,  2.30batch/s, accuracy=0.0277, loss=8.9]\n"
     ]
    },
    {
     "name": "stdout",
     "output_type": "stream",
     "text": [
      "validation: accuracy=0.04086418443045935, loss=14.434883617219471\n",
      "results_path:  results/CA/base2_con.csv\n"
     ]
    },
    {
     "name": "stderr",
     "output_type": "stream",
     "text": [
      "Epoch 2@42 | trn_ba:  24%|██▍       | 5/21 [00:01<00:06,  2.55batch/s, accuracy=0.0416, loss=8.68]\n"
     ]
    },
    {
     "ename": "KeyboardInterrupt",
     "evalue": "",
     "output_type": "error",
     "traceback": [
      "\u001b[0;31m---------------------------------------------------------------------------\u001b[0m",
      "\u001b[0;31mKeyboardInterrupt\u001b[0m                         Traceback (most recent call last)",
      "Cell \u001b[0;32mIn[6], line 1\u001b[0m\n\u001b[0;32m----> 1\u001b[0m \u001b[43mtrain_gmlmh\u001b[49m\u001b[43m(\u001b[49m\n\u001b[1;32m      2\u001b[0m \u001b[43m    \u001b[49m\u001b[43mtrainloader\u001b[49m\u001b[38;5;241;43m=\u001b[39;49m\u001b[43mtrainloader\u001b[49m\u001b[43m,\u001b[49m\n\u001b[1;32m      3\u001b[0m \u001b[43m    \u001b[49m\u001b[43mvalloader\u001b[49m\u001b[38;5;241;43m=\u001b[39;49m\u001b[43mvalloader\u001b[49m\u001b[43m,\u001b[49m\n\u001b[1;32m      4\u001b[0m \u001b[43m    \u001b[49m\u001b[43mtokenizer\u001b[49m\u001b[38;5;241;43m=\u001b[39;49m\u001b[43mtokenizer\u001b[49m\u001b[43m,\u001b[49m\n\u001b[1;32m      5\u001b[0m \u001b[43m    \u001b[49m\u001b[38;5;241;43m*\u001b[39;49m\u001b[38;5;241;43m*\u001b[39;49m\u001b[43mtask_args\u001b[49m\n\u001b[1;32m      6\u001b[0m \u001b[43m)\u001b[49m\n",
      "File \u001b[0;32m/media/maindisk/maximos/repos/GuidedGridMLMH/train_gmlmh_fn.py:70\u001b[0m, in \u001b[0;36mtrain_gmlmh\u001b[0;34m(trainloader, valloader, tokenizer, subfolder, epochs, lr, curriculum_type, device_name, tqdm_position, validations_per_epoch, loss_scheme)\u001b[0m\n\u001b[1;32m     67\u001b[0m save_dir \u001b[38;5;241m=\u001b[39m \u001b[38;5;124m'\u001b[39m\u001b[38;5;124msaved_models/\u001b[39m\u001b[38;5;124m'\u001b[39m \u001b[38;5;241m+\u001b[39m subfolder \u001b[38;5;241m+\u001b[39m \u001b[38;5;124m'\u001b[39m\u001b[38;5;124m/\u001b[39m\u001b[38;5;124m'\u001b[39m\n\u001b[1;32m     68\u001b[0m transformer_path \u001b[38;5;241m=\u001b[39m save_dir \u001b[38;5;241m+\u001b[39m curriculum_type \u001b[38;5;241m+\u001b[39m \u001b[38;5;124m'\u001b[39m\u001b[38;5;124m_\u001b[39m\u001b[38;5;124m'\u001b[39m \u001b[38;5;241m+\u001b[39m loss_scheme \u001b[38;5;241m+\u001b[39m \u001b[38;5;124m'\u001b[39m\u001b[38;5;124m.pt\u001b[39m\u001b[38;5;124m'\u001b[39m\n\u001b[0;32m---> 70\u001b[0m \u001b[43mtrain_with_curriculum\u001b[49m\u001b[43m(\u001b[49m\n\u001b[1;32m     71\u001b[0m \u001b[43m    \u001b[49m\u001b[43mmodel\u001b[49m\u001b[43m,\u001b[49m\u001b[43m \u001b[49m\u001b[43moptimizer\u001b[49m\u001b[43m,\u001b[49m\u001b[43m \u001b[49m\u001b[43mtrainloader\u001b[49m\u001b[43m,\u001b[49m\u001b[43m \u001b[49m\u001b[43mvalloader\u001b[49m\u001b[43m,\u001b[49m\u001b[43m \u001b[49m\u001b[43mloss_fn\u001b[49m\u001b[43m,\u001b[49m\u001b[43m \u001b[49m\u001b[43mtokenizer\u001b[49m\u001b[38;5;241;43m.\u001b[39;49m\u001b[43mmask_token_id\u001b[49m\u001b[43m,\u001b[49m\n\u001b[1;32m     72\u001b[0m \u001b[43m    \u001b[49m\u001b[43mepochs\u001b[49m\u001b[38;5;241;43m=\u001b[39;49m\u001b[43mepochs\u001b[49m\u001b[43m,\u001b[49m\n\u001b[1;32m     73\u001b[0m \u001b[43m    \u001b[49m\u001b[43mcurriculum_type\u001b[49m\u001b[38;5;241;43m=\u001b[39;49m\u001b[43mcurriculum_type\u001b[49m\u001b[43m,\u001b[49m\u001b[43m  \u001b[49m\u001b[38;5;66;43;03m# 'random', 'base2'\u001b[39;49;00m\n\u001b[1;32m     74\u001b[0m \u001b[43m    \u001b[49m\u001b[43mresults_path\u001b[49m\u001b[38;5;241;43m=\u001b[39;49m\u001b[43mresults_path\u001b[49m\u001b[43m,\u001b[49m\n\u001b[1;32m     75\u001b[0m \u001b[43m    \u001b[49m\u001b[43mtransformer_path\u001b[49m\u001b[38;5;241;43m=\u001b[39;49m\u001b[43mtransformer_path\u001b[49m\u001b[43m,\u001b[49m\n\u001b[1;32m     76\u001b[0m \u001b[43m    \u001b[49m\u001b[43mtqdm_position\u001b[49m\u001b[38;5;241;43m=\u001b[39;49m\u001b[43mtqdm_position\u001b[49m\u001b[43m,\u001b[49m\n\u001b[1;32m     77\u001b[0m \u001b[43m    \u001b[49m\u001b[43mvalidations_per_epoch\u001b[49m\u001b[38;5;241;43m=\u001b[39;49m\u001b[43mvalidations_per_epoch\u001b[49m\u001b[43m,\u001b[49m\n\u001b[1;32m     78\u001b[0m \u001b[43m    \u001b[49m\u001b[43mloss_scheme\u001b[49m\u001b[38;5;241;43m=\u001b[39;49m\u001b[43mloss_scheme\u001b[49m\n\u001b[1;32m     79\u001b[0m \u001b[43m\u001b[49m\u001b[43m)\u001b[49m\n",
      "File \u001b[0;32m/media/maindisk/maximos/repos/GuidedGridMLMH/train_utils.py:392\u001b[0m, in \u001b[0;36mtrain_with_curriculum\u001b[0;34m(model, optimizer, trainloader, valloader, loss_fn, mask_token_id, epochs, curriculum_type, results_path, transformer_path, tqdm_position, validations_per_epoch, loss_scheme)\u001b[0m\n\u001b[1;32m    389\u001b[0m scheduler\u001b[38;5;241m.\u001b[39mstep()\n\u001b[1;32m    391\u001b[0m batch_num \u001b[38;5;241m+\u001b[39m\u001b[38;5;241m=\u001b[39m \u001b[38;5;241m1\u001b[39m\n\u001b[0;32m--> 392\u001b[0m running_loss \u001b[38;5;241m+\u001b[39m\u001b[38;5;241m=\u001b[39m \u001b[43mtotal_loss\u001b[49m\u001b[38;5;241;43m.\u001b[39;49m\u001b[43mitem\u001b[49m\u001b[43m(\u001b[49m\u001b[43m)\u001b[49m\n\u001b[1;32m    393\u001b[0m train_loss \u001b[38;5;241m=\u001b[39m running_loss \u001b[38;5;241m/\u001b[39m batch_num\n\u001b[1;32m    395\u001b[0m running_task \u001b[38;5;241m+\u001b[39m\u001b[38;5;241m=\u001b[39m task_loss\u001b[38;5;241m.\u001b[39mitem()\n",
      "\u001b[0;31mKeyboardInterrupt\u001b[0m: "
     ]
    }
   ],
   "source": [
    "train_gmlmh(\n",
    "    trainloader=trainloader,\n",
    "    valloader=valloader,\n",
    "    tokenizer=tokenizer,\n",
    "    **task_args\n",
    ")"
   ]
  }
 ],
 "metadata": {
  "kernelspec": {
   "display_name": "torch",
   "language": "python",
   "name": "python3"
  },
  "language_info": {
   "codemirror_mode": {
    "name": "ipython",
    "version": 3
   },
   "file_extension": ".py",
   "mimetype": "text/x-python",
   "name": "python",
   "nbconvert_exporter": "python",
   "pygments_lexer": "ipython3",
   "version": "3.12.2"
  }
 },
 "nbformat": 4,
 "nbformat_minor": 5
}
