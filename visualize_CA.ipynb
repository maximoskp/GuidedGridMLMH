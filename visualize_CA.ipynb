{
 "cells": [
  {
   "cell_type": "code",
   "execution_count": 1,
   "id": "c58f8870",
   "metadata": {},
   "outputs": [
    {
     "name": "stderr",
     "output_type": "stream",
     "text": [
      "/home/maximos/miniconda3/envs/torch/lib/python3.12/site-packages/tqdm/auto.py:21: TqdmWarning: IProgress not found. Please update jupyter and ipywidgets. See https://ipywidgets.readthedocs.io/en/stable/user_install.html\n",
      "  from .autonotebook import tqdm as notebook_tqdm\n"
     ]
    }
   ],
   "source": [
    "import torch\n",
    "from data_utils import GuidedGridMLMDataset, GuidedGridMLM_collate_fn\n",
    "from torch.utils.data import DataLoader\n",
    "from GridMLM_tokenizers import GuidedGridMLMTokenizer\n",
    "from models import GuidedMLMH\n",
    "from tqdm import tqdm\n",
    "import numpy as np"
   ]
  },
  {
   "cell_type": "code",
   "execution_count": 2,
   "id": "7aee7328",
   "metadata": {},
   "outputs": [],
   "source": [
    "device_name = 'cuda:2'\n",
    "val_dir = '/media/maindisk/data/hooktheory_hr/hooktheory_CA_test'\n",
    "jazz_dir = '/media/maindisk/data/gjt_melodies/gjt_CA'\n",
    "subfolder = 'CA'\n",
    "curriculum_type='random'\n",
    "ablation = 'all'"
   ]
  },
  {
   "cell_type": "code",
   "execution_count": 3,
   "id": "7bd2b86a",
   "metadata": {},
   "outputs": [
    {
     "name": "stdout",
     "output_type": "stream",
     "text": [
      "Loading data file.\n",
      "Loading data file.\n"
     ]
    }
   ],
   "source": [
    "model_path = 'saved_models/' + subfolder + '/' + curriculum_type + '_' + ablation + '.pt'\n",
    "tokenizer = GuidedGridMLMTokenizer(fixed_length=256)\n",
    "val_dataset = GuidedGridMLMDataset(val_dir, tokenizer, 512, frontloading=True)\n",
    "jazz_dataset = GuidedGridMLMDataset(jazz_dir, tokenizer, 512, frontloading=True)"
   ]
  },
  {
   "cell_type": "code",
   "execution_count": 4,
   "id": "4219cf7c",
   "metadata": {},
   "outputs": [
    {
     "data": {
      "text/plain": [
       "GuidedMLMH(\n",
       "  (condition_proj): Linear(in_features=16, out_features=512, bias=True)\n",
       "  (melody_proj): Linear(in_features=100, out_features=512, bias=True)\n",
       "  (harmony_embedding): Embedding(354, 512)\n",
       "  (guidance_to_dmodel): Linear(in_features=128, out_features=512, bias=True)\n",
       "  (vae): GuidanceVAE(\n",
       "    (embedding): Embedding(354, 64)\n",
       "    (encoder_rnn): LSTM(64, 256, batch_first=True)\n",
       "    (mu_proj): Linear(in_features=256, out_features=128, bias=True)\n",
       "    (logvar_proj): Linear(in_features=256, out_features=128, bias=True)\n",
       "    (decoder_rnn): LSTM(128, 256, batch_first=True)\n",
       "    (recon_proj): Linear(in_features=256, out_features=354, bias=True)\n",
       "    (feature_proj): Linear(in_features=128, out_features=37, bias=True)\n",
       "  )\n",
       "  (encoder): GridMLMMelHarmEncoder(\n",
       "    (stage_embedding): Embedding(10, 64)\n",
       "    (stage_proj): Linear(in_features=576, out_features=512, bias=True)\n",
       "    (encoder): TransformerEncoder(\n",
       "      (layers): ModuleList(\n",
       "        (0-7): 8 x TransformerEncoderLayer(\n",
       "          (self_attn): MultiheadAttention(\n",
       "            (out_proj): NonDynamicallyQuantizableLinear(in_features=512, out_features=512, bias=True)\n",
       "          )\n",
       "          (linear1): Linear(in_features=512, out_features=2048, bias=True)\n",
       "          (dropout): Dropout(p=0.1, inplace=False)\n",
       "          (linear2): Linear(in_features=2048, out_features=512, bias=True)\n",
       "          (norm1): LayerNorm((512,), eps=1e-05, elementwise_affine=True)\n",
       "          (norm2): LayerNorm((512,), eps=1e-05, elementwise_affine=True)\n",
       "          (dropout1): Dropout(p=0.1, inplace=False)\n",
       "          (dropout2): Dropout(p=0.1, inplace=False)\n",
       "        )\n",
       "      )\n",
       "    )\n",
       "    (input_norm): LayerNorm((512,), eps=1e-05, elementwise_affine=True)\n",
       "    (output_norm): LayerNorm((512,), eps=1e-05, elementwise_affine=True)\n",
       "    (output_head): Linear(in_features=512, out_features=354, bias=True)\n",
       "  )\n",
       "  (recon_loss_fn): CrossEntropyLoss()\n",
       ")"
      ]
     },
     "execution_count": 4,
     "metadata": {},
     "output_type": "execute_result"
    }
   ],
   "source": [
    "if device_name == 'cpu':\n",
    "        device = torch.device('cpu')\n",
    "else:\n",
    "    if torch.cuda.is_available():\n",
    "        device = torch.device(device_name)\n",
    "    else:\n",
    "        print('Selected device not available: ' + device_name)\n",
    "vae_cfg = {\n",
    "    'input_dim': 512,\n",
    "    'hidden_dim': 256,\n",
    "    'latent_dim': 128,\n",
    "    'embedding_dim': 64,\n",
    "    'seq_len': 256,\n",
    "    'feature_dim': 37,\n",
    "}\n",
    "encoder_cfg = {\n",
    "    'nhead': 8,\n",
    "    'num_layers': 8,\n",
    "    'stage_embedding_dim': 64,\n",
    "    'max_stages': 10\n",
    "}\n",
    "model = GuidedMLMH(\n",
    "    vae_cfg=vae_cfg,\n",
    "    encoder_cfg=encoder_cfg,\n",
    "    chord_vocab_size=len(tokenizer.vocab),\n",
    "    d_model=512,\n",
    "    conditioning_dim=16,\n",
    "    pianoroll_dim=100,\n",
    "    grid_length=256,\n",
    "    guidance_dim=128,\n",
    "    unfold_latent=True,\n",
    "    device=device,\n",
    ")\n",
    "checkpoint = torch.load(model_path, map_location=device_name)\n",
    "model.load_state_dict(checkpoint)\n",
    "model.eval()\n",
    "model.to(device)"
   ]
  },
  {
   "cell_type": "code",
   "execution_count": 5,
   "id": "4fd4d9b3",
   "metadata": {},
   "outputs": [
    {
     "name": "stderr",
     "output_type": "stream",
     "text": [
      "  0%|          | 0/786 [00:00<?, ?it/s]"
     ]
    },
    {
     "name": "stderr",
     "output_type": "stream",
     "text": [
      "100%|██████████| 786/786 [00:03<00:00, 236.01it/s]\n",
      "100%|██████████| 547/547 [00:01<00:00, 274.76it/s]\n"
     ]
    }
   ],
   "source": [
    "def condenced_str_from_token_ids(inp_ids, tokenizer):\n",
    "    tmp_str = ''\n",
    "    tmp_count = 0\n",
    "    prev_id = -1\n",
    "    num_chords = 0\n",
    "    for t in inp_ids:\n",
    "        if prev_id == t:\n",
    "            tmp_count += 1\n",
    "        else:\n",
    "            if prev_id != -1:\n",
    "                tmp_str += f'{tmp_count}x{tokenizer.ids_to_tokens[prev_id]}'\n",
    "                num_chords += 1\n",
    "                if num_chords == 4:\n",
    "                    tmp_str += '\\n'\n",
    "                    num_chords = 0\n",
    "                else:\n",
    "                    tmp_str += '_'\n",
    "            tmp_count = 1\n",
    "            prev_id = t\n",
    "    tmp_str += f'{tmp_count}x{tokenizer.ids_to_tokens[prev_id]}'\n",
    "    return tmp_str\n",
    "# end condenced_str_from_token_ids\n",
    "\n",
    "zs = []\n",
    "z_idxs = []\n",
    "z_tokens = []\n",
    "for d in tqdm(val_dataset):\n",
    "    full_harmony = torch.tensor(d['input_ids']).reshape(1, len(d['input_ids']))\n",
    "    z_tokens.append(condenced_str_from_token_ids(d['input_ids'], tokenizer))\n",
    "    z = model.get_z_from_harmony(full_harmony.to(device)).detach().cpu()[0].tolist()\n",
    "    zs.append(z)\n",
    "    z_idxs.append(0)\n",
    "for d in tqdm(jazz_dataset):\n",
    "    full_harmony = torch.tensor(d['input_ids']).reshape(1, len(d['input_ids']))\n",
    "    z_tokens.append(condenced_str_from_token_ids(d['input_ids'], tokenizer))\n",
    "    z = model.get_z_from_harmony(full_harmony.to(device)).detach().cpu()[0].tolist()\n",
    "    zs.append(z)\n",
    "    z_idxs.append(1)"
   ]
  },
  {
   "cell_type": "code",
   "execution_count": 6,
   "id": "2bf6e0ed",
   "metadata": {},
   "outputs": [
    {
     "name": "stdout",
     "output_type": "stream",
     "text": [
      "32xC:min7_16xF:min7_16xG:min7_32xC:min7\n",
      "16xF:min7_16xG:min7_128x<pad>\n"
     ]
    }
   ],
   "source": [
    "print(z_tokens[10])"
   ]
  },
  {
   "cell_type": "code",
   "execution_count": 7,
   "id": "3b994655",
   "metadata": {},
   "outputs": [],
   "source": [
    "z_np = np.array( zs )"
   ]
  },
  {
   "cell_type": "code",
   "execution_count": 8,
   "id": "55c8742c",
   "metadata": {},
   "outputs": [
    {
     "name": "stdout",
     "output_type": "stream",
     "text": [
      "(1333, 128)\n"
     ]
    }
   ],
   "source": [
    "print(z_np.shape)"
   ]
  },
  {
   "cell_type": "code",
   "execution_count": 9,
   "id": "9e94459b",
   "metadata": {},
   "outputs": [],
   "source": [
    "from sklearn.manifold import TSNE"
   ]
  },
  {
   "cell_type": "code",
   "execution_count": 10,
   "id": "a72b1ef2",
   "metadata": {},
   "outputs": [
    {
     "name": "stdout",
     "output_type": "stream",
     "text": [
      "[t-SNE] Computing 10 nearest neighbors...\n",
      "[t-SNE] Indexed 1333 samples in 0.000s...\n"
     ]
    },
    {
     "name": "stderr",
     "output_type": "stream",
     "text": [
      "OpenBLAS Warning : Detect OpenMP Loop and this application may hang. Please rebuild the library with USE_OPENMP=1 option.\n",
      "OpenBLAS Warning : Detect OpenMP Loop and this application may hang. Please rebuild the library with USE_OPENMP=1 option.\n",
      "OpenBLAS Warning : Detect OpenMP Loop and this application may hang. Please rebuild the library with USE_OPENMP=1 option.\n",
      "OpenBLAS Warning : Detect OpenMP Loop and this application may hang. Please rebuild the library with USE_OPENMP=1 option.\n",
      "OpenBLAS Warning : Detect OpenMP Loop and this application may hang. Please rebuild the library with USE_OPENMP=1 option.\n",
      "OpenBLAS Warning : Detect OpenMP Loop and this application may hang. Please rebuild the library with USE_OPENMP=1 option.\n",
      "OpenBLAS Warning : Detect OpenMP Loop and this application may hang. Please rebuild the library with USE_OPENMP=1 option.\n",
      "OpenBLAS Warning : Detect OpenMP Loop and this application may hang. Please rebuild the library with USE_OPENMP=1 option.\n",
      "OpenBLAS Warning : Detect OpenMP Loop and this application may hang. Please rebuild the library with USE_OPENMP=1 option.\n",
      "OpenBLAS Warning : Detect OpenMP Loop and this application may hang. Please rebuild the library with USE_OPENMP=1 option.\n",
      "OpenBLAS Warning : Detect OpenMP Loop and this application may hang. Please rebuild the library with USE_OPENMP=1 option.\n",
      "OpenBLAS Warning : Detect OpenMP Loop and this application may hang. Please rebuild the library with USE_OPENMP=1 option.\n",
      "OpenBLAS Warning : Detect OpenMP Loop and this application may hang. Please rebuild the library with USE_OPENMP=1 option.\n",
      "OpenBLAS Warning : Detect OpenMP Loop and this application may hang. Please rebuild the library with USE_OPENMP=1 option.\n",
      "OpenBLAS Warning : Detect OpenMP Loop and this application may hang. Please rebuild the library with USE_OPENMP=1 option.\n",
      "OpenBLAS Warning : Detect OpenMP Loop and this application may hang. Please rebuild the library with USE_OPENMP=1 option.\n",
      "OpenBLAS Warning : Detect OpenMP Loop and this application may hang. Please rebuild the library with USE_OPENMP=1 option.\n",
      "OpenBLAS Warning : Detect OpenMP Loop and this application may hang. Please rebuild the library with USE_OPENMP=1 option.\n",
      "OpenBLAS Warning : Detect OpenMP Loop and this application may hang. Please rebuild the library with USE_OPENMP=1 option.\n",
      "OpenBLAS Warning : Detect OpenMP Loop and this application may hang. Please rebuild the library with USE_OPENMP=1 option.\n",
      "OpenBLAS Warning : Detect OpenMP Loop and this application may hang. Please rebuild the library with USE_OPENMP=1 option.\n",
      "OpenBLAS Warning : Detect OpenMP Loop and this application may hang. Please rebuild the library with USE_OPENMP=1 option.\n",
      "OpenBLAS Warning : Detect OpenMP Loop and this application may hang. Please rebuild the library with USE_OPENMP=1 option.\n",
      "OpenBLAS Warning : Detect OpenMP Loop and this application may hang. Please rebuild the library with USE_OPENMP=1 option.\n",
      "OpenBLAS Warning : Detect OpenMP Loop and this application may hang. Please rebuild the library with USE_OPENMP=1 option.\n",
      "OpenBLAS Warning : Detect OpenMP Loop and this application may hang. Please rebuild the library with USE_OPENMP=1 option.\n",
      "OpenBLAS Warning : Detect OpenMP Loop and this application may hang. Please rebuild the library with USE_OPENMP=1 option.\n",
      "OpenBLAS Warning : Detect OpenMP Loop and this application may hang. Please rebuild the library with USE_OPENMP=1 option.\n",
      "OpenBLAS Warning : Detect OpenMP Loop and this application may hang. Please rebuild the library with USE_OPENMP=1 option.\n",
      "OpenBLAS Warning : Detect OpenMP Loop and this application may hang. Please rebuild the library with USE_OPENMP=1 option.\n",
      "OpenBLAS Warning : Detect OpenMP Loop and this application may hang. Please rebuild the library with USE_OPENMP=1 option.\n",
      "OpenBLAS Warning : Detect OpenMP Loop and this application may hang. Please rebuild the library with USE_OPENMP=1 option.\n",
      "OpenBLAS Warning : Detect OpenMP Loop and this application may hang. Please rebuild the library with USE_OPENMP=1 option.\n",
      "OpenBLAS Warning : Detect OpenMP Loop and this application may hang. Please rebuild the library with USE_OPENMP=1 option.\n",
      "OpenBLAS Warning : Detect OpenMP Loop and this application may hang. Please rebuild the library with USE_OPENMP=1 option.\n"
     ]
    },
    {
     "name": "stdout",
     "output_type": "stream",
     "text": [
      "[t-SNE] Computed neighbors for 1333 samples in 0.505s...\n",
      "[t-SNE] Computed conditional probabilities for sample 1000 / 1333\n",
      "[t-SNE] Computed conditional probabilities for sample 1333 / 1333\n",
      "[t-SNE] Mean sigma: 1.652842\n",
      "[t-SNE] Computed conditional probabilities in 0.004s\n",
      "[t-SNE] Iteration 50: error = 102.5456543, gradient norm = 0.1300057 (50 iterations in 0.107s)\n",
      "[t-SNE] Iteration 100: error = 102.7959137, gradient norm = 0.0444536 (50 iterations in 0.073s)\n",
      "[t-SNE] Iteration 150: error = 102.9648209, gradient norm = 0.0750585 (50 iterations in 0.071s)\n",
      "[t-SNE] Iteration 200: error = 101.5646057, gradient norm = 0.1565847 (50 iterations in 0.069s)\n",
      "[t-SNE] Iteration 250: error = 103.2572250, gradient norm = 0.0322850 (50 iterations in 0.071s)\n",
      "[t-SNE] KL divergence after 250 iterations with early exaggeration: 103.257225\n",
      "[t-SNE] Iteration 300: error = 3.8549130, gradient norm = 0.0277280 (50 iterations in 0.071s)\n",
      "[t-SNE] Iteration 350: error = 3.2190220, gradient norm = 0.0289527 (50 iterations in 0.070s)\n",
      "[t-SNE] Iteration 400: error = 2.7750525, gradient norm = 0.0140658 (50 iterations in 0.061s)\n",
      "[t-SNE] Iteration 450: error = 2.6805513, gradient norm = 0.0125034 (50 iterations in 0.059s)\n",
      "[t-SNE] Iteration 500: error = 2.6158314, gradient norm = 0.0115834 (50 iterations in 0.059s)\n",
      "[t-SNE] Iteration 550: error = 2.5689685, gradient norm = 0.0100654 (50 iterations in 0.059s)\n",
      "[t-SNE] Iteration 600: error = 2.5355270, gradient norm = 0.0090373 (50 iterations in 0.059s)\n",
      "[t-SNE] Iteration 650: error = 2.5089507, gradient norm = 0.0082846 (50 iterations in 0.059s)\n",
      "[t-SNE] Iteration 700: error = 2.4884219, gradient norm = 0.0070820 (50 iterations in 0.059s)\n",
      "[t-SNE] Iteration 750: error = 2.4735401, gradient norm = 0.0065124 (50 iterations in 0.059s)\n",
      "[t-SNE] Iteration 800: error = 2.4622035, gradient norm = 0.0057506 (50 iterations in 0.060s)\n",
      "[t-SNE] Iteration 850: error = 2.4527836, gradient norm = 0.0048217 (50 iterations in 0.060s)\n",
      "[t-SNE] Iteration 900: error = 2.4442978, gradient norm = 0.0051725 (50 iterations in 0.059s)\n",
      "[t-SNE] Iteration 950: error = 2.4371040, gradient norm = 0.0047552 (50 iterations in 0.060s)\n",
      "[t-SNE] Iteration 1000: error = 2.4304862, gradient norm = 0.0043641 (50 iterations in 0.062s)\n",
      "[t-SNE] KL divergence after 1000 iterations: 2.430486\n"
     ]
    }
   ],
   "source": [
    "z_tsne = TSNE(n_components=2, learning_rate='auto', init='random', perplexity=3, verbose=2).fit_transform(z_np)"
   ]
  },
  {
   "cell_type": "code",
   "execution_count": 11,
   "id": "e7880282",
   "metadata": {},
   "outputs": [
    {
     "name": "stdout",
     "output_type": "stream",
     "text": [
      "(1333, 2)\n"
     ]
    }
   ],
   "source": [
    "print(z_tsne.shape)"
   ]
  },
  {
   "cell_type": "code",
   "execution_count": 12,
   "id": "57a8c0b3",
   "metadata": {},
   "outputs": [],
   "source": [
    "import matplotlib.pyplot as plt"
   ]
  },
  {
   "cell_type": "code",
   "execution_count": 13,
   "id": "28f3efb3",
   "metadata": {},
   "outputs": [
    {
     "data": {
      "text/plain": [
       "[<matplotlib.lines.Line2D at 0x707d8e6cbf80>]"
      ]
     },
     "execution_count": 13,
     "metadata": {},
     "output_type": "execute_result"
    },
    {
     "data": {
      "image/png": "[encoded data removed]",
      "text/plain": [
       "<Figure size 640x480 with 1 Axes>"
      ]
     },
     "metadata": {
      "image/png": {
       "height": 413,
       "width": 562
      }
     },
     "output_type": "display_data"
    }
   ],
   "source": [
    "plt.plot(z_tsne[:len(val_dataset),0], z_tsne[:len(val_dataset),1], 'bx')\n",
    "plt.plot(z_tsne[len(val_dataset):,0], z_tsne[len(val_dataset):,1], 'rx')"
   ]
  },
  {
   "cell_type": "code",
   "execution_count": 14,
   "id": "6a178ca3",
   "metadata": {},
   "outputs": [
    {
     "data": {
      "application/vnd.plotly.v1+json": {
       "config": {
        "plotlyServerURL": "https://plot.ly"
       },
       "data": [
        {
         "hovertemplate": [
          "16xF:maj_16xC:maj_16xA:min7_8xC:sus2<br>8xG:maj_16xF:maj_16xC:maj_16xA:min7<br>8xC:sus2_8xG:maj_128x<pad>",
          "8xC:maj_8xG:maj_16xF:maj_16xD:maj<br>16xE:maj_192x<pad>",
          "3xD#:sus2_4xA#:maj_4xF:sus2_5xC:maj<br>3xD#:maj_3xF:maj_3xG#:maj_23xA#:maj<br>208x<pad>",
          "16xG#:maj_16xA#:7_6xC:min_6xD#:maj6<br>4xC:min_16xC:min9_16xG#:maj_16xA#:7<br>6xC:min_6xD#:maj6_20xC:min_128x<pad>",
          "8xC:maj_8xE:7_8xA:min_8xC:7<br>8xF:maj_8xF:5_24xC:maj_8xA:min7<br>16xD:7_16xG:7_16xC:maj_128x<pad>",
          "16xC:maj_16xG:maj_16xA:min_8xG#:maj<br>8xA#:maj_16xC:maj_16xG:maj_16xA:min<br>8xG#:maj_8xA#:maj_16xC:maj_16xG:maj<br>16xA:min_8xG#:maj_8xA#:maj_16xC:maj<br>16xG:maj_16xA:min_8xG#:maj_8xA#:maj",
          "16xC:maj_16xD:hdim7_16xC:maj_16xD:hdim7<br>16xC#:maj_24xD:maj_8xC#:min_26xG#:maj<br>4xF:min7_3xF:5_3xD:hdim7_12xG:maj<br>96x<pad>",
          "48xC:min_36xG#:maj_12xA#:maj_48xC:min<br>36xG#:maj_12xA#:maj_64x<pad>",
          "10xC:maj_4xD:min7_10xC:min7_6xD:min7<br>12xC:maj_4xD:min7_10xC:min7_6xD:min7<br>12xC:maj_4xD:min7_10xC:min7_6xD:min7<br>12xC:maj_4xD:min7_10xC:min7_6xD:min7<br>2xC:maj_16xD:min7_8xE:min7_8xG:7<br>10xC:maj_4xD:min7_10xC:min7_6xD:min7<br>2xC:maj_64x<pad>",
          "16xF:min7_16xC:min_16xD#:maj_16xG:min7<br>16xF:min7_16xC:min_16xD#:maj_16xG:min7<br>128x<pad>",
          "32xC:min7_16xF:min7_16xG:min7_32xC:min7<br>16xF:min7_16xG:min7_128x<pad>",
          "16xC:min7_16xG:min7_32xF:maj_16xC:min7<br>16xG:min7_32xF:maj_128x<pad>",
          "72xA:min_24xG:maj_72xC:maj_88x<pad>",
          "8xG:min_6xA#:maj_18xC:maj_8xG:min<br>6xA#:maj_18xC:maj_8xG:min_6xA#:maj<br>18xC:maj_8xG:min_6xA#:maj_18xC:maj<br>128x<pad>",
          "24xC:sus2_8xG:maj_32xE:7_24xC:sus2<br>8xG:maj_24xE:7_8xA#:7_24xC:sus2<br>8xG:maj_32xE:7_24xC:sus2_8xG:maj<br>24xE:7_8xA#:7",
          "32xC:maj_8xE:min_8xC#:hdim7_16xB:maj<br>32xC:maj7_8xE:min_8xC#:dim_16xB:maj<br>128x<pad>",
          "16xC:maj_16xF:maj_16xC:maj_16xF:maj<br>32xC:maj_32xG:maj_16xC:maj_16xF:maj<br>16xC:maj_16xF:maj_16xC:maj_16xG:maj<br>16xF:maj_16xG:maj",
          "8xG:maj_8xF:maj_8xC:maj_8xD:min<br>32xC:maj_32xF:maj_32xC:maj_32xF:maj<br>32xD:min_32xG:maj_32xD:min",
          "8xC:maj_16xC:sus2_4xC:maj_4xE:7<br>8xA:min7_8xD:maj_8xC:sus2_8xG:maj<br>8xC:maj_8xE:min_3xF:maj_3xE:7<br>10xA:min7_8xD:min7_8xG:maj_3xF:maj<br>2xC:maj_2xD:min_5xC:maj_4xB:dim<br>128x<pad>",
          "16xC:maj_6xD:min_10xA:min_16xC:maj<br>6xD:min_10xA:min_16xC:maj_6xD:min<br>10xA:min_32xF:maj_128x<pad>",
          "6xA:min7_8xG:maj_8xC:maj_10xD:min7<br>6xF:maj_10xG:maj_6xC:maj_10xD:min7<br>6xA:min7_8xG:maj_8xC:maj_10xD:min7<br>6xF:maj_10xG:maj_16xC:maj_128x<pad>",
          "24xC:min_24xD#:sus2_24xC:min_24xD#:maj<br>24xC#:maj_24xC:min_24xD:maj_24xG:maj<br>64x<pad>",
          "8xC:min7_8xG:min_8xA#:maj_8xD#:maj<br>8xC:min7_8xG:min_8xD:min7_8xD#:maj<br>8xC:min7_8xG:min_8xA#:maj_8xD#:maj<br>8xC:min7_8xG:min_8xD:min7_8xD#:maj<br>128x<pad>",
          "32xG:maj_32xF:maj_12xC:maj_2xA#:maj<br>2xB:dim_12xC:maj_2xA#:maj_2xB:dim<br>12xC:maj_2xA#:maj_2xB:dim_5xC:maj<br>11xG:maj_128x<pad>",
          "24xD:min9_24xF:maj_24xA:min7_24xD:maj<br>24xA:min7_24xD:maj_20xC:maj_28xA:min7<br>24xB:min7_24xE:7_12xF:maj7_4xE:min7",
          "32xC:min_16xA#:maj_10xC:min7_6xG:min7<br>32xC:min_16xA#:maj_10xC:min7_6xG:min7<br>32xC:min_16xA#:maj_10xC:min7_6xG:min7<br>32xC:min_32xA#:maj",
          "32xC:min_32xF:5_192x<pad>",
          "12xC:min_4xC:min7_16xF:maj_16xD#:maj<br>8xG:maj_8xG:7_192x<pad>",
          "14xC:maj7_10xE:min_40xG:maj_14xC:maj7<br>10xE:min_40xG:maj_128x<pad>",
          "16x<nc>_8xE:min_6xF:maj_18xC:maj<br>8xE:min_6xF:maj_18xC:maj_8xA:min<br>6xF:maj_18xC:maj_16xD:min_16xA:min<br>16xG:maj_16xD:min_80x<pad>",
          "32xG#:maj_8xC:maj_8xF:maj_16xC:maj<br>24xG:maj_8xE:min7_8xA:min_8xD:maj<br>16xG:maj_128x<pad>",
          "48xC:min_16xG#:maj_16xA#:maj_8xD#:maj<br>8xA#:maj_16xC:min_16xG#:maj_16xA#:maj<br>32xC:min_8xG#:maj_8xG:min_16xC:min<br>8xG#:maj_8xG:min_8xD#:maj_8xA#:maj<br>8xG#:maj_8xG:min",
          "64xC:min_64xG#:maj_96xD#:maj_32xA#:maj",
          "16xC:maj_6xF:maj_4xE:min_4xF:maj<br>2xG:maj_16xC:maj_6xF:maj_4xE:min<br>4xF:maj_2xG:maj_192x<pad>",
          "16xC:min_16xF:5_16xA#:maj_16xD#:maj<br>16xG#:maj_16xD:hdim7_16xG:maj_16xC:min<br>128x<pad>",
          "8xC:min_8xG#:maj_8xD#:maj_8xA#:maj<br>8xC:min_8xG#:maj_8xD#:maj_8xA#:maj<br>8xC:min_8xG#:maj_8xD#:maj_8xA#:maj<br>8xC:min_24xG#:maj_128x<pad>",
          "6xC:maj_10xF:sus2_6xC:maj_10xF:sus2<br>8xD:min_8xF:maj_8xA#:maj_8xD:min<br>6xC:maj_10xF:sus2_6xC:maj_10xF:sus2<br>8xD:min_8xF:maj_8xA#:maj_8xD:min<br>6xC:maj_10xF:sus2_6xC:maj_10xF:sus2<br>8xD:min_8xF:maj_8xA#:maj_8xD:min<br>6xC:maj_10xF:sus2_6xC:maj_10xF:sus2<br>8xD:min_8xF:maj_8xA#:maj_8xD:min",
          "128xC:min_128x<pad>",
          "12xC:min_12xA#:sus2_8xA#:maj_12xC:min<br>12xA#:sus2_8xD#:maj_12xC:min_12xA#:sus2<br>4xD#:sus2_4xC:min7_12xC:min_12xA#:sus2<br>8xA#:maj_12xC:min_12xA#:sus2_8xA#:maj<br>12xC:min_12xA#:sus2_8xD#:maj_12xC:min<br>12xA#:sus2_4xD#:sus2_4xC:min7_12xC:min<br>12xA#:sus2_8xA#:maj",
          "64xC:maj_32xF:maj_96xC:maj_32xF:maj<br>32xC:maj",
          "6xC:maj_10xF:5_6xD#:sus2_10xD#:maj<br>6xC:min_10xF:5_6xD#:sus2_10xD#:maj<br>6xC:min_6xF:min7_6xD#:sus2_16xD#:maj<br>6xG#:maj_6xA#:maj_10xD#:maj_6xC:7<br>4xF:5_6xF:min7_6xD#:sus2_16xD#:maj<br>10xG#:maj_16xG#:min6_24xD#:maj_48x<pad>",
          "8xC:maj7_8xE:min7_8xD:min7_8xD:hdim7<br>8xC:maj7_8xE:min7_8xD:min7_8xD:hdim7<br>192x<pad>",
          "8xF:maj_8xE:min_12xD:maj_4xE:min<br>8xF:maj_8xE:min_16xC:maj_8xC:7<br>8xE:maj_4xA:min_4xF:maj_8xC:maj<br>8xF:maj_8xE:min_12xD:maj_4xE:min<br>8xF:maj_8xE:min_16xD:maj_96x<pad>",
          "14xC:maj_8xB:dim_10xE:7_14xA:min<br>8xG:min_10xC:7_8xF:maj_8xG:maj<br>8xE:min_8xA:min_16xD:min_16xG:maj<br>14xC:maj_8xB:hdim7_10xE:7_14xA:min<br>8xG:min_10xC:7_8xF:maj_8xG:maj<br>8xE:7_8xA:min_6xD:min_4xE:min<br>4xF:maj_18xG:maj",
          "8xC:min_8xG#:maj_8xD#:maj_8xA#:maj<br>8xC:min_8xG#:maj_8xD#:maj_8xA#:maj<br>8xC:min_8xG#:maj_8xD#:maj_8xA#:maj<br>8xC:min_8xG#:maj_8xD#:maj_8xA#:maj<br>128x<pad>",
          "12x<nc>_24xC#:maj_20xC:min_4xC:sus2<br>24xC#:maj_24xC:min_24xC#:maj_24xC:min<br>24xC#:maj_20xC:min_4xC:sus2_52x<pad>",
          "16xA:min_16xE:min_16xF:maj_8xC:maj<br>8xG:maj_16xA:min_16xE:min_32xD:min<br>128x<pad>",
          "16xC:maj7_16xF:sus2_16xC:maj7_16xF:maj<br>16xC:maj7_16xF:sus2_16xC:maj7_16xF:maj<br>128x<pad>",
          "6xC:min_8xC#:maj_6xC:min_8xB:min<br>6xC:min_8xC#:maj_6xC:min_8xB:min<br>6xG#:maj_14xC:min_8xB:min_6xG#:maj<br>14xC:min_8xB:min_6xC:min_8xC#:maj<br>6xC:min_8xB:min_6xC:min_8xC#:maj<br>6xC:min_8xB:min_6xG#:maj_8xC#:maj<br>6xG#:maj_8xB:min_6xG#:maj_8xC#:maj<br>6xG#:maj_8xB:min_32x<pad>",
          "6xC:min_10xA#:maj_6xC:min_10xG:min<br>14xC:min_6xA#:maj_12xG#:maj_6xC:min<br>10xA#:maj_6xC:min_10xG:min_32xC:min<br>128x<pad>",
          "32xC:min_32xG:min_32xF:maj_32xC:min<br>128x<pad>",
          "8xC:maj_8xG:maj_8xA:min_8xC:maj<br>8xF:maj_8xC:maj_8xD#:maj_8xG:maj<br>8xC:maj_8xG:maj_8xA:min_8xC:maj<br>8xF:maj_8xC:maj_8xD#:maj_8xG:maj<br>8xA:min_8xE:maj_8xC:maj_8xD:maj<br>8xF:maj_8xG:maj_16xC:maj_64x<pad>",
          "16xF:maj_16xC:maj_16xG:maj_8xA:min<br>8xG:maj_16xF:maj_16xC:maj_16xG:maj<br>8xA:min_8xG:maj_16xF:maj_16xC:maj<br>16xG:maj_8xA:min_8xG:maj_16xF:maj<br>16xC:maj_16xG:maj_8xA:min_8xG:maj",
          "24xC:min_8xA#:maj_24xC:min_8xA#:maj<br>192x<pad>",
          "16xC:min_16xD#:maj_16xA#:maj_16xF:maj<br>16xC:min_16xD#:maj_16xA#:maj_16xF:maj<br>16xC:min_40xD#:maj_8xA#:maj_16xC:min<br>40xD#:maj_8xA#:maj",
          "32xC:min_12xF:5_6xF:sus2_8xF:5<br>4xF:sus2_34xC:min_12xF:5_6xF:sus2<br>12xF:5_2xC:min_128x<pad>",
          "60xG:maj_4xF:maj_14xC:maj_18xG:maj<br>16xA:min_16xG:maj_16xE:min7_16xA:min<br>16xD:maj_16xG:maj_14xC:maj_18xG:maj<br>16xA:min_16xG:maj",
          "128xG:maj_16xF:maj_16xC:maj_32xG:maj<br>16xF:maj_16xC:maj_16xG:maj_16x<pad>",
          "24xC:maj_24xG:maj_24xA:min_24xF:maj<br>24xC:maj_24xG:maj_48xF:maj_64x<pad>",
          "12xC:maj_12xC:maj7_24xC:7_24xA:7<br>12xD:min_12xD:min7_24xG:7_8xC:maj<br>4xG:maj_12xA:min_12xD:min_12xG:7<br>88x<pad>",
          "16xC:maj_6xA#:maj_10xA:maj_8xD:min<br>8xC#:dim_8xD:min7_8xB:hdim7_16xG:7<br>16xA#:7_14xC:maj_18xG:maj_16xC:maj<br>6xA#:maj_10xA:maj_8xD:min_8xC#:dim<br>8xD:min7_8xB:hdim7_16xG:7_16xA#:7<br>32x<pad>",
          "16x<nc>_32xE:min7_32xA:min_32xE:min7<br>32xA:min_16xF:maj_18xG#:maj_30xG:maj<br>48x<pad>",
          "16xC:maj_16xA:min_32xE:min_16xC:maj<br>16xA:min_16xE:min_16xG:maj_128x<pad>",
          "16xC:min_16xG#:maj_16xA#:maj_16xG:min<br>16xC:min_16xG#:maj_16xA#:maj_16xG:min<br>128x<pad>",
          "16x<nc>_16xG#:maj_16xA#:maj_16xG:min<br>16xC:min_16xG#:maj_16xA#:maj_16xG:min<br>16xC:min_16xG#:maj_16xA#:maj_16xG:min<br>16xC:min_16xG#:maj_16xA#:maj_16xG:maj",
          "28xC:maj_4xC:maj7_28xA:min_4xA:min7<br>16xF:maj7_8xD:min7_8xG:7_28xC:maj<br>4xC:maj7_32xA:min_16xF:maj7_8xD:min7<br>8xG:7_64x<pad>",
          "16xC:maj_16xG:min7_8xD#:maj_8xA#:maj<br>8xF:maj_4xA#:maj_4xF:maj_16xC:maj<br>16xG:min7_8xD#:maj_8xA#:maj_16xA#:sus2<br>128x<pad>",
          "24xC:maj_12xE:min_12xD#:7_12xD:min<br>12xA:min7_12xG:7_12xD:hdim7_24xC:maj<br>12xD:min_12xD:min7_12xG#:maj_6xC:sus2<br>6xG:7_6xC:maj_18xG:maj_64x<pad>",
          "8xC:maj_8xC:7_16xA:7_8xD:9<br>8xG:9_24xC:maj_8xC:7_16xA:7<br>16xD:7_16xG:7_32xC:7_16xF:maj7<br>16xF#:dim_8xC:maj_8xC:7_16xA:7<br>8xD:9_8xG:9_8xC:maj_8xA:7",
          "8xC:min_4xD#:maj7_4xD#:maj_8xG#:5<br>8xB:maj_8xC:min_4xD#:maj7_4xC:min7<br>8xF:5_8xG:7_192x<pad>",
          "16xC:maj_16xG:maj_16xA:min7_16xF:maj7<br>16xC:maj_16xG:maj_16xA:min7_16xF:maj<br>16xC:maj_16xG:maj_16xA:min7_16xF:maj7<br>16xC:maj_16xG:maj_32xF:maj",
          "64xC:maj_32xF:maj_32xC:maj_16xG:maj<br>16xF:maj_32xC:maj_64x<pad>",
          "16x<nc>_16xC:min_8xA#:maj_24xC:min<br>8xA#:maj_24xC:min_8xA#:maj_24xC:min<br>8xA#:maj_8xC:min_112x<pad>",
          "16xC:min7_16xD#:maj_32xF:min7_16xC:min7<br>16xD#:maj_32xF:min7_16xC:min7_16xD#:maj<br>32xF:min7_16xC:min7_16xD#:maj_32xF:min7",
          "8x<nc>_8xC:min7_14xG#:maj_18xG:maj<br>32xC:min_14xG#:maj_18xG:maj_24xC:min<br>8xC:min7_16xG#:maj_96x<pad>",
          "32xC:maj_32xF#:dim_32xC:maj_32xF#:dim<br>32xC:maj_32xD#:maj_64x<pad>",
          "6xC:min_10xA#:maj_6xD#:maj_10xG#:maj<br>6xC:min_10xA#:maj_6xD#:maj_10xG#:maj<br>6xC:min_10xA#:maj_6xD#:maj_10xG#:maj<br>6xC:min_10xA#:maj_6xD#:maj_10xG#:maj<br>128x<pad>",
          "12xF:maj_12xE:min7_12xD#:maj_12xD:7<br>24xD:dim_12xA:sus2_12xE:maj_160x<pad>",
          "128xC:maj_128x<pad>",
          "16xA:min_16xE:min_16xF:maj_16xC:maj<br>16xA:min_16xE:min_16xC:sus2_16xG:maj<br>128x<pad>",
          "16xC:maj_16xA:min_16xF:maj_16xG:maj<br>16xC:maj_16xA:min_16xF:maj_16xG:maj<br>128x<pad>",
          "12xC:min_12xG#:maj_12xA#:maj_12xG:min<br>12xG#:maj_12xF:5_24xG:min_12xC:min<br>12xG#:maj_12xA#:maj_12xG:min_12xG#:maj<br>12xG:min_6xG#:maj_6xA#:maj_12xC:min<br>64x<pad>",
          "16xC:maj_16xG:maj_16xA:min_16xF:maj<br>16xC:maj_16xG:maj_16xA:min_16xF:maj<br>16xC:maj_16xG:maj_16xA:min_16xF:maj<br>16xC:maj_16xG:maj_16xA:min_16xF:maj",
          "24xC:maj_24xE:maj_24xA:min_48xF:maj<br>24xC:maj_6xC:sus2_6xF:sus2_6xC:maj7<br>6xC:sus2_24xC:maj_64x<pad>",
          "9xA#:maj_15xG#:maj_15xD#:maj_13xC:min<br>16xA#:maj_8xG#:maj_22xD#:maj_14xC:min<br>16xA#:maj_128x<pad>",
          "16xC:maj_16xA:min_16xE:min_16xF:maj<br>16xA#:maj_16xD:min_16xG:min_16xD:min<br>128x<pad>",
          "6xG#:maj_8xA#:maj_18xC:min7_6xG#:maj<br>8xA#:maj_10xC:min7_8xD#:maj_6xG#:maj<br>8xA#:maj_18xC:min7_6xF:min7_8xG:min7<br>10xC:min7_8xD#:maj_128x<pad>",
          "16xC:min_8xD#:maj_8xF:maj_16xC:min<br>8xD#:maj_8xF:maj_16xC:min_8xD#:maj<br>8xF:maj_16xC:min_8xD#:maj_8xF:maj<br>128x<pad>",
          "36xC:maj_20xE:min_36xC:maj_20xE:min<br>36xC:maj_20xE:min_6xF:maj_26xC:maj<br>6xF:maj_18xC:maj_8xG:maj_6xF:maj<br>18xC:maj",
          "16xC:maj_16xG:maj_16xD:min7_16xF:sus2<br>16xC:maj_16xG:maj_16xD:min7_16xF:sus2<br>16xC:maj_16xG:maj_16xD:min7_16xF:sus2<br>64x<pad>",
          "8xG:maj_8xA:min_16xF:maj_8xG:maj<br>8xA:min_16xF:maj_8xG:maj_8xA:min<br>16xF:maj_16xG:maj_2xC:maj_6xF:maj<br>8xC:maj_128x<pad>",
          "8xA:min_8xF:maj_8xG:maj_4xC:maj<br>4xE:min_8xA:min_8xF:maj_8xG:maj<br>4xC:maj_4xE:min_8xA:min_8xE:min<br>8xG:maj_8xD:maj_16xF:maj_16xD:maj<br>128x<pad>",
          "64xC:min_16xF:min7_16xC:min_16xA:hdim7<br>8xG#:maj_8xG:7_128x<pad>",
          "16xC:maj_16xG:maj_16xF:maj_16xG:maj<br>16xC:maj_16xG:maj_16xF:maj_16xG:maj<br>16xF:maj_16xG:maj_16xF:maj_16xG:maj<br>16xF:maj_16xG:maj_16xG#:maj_16xA#:maj",
          "32xC:maj_16xF:maj_16xC:sus2_32xC:maj<br>16xF:maj_16xC:sus2_32xC:maj_16xF:maj<br>16xC:sus2_32xC:maj_16xF:maj_16xC:sus2",
          "16xG#:maj_16xG:min_16xC:min_16xD#:maj7<br>16xG#:maj_16xG:min_16xC:min_16xD#:maj7<br>128x<pad>",
          "16xG:min_8xC:min_8xA#:maj_16xD#:maj<br>8xC:min_8xA#:maj_16xD#:maj_16xF:5<br>16xC:min_16xG:min_128x<pad>",
          "16xF:5_16xA#:maj_8xD#:maj_8xD#:maj7<br>16xC:min_16xF:5_16xA#:maj_8xD#:maj<br>8xD#:maj7_16xC:min_16xF:5_16xA#:maj<br>8xD#:maj_8xD#:maj7_16xC:min_16xF:5<br>16xG:min_32xD#:maj",
          "16xC:min_16xD#:maj7_26xG:min_6xF:5<br>16xC:min_16xD#:maj7_26xG:min_6xF:5<br>128x<pad>",
          "16xC:maj_16xE:min_8xC:maj_8xF:maj<br>8xE:min_8xD:min_8xG:maj_16xF:maj<br>32xC:maj_8xB:dim_8xD:min_16xA:min<br>16xG:maj_8xE:min_16xG:maj_16xC:maj<br>16xE:min_16xC:maj_16xG:maj",
          "128xE:min_16xC:maj_16xG:maj_16xE:min<br>16xF:maj_16xC:maj_16xG:maj_16xA:min<br>16xC:maj",
          "16x<nc>_32xA:min_32xC:maj_32xF:maj<br>32xE:maj_16xA:min_96x<pad>",
          "16xC:min_16xG:7_16xC:min_16xG:7<br>16xC:min_16xG:7_16xC:min_16xG:7<br>128x<pad>",
          "32xC:min_32xF:5_32xD#:maj_32xA#:maj<br>32xC:min_32xG#:maj_32xD#:maj_32xG:maj",
          "64xC:maj_16xA:min_8xF:maj_8xG:maj<br>16xC:maj_16xA:min_128x<pad>",
          "16x<nc>_16xC:min_16xC:min7_16xF:maj<br>32xC:min_16xC:min7_16xF:maj_48xC:min<br>80x<pad>",
          "16xA:min_8xD:min_8xC:maj_16xG:maj<br>8xC:maj_8xG:maj_16xA:min_8xD:min<br>8xC:maj_16xG:maj_8xC:maj_8xG:maj<br>128x<pad>",
          "32xC:min_14xD#:maj7_18xG:min7_16xF:min7<br>16xG:min7_14xC:min_18xG:7_32xC:min<br>14xD#:maj7_18xG:min7_16xF:min7_16xG:min7<br>16xC:min_16xG:7",
          "26xC:maj_4xF:maj_64xC:maj_30xG:maj<br>2xC:maj_2xG:maj_28xA:min_2xG:maj<br>2xC:maj_32xG:maj_64x<pad>",
          "16xG#:maj_16xD#:maj_16xC:min_16xA#:maj<br>16xG#:maj_16xD#:maj_32xC:min_128x<pad>",
          "16xC:maj_16xG:maj_8xE:hdim7_8xA:7<br>16xD:min7_16xF:5_8xC:maj_8xA:min7<br>8xD:min7_8xG:maj_16xC:maj_16xG:maj<br>8xE:hdim7_8xA:7_16xD:min7_16xF:5<br>8xC:maj_8xA:min7_8xD:min7_8xG:maj<br>16xF:sus2_16xC:maj",
          "16x<nc>_16xC:min_16xA#:maj_14xG#:maj<br>2xA#:maj_192x<pad>",
          "16xC:maj_16xA#:maj_16xC:maj_16xA#:maj<br>16xC:maj_16xA#:maj_16xC:maj_144x<pad>",
          "48xC:min_36xF:5_8xG#:maj_4xA#:maj<br>48xC:min_48xD#:maj_24xG#:maj_24xD#:maj<br>16xG#:maj",
          "16xC:min_16xG:min_16xG#:maj_16xD#:maj<br>8xF:5_8xA#:maj_8xG:maj_8xC:min<br>8xG#:maj_8xA#:maj_16xC:min_16xG#:maj<br>16xA#:maj_16xG:min_16xC:min_16xG#:maj<br>16xF:maj_16xG:7_16xG:maj",
          "24xC:min_24xA#:maj_24xG#:maj_24xA#:maj<br>24xC:min_24xA#:maj_12xG#:maj_12xA#:maj<br>48xC:min_24xD#:maj_16xG#:maj",
          "32xC:maj_16xF:maj_16xC:maj_16xA:min<br>48xC:maj_128x<pad>",
          "48xC:min_16xA#:maj_48xC:min_16xA#:maj<br>48xC:min_16xA#:maj_32xC:min_8xG#:maj<br>8xA#:maj_8xB:maj_8xC#:maj",
          "12xF:maj_20xC:maj_12xF:maj_20xC:maj<br>12xF:maj_20xC:maj_12xF:maj_20xC:maj<br>128x<pad>",
          "16xG#:maj_16xA#:maj_16xC:min_16xA#:maj<br>16xG#:maj_16xA#:maj_16xC:min_16xA#:maj<br>16xG#:maj_16xA#:maj_16xG#:maj_16xA#:maj<br>16xG#:maj_16xA#:maj_16xG#:maj_16x<pad>",
          "12xC:maj_4xE:min_14xA:min_2xA:min7<br>16xF:maj_14xG:maj_2xF:maj_12xC:maj<br>4xE:min_14xA:min_2xA:min7_16xF:maj<br>12xG:maj_4xF:maj_128x<pad>",
          "16xC:maj_16xG:maj_16xA:min_16xF:maj<br>16xC:maj_16xG:maj_16xA:min_16xF:maj<br>16xC:maj_16xG:maj_16xA:min_16xF:maj<br>16xC:maj_16xG:maj_16xA:min_16xF:maj",
          "12xF:maj_3xA:min_17xG:maj_15xC:7<br>29xF:maj_3xA:min_17xG:maj_15xC:7<br>17xF:maj_128x<pad>",
          "6xC:min_6xD#:maj_20xA#:maj_24xG#:maj<br>8xA#:maj_6xC:min_6xD#:maj_20xA#:maj<br>24xG#:maj_8xA#:maj_6xC:min_6xD#:maj<br>52xA#:maj_6xC:min_6xD#:maj_52xA#:maj",
          "16xC:min_16xA#:maj_16xA#:7_16xA#:maj<br>16xD:min_8xD:maj_4xA:dim_4xF#:maj<br>16xG#:maj_8xB:dim_8xE:min_128x<pad>",
          "6xC:min_6xC:sus2_4xC:min_6xG:min<br>6xC:sus2_4xG:min_16xA#:maj_6xA#:sus2<br>10xF:maj_192x<pad>",
          "12x<nc>_16xC:min_16xG#:maj_4xC:min<br>4xF:5_4xG#:maj_8xG:maj_68xC:min<br>4xF:5_4xD#:maj_4xG#:maj_8xC:sus2<br>8xG:maj_32xG#:maj_32xF:5_16xC:min<br>16x<pad>",
          "8xF:maj_8xA:min_16xG:maj_8xF:maj<br>8xA:min_16xG:maj_8xF:maj_8xA:min<br>8xG:maj_8xC:maj_16xF:maj_16xG:maj<br>128x<pad>",
          "64xC:maj_32xD:min_32xG:maj_128x<pad>",
          "16xC:maj_16xG:maj_16xA:min_16xG#:maj<br>16xC:maj_16xG:maj_16xA:min_16xA#:maj<br>16xC:maj_16xG:maj_16xA:min_16xG#:maj<br>16xC:maj_16xG:maj_16xA:min_16xA#:maj",
          "64xG#:maj_64xC:min_64xF:5_64xC:min",
          "112xC:min_16xC:min7_128x<pad>",
          "6xC:maj_8xG:maj_8xF:maj_10xF:maj7<br>6xC:maj_8xG:maj_8xF:maj_10xF:maj7<br>6xC:maj_8xG:maj_8xF:maj_10xF:maj7<br>6xC:maj_8xG:maj_8xF:maj_10xF:maj7<br>128x<pad>",
          "32xC:maj_32xF:maj_32xC:maj_32xF:maj<br>32xC:maj_32xF:maj_32xA#:maj_16xC:maj<br>16xG:maj",
          "16xC:maj_16xF:maj_16xC:maj_16xF:maj<br>192x<pad>",
          "14xG:min_16xD:min7_16xC:min_16xF:min<br>2xG:min_192x<pad>",
          "16xC:min_16xA#:maj_24xG#:maj_8xA#:maj<br>16xC:min_16xA#:maj_24xG#:maj_8xA#:maj<br>128x<pad>",
          "32xC:min_32xF:5_32xC:min_32xF:5<br>16xG#:maj_16xA#:maj_16xG#:maj_16xA#:maj<br>12xC:min_4xF#:maj_12xC:min_4xF#:maj<br>32x<pad>",
          "16xA:min_8xF:maj_8xG:maj_8xF:maj<br>8xA:maj_8xF:maj_8xG:maj_8xF:maj<br>8xA:maj_8xF:maj_8xG:maj_8xC:maj<br>8xG:maj_8xF:maj_8xG:maj_128x<pad>",
          "48xC:maj_32xF:maj_16xC:maj_16xA:min<br>16xG:maj_48xC:maj_16xF:maj_16xA:min<br>8xG:maj_24xC:maj_16x<pad>",
          "12xG#:maj_3xC#:maj_3xC:min7_2xA#:min7<br>12xC#:maj_16xE:dim_16xC#:maj_192x<pad>",
          "16xF:maj_8xE:min_8xA:min7_16xD:min<br>32xD:min7_16xE:min_16xE:7_16xF:maj<br>8xE:min_8xA:min7_16xD:min_16xD:min7<br>16xF:maj7_16xE:7_16xF:maj_8xE:min<br>8xA:min7_16xD:min",
          "16x<nc>_16xC:min_16xG#:maj_16xA#:maj<br>16xD#:maj_16xC:min_16xG#:maj_16xA#:maj<br>16xD#:maj_16xC:min_16xG#:maj_16xF:5<br>16xA#:maj_48x<pad>",
          "24x<nc>_96xC:min_136x<pad>",
          "16xF:maj_14xC:min_16xD#:maj_32xF:maj<br>16xC:min_16xD#:maj_18xF:maj_128x<pad>",
          "16x<nc>_16xA:min_16xF:maj_32xC:maj<br>16xA:min_16xF:maj_32xC:maj_16xA:min<br>16xF:maj_32xC:maj_16xA:min_16xF:maj<br>16xC:maj",
          "24xG#:maj_8xF:5_26xC:min_10xG:min<br>20xG#:maj_8xF:5_26xC:min_6xG:min<br>128x<pad>",
          "16xC:min_16xD#:5_16xB:min_16xD:min<br>16xD#:5_16xF#:maj_16xD:min_20xF:5<br>8xC:min_8xB:min_8xC:min_8xD:dim<br>8xD#:5_8xD:min_8xD#:5_4xF:5<br>16xF#:maj_12xF:5_4xG:maj_32x<pad>",
          "10xC:min_4xG:min_12xD#:maj_6xF:5<br>10xC:min_4xG:min_12xD#:maj_6xA#:maj<br>10xC:min_4xG:min_12xD#:maj_6xF:5<br>10xC:min_4xG:min_12xD#:maj_6xA#:maj<br>128x<pad>",
          "16x<nc>_16xF:5_16xD#:maj_16xA#:maj<br>16xD#:maj_16xF:5_16xD#:maj_16xF:5<br>8xG#:maj_8xA#:maj_112x<pad>",
          "12xC:min_12xF:5_12xD#:maj_12xA#:maj<br>12xC:min_12xF:5_12xD#:maj_12xA#:maj<br>12xC:min_12xF:5_12xD#:maj_12xA#:maj<br>48xG:min_12xC:min_12xF:5_40x<pad>",
          "102xC:min_2xC:min7_20xC:min_4xC:min7<br>6xC:min_2xC:min7_20xC:min_4xC:min7<br>6xC:min_2xC:min7_20xC:min_4xC:min7<br>6xC:min_2xC:min7_20xC:min_4xC:min7<br>32xF:maj",
          "16xG:maj_12xF:maj7_20xC:maj_12xA:min<br>20xG:maj_12xF:maj7_20xC:maj_12xA:min<br>20xG:maj_12xF:maj_20xC:maj_12xA:min<br>20xG:maj_48x<pad>",
          "16xG:maj_16xC:min_16xG:maj_16xC:min<br>16xA#:maj_16xD#:maj_16xG#:maj_8xG:maj<br>8xA#:maj_128x<pad>",
          "8xC:maj_8xA#:maj_16xF:maj_8xC:maj<br>8xA#:maj_16xF:maj_8xC:maj_8xA#:maj<br>16xF:maj_8xC:maj_8xA#:maj_16xF:maj<br>128x<pad>",
          "4xA:min_20xE:min_4xG:maj_4xA:min<br>4xC:maj_4xD:min_4xA:min_4xG:maj<br>12xA:min_12xF:maj_4xC:maj7_4xG:maj<br>4xB:dim_16xA:min_8xE:min_12xF:maj<br>4xG:maj_4xA:min_4xG:maj_8xA:min<br>4xG:maj_12xA:min_12xF:maj_4xA:min<br>4xF:maj_4xG:maj_12xA:min_64x<pad>",
          "12xC:min_20xD#:maj_32xG#:maj_12xC:min<br>20xD#:maj_32xG#:maj_12xC:min_20xD#:maj<br>32xG#:maj_12xC:min_20xD#:maj_32xG#:maj",
          "16xC:maj_16xD:min_16xC:maj_16xG:maj<br>16xA:min_16xD:min_16xA#:maj_16xG:maj<br>16xC:maj_16xD:min_16xC:maj_16xG:maj<br>16xA:min_16xE:min_16xA#:maj_16xG:maj",
          "12xC:min_12xG#:maj_12xD:hdim7_12xG:maj<br>12xD:hdim7_12xC:min_12xD:hdim7_12xG:maj<br>12xC:min_12xG:min_12xG#:maj_12xG:maj<br>12xF:5_12xC:min_12xD:hdim7_12xG:maj<br>64x<pad>",
          "16xC:maj_16xA:min_16xF:maj_32xC:maj<br>16xE:min_16xF:maj_16xG:maj_16xC:maj<br>16xA:min_16xF:maj_32xC:maj_16xE:min<br>8xF:maj_8xG:maj_16xC:maj",
          "16xA:min_16xC:maj_32xF:maj_16xA:min<br>16xC:maj_32xF:maj_128x<pad>",
          "80xC:min_176x<pad>",
          "2x<nc>_16xC:min_16xG#:maj_14xA#:maj<br>18xG:min_16xG#:maj_16xF:5_32xG:7<br>16xC:min_16xG#:maj_14xA#:maj_18xG:min<br>16xG#:maj_16xF:5_30xG:7",
          "16xC:min_16xG#:maj_16xD#:maj_16xA#:maj<br>16xC:min_16xG#:maj_16xD#:maj_16xA#:maj<br>16xC:min_16xG#:maj_16xD#:maj_16xA#:maj<br>16xC:min_16xG#:maj_16xD#:maj_16xA#:maj",
          "32xC:maj_32xA:min_32xC:maj_32xA:min<br>32xF:maj_32xF:maj7_64x<pad>",
          "8x<nc>_16xC:maj7_16xA:min_16xC:maj9<br>8xC:maj_4xD:min7_4xG:9_4xE:min7<br>4xA:min9_4xF:maj_4xA#:9_8xC:maj<br>4xD:min7_4xG:9_4xE:min7_4xA:min9<br>4xF:maj7_4xA#:9_8xC:maj_128x<pad>",
          "6xA:min_4xF:maj_4xG:maj_16xD#:maj<br>16xF:5_8xG#:maj_8xA#:maj_16xC:min<br>16xD#:maj_18xF:5_8xG#:maj_6xA#:maj<br>4xG:min_2xG#:maj_2xG:min_2xG#:maj<br>10xG:min_2xG#:maj_2xG:min_2xG#:maj<br>10xG:min_2xG#:maj_2xG:min_2xG#:maj<br>2xG:min_2xG#:maj_2xG:min_2xG#:maj<br>16xG:min_64x<pad>",
          "32xC:maj_32xF:maj_32xG:maj_16xA:min<br>16xA#:maj_128x<pad>",
          "8xC:min_6xC:hdim7_8xF:maj_2xF#:dim<br>4xC:min_4xC:min7_8xC:min_6xC:hdim7<br>8xF:maj_2xF#:dim_16xC:min_6xC:hdim7<br>8xF:maj_2xF#:dim_4xC:min_4xC:min7<br>8xC:min_6xC:hdim7_8xF:maj_2xF#:dim<br>4xC:min_4xC:min7_128x<pad>",
          "4x<nc>_16xA:min_16xF:maj_16xG:maj<br>32xC:maj_22xF:maj_6xG:maj_16xC:maj<br>128x<pad>",
          "16xD#:maj_16xA#:maj_16xF:maj_16xG:min<br>16xD#:maj_16xA#:maj_16xF:maj_16xG:min<br>16xD#:maj_16xA#:maj_16xF:maj_16xG:min<br>16xD#:maj_16xA#:maj_16xF:maj_16xG:min",
          "24xC:maj_24xD#:aug_24xG:min_24xA:7<br>12xF:maj_12xF#:dim_12xE:min_12xA:maj<br>12xD:min_12xG:maj_24xC:maj_64x<pad>",
          "16xG:maj_16xC:min_16xG#:maj_16xF:5<br>16xA#:maj_16xC:min_16xG#:maj_16xA#:maj<br>16xG:maj_16xC:min_16xG#:maj_16xF:5<br>16xA#:maj_16xC:min_16xF:5_16xA#:maj",
          "16xC:maj_16xG:maj_16xC:maj_16xF:maj<br>16xC:maj_16xD#:maj_16xD:min_16xC:maj<br>16xG:maj_32xC:maj_16xG:maj_16xC:maj<br>16xF:maj_16xC:maj_16xD#:maj",
          "48xC:maj_24xG#:maj_24xF:maj_48xC:maj<br>24xG#:maj_24xA#:maj_64x<pad>",
          "32xC:maj_14xD:min7_12xF:maj_6xG#:hdim7<br>64xC:7_32xC:maj_14xD:min7_12xF:maj<br>6xG#:hdim7_64xC:7",
          "6xG:min_12xG#:maj_4xA#:maj_10xC:min<br>6xG:min_12xG#:maj_4xA#:maj_10xC:min<br>6xG:min_12xG#:maj_4xA#:maj_10xC:min<br>6xG:min_12xG#:maj_4xA#:maj_10xC:min<br>6xG:min_10xG#:maj_6xC:min_10xA#:maj<br>6xG:min_10xG#:maj_6xC:min_10xA#:maj<br>6xG:min_10xG#:maj_6xC:min_10xA#:maj<br>6xG:min_10xG#:maj_6xC:min_10xA#:maj",
          "32xG#:maj_32xA#:maj_64xF:maj_32xG#:maj<br>32xA#:maj_64xF:maj",
          "24xC:min_24xG:min_24xC:min_24xG:min7<br>160x<pad>",
          "86x<nc>_6xE:min_36xC:maj_128x<pad>",
          "16xC:maj_16xG:maj_16xA:min_16xF:maj<br>16xC:maj_16xG:maj_16xA:min_144x<pad>",
          "32xC:maj_32xC:maj7_64xA:min7_64xF:maj7<br>64xG:maj",
          "6xC:maj_10xF:maj_6xC:maj_10xF:maj<br>6xC:maj_10xF:maj_3xD:min_3xA:min<br>6xG:maj_4xG:7_6xC:maj_10xF:maj<br>6xC:maj_10xF:maj_6xC:maj_10xF:maj<br>3xD:min_3xA:min_6xG:maj_4xG:7<br>128x<pad>",
          "16xC:min_16xF:5_16xB:dim_16xD#:maj<br>16xC:min_16xF:5_16xB:dim_16xC:min<br>128x<pad>",
          "16xC:maj_8xA:min_8xE:min_8xC:maj<br>8xF:maj_4xE:min_4xA:min_8xC:maj<br>16xF:maj7_32xE:min_144x<pad>",
          "16xC:min_8xG#:maj_8xF:5_16xC:min<br>8xG#:maj_8xF:5_16xC:min_8xG#:maj<br>8xF:5_16xC:min_8xG#:maj_8xF:5<br>128x<pad>",
          "8xD:min9_8xF:maj9_8xG#:hdim7_8xF:maj7<br>8xA:7_8xD:min9_8xF#:7_8xF:maj9<br>8xD:min9_8xF:maj9_8xF#:9_8xF:maj9<br>8xC:maj9_8xF:9_8xE:hdim7_32xA:7<br>8xD:min9_8xF:maj9_8xG#:hdim7_8xF:maj7<br>8xA:7_8xD:min9_8xF#:7_8xF:maj9<br>8xD:min9_8xF:maj9_8xF#:9_8xF:maj9<br>8xC:maj7",
          "16xF:maj_16xC:maj_16xF:maj_16xC:maj<br>16xF:maj_16xC:maj_16xF:maj_16xC:maj<br>8xF:maj_8xG:maj_9xC:maj_5xA#:maj<br>2xC:maj_96x<pad>",
          "8xC:maj_4xA#:maj_4xF:maj_8xC:maj<br>4xA#:maj_4xF:maj_8xC:maj_4xA#:maj<br>8xF:maj_20xC:maj_4xA#:maj_4xF:maj<br>8xC:maj_4xA#:maj_4xF:maj_8xC:maj<br>4xA#:maj_8xF:maj_12xC:maj_128x<pad>",
          "52xC:maj_4xD#:maj_16xF:maj_8xG:maj<br>176x<pad>",
          "32xC:min_6xG:min7_6xD#:maj_4xF:min7<br>8xG#:maj_8xC:min7_12xC:min_4xA#:maj<br>16xC:min_6xG:min7_6xD#:maj_4xF:min7<br>8xG#:maj_8xC:min7_128x<pad>",
          "16xC:min_8xG#:maj_8xB:dim_8xC:min<br>8xA#:maj_8xG:min_8xD:dim_6xD#:maj<br>2xA#:maj_8xD#:maj_8xG:min_8xD:dim<br>16xD#:maj_8xG:min_8xA#:maj_16xF:5<br>16xG:min_96x<pad>",
          "8xC:maj_8xG:maj_8xE:min_8xF:maj<br>224x<pad>",
          "24xC:maj_24xG#:maj_24xA#:maj_12xC:maj<br>172x<pad>",
          "16x<nc>_16xA:min_16xG:maj_16xF:maj<br>16xC:maj_16xA:min_16xG:maj_16xF:maj<br>16xG:maj_16xC:maj_96x<pad>",
          "24x<nc>_24xC:maj_24xA#:maj_20xA:min<br>28xD:dim_24xC:maj_24xA#:maj_20xA:min<br>28xD:dim_24xC:maj_16xA#:maj",
          "32xC:min_32xF:maj_32xD#:maj_32xA#:maj<br>32xC:min_32xF:maj_32xD#:maj_32xA#:maj",
          "48xF:maj_48xC:maj_24xA:min_12xG:maj<br>12xC:maj_48xF:maj_64x<pad>",
          "16xC:min_16xG#:maj_16xF:5_16xD#:maj<br>16xC:min_16xG#:maj_16xF:5_16xD#:maj<br>128x<pad>",
          "32xC:maj_16xF:maj_32xC:maj_32xF:maj<br>144x<pad>",
          "16xC:min_16xA#:maj_16xG:min_12xG#:maj<br>4xA#:maj_192x<pad>",
          "24xC:min7_8xG:min7_16xC:min_8xF:min7<br>8xG:min7_24xC:min7_8xG:min7_16xC:min<br>8xF:min7_8xG:min7_128x<pad>",
          "16xC:maj_16xA:min_48xC:maj_16xA:min<br>40xE:maj_24xF:5_96x<pad>",
          "32xG:maj_32xA#:maj_32xC:maj_32xF:maj<br>32xC:maj_16xD:maj_16xF:7_32xC:maj<br>16xD:maj_16xF:7",
          "24xG#:maj_12xD#:maj7_12xG:min7_24xG:min<br>12xA#:maj_48xC:min_124x<pad>",
          "15xC:min_7xG:min7_9xC:min_8xG#:maj<br>7xA#:7_7xG:min_9xC:min_16xF:min7<br>16xG:min7_16xG#:maj_7xA#:maj_8xG:min<br>3xC:min_128x<pad>",
          "7xA:min_9xD:min_7xE:min7_16xA:min<br>9xD:min_7xE:min7_9xA:min_192x<pad>",
          "16xC:min_16xC:hdim7_16xC:min_16xG:7<br>16xC:min_16xC:hdim7_8xG#:maj_8xA#:maj<br>16xF:sus2_16xC:min_16xC:hdim7_16xC:min<br>16xG:7_16xC:min_16xC:hdim7_8xG#:maj<br>8xA#:maj_16xC:min",
          "8xA#:maj_8xD#:maj_8xA#:maj_8xD#:maj<br>8xA#:maj_8xD#:maj_8xG:maj_8xC:min<br>192x<pad>",
          "24xD#:maj7_24xD:min7_48xC:maj7_24xD#:maj7<br>24xD:min7_48xC:maj7_24xD#:maj7_24xD:min7<br>16xC:maj7",
          "64x<nc>_16xC:maj_16xG:min_32xF:maj<br>16xC:maj_16xG:min_32xF:maj_64x<pad>",
          "16xG#:maj_16xF:5_32xC:min_16xG#:maj<br>16xF:5_16xC:min_144x<pad>",
          "32xG:sus2_32xF:sus2_32xG:sus2_32xF:sus2<br>128x<pad>",
          "16xC:min_16xG:7_16xC:min_16xG:7<br>8xC:min_8xF:5_8xC:min_8xG:maj<br>16xC:min_16xG:7_16xC:min_16xG:7<br>8xC:min_8xF:5_8xC:min_8xG:7<br>8xC:min_8xC#:maj_8xC:min_8xG:7<br>32x<pad>",
          "16xC:min_16xA#:maj_16xG#:maj_16xC:min<br>16xA#:maj_16xD#:maj_16xB:dim_16xC:maj<br>16xC:min_16xA#:maj_16xG#:maj_16xC:min<br>16xA#:maj_16xD#:maj_16xB:dim_12xC:maj<br>4xE:dim",
          "16xD:min7_16xG:maj_32xC:maj7_16xD:min7<br>16xG:maj_32xA:min_16xC:maj_8xG:min7<br>8xC:maj_16xF:maj_16xF:5_16xC:maj<br>8xG:min7_8xC:7_16xF:maj7_16xE:maj",
          "16xC:min_16xD#:maj_16xF:5_16xG#:maj<br>16xC:min_16xD#:maj_16xF:5_16xG#:maj<br>128x<pad>",
          "20xC:min_20xC:min7_20xA:hdim7_40xC:min<br>20xC:min7_20xA:hdim7_60xC:min_24xF:7<br>24xG:7_8xA:min7",
          "16xD#:maj_16xF:maj_32xC:min_16xD#:maj<br>16xF:maj_32xC:min_16xD#:maj_16xF:maj<br>16xG#:maj_16xA#:min7_64xC:maj",
          "12xF:maj_20xC:maj_6xF:maj_6xG:maj<br>12xC:maj_2xA:min_2xG:maj_4xE:min<br>12xF:maj_20xC:maj_6xF:maj_6xG:maj<br>20xC:maj_128x<pad>",
          "16xC:min_16xF:maj_16xC:min_16xC:min7<br>16xF:5_16xA#:maj_16xD#:maj_16xC:7<br>32xF:5_32xC:min_16xF:5_16xD:min<br>16xC:sus2_16xG:maj",
          "16x<nc>_32xF:maj_16xG:maj_16xC:maj<br>32xF:maj_16xG:maj_8xA:min_8xG:maj<br>32xF:maj_16xG:maj_16xC:maj_32xF:maj<br>16xG:maj",
          "24xC:maj_24xD#:maj_24xA#:maj_24xF:maj<br>24xC:maj_24xD#:maj_24xA#:maj_24xF:maj<br>64x<pad>",
          "16x<nc>_32xC:maj_32xD:7_64xF:sus2<br>96xC:maj_16xD:7",
          "16xC:maj_16xF:maj_16xF:5_16xC:maj<br>192x<pad>",
          "8xF:5_16xC:min_4xG:min_4xC:min<br>8xF:5_16xC:min_4xG:min_4xC:min<br>192x<pad>",
          "16xC:min_16xA#:maj_16xG:maj_16xC:min<br>16xF:5_16xG:min_16xC:min_16xB:dim<br>16xC:min_16xA#:maj_16xG:maj_16xC:min<br>16xF:5_16xG:min_8xG#:maj_8xA#:maj<br>16xC:maj",
          "48xC:maj_2xD:min_30xC:maj_2xD:min<br>14xC:maj_2xD:min_28xC:maj_2xF:maj<br>48xC:maj_2xD:min_10xC:maj_2xD:min<br>2xC:maj_16xA:min_2xG:maj_14xC:maj<br>2xD:min_28xC:maj_2xF:maj",
          "8xC:maj_8xD#:maj_8xA#:maj_8xF:maj<br>8xG#:maj_8xB:maj_8xF#:maj_8xA:maj<br>8xC:maj_8xD#:maj_8xA#:maj_8xF:maj<br>8xG#:maj_8xB:maj_8xF#:maj_8xF:maj<br>8xC:maj_8xD#:maj_8xA#:maj_8xF:maj<br>8xG#:maj_8xB:maj_8xF#:maj_8xA:maj<br>8xC:maj_8xD#:maj_8xA#:maj_8xF:maj<br>8xG#:maj_8xB:maj_8xF#:maj_8xF:maj",
          "16xD:min_16xG:7_22xA:min7_10xC:maj<br>16xD:min_16xG:7_16xA:min7_32xA:7<br>112x<pad>",
          "16xD:min_16xC:sus2_28xC:min_20xD:min<br>16xC:sus2_28xC:min_4xD:min_128x<pad>",
          "8xF:maj_8xG:maj_8xC:maj_8xA:min<br>8xF:maj_8xG:maj_16xA:min_8xF:maj<br>8xG:maj_8xC:maj_8xA:min_16xF:maj<br>16xG:maj_128x<pad>",
          "16xC:min7_16xG:min7_29xF:min7_3xA#:maj<br>192x<pad>",
          "16xC:7_16xA#:min7_16xC:7_16xA#:min7<br>16xC:7_16xA#:min7_16xC:7_16xA#:min7<br>128x<pad>",
          "16xC:min_16xG:7_48xC:min_16xG:7<br>48xC:min_16xG:7_48xC:min_16xG:7<br>32xC:min",
          "40xC:min_24xD:dim_54xC:min_8xA#:maj<br>16xG#:maj_16xA#:maj_26xC:min_6xG:min7<br>12xD:dim_4xG:min_16xF:5_34xD#:maj7",
          "8xC:maj_4xF:maj_4xA:min_8xF:maj<br>8xD:min7_8xC:maj_4xF:maj_4xA:min<br>8xF:maj_8xD:min7_8xA:min_8xC:maj<br>8xF:maj_8xD:min7_160x<pad>",
          "16xC:maj_16xA#:maj_16xC:maj_16xA#:maj<br>16xC:maj_16xA#:maj_16xC:maj_16xA#:maj<br>16xC:maj_16xA#:maj_16xC:maj_16xA#:maj<br>16xC:maj_16xA#:maj_16xC:maj_16xA#:maj",
          "16xC:min_16xG#:maj_32xD#:maj_16xC:min<br>16xG#:maj_32xD#:maj_128x<pad>",
          "8xC:min_8xB:dim_8xD#:sus2_8xA:dim<br>8xG#:maj_8xC:min_8xG:maj_8xG:7<br>8xC:min_8xB:dim_8xD#:sus2_8xA:dim<br>8xG#:maj_8xC:min_8xG:maj_8xG:7<br>128x<pad>",
          "16xC:min7_16xA:hdim7_16xG#:maj_16xC:min<br>16xC:min7_16xA:hdim7_16xG#:maj_16xC:min<br>128x<pad>",
          "8xA:min_8xE:min_8xF:maj_8xA:maj<br>8xD:min_8xA:min_8xB:min7_8xD:min<br>192x<pad>",
          "16xF:5_16xC:min_16xG:7_16xC:min<br>16xF:5_16xC:min_16xG:7_4xC:min<br>4xD:dim_4xD#:maj_4xG:min_128x<pad>",
          "2xF:maj_4xF:maj7_8xF:maj_4xG:maj<br>4xC:maj_4xF:maj_2xC:maj_4xF:maj<br>32xG:maj_2xF:maj_4xF:maj7_8xF:maj<br>4xG:maj_4xC:maj_4xF:maj_2xC:maj<br>4xF:maj_6xC:maj_6xD#:maj_6xF#:maj<br>6xF:maj_6xD#:maj_18xD:maj_112x<pad>",
          "16xC:maj7_16xC:7_16xF:maj_16xD:hdim7<br>16xD#:maj7_16xD#:7_32xC:min7_128x<pad>",
          "32xC:min_32xC#:maj_32xA#:5_32xG:7<br>32xC:min_32xC#:maj_32xA#:5_32xG:7",
          "32xC:maj_32xE:min_32xA:min_32xG:maj<br>32xC:maj_32xE:min_32xA:min_32xG:maj",
          "16xC:min_16xD#:maj_16xG#:maj_6xG:min<br>10xD#:maj_16xC:min_16xD#:maj_16xG#:maj<br>6xG:min_10xD#:maj_128x<pad>",
          "24x<nc>_12xF:min7_12xG:min7_12xC:maj<br>12xC:7_12xF:min7_12xG:min7_12xC:maj<br>12xC:7_12xF:min7_12xG:min7_12xC:maj<br>12xC#:dim_24xD:min_24xF:5_24xC:sus2<br>16xG:maj",
          "8xC:min_4xG#:maj_12xC:min_4xG#:maj<br>44xC:min_4xG#:maj_12xC:min_4xG#:maj<br>4xC:min_32xC#:maj_128x<pad>",
          "16xC:min_16xF:5_24xC:min_8xD#:maj<br>16xC:min_16xF:5_24xC:min_8xD#:maj<br>16xC:min_16xF:5_24xC:min_8xD#:maj<br>16xC:min_16xF:5_24xC:min_8xD#:maj",
          "8xF:maj_8xA:min7_16xG:maj_8xF:maj<br>8xA:min7_16xG:maj_8xF:maj_8xA:min7<br>16xG:maj_16xD:min_8xF:maj_8xG:maj<br>128x<pad>",
          "16x<nc>_32xC:min_16xA#:maj_48xC:min<br>16xA#:maj_16xC:min_112x<pad>",
          "16x<nc>_16xC:maj_16xG:maj_16xA:min<br>16xF:maj_16xC:maj_16xG:maj_16xA:min<br>16xF:maj_16xC:maj_16xG:maj_16xA:min<br>16xF:maj_16xC:maj_16xG:maj_16xF:maj",
          "16xF:5_16xA#:maj_16xD#:maj_16xG#:maj<br>16xD:dim_16xG:maj_8xC:min_8xB:dim<br>8xC:min7_8xF:maj_16xF:5_16xA#:maj<br>16xE:min_16xA:min7_32xF:maj7_32xE:min7",
          "3xA:min_3xC:maj_13xF:maj_3xC:maj<br>15xA:min_3xB:dim_11xC:maj_3xB:dim<br>13xA:min_3xC:maj_13xF:maj_3xC:maj<br>15xA:min_3xB:dim_11xC:maj_3xB:dim<br>10xA:min_128x<pad>",
          "12xF:5_20xG#:maj_12xC:min_20xA#:maj<br>12xF:5_20xG#:maj_12xC:min_20xA#:maj<br>12xF:5_20xG#:maj_12xC:min_20xA#:maj<br>64x<pad>",
          "6xA:min_10xC:maj_6xF:maj_10xC:maj<br>6xA:min_10xC:maj_6xF:maj_10xC:maj<br>6xA:min_10xC:maj_6xF:maj_10xC:maj<br>6xA:min_10xC:maj_6xF:maj_10xC:maj<br>6xF:maj_10xC:maj_112x<pad>",
          "32xG:maj_32xF:maj_32xD#:maj7_32xC:min<br>32xG:maj_32xF:maj_32xD#:maj7_32xC:min",
          "16x<nc>_16xC:min7_16xF:5_16xC:min7<br>16xF:5_16xC:min7_16xF:5_16xC:min7<br>16xG:7_112x<pad>",
          "48xC:min7_48xC:min_24xF:min7_24xG:min7<br>48xC:min7_64x<pad>",
          "8xC:min_4xG#:maj_4xG:min7_8xC:min<br>4xG#:maj_4xG:min7_12xD:hdim7_4xG:maj<br>8xC:maj_8xA:min_8xD:min7_8xG:maj<br>8xC:maj_8xA:min_8xD:min7_8xG:maj<br>144x<pad>",
          "8xC:maj_8xF:maj_8xG:maj_8xD:min<br>8xC:maj_8xF:maj_8xG:maj_8xD:min<br>8xC:maj_8xF:maj_8xG:maj_8xD:min<br>8xC:maj_24xD:min_128x<pad>",
          "12xF:maj7_12xF:maj_12xE:min_8xG:maj<br>20xA:min7_12xF:maj7_24xF:maj_8xG:maj7<br>20xA:maj7_12xF:maj7_24xF:maj_8xG:maj<br>12xA:min7_8xE:min_12xF:maj7_24xF:maj<br>8xG:maj7_20xA:maj7",
          "16xF:5_16xG:7_16xF:5_16xG:7<br>16xF:5_8xG:7_8xF:maj_8xC:min<br>8xA#:maj_8xF:maj_8xA#:sus2_16xD#:maj7<br>112x<pad>",
          "16xF:maj_16xG:maj_16xA:min_16xD:maj<br>16xF:maj_16xF:5_16xC:maj_16xC:maj7<br>128x<pad>",
          "28xC:min_4xC:sus2_28xC:min_4xF:sus2<br>16xG#:maj_16xA#:maj_24xC:min_4xF:sus2<br>2xC:min_2xC:sus2_128x<pad>",
          "32x<nc>_8xA#:maj_4xD#:maj_2xA#:maj<br>2xD#:maj_4xC:maj_4xF:maj_2xC:7<br>2xC#:dim_4xD:min_8xA#:maj_8xD#:maj<br>4xC:min_4xG:min_8xC:min_4xG:min<br>4xA#:maj_4xD#:maj_12xA#:maj_8xF:maj<br>8xD#:maj_8xC:min_4xG:min_28xC:min<br>80x<pad>",
          "12xC:min_12xG#:maj_12xC:min_12xG:maj<br>12xG#:maj_12xG:maj_12xG#:maj_12xG:maj<br>12xC:min_12xG#:maj_12xC:min_12xA#:maj<br>12xC:min_12xG#:maj_12xC:min_12xA#:maj<br>64x<pad>",
          "17xG#:maj_6xC:min_9xF:sus2_17xG#:maj<br>6xC:min_9xF:sus2_17xG#:maj_6xC:min<br>9xF:sus2_17xG#:maj_6xC:min_9xF:sus2<br>128x<pad>",
          "32x<nc>_4xC:min_2xC:min7_8xC:min<br>10xF:sus2_8xC:min7_4xC:min_2xC:min7<br>8xC:min_10xF:sus2_8xC:min7_4xC:min<br>2xC:min7_8xC:min_10xF:sus2_8xC:min7<br>4xC:min_2xC:min7_8xC:min_10xF:sus2<br>8xC:min7_4xC:min_2xC:min7_8xC:min<br>10xF:sus2_8xC:min7_4xC:min_2xC:min7<br>8xC:min_10xF:sus2_8xC:min7_4xC:min<br>2xC:min7_8xC:min_10xF:sus2_8xC:min7",
          "16x<nc>_8xG#:maj_8xA#:maj_16xC:min<br>8xG#:maj_8xA#:maj_16xA:min_8xG#:maj<br>8xA#:maj_8xF:5_8xG:maj_8xG#:maj<br>8xA#:maj_16xC:min_8xG#:maj_8xA#:maj<br>16xC:min_8xG#:maj_8xA#:maj_16xA:min<br>8xG#:maj_8xA#:maj_8xF:5_8xG:maj<br>8xG#:maj_8xA#:maj",
          "64xC:maj_16xA:min_16xG:maj_32xF:maj<br>16xD:min_16xE:min_16xF:maj_16xG:maj<br>64xC:maj",
          "10xD:min_4xG:maj_12xA:min_4xG:maj<br>12xF:maj_4xE:min_34xD:min_32xC:maj<br>32xE:maj_112x<pad>",
          "32xC:min_32xD#:maj_32xA#:maj_32xG#:maj<br>32xC:min_32xD#:maj_32xA#:maj_32xG#:maj",
          "64x<nc>_36xC:min_8xA#:maj_4xC:min<br>8xG:min_8xA#:maj_4xC:min_8xA#:maj<br>4xF:5_8xG:min_8xC:min_96x<pad>",
          "16xC:min_16xD#:maj_16xG#:maj_16xA#:maj<br>16xC:min_16xD#:maj_16xG#:maj_16xA#:maj<br>16xC:min_16xD#:maj_16xG#:maj_16xA#:maj<br>16xC:min_16xD#:maj_16xG#:maj_16xA#:maj",
          "8xF:maj_8xC:maj_8xG:maj_8xA:min<br>8xF:maj_8xC:maj_8xD:7_8xG:7<br>8xF:maj_8xE:maj_8xA:min_8xD:7<br>8xF:maj_8xG:maj_6xC:maj_2xF:maj<br>8xC:maj_128x<pad>",
          "16xC:maj_16xD:min_16xA:min7_14xF:maj<br>2xG:maj_192x<pad>",
          "14xC:min7_16xD#:maj7_16xG:min7_18xF:maj<br>14xC:min7_16xD#:maj7_16xG:min7_18xF:maj<br>128x<pad>",
          "8xC:min_8xC:sus2_8xC:min_8xD#:maj<br>16xF:maj_8xG#:maj_8xA#:maj_192x<pad>",
          "4xF:maj_8xC:maj_20xA:min_4xF:maj<br>8xC:maj_20xA:min_4xF:maj_8xC:maj<br>20xA:min_32xD:min_128x<pad>",
          "8xC:maj_8xF:maj_8xD:hdim7_4xC:maj<br>4xC:maj7_8xA:min7_8xE:min7_8xD:7<br>8xB:hdim7_8xE:min7_4xB:hdim7_4xF#:hdim7<br>8xD:min7_4xB:hdim7_4xE:7_8xA:min7<br>8xF#:hdim7_8xF:maj7_4xG#:maj_4xA#:maj<br>128x<pad>",
          "32xC:maj_32xA:min_36xF:maj_16xG:maj<br>12xA:maj_128x<pad>",
          "16xA:min_40xC:maj_8xG:maj_16xA:min<br>40xC:maj_8xG:maj_128x<pad>",
          "48xC:min_16xF:maj_48xC:min_16xF:maj<br>48xC:min_16xF:maj_48xC:min_16xF:maj",
          "16xC:min_16xF:7_16xC:min7_16xG:min<br>16xA:hdim7_16xD:7_16xG:min7_16xG:7<br>16xC:min_16xF:7_16xC:min7_6xG:sus2<br>10xG:min_32xG#:maj_8xC:min_6xG#:maj<br>18xD:min7",
          "16x<nc>_8xC:maj_8xD:min7_8xG#:maj<br>8xF:min7_8xC:maj_8xD:min7_8xG#:maj<br>8xF:min7_8xC:maj_8xD:min7_8xG#:maj<br>8xF:min7_8xC:maj_8xD:min7_16xG#:maj<br>16xC:min_8xG#:maj_8xA#:maj_16xC:min<br>8xG#:maj_8xA#:maj_16xC:min_8xG#:maj<br>8xA#:maj_16xC:min",
          "16xG:maj_8xF:maj_16xC:maj_8xA:min<br>16xG:maj_192x<pad>",
          "24xC:min7_6xF:maj_18xC:min7_8xD#:maj<br>6xF:maj_50xC:min7_8xA#:maj_8xC:min7<br>128x<pad>",
          "10xC:maj_6xA#:maj_10xF:maj_6xA#:maj<br>10xC:maj_6xA#:maj_16xF:maj_192x<pad>",
          "16xC:min_16xD#:maj_16xG#:maj_16xA#:maj<br>16xC:min_16xD#:maj_16xG#:maj_8xA#:maj<br>8xG:min_16xC:min_16xD#:maj_16xG#:maj<br>8xA#:maj_8xG:maj_8xC:min_8xA#:maj<br>16xG#:maj_16xD#:maj_8xA#:maj_8xG:min",
          "16x<nc>_6xA:sus2_10xE:min7_6xG:min<br>10xG:hdim7_6xF:maj_8xE:min_18xC:maj<br>6xA:sus2_10xE:min7_6xG:min_10xG:hdim7<br>6xF:maj_8xE:min_18xC:maj_112x<pad>",
          "4x<nc>_8xD:hdim7_16xE:maj_4xD#:maj7<br>4xC:min_28xD:7_192x<pad>",
          "16xG#:maj_16xF:5_16xC:min_16xA#:maj<br>16xG#:maj_16xF:5_16xC:min_16xA#:maj<br>128x<pad>",
          "12xC:min_12xG:maj_12xA#:maj_12xF:5<br>12xG#:maj_12xD#:maj_12xC#:maj_8xC:sus2<br>4xG:maj_12xC:min_12xG:maj_12xA#:maj<br>12xF:5_12xG#:maj_12xD#:maj_12xC#:maj<br>8xC:sus2_4xG:maj_64x<pad>",
          "40xC:min_4xD:hdim7_4xC:maj_48xF:5<br>36xC:min_4xG:maj_4xF:maj_4xG:maj<br>40xC:min_4xD:hdim7_4xC:maj_44xF:5<br>4xC:maj_16xF:5",
          "8xC:maj_8xF:maj_8xA:min_8xG:maj<br>8xC:maj_8xF:maj_8xA:min_8xG:maj<br>8xC:maj_8xF:maj_8xA:min_8xG:maj<br>8xC:maj_8xF:maj_8xA:min_8xG:maj<br>128x<pad>",
          "16xC:min_16xF:maj_16xC:min7_16xF:maj<br>16xD#:maj_16xF:maj_26xG#:maj_6xA#:maj<br>16xC:min_16xF:maj_16xC:min7_16xF:maj<br>16xD#:maj_14xF:maj_10xC:min_8xF:maj<br>8xC:min_8xC:min7",
          "16xC:maj_16xF:maj_16xA:min_16xF:maj<br>16xC:maj_16xF:maj_16xA:min_144x<pad>",
          "16xC:7_16xF:maj_16xC:7_8xF:maj<br>8xF:7_8xG:min7_8xC:7_8xC:maj<br>8xD:7_8xG:min7_8xC:7_8xF:maj<br>8xF:maj7_128x<pad>",
          "16x<nc>_16xD:min_16xG:maj_16xC:maj<br>16xA:min_16xD:min_16xG:maj_16xC:maj<br>16xA:min_16xD:min_16xG:maj_16xC:maj<br>16xA:min_16xD:min_16xG:maj_16xC:maj",
          "96x<nc>_12xC:min_12xG:maj_12xD#:maj<br>12xF:maj_12xG#:maj_12xG:min_36xC:min<br>12xG:maj_12xD#:maj_24xF:5_4xA#:maj",
          "16xC:maj_16xG:maj_16xA:min_16xF:maj<br>16xC:maj_16xG:maj_16xA:min_48xF:maj<br>96x<pad>",
          "24x<nc>_32xC:min_32xA#:maj_32xC:min<br>8xA#:maj_128x<pad>",
          "8xC:min_8xF:maj_4xG#:maj_4xA#:maj<br>16xC:min_8xF:maj_4xG#:maj_4xA#:maj<br>8xC:min_192x<pad>",
          "14xC:maj_18xE:maj_14xF:maj_18xD:maj<br>14xC:maj_18xE:maj_14xF:maj_18xD:maj<br>128x<pad>",
          "14xE:min_2xD:min_14xA:min_2xC:maj<br>14xG:maj_2xA:min_16xC:maj_14xE:min<br>2xD:min_14xA:min_10xC:maj_8xE:min<br>16xF:maj_128x<pad>",
          "12x<nc>_8xC:min_8xF:5_24xC#:maj<br>16xG:7_16xC:min_8xA#:maj_16xD#:maj<br>24xC#:maj_16xG:7_12xC:min_96x<pad>",
          "16xC:min_16xF:maj_16xD#:maj_10xF:maj<br>4xD:min_2xC#:maj_16xC:min_16xF:maj<br>16xD#:maj_16xF:maj_128x<pad>",
          "24xC:maj_32xG:7_32xC:maj_16xF:maj<br>8xF:5_8xE:min_8xA:7_8xD:min7<br>8xG:7_12xC:maj_4xG:7_96x<pad>",
          "4xC:maj_4xG:maj_3xA:min_5xG:maj<br>4xF:maj_4xF:maj7_3xD:min_5xG:maj<br>4xA:min_4xE:min_3xF:maj_5xC:maj<br>4xD:min_3xG:maj_13xC:maj_4xG:maj<br>3xA:min_5xG:maj_4xF:maj_4xF:maj7<br>3xD:min_5xG:maj_4xA:min_4xE:min<br>3xF:maj_5xC:maj_4xD:min_3xG:maj<br>3xC:maj_2xF:maj_3xC:maj_3xF:maj<br>2xC:maj_3xF:maj_3xC:maj_2xF:maj<br>3xC:maj_3xF:maj_2xC:maj_3xF:maj<br>3xC:maj_2xF:maj_3xC:maj_3xF:maj<br>2xC:maj_3xF:maj_3xC:maj_2xF:maj<br>3xC:maj_3xF:maj_2xC:maj_12xF:maj<br>64x<pad>",
          "16xC:maj_8xF:maj_8xC:maj_8xF:maj<br>16xC:maj_8xG:maj_16xC:maj_8xF:maj<br>8xC:maj_8xF:maj_24xC:maj_128x<pad>",
          "8xC:maj_8xD:min_8xC:maj_8xG:7<br>8xC:maj_8xD:min_8xC:maj_2xF:maj<br>2xE:min_2xD:min_2xC:maj7_8xC:maj<br>8xD:min_8xC:maj_8xG:7_8xC:maj<br>8xD:min_8xC:maj_2xF:maj_2xE:min<br>2xD:min_2xC:maj_128x<pad>",
          "16x<nc>_6xA:min_10xF:maj_16xC:maj<br>6xA:min_10xF:maj_16xC:maj_6xA:min<br>10xF:maj_6xC:maj_10xG:maj_6xA:min<br>10xF:maj_16xG:maj_10xC:maj_6xG:maj<br>10xA:min_6xF:maj_10xC:maj_6xF:sus2<br>16xC:maj_48x<pad>",
          "16x<nc>_16xC:min_8xG#:maj_8xD#:maj<br>8xF:5_8xF#:dim_16xG:maj_8xC:min<br>8xG:min_16xD#:maj_8xG#:maj_8xA#:maj<br>8xD#:maj_8xG:maj_112x<pad>",
          "16xC:maj_16xF:maj_16xA:min_16xG:maj<br>16xC:maj_16xF:maj_16xA:min_16xG:maj<br>16xC:maj_16xF:maj_16xA:min_16xG:maj<br>64x<pad>",
          "12xC:maj7_24xC:min7_8xG#:maj_4xA#:min7<br>208x<pad>",
          "3xF:min7_3xG:min7_3xC:min_3xA#:maj<br>20xC:min_3xF:min7_3xG:min7_3xC:min<br>3xA#:maj_20xC:min_3xF:min7_3xG:min7<br>3xC:min_3xA#:maj_20xC:min_3xF:min7<br>3xG:min7_3xC:min_3xA#:maj_12xC:min<br>8xG:maj_128x<pad>",
          "16xC:maj_16xG:maj_16xD:min_16xA:min<br>16xC:maj_16xG:maj_16xD:min_16xA:min<br>16xC:maj_16xG:maj_16xD:min_16xA:min<br>16xC:maj_16xG:maj_16xD:min_16xA:min",
          "8xC:maj_8xG:maj_6xB:min_10xE:min<br>8xC:maj_3xG:maj_3xB:min_18xF:maj<br>8xC:maj_8xG:maj_6xB:min_10xE:min<br>8xC:maj_3xG:maj_3xB:min_18xF:maj<br>8xC:maj_8xG:maj_6xB:min_10xE:min<br>16xF:maj_8xC:maj_8xD:maj_64x<pad>",
          "16xC:min_16xD#:maj_16xG:min_16xF:maj<br>16xC:min_16xD#:maj_16xG:min_16xF:maj<br>16xC:min_16xD:min_16xD#:maj_16xF:maj<br>16xC:min_16xD:min_16xD#:maj_16xF:maj",
          "16xA:min_16xC:maj_16xE:min_16xF:maj<br>192x<pad>",
          "8xC:min_8xG:maj_8xC:min_8xG:maj<br>4xC:min_4xG#:maj_8xC:min7_16xG:maj<br>8xG#:maj_8xD#:maj_16xG:maj_8xG#:maj<br>8xD#:maj_16xG:maj_128x<pad>",
          "32x<nc>_32xG#:maj_32xC:min_32xF:5<br>32xC:min_32xG#:maj_32xC:min_32xF:5",
          "96xC:maj_32xD#:min6_128x<pad>",
          "14xC:min_18xG#:maj_14xD#:maj_8xA#:maj<br>10xB:dim_14xC:min_18xG#:maj_14xD#:maj<br>8xA#:maj_10xB:dim_14xC:min_18xG#:maj<br>14xD#:maj_8xA#:maj_10xB:dim_14xC:min<br>18xB:maj_14xD#:maj_18xF:maj",
          "16xF:maj_16xG:maj_16xE:min_16xA:min<br>8xG:maj_8xF:maj_8xE:min_8xG:maj<br>16xF:maj_16xG:maj_16xE:min_16xA:min<br>8xG:maj_8xF:maj_8xE:min_8xG:maj<br>16xC:maj_48x<pad>",
          "16x<nc>_16xF:maj_16xA#:5_16xF:maj<br>16xA:min_16xD:min_16xF:maj_32xA#:maj<br>32xB:min_32xF#:maj_32xE:min_16xG:7",
          "8x<nc>_8xG:7_24xC:maj_8xG:7<br>24xC:maj_8xG:7_24xF:maj_8xG:maj<br>24xC:maj_8xG:7_24xC:maj_8xG:7<br>32xC:maj_24xF:maj_8xG:maj_16xC:maj",
          "8xA:min_8xF:maj_8xC:maj_16xA:min<br>8xF:maj_8xC:maj_16xA:min_8xF:maj<br>8xC:maj_16xA:min_8xF:maj_16xC:maj<br>8xA:min_8xF:maj_8xC:maj_16xA:min<br>8xF:maj_8xC:maj_16xA:min_8xF:maj<br>8xC:maj_16xA:min_8xF:maj_8xC:maj<br>8xA:min",
          "16xF:min7_16xC:min7_16xF:min7_16xC:min7<br>16xF:min7_16xC:min7_16xF:min7_16xC:min7<br>16xF:min7_112x<pad>",
          "16xC:min_16xG#:maj_16xD#:maj_16xA#:maj<br>16xC:min_16xG#:maj_16xD#:maj_16xA#:maj<br>16xC:min_16xG#:maj_16xD#:maj_16xA#:maj<br>16xC:min_16xG#:maj_16xD#:maj_16xA#:maj",
          "16xF:5_16xD#:maj_16xC:min_16xC:7<br>16xF:5_16xC#:maj_16xC:sus2_16xG:maj<br>128x<pad>",
          "8xA:min_8xF:maj_16xC:maj_8xA:min<br>8xF:maj_16xC:maj_8xA:min_8xF:maj<br>16xC:maj_8xA:min_8xF:maj_16xC:maj<br>128x<pad>",
          "12xC:maj_12xG:maj_24xA:min_12xC:maj<br>12xG:maj_24xA:min_12xC:maj_12xG:maj<br>24xA:min_12xC:maj_12xG:maj_24xA:min<br>12xC:maj_12xG:maj_24xA:min_12xC:maj<br>4xG:maj",
          "64xF:5_16xD#:maj_16xA#:maj_16xF:5<br>16xD#:maj_64xF:5_16xD#:maj_16xA#:maj<br>16xF:5_16x<pad>",
          "16xC:min_16xG#:maj_16xD#:maj_16xG:min<br>16xC:min_16xG#:maj_16xD#:maj_4xG:min7<br>2xG:min_4xG:min7_2xG:min_2xG:min7<br>2xG:min_128x<pad>",
          "8xF:maj_8xE:maj_8xA:min_8xE:min7<br>8xF:maj_8xE:maj_8xA:min_8xE:min7<br>8xF:maj_8xE:maj_8xA:min_8xE:min7<br>8xF:maj_8xE:maj_8xA:min_8xE:min7<br>128x<pad>",
          "32xC:maj_16xG:7_8xG:9_8xG:7<br>32xC:maj_32xG:9_8xC:maj_8xC:7<br>16xF:maj_16xD:7_16xG:maj_16xE:7<br>8xA:min_8xC:7_4xF:maj_4xD:min7<br>8xG:7_12xC:maj_4xG:maj",
          "24xF:maj_8xG:maj_24xA:min_8xG:maj<br>24xF:maj_8xG:maj_24xA:min_8xG:maj<br>128x<pad>",
          "8xF:maj_8xG:maj_8xA:sus2_16xF:maj<br>8xG:maj_8xA:sus2_16xF:maj_8xG:maj<br>8xA:sus2_16xF:maj_8xG:maj_8xA:sus2<br>8xF:maj_128x<pad>",
          "8xC:maj_6xD:min7_10xC:min7_8xF:maj<br>8xC:maj_6xD:min7_10xC:min7_8xF:maj<br>8xC:maj_6xD:min7_10xC:min7_8xF:maj<br>8xC:maj_6xD:min7_10xC:min7_8xF:maj<br>16xC:min_16xG#:maj_16xC:sus2_16xG:maj<br>64x<pad>",
          "64xC:maj_24xD#:maj_8xF:7_16xD#:maj<br>32xD#:7_16xC#:maj_96x<pad>",
          "16xC:min_16xF:min7_16xG:min7_32xC:min<br>16xF:min7_16xG:min7_16xC:min_128x<pad>",
          "8xC:maj_8xD:maj_8xF:maj_8xG:maj<br>8xA:min_8xD:maj_8xF:maj_16xC:maj<br>8xD:maj_8xF:maj_8xC:maj_8xA:maj<br>8xD:maj_6xF:maj_10xC:maj_128x<pad>",
          "8xC:min_8xA#:maj_16xF:maj_8xC:min<br>8xA#:maj_16xF:maj_8xC:min_8xA#:maj<br>16xF:maj_16xC:min_16xF:maj_128x<pad>",
          "16x<nc>_8xD#:maj_8xF:maj_16xC:min<br>8xD#:maj_8xF:maj_16xC:min_8xD#:maj<br>8xF:maj_16xC:min_8xD#:maj_24xF:maj<br>112x<pad>",
          "16xC:min_16xG#:maj_16xD#:maj_16xA#:maj<br>16xC:min_16xG#:maj_16xD#:maj_16xA#:maj<br>128x<pad>",
          "16xC:maj_16xG:maj_16xA:min7_16xF:maj<br>16xC:maj_16xG:maj_16xA:min7_16xF:maj<br>128x<pad>",
          "8xC:maj_8xA#:maj_8xC:maj_8xA#:maj<br>8xC:maj_8xA#:maj_8xA:min_8xG#:maj<br>8xC:maj_8xA#:maj_8xC:maj_8xA#:maj<br>8xC:maj_8xA#:maj_8xA:min_8xG#:maj<br>128x<pad>",
          "6xG#:maj_10xD#:maj_6xA#:maj_10xC:min<br>6xG#:maj_10xD#:maj_6xA#:maj_10xC:min<br>6xG#:maj_10xD#:maj_6xA#:maj_10xC:min<br>6xG#:maj_10xD#:maj_6xC:min_10xA#:maj<br>128x<pad>",
          "2x<nc>_32xC:min_20xB:dim_12xD#:maj<br>32xA#:maj_16xF:5_14xD:dim_128x<pad>",
          "32xF:maj_32xC:maj_32xD:min_32xC:maj<br>32xF:maj_16xC:maj_8xA:maj_8xD:min<br>16xF:maj_16xG:maj_8xC:maj_8xC:maj7<br>12xC:maj_4xG:maj",
          "16xA:min7_16xF:maj_16xE:min_16xA#:maj<br>16xD:min7_32xC:maj_16xG:maj_16xD:min7<br>16xG:maj_16xD:min7_16xG:maj_16xD:min7<br>16xF:maj_32xE:maj",
          "16xC:maj_8xC:sus2_8xG:maj_16xA:min<br>8xF:maj_8xG:maj_16xC:maj_8xC:sus2<br>8xG:maj_16xA:min_8xF:maj_8xG:maj<br>128x<pad>",
          "80xC:maj_32xF:maj_32xC:maj_16xD:min<br>16xG:maj_80xC:maj",
          "12xC:maj_4xG:maj_4xC:maj_4xG:maj<br>12xF:maj_12xG:maj_24xF#:dim_24xF:maj<br>12xC:maj_4xG:maj_4xC:maj_4xG:maj<br>12xF:maj_12xG:7_24xF#:dim_24xF:maj<br>12xC:maj_4xG:maj_4xC:maj_4xG:maj<br>12xF:maj_12xG:maj_16xF#:dim",
          "16xC:maj_16xF:maj_8xA:min_8xG:maj<br>12xF:maj_4xG:maj_16xC:maj_16xF:maj<br>8xA:min_8xG:maj_12xF:maj_4xG:maj<br>128x<pad>",
          "48xG#:maj_48xA#:maj_96xD#:maj_48xG#:maj<br>16xA#:maj",
          "32xC:maj_32xA:min_32xD:min_32xG:maj<br>128x<pad>",
          "16xC:min_16xA#:maj_16xF:5_8xG#:maj<br>8xA#:maj_16xC:min_16xA#:maj_16xF:5<br>8xG#:maj_8xA#:maj_128x<pad>",
          "32xF:maj_14xF:sus2_6xA:min7_12xC:maj<br>32xF:maj_12xF:sus2_12xA:min7_8xC:maj<br>32xF:maj_14xF:sus2_8xA:min7_10xC:maj<br>32xF:maj_12xF:sus2_20xD:min7",
          "16xC:maj_16xG:min7_32xF:maj_16xC:maj<br>16xG:min7_32xF:maj_16xC:maj_16xG:min7<br>32xF:maj_16xC:maj_16xG:min7_32xF:maj",
          "14xC:maj_16xD#:maj7_34xC:min_14xG:maj<br>16xD#:maj7_34xC:min_14xC:maj_16xD#:maj7<br>34xC:min_14xG:maj_16xD#:maj7_34xC:min",
          "64xF:maj_8xC:maj_8xG:maj_12xF:maj<br>4xG:maj_8xC:maj_8xG:maj_12xF:maj<br>4xG:maj_8xC:maj_8xG:maj_12xF:maj<br>4xG:maj_8xC:maj_8xG:maj_12xF:maj<br>4xG:maj_8xC:maj_8xG:maj_12xF:maj<br>4xG:maj_32x<pad>",
          "8xG#:maj_8xC:min_8xA#:maj_16xF:5<br>8xG:min_24xG#:maj_8xC:min_8xA#:maj<br>16xF:5_8xG:min_24xG#:maj_8xC:min<br>8xA#:maj_16xF:5_8xG:min_24xG#:maj<br>8xC:min_8xA#:maj_16xF:5_8xG:min<br>16xG#:maj",
          "16xC:maj_16xF:maj_16xC:maj_16xF:maj<br>16xC:maj_16xF:maj_16xA:min_6xG:sus2<br>10xD:maj_128x<pad>",
          "8xC:min_8xD#:maj_6xA#:maj_2xC:min<br>6xF:maj_2xD#:maj_6xC:min_2xD:min<br>6xD#:maj_2xC:min_6xA#:maj_2xC:min<br>8xF:maj_6xC:min_2xD:min_6xD#:maj<br>2xC:min_6xA#:maj_2xC:min_6xF:maj<br>2xD#:maj_6xC:min_2xD:min_6xD#:maj<br>2xC:min_6xA#:maj_2xG#:maj_2xF:maj<br>2xG:maj_4xC:min_128x<pad>",
          "16xG#:maj_16xC:maj_32xF:maj_16xG#:maj<br>16xC:maj_32xF:maj_16xG#:maj_16xC:maj<br>32xF:maj_16xG#:maj_16xC:maj_32xF:maj",
          "32xC:maj_32xF:maj_32xA:min_32xF:maj<br>128x<pad>",
          "14xC:min_16xF:5_16xD#:maj_16xG:min<br>16xC:min_16xF:5_16xD#:maj_18xG:min<br>14xC:min7_16xC:min_16xD#:maj_16xG:min<br>16xC:min7_16xC:min_16xD#:maj_2xG:min<br>16x<pad>",
          "8xF:maj_8xG:maj_8xC:maj_8xA:min<br>8xF:maj_8xG:maj_8xC:maj_8xA:min<br>8xF:maj_8xG:maj_8xC:maj_8xA:min<br>8xF:maj_8xG:maj_8xC:maj_8xA:min<br>128x<pad>",
          "32xC:maj_32xA:maj_32xC:maj_32xA:maj<br>32xC:maj_32xA:maj_32xC:maj_16xA:maj<br>16xG:maj",
          "16xC:min_16xG:7_16xC:min_8xA#:sus2<br>8xF:maj_16xF:5_16xG:7_16xC:min<br>16xA#:maj_16xC:min_16xA#:maj_96x<pad>",
          "16xD:maj_16xD#:maj_16xD:maj_32xD#:maj<br>176x<pad>",
          "16xF:maj_16xD:min7_16xG:maj_16xC:maj<br>16xF:maj_176x<pad>",
          "16xD:min_16xG:maj_16xE:min_16xF:maj<br>16xD:min_16xG:maj_16xE:min_16xF:maj<br>16xA:maj_8xG:maj_8xD:maj_16xA:maj<br>8xG:maj_8xD:maj_16xA:maj_8xG:maj<br>8xD:maj_32x<pad>",
          "16xF:maj_16xC:maj_32xG:maj_192x<pad>",
          "16xC:min_16xF:5_16xG#:maj_16xG:min<br>16xC:min_16xF:5_16xG#:maj_16xG:maj<br>16xC:min_112x<pad>",
          "16xG:maj_16xF:maj_16xC:maj7_12xF:maj<br>4xG:7_192x<pad>",
          "24xC:maj_24xD:min_36xA#:maj_12xD:min<br>24xC:maj_24xD:min_48xA#:maj_24xC:maj<br>24xD:min_16xA#:maj",
          "8xC:maj_8xA#:maj_8xD#:maj_8xF:maj<br>8xC:maj_8xA#:maj_8xD#:maj_8xF:maj<br>8xC:maj_8xA#:maj_8xD#:maj_8xF:maj<br>8xC:maj_8xA#:maj_8xD#:maj_8xF:maj<br>128x<pad>",
          "32xF:maj_18xA:min_14xG:maj_32xF:maj<br>18xA:min_14xG:maj_32xF:maj_18xA:min<br>14xG:maj_32xF:maj_18xA:min_14xG:maj",
          "16xG:maj_16xC:min_16xG:maj_16xC:min<br>16xF:5_16xD#:maj_16xG:maj_16xC:min<br>128x<pad>",
          "6xC:maj_6xG:maj_26xF:maj_6xA:min<br>20xG:maj_6xC:maj_6xG:maj_26xF:maj<br>6xA:min_4xG:maj_144x<pad>",
          "16xA:min_16xC:maj_16xA:min_16xE:min7<br>16xA:min_16xC:maj_16xA:min_16xC:maj<br>16xA:min_112x<pad>",
          "12xC:maj_4xD:min7_12xA:min_4xC:maj<br>12xG:maj_4xE:min7_12xF:maj_4xG:maj<br>12xC:maj_4xD:min7_12xA:min_4xC:maj<br>12xG:maj_4xE:min7_12xF:maj_4xG:maj<br>128x<pad>",
          "12xC:maj_12xD:7_12xC:maj_12xD:7<br>12xC:maj_12xD:7_12xC:maj_12xD:7<br>160x<pad>",
          "8xC:min_8xG#:maj_12xD#:maj_4xD#:maj7<br>8xC:min_8xG#:maj_12xG:min7_4xD#:maj7<br>8xD#:maj_8xC:min_4xD#:maj_4xG:maj<br>16xC:min_16xF:7_16xD#:maj_24xA#:maj<br>96x<pad>",
          "16xC:maj_12xF:maj_4xA:min7_8xD:min<br>8xC:maj7_8xA#:maj_4xF:maj_4xG:maj<br>16xC:maj_12xF:maj_4xA:min7_8xD:min<br>8xC:maj7_6xE:maj_6xA:min7_4xD:hdim7<br>128x<pad>",
          "16xF:maj_16xG:maj_28xA#:maj_4xC:maj<br>16xF:maj_16xG:maj_28xA#:maj_4xC:maj<br>128x<pad>",
          "16xC:min_16xA#:maj_16xG#:maj_16xA#:maj<br>16xC:min_16xA#:maj_32xF:maj_16xC:min<br>16xA#:maj_16xG#:maj_16xA#:maj_16xC:min<br>16xA#:maj_32xB:maj",
          "3xA#:sus2_3xA#:maj_3xA#:sus2_3xA#:maj<br>2xA#:sus2_2xA#:maj_3xF:sus2_3xF:maj<br>3xF:sus2_3xF:maj_2xF:sus2_2xF:maj<br>3xC:sus2_3xC:maj_3xC:sus2_3xC:maj<br>2xC:sus2_2xC:maj_3xC:sus2_3xC:maj<br>3xC:sus2_3xC:maj_2xC:sus2_2xC:maj<br>3xA#:sus2_3xA#:maj_3xA#:sus2_3xA#:maj<br>2xA#:sus2_2xA#:maj_3xF:sus2_3xF:maj<br>3xF:sus2_3xF:maj_2xF:sus2_2xF:maj<br>3xC:sus2_3xC:maj_3xC:sus2_3xC:maj<br>2xC:sus2_2xC:maj_3xC:sus2_3xC:maj<br>3xC:sus2_3xC:maj_2xC:sus2_2xC:maj<br>3xA#:sus2_3xA#:maj_3xA#:sus2_3xA#:maj<br>2xA#:sus2_2xA#:maj_3xF:sus2_3xF:maj<br>3xF:sus2_3xF:maj_2xF:sus2_2xF:maj<br>3xC:sus2_3xC:maj_3xC:sus2_3xC:maj<br>2xC:sus2_2xC:maj_3xC:sus2_3xC:maj<br>3xC:sus2_3xC:maj_2xC:sus2_2xC:maj<br>3xA#:sus2_3xA#:maj_3xA#:sus2_3xA#:maj<br>2xA#:sus2_2xA#:maj_3xF:sus2_3xF:maj<br>3xF:sus2_3xF:maj_2xF:sus2_2xF:maj<br>3xC:sus2_3xC:maj_3xC:sus2_3xC:maj<br>2xC:sus2_2xC:maj_3xC:sus2_3xC:maj<br>3xC:sus2_3xC:maj_2xC:sus2_2xC:maj",
          "32xC:min_32xG:maj_32xA#:maj_32xA:min7<br>32xF:5_16xG:min_16xA#:maj_32xC:min<br>32xG:maj",
          "8xC:min_8xD#:maj_8xA#:maj_16xC:min<br>8xD#:maj_8xA#:maj_8xC:min_8xF:5<br>8xG#:maj_8xG:maj_8xC:min_8xF:5<br>8xG#:maj_16xG:maj_128x<pad>",
          "32xD#:maj_32xC:min_32xD#:maj_16xC:min<br>144x<pad>",
          "16xC:maj_8xG#:7_24xC:maj_8xG#:7<br>24xC:maj_8xG#:7_24xC:maj_8xG:maj<br>8xC:maj_8xF#:maj_8xB:maj_8xF:maj<br>8xA#:maj_8xD#:maj_8xG#:maj_16xG:maj<br>16xC:maj_48x<pad>",
          "64xC:min_32xG:min_64xC:min_32xG:min<br>64xF:5",
          "16xF:maj7_16xC:sus2_16xE:min7_16xA:min<br>16xF:maj7_16xC:sus2_16xE:min7_16xA:min<br>16xF:maj7_16xC:sus2_16xE:min7_16xA:min<br>16xF:maj7_16xG:maj_16xD:min_16xG:maj",
          "16xF:maj7_16xD:min7_16xF:maj7_6xD:min7<br>10xC:maj_16xF:maj7_16xD:min7_16xF:maj7<br>6xD:min7_10xC:maj_128x<pad>",
          "128xC:min_32xG:min_32xG#:maj_32xC:min<br>32xA#:maj",
          "16xF:5_16xG:maj_16xG#:maj_8xG:maj<br>8xC:min_192x<pad>",
          "8xC:min_8xF:5_8xC:sus2_8xC:min<br>8xD#:maj_4xF:5_4xG#:maj_4xG:maj<br>2xD#:maj_2xG:7_16xC:min_8xF:5<br>8xC:sus2_6xC:min_2xD#:maj_2xG#:maj<br>2xC:min_2xF:min7_2xG#:maj_8xG:7<br>144x<pad>",
          "64xG:min_64xF:min_128x<pad>",
          "26xC:maj_6xG:maj_26xF:maj_6xG:maj<br>32xC:maj_26xF:maj_6xG:maj_26xC:maj<br>6xG:maj_26xF:maj_6xG:maj_16xA:min<br>16xC:maj_32xF:maj",
          "16xC:min_16xD#:maj7_8xF:maj_8xG#:maj<br>16xC:min_16xD#:maj7_8xF:maj_8xG#:maj<br>16xC:min_16xD#:maj7_8xF:maj_8xG#:maj<br>112x<pad>",
          "16xC:maj_16xC:7_16xF:maj_16xF:5<br>16xC:maj_16xF:5_16xC:maj_16xG:maj<br>128x<pad>",
          "8x<nc>_16xF:5_16xG:min7_32xC:min<br>8xF:min9_176x<pad>",
          "48xG:maj_8xA#:maj_8xC:maj_192x<pad>",
          "14xG#:maj_18xC:min_14xD#:sus2_18xA#:maj<br>14xG#:maj_18xC:min_14xD#:sus2_18xA#:maj<br>128x<pad>",
          "32xC:min_32xC#:maj_32xC:min_32xC#:maj<br>32xC:min_32xC#:maj_32xC:min_32xC#:maj",
          "16xC:min_16xG#:maj_16xA#:maj_16xF:maj<br>16xC:min_16xG#:maj_24xA#:maj_8xF:maj<br>128x<pad>",
          "16xC:maj_16xF:maj_16xG:maj_16xA:min<br>16xE:min_16xF:maj_16xG:maj_14xF:maj<br>18xD:min7_14xG:maj_18xA:min_16xF:maj<br>16xC:maj_8xD:min_8xE:min_8xF:maj<br>8xG:maj_16x<pad>",
          "8xC:min_8xG#:maj_8xD#:maj_8xA#:maj<br>8xC:min_8xG#:maj_8xD#:maj_8xA#:maj<br>8xC:min_8xG#:maj_8xD#:maj_8xA#:maj<br>8xC:min_8xG#:maj_8xD#:maj_8xA#:maj<br>128x<pad>",
          "12xA#:maj_12xF:maj_12xA#:maj_12xC:maj<br>12xA#:maj_12xF:maj_12xA#:maj_12xC:maj<br>160x<pad>",
          "16xA#:maj_16xC:min_16xA#:maj_8xC:min<br>8xG:min_16xG#:maj_16xA#:5_16xG#:maj<br>8xA#:5_8xG:7_128x<pad>",
          "4xC:maj_12xG:maj_16xD#:maj_16xA#:maj<br>16xF:maj_16xC:maj_176x<pad>",
          "16xF:maj_16xG:maj_16xE:maj_8xA:min<br>8xG:maj_32xF:maj_32xG:maj_16xC:maj<br>16xC:maj7_16xA:min_16xG:maj_32xF:maj<br>32xG:maj",
          "16xC:min_6xD#:maj_6xD:maj_4xC#:maj<br>16xC:min_16xG#:maj_16xA:dim_16xG#:maj<br>16xC:min_16xG#:maj_16xA:dim_16xG#:maj<br>96xG:maj",
          "16xC:maj_16xD:min7_82xC:7_42xD:7<br>4xC:min_96x<pad>",
          "12xC:min_12xF:maj_8xG#:maj_4xA#:maj<br>12xC:maj_12xG#:maj_12xG:min_24xF:maj<br>12xC:min_12xF:maj_8xG#:maj_4xA#:maj<br>12xD#:maj_12xF:5_12xG:min_24xC:maj<br>64x<pad>",
          "8xC#:maj_8xA#:5_16xF:5_8xC#:maj<br>8xA#:5_16xF:5_192x<pad>",
          "8xC:min_8xA#:maj_16xG#:maj_8xC:min<br>8xA#:maj_12xG#:maj_4xA#:maj_8xC:min<br>8xA#:maj_8xD#:maj_8xG#:maj_8xC:min<br>8xA#:maj_16xG#:maj_128x<pad>",
          "16x<nc>_16xC:min_16xA#:maj_48xC:min<br>16xA#:maj_48xC:min_16xA#:maj_48xC:min<br>16xA#:maj_16xC:min",
          "64xG#:maj_64xC:min_64xG#:maj_64xC:min",
          "16xC:maj_16xA:min_16xF:maj_16xG:maj<br>16xE:min_16xA:min_16xD:min_16xG:maj<br>128x<pad>",
          "16xG#:maj_16xC:min_32xD#:maj_16xG#:maj<br>16xC:min_32xD#:maj_128x<pad>",
          "16xG#:maj_16xA#:maj_32xC:min_16xG#:maj<br>16xA#:maj_32xC:min_16xG#:maj_16xA#:maj<br>32xC:min_16xG#:maj_16xA#:maj_32xC:min",
          "16xF:maj_16xE:min_16xC:maj_16xG:maj<br>16xF:maj_16xE:min_16xC:maj_16xG:maj<br>16xF:maj_112x<pad>",
          "16xC:min_16xF:maj_16xG#:maj_8xD#:maj<br>8xA#:maj_16xC:min_16xF:maj_16xG#:maj<br>8xD#:maj_8xA#:maj_16xG#:maj_16xA:dim<br>32xG#:maj_64x<pad>",
          "16xA:min_16xG:maj_16xF:maj_16xG:maj<br>16xA:min_16xG:maj_16xF:maj_16xG:maj<br>16xA:min_16xG:maj_16xF:maj_16xG:maj<br>16xA:min_16xG:maj_16xF:maj_16xG:maj",
          "32xC:maj_32xF:maj_32xC:maj_32xF:maj<br>128x<pad>",
          "4xC:min_4xA#:maj_4xC:min_4xA#:maj<br>16xG#:maj_16xA#:maj_8xC:min_8xA#:maj<br>16xC:min_16xG#:maj_16xA#:maj_8xC:min<br>8xA#:maj_16xC:min_112x<pad>",
          "14xF:maj7_18xE:min7_12xF#:hdim7_14xG:maj<br>6xF#:7_14xF:maj7_18xE:min7_12xF#:hdim7<br>20xG:maj_128x<pad>",
          "24x<nc>_24xA:min_24xF:maj_24xC:maj<br>12xG:maj_12xE:maj_24xA:min_24xF:maj<br>24xC:maj_12xG:maj_12xE:maj_40x<pad>",
          "10xG#:maj_6xG:min_10xG#:maj_6xG:min<br>10xG#:maj_6xG:min_6xC:min_10xF:5<br>10xG#:maj_6xG:min_10xG#:maj_6xG:min<br>10xG#:maj_6xG:min_6xC:min_10xF:5<br>128x<pad>",
          "16xD#:maj_16xA#:maj_32xG#:maj_16xD#:maj<br>16xA#:maj_16xG#:maj_144x<pad>",
          "14xC:min_18xG#:maj_14xC:min_18xG#:maj<br>14xC:min_18xG#:maj_14xC:min_18xG#:maj<br>128xG:maj",
          "16xD#:maj_16xG:maj_24xC:min_8xD:maj<br>192x<pad>",
          "16xF:maj_6xA:min_10xG:maj_16xF:maj<br>6xA:min7_10xG:maj_16xF:maj_6xA:min<br>10xG:maj_16xF:maj_6xA:min7_10xG:maj<br>16xF:maj_6xA:min_10xG:maj_16xF:maj<br>6xA:min7_10xG:maj_16xF:maj_6xA:min<br>10xG:maj_32xF:maj",
          "32xC:min_32xD:7_32xD#:maj_16xF:min7<br>16xG:maj_128x<pad>",
          "16x<nc>_12xC:min_4xG:min_12xG#:maj<br>4xD#:maj_16xA#:maj_8xD#:maj_8xA#:maj<br>12xC:min_4xG:min_12xG#:maj_4xD#:maj<br>16xA#:maj_8xD#:maj_8xA#:maj_112x<pad>",
          "24xC:min_8xA#:maj_8xG#:maj_8xD#:maj<br>8xF:min7_8xG:maj_24xC:min_8xA#:maj<br>8xG#:maj_8xD#:maj_8xF:min7_8xG:maj<br>16xC:min_112x<pad>",
          "16xF:maj_16xG:maj_16xE:min7_16xA:min<br>32xF:maj_32xG:maj_32xE:7_28xE:maj<br>4xA:maj_64x<pad>",
          "32xC:maj_16xG:maj_16xA:min_16xE:min<br>16xF:maj_16xC:maj_16xD:min7_16xG:maj<br>8xE:hdim7_8xA:7_4xD:min_4xD:min7<br>8xB:hdim7_8xG:min7_8xC:maj_16xF:maj<br>8xF:min7_8xG:7_4xC:min_4xD#:maj<br>8xF:maj_16xC:min",
          "16xG:maj_16xC:maj_16xG:maj_16xF:5<br>8xG:maj_8xG#:maj_16xC:min_160x<pad>",
          "16xD:min7_16xG:7_16xC:maj_4xD:min<br>12xA:maj_32xD:min_32xE:maj_128x<pad>",
          "16xD:min_16xF:maj_16xD:min_16xF:maj<br>192x<pad>",
          "16xC:min_16xA#:maj_16xG#:maj_16xD#:maj<br>16xF:5_16xD#:maj_16xF#:maj_16xF:maj<br>16xC:min_16xA#:maj_16xG#:maj_16xD#:maj<br>8xG#:maj_8xA#:maj_8xD#:maj_8xC:min<br>16xG#:maj_8xF:5_8xC#:maj",
          "32xC:maj_32xE:7_32xA:7_32xD:min7<br>32xE:7_32xA:min7_32xD:7_16xD:min7<br>16xG:7",
          "32xC:maj_16xA#:maj_48xC:maj_16xA#:maj<br>16xC:maj_128x<pad>",
          "16xC:maj_16xE:min_16xA:min_16xF:maj<br>16xC:maj_16xE:min_16xA:min_16xF:maj<br>32xG:maj_32xD:min_32xG:maj_16xD:min<br>10xE:min_6xF:maj",
          "32xA:min_32xF:maj_8xF:sus2_24xC:maj<br>32xG:maj_128x<pad>",
          "30xC:maj_6xB:dim_18xC:maj_6xE:5<br>12xC:maj_6xG:maj_6xA#:7_24xD:min<br>6xA:min_6xG:maj_6xC:maj_6xC:sus2<br>18xC:maj_2xB:dim_4xE:5_6xC:maj<br>6xC:7_6xE:min_6xA:min_6xE:min<br>6xF#:dim_4xE:min_4xE:min7_4xC:7<br>4xE:min_2xB:7_6xE:min_40x<pad>",
          "32xF:maj_32xC:maj_32xG:maj_32xA:min<br>32xF:maj_32xA:min_16xD:min_16xE:min<br>16xF:maj_16xG:maj",
          "6xC:min_8xA#:maj_8xD#:maj_8xF:maj<br>8xD#:maj_8xG#:maj_6xA#:maj_14xC:min<br>4xD#:maj_4xF:5_4xD#:maj_2xC:min<br>18xA#:maj_4xD#:maj_6xA#:maj_6xG#:maj<br>8xD#:maj_8xG#:maj_14xA#:maj_112x<pad>",
          "16xG:maj_16xF:maj_16xG:maj_16xF:maj<br>16xG:maj_16xF:maj_16xA:min_16xF:maj<br>128x<pad>",
          "10xC:maj_6xA#:maj_16xG#:maj_10xC:maj<br>6xA#:maj_16xC:min_32xF:5_16xA#:maj<br>48xF:5_16xA#:maj_14xF:5_2xA#:maj<br>32xF:5_16xA#:maj_16xG#:maj",
          "24xC:min_24xG#:maj_24xF:5_24xG:maj<br>24xG:min_24xG#:maj_24xF:min7_24xG:maj<br>64x<pad>",
          "8xC:maj_8xD:min7_8xC:maj_8xF:maj<br>8xC:maj_8xD:min7_8xC:maj_8xF:maj<br>8xC:maj_8xD:min7_8xC:maj_8xF:maj<br>8xF:5_8xA#:maj_16xD#:maj_128x<pad>",
          "16xD:min7_16xG:min7_16xF:maj7_16xG:min7<br>16xD:min7_16xG:min7_16xF:maj7_16xG:min7<br>128x<pad>",
          "6xC:maj_12xD:min_6xE:min_12xF:maj<br>8xG:maj_6xC:maj_12xD:min_6xE:min<br>12xF:maj_8xG:maj_6xC:maj_12xD:min<br>6xE:min_12xF:maj_8xG:maj_6xC:maj<br>12xD:min_6xE:min_12xF:maj_8xG:maj<br>80x<pad>",
          "32xC:min_16xD#:maj_16xC:min7_64xF:min7<br>128x<pad>",
          "16xG:maj_16xD:min_16xG:maj_16xD:min<br>16xG:maj_48xD:min_128x<pad>",
          "16xF:maj_16xC:maj_16xA:min_16xG:maj<br>16xF:maj_16xC:maj_16xA:min_16xG:maj<br>16xF:maj_16xC:maj_16xA:min_16xG:maj<br>64x<pad>",
          "128xC:maj_128x<pad>",
          "16xC:maj_16xE:min_16xF:maj_16xG:maj<br>16xC:maj_16xE:min_16xF:maj_16xG:maj<br>128x<pad>",
          "62x<nc>_18xD:min_16xF:5_16xC:maj<br>144x<pad>",
          "16xC:min_16xC:dim_16xC:min_16xC:dim<br>16xC:min_16xC:dim_16xD#:maj_16xC:dim<br>2xA#:maj_30xC:min_2xA#:maj_10xC:min<br>4xD:min_16xD#:maj_2xA#:maj_30xC:min<br>2xA#:maj_10xC:min_4xD:min_8xD#:maj<br>8xA#:maj",
          "32xC:maj7_32xA:min_32xC:maj7_32xA:min<br>8xB:maj_8xE:maj_8xB:maj_8xE:maj<br>8xB:maj_8xE:maj_4xB:maj_4xE:maj<br>8xB:maj_64x<pad>",
          "16xF:maj_16xD:min_16xC:maj_16xG:maj<br>16xF:maj_16xD:min_16xC:maj_20xG:maj<br>16xF:maj_16xA:min_16xE:min_28xF:maj<br>16xA:min_16xE:min_16xF:maj",
          "8xA:hdim7_8xD:7_8xG:min7_8xF#:maj<br>4xF:min7_4xG:min7_8xG#:maj_12xD#:sus2<br>4xC:maj_192x<pad>",
          "16xC:maj_16xC:sus2_16xA:min_16xF:maj<br>16xC:maj_16xC:sus2_16xA:min_16xF:maj<br>16xC:maj_16xC:sus2_16xA:min_16xF:maj<br>16xC:maj_16xC:sus2_16xA:min_16xF:maj",
          "16xC:min_16xA#:maj_16xF:5_16xG#:maj<br>16xC:min_16xA#:maj_16xF:5_16xG#:maj<br>128x<pad>",
          "32xG#:maj_8xC:min_2xA#:maj_10xC:min<br>2xA#:maj_6xC:min_2xC:maj_2xC:min<br>32xG#:maj_8xC:min_2xA#:maj_10xC:min<br>2xA#:maj_6xC:min_2xC:maj_2xC:min<br>32xA#:maj_32xD:maj_32xF:maj_32xG:maj",
          "28xC:min_4xG:7_28xC:min7_4xG:maj<br>28xC:min_4xG:min7_16xC:min7_16xD#:maj7<br>16xA#:maj_12xG:min7_4xF:7_16xA#:7<br>12xG:min7_4xG:maj_28xC:min7_4xG:7<br>16xA#:maj_16xD:hdim7",
          "32xF:maj7_32xE:min_32xF:maj7_32xE:min<br>32xF:maj7_32xE:min_32xF:maj7_32xE:min",
          "16xC:min_16xD#:maj_32xG:min_16xC:min<br>16xD#:maj_32xG:min_128x<pad>",
          "8xC:maj_8xA#:maj_16xF:maj_8xC:maj<br>8xA#:maj_16xF:maj_8xC:maj_8xA#:maj<br>16xF:maj_8xC:maj_8xA#:maj_16xF:maj<br>128x<pad>",
          "12xC:min_4xD#:maj_12xA#:maj_4xD#:maj<br>12xG#:maj_4xD#:maj_12xG#:maj_4xD#:maj<br>12xC:min_4xD#:maj_12xA#:maj_4xD#:maj<br>12xG#:maj_4xD#:maj_12xG#:maj_4xD#:maj<br>12xC:min_4xD#:maj_12xA#:maj_4xD#:maj<br>12xG#:maj_4xD#:maj_12xG#:maj_4xD#:maj<br>12xC:min_4xD#:maj_12xA#:maj_4xD#:maj<br>12xG#:maj_4xD#:maj_12xG#:maj_4xD#:maj",
          "8xC:maj_8xG:maj_8xF:maj_8xG:maj<br>8xC:maj_8xG:maj_8xF:maj_8xG:maj<br>8xC:maj_8xG:maj_8xF:maj_8xG:maj<br>8xC:maj_8xG:maj_8xF:maj_8xG:maj<br>8xC:maj_8xG:maj_8xF:maj_8xG:maj<br>8xC:maj_8xG:maj_8xF:maj_8xG:maj<br>16xF:maj_16xG:maj_8xC:maj_8xG:maj<br>8xF:maj_8xG:maj",
          "16xF:sus2_16xC:sus2_48xF:sus2_16xC:sus2<br>16xF:sus2_16xC:min_16xG#:maj_16xG:min<br>8xG#:maj_8xD#:maj_16xC:min_16xG#:maj<br>16xG:min7_8xG#:maj_8xD#:maj_8xC:min<br>8xC:min7",
          "32xC:maj_16xE:min_12xF:maj7_12xC:sus2<br>2xG:maj_2xF:maj_2xG:maj_2xC:maj<br>176x<pad>",
          "16xD:min_16xA:min_32xG:maj_24xF:maj<br>8xG:maj_32xD:min_128x<pad>",
          "16xD:min_16xD:min7_16xG:maj_16xA:7<br>24xD:min_8xF:maj_16xG:maj_16xA:7<br>16xD:min_16xD:min7_16xG:maj_16xA:maj<br>16xD:min_16xD:min7_16xG:maj_16xA:maj",
          "128xC:maj_128x<pad>",
          "16xD:min_16xG:maj_16xC:maj_32xF:maj<br>16xG:maj_16xG#:maj_16xA#:maj_128x<pad>",
          "16xC:min_16xD#:maj_16xA#:maj_16xF:5<br>192x<pad>",
          "6xC:min_6xG#:maj_14xA#:maj_12xC:min<br>6xD#:maj_18xG#:maj_2xD#:maj_6xF:min7<br>6xF:5_14xA#:maj_12xC:min_6xD#:maj<br>18xG#:maj_2xD#:maj_128x<pad>",
          "16xA#:maj_16xD#:maj_8xC#:maj_8xD#:maj<br>8xG:7_8xG#:maj_16xG:maj_16xF:5<br>16xC:min_16xG:maj_16xC:min_112x<pad>",
          "32xC:maj_32xA:min_32xF:maj_32xG:maj<br>128x<pad>",
          "16xF:maj_16xG:maj_16xC:maj_16xA:min<br>16xF:maj_16xG:maj_32xE:7_128x<pad>",
          "6xF:maj_10xC:maj_6xA:min_10xG:maj<br>6xF:maj_10xC:maj_6xA:min_10xG:maj<br>6xF:maj_10xC:maj_6xA:min_10xG:maj<br>6xF:maj_10xC:maj_6xA:min_10xG:maj<br>128x<pad>",
          "14xF:maj7_18xE:min7_6xA:min_8xE:min7<br>10xC:maj_8xE:min7_14xF:maj7_18xE:min7<br>6xA:min_18xE:min7_8xC:maj_128x<pad>",
          "16xA:min7_16xA#:maj_16xF:maj_8xE:min7<br>8xC:maj7_16xA:min7_16xA#:maj_16xF:maj<br>16xG:maj_128x<pad>",
          "16x<nc>_32xG#:maj_16xC:min_16xA#:maj<br>32xG#:maj_16xC:min_16xA#:maj_32xG#:maj<br>16xC:min_16xA#:maj_32xG#:maj_16xC:min",
          "32xC:min_32xD#:maj_32xA#:maj_32xF:maj<br>128x<pad>",
          "48xC:min_8xF:maj_8xG:min_48xC:min<br>8xF:maj_8xG:min_128x<pad>",
          "18x<nc>_4xC:min_10xA#:maj_6xD#:maj<br>6xG#:maj_2xA#:maj_8xC:min_10xA#:maj<br>6xD#:maj_6xG#:maj_2xA#:maj_8xC:min<br>10xA#:maj_6xD#:maj_6xG#:maj_2xA#:maj<br>8xC:min_10xA#:maj_6xD#:maj_6xG#:maj<br>2xA#:maj_2xC:min_112x<pad>",
          "8xC:maj_16xA#:maj_8xF:maj_8xC:maj<br>16xA#:maj_8xF:maj_8xC:maj_16xA#:maj<br>8xF:maj_8xC:maj_16xA#:maj_8xF:maj<br>8xC:maj_8xG:min_8xA#:maj_8xF:maj<br>8xC:maj_8xG:min_8xA#:maj_8xF:maj<br>8xC:maj_8xG:min_8xA#:maj_8xF:maj<br>8xC:maj_8xG:min_8xA#:maj_8xF:maj",
          "24xC:maj_8xF:maj_8xD:min_16xG:maj<br>32xC:maj_16xF:maj_8xC:maj_8xG:maj<br>4xC:maj_4xG:maj_128x<pad>",
          "16xA:min_16xE:maj_16xA:min_16xF:maj<br>16xD:min_16xE:maj_32xA:min_128x<pad>",
          "8xC:min_8xG#:maj_8xD#:maj_8xA#:maj<br>8xC:min_8xG#:maj_8xD#:maj_8xA#:maj<br>8xC:min_8xG#:maj_8xD#:maj_8xA#:maj<br>8xC:min_8xG#:maj_8xD#:maj_8xA#:maj<br>128x<pad>",
          "16xC:min_16xG:min_32xG#:maj_16xC:min<br>16xG:min_32xG#:maj_16xC:min_16xG:min<br>32xG#:maj_16xC:min_16xG:min_32xG#:maj",
          "16xG#:maj_16xA#:maj_32xC:min_16xG#:maj<br>16xA#:maj_32xC:min_128x<pad>",
          "28xC:maj_4xC:sus2_6xF:maj_6xF:5<br>20xC:maj_14xE:maj_10xA:min_8xC:maj<br>16xF#:dim_14xD:min7_10xG:maj_22xC:maj<br>4xC:sus2_6xF:maj_6xF:5_18xC:maj<br>14xE:maj_10xA:min_8xC:maj_16xF#:dim<br>14xD:min7_2xG:maj",
          "16xC:min_8xF:maj_8xD#:maj_16xG#:maj<br>16xA#:maj_16xC:min_8xF:maj_8xD#:maj<br>16xG#:maj_16xA#:maj_128x<pad>",
          "12xC:min_12xF:5_8xC:min_12xD:hdim7<br>12xC:maj_8xC:min_20xG:maj_12xC:min<br>12xF:5_8xC:min_12xD:hdim7_12xC:maj<br>8xC:min_20xG:maj_88x<pad>",
          "32xC:maj_16xF:maj_8xC:maj_8xG:maj<br>32xC:maj_16xF:maj_8xC:maj_8xG:maj<br>128x<pad>",
          "16xF:maj_16xE:min_16xD:min_16xG:maj<br>192x<pad>",
          "16xF:maj_16xC:maj_16xG:maj_16xA:min<br>16xF:maj_16xC:maj_16xG:maj_16xA:min<br>16xF:maj_16xA:min_16xF:maj_32xG:maj<br>16xA:min_16xF:maj_16xG:maj",
          "24xC:min7_8xF:maj_16xC:min7_8xD#:maj<br>8xF:maj_48xC:min7_8xA#:maj_32xC:min7<br>8xF:maj_16xC:min7_8xD#:maj_8xF:maj<br>48xC:min7_8xA#:maj_8xC:min7",
          "8xC:maj7_8xD:maj_16xE:min_8xC:maj7<br>8xD:maj_16xE:min_8xC:min_8xB:dim<br>24xC:min_8xA#:maj_24xC:min_8xA#:maj<br>8xF:sus2_16xC:min_8xA#:maj_24xC:min<br>8xA#:maj_8xF:sus2_16xC:min_8xA#:maj<br>16xC:min",
          "58xC:min_6xF:5_58xC:min_6xF:5<br>128x<pad>",
          "4x<nc>_11xG:maj_32xD:min_32xC:maj7<br>4xF:maj7_28xF:maj_16xA:min_16xG:maj<br>1xD:min_112x<pad>",
          "24xC:min_8xC:dim_8xC:min_8xG#:maj<br>40xC:min_8xC:dim_8xC:min_8xG#:maj<br>16xC:min_128x<pad>",
          "32xG#:maj_16xC:sus2_16xG:min_64xA:dim<br>32xG#:maj_16xC:sus2_16xG:min_32xA:dim<br>32xG:7",
          "26xC:maj_6xG:maj_16xA:min_13xF:maj<br>29xC:maj_6xG:maj_16xA:min_13xF:maj<br>3xC:maj_128x<pad>",
          "8xF:maj_32xG:maj_24xF:maj_8xA:min<br>32xG:maj_8xF:maj_32xG:maj_24xF:maj<br>8xA:min_32xG:maj_32xA:min_16xG:maj",
          "32x<nc>_224xC:7",
          "32xC:maj_32xF:maj_16xD:min_16xF:maj<br>32xG:maj_32xA#:maj_32xF:maj_32xC:maj<br>16xF:maj_16x<pad>",
          "39xC:min_9xG:min7_55xC:min_9xG:min7<br>16xC:min_128x<pad>",
          "16xC:min7_16xF:maj_16xC:min7_16xF:maj<br>192x<pad>",
          "6xG#:maj_10xF:5_6xC:min_10xA#:maj<br>6xG#:maj_10xF:5_6xC:min_10xA#:maj<br>192x<pad>",
          "24xC:maj_8xG:7_24xG:maj_32xC:maj<br>16xF:maj_8xC:maj_8xG:7_40xC:maj<br>32xC#:maj_64x<pad>",
          "32xC:maj_32xF:maj_32xC:maj_32xF:maj<br>128x<pad>",
          "4xC:7_4xA#:maj7_4xC:min_52xC:maj<br>4xD:maj_4xC:maj_4xD:min_52xD:7<br>20xD#:maj7_8xA#:maj_32xF:maj_4xA#:maj<br>44xC:7_8xG#:maj_12xA#:maj",
          "16xC:maj_16xG:maj_16xC:7_12xF:maj<br>4xD:min7_16xG#:maj_16xC:maj_16xF:maj<br>8xC:sus2_8xG:maj_8xG:sus2_8xG:maj<br>16xC:maj_16xG:maj_16xC:7_12xF:maj<br>4xD:min7_16xG#:maj_16xC:maj_16xF:maj",
          "24x<nc>_48xG#:maj_48xA#:maj_48xG#:maj<br>24xA#:maj_64x<pad>",
          "8xC:maj_8xF:maj_8xD:min_8xG:maj<br>8xE:min_8xA:min_8xD:min_8xG:maj<br>8xE:min_8xF:maj_8xD:min_4xG:maj<br>4xG:7_8xE:min_8xA:min_8xD:min<br>4xG:maj_4xG:7_16xC:maj_16xG:7<br>16xF:maj_80x<pad>",
          "16xG:maj_16xC:maj_16xF:maj_16xC:maj<br>16xG:maj_16xC:maj_16xF:maj_16xC:maj<br>128x<pad>",
          "8xC:min_7xG:min_9xC:min_8xA#:maj<br>8xF:5_4xG:min_3xD#:maj7_9xG#:maj<br>8xG:min7_8xC:min_7xG:min_9xC:min<br>8xA#:maj_8xF:5_4xG:min_3xD#:maj7<br>9xG#:maj_8xG:min7_128x<pad>",
          "32xC:min_32xF:5_32xC:min_32xF:5<br>128x<pad>",
          "16xC:maj_16xD:min7_16xF:maj_32xC:maj<br>16xD:min7_16xF:maj_32xC:maj_16xD:min7<br>16xF:maj_32xC:maj_16xD:min7_16xF:maj<br>16xC:maj",
          "12xD:min7_4xC:maj_12xD:min7_36xG:maj<br>12xD:min7_4xC:maj_16xD:min7_32xA:maj<br>128x<pad>",
          "8xC:maj_8xC:7_8xA:min_8xF#:dim<br>32xG:maj_28xC:maj_4xC:7_28xA:min<br>4xG:maj_28xF:maj_4xF#:dim_24xG:maj<br>4xA:min_4xG:maj_28xC:maj_4xC:7<br>28xA:min_4xG:maj",
          "6xC:maj7_10xD:maj_6xB:min7_10xC:maj<br>6xC:maj7_10xD:maj_6xB:min7_10xC:maj<br>192x<pad>",
          "8xC:maj_8xA#:maj_8xD#:maj_8xF:maj<br>8xD#:maj_8xD:min_16xG:maj_8xG#:maj<br>8xD#:maj_8xA#:maj_8xC:min_8xF:maj<br>8xD#:maj_8xA:sus2_8xE:maj_128x<pad>",
          "16xC:min_16xD#:maj_16xG:min_32xC:min<br>16xD#:maj_16xG:min_32xC:min_16xG#:maj<br>16xD#:maj_16xG:maj_64x<pad>",
          "16xC:maj_8xD:maj_8xG:maj_16xC:maj<br>8xD:maj_8xG:maj_16xC:maj_8xD:maj<br>8xG:maj_16xC:maj_8xD:maj_8xG:maj<br>128x<pad>",
          "14xC:min_18xD#:maj_14xA#:maj_18xG#:maj<br>14xC:min_18xD#:maj_14xA#:maj_18xG#:maj<br>128x<pad>",
          "32xG:min7_32xG#:maj_32xG:min7_32xG#:maj<br>8xC:min_8xF:min7_8xA#:maj_8xG:maj<br>8xC:min_8xD#:maj_8xG#:maj_8xG:min7<br>8xC:min_8xF:min7_8xA#:maj_8xG:maj<br>8xC:min_8xD#:maj_12xA#:maj_4xG:maj",
          "16xC:maj_16xG:maj_16xA:min_16xF:maj<br>192x<pad>",
          "12xA:min_12xE:min_12xD:min_24xA:min<br>12xE:min_12xD:min_12xA:min_160x<pad>",
          "32xC:min_16xD#:maj_16xA#:maj_32xC:min<br>16xD#:maj_16xA#:maj_32xC:min_16xD#:maj<br>16xA#:maj_32xC:min_16xD#:maj_16xA#:maj",
          "48xC:maj_16xA:min_16xE:min7_8xG:maj<br>8xD:min7_16xC:maj_16xA:min_16xE:min7<br>112x<pad>",
          "16xC:maj_16xA:min_16xE:min_16xG:maj<br>16xC:maj_16xA:min_16xE:min_16xG:maj<br>16xC:maj_16xA:min_16xE:min_16xG:maj<br>16xC:maj_16xA:min_16xE:min_16xG:maj",
          "24xC:maj_24xG:maj_24xA:min_24xF:maj<br>24xC:maj_24xG:maj_24xA:min_48xG:maj<br>40x<pad>",
          "16x<nc>_14xC:maj_18xF:maj_14xC:maj<br>16xG:maj_16xA:min_18xF:maj_14xC:maj<br>18xG:maj_112x<pad>",
          "16xG#:maj_6xA#:maj_10xC:min_16xG#:maj<br>6xC:min_10xA#:maj_16xG#:maj_6xA#:maj<br>10xC:min_16xG#:maj_16xD#:sus2_16xG#:maj<br>6xA#:maj_10xC:min_16xG#:maj_6xC:min<br>10xA#:maj_16xG#:maj_6xA#:maj_10xC:min<br>16xG#:maj_16xD#:sus2",
          "24xF:maj_24xA:maj_24xC:maj_48xF:maj<br>24xA:maj_24xC:maj_24xF:maj_64x<pad>",
          "16xC:min_16xG#:maj_32xD#:maj_192x<pad>",
          "16xA:min7_16xD:maj_16xA:min7_16xB:min7<br>192x<pad>",
          "16xC:maj_8xA:min_8xE:maj_16xA:maj<br>8xG:maj_8xA:maj_16xD:min_16xA:maj<br>16xC:min_16xG:maj_16xF:maj_16xG:maj<br>16xF:maj_16xG:maj_64x<pad>",
          "16xC:min_16xA#:maj_16xG#:maj_16xC:min<br>16xF:5_16xD#:maj_16xC#:maj_16xC:maj<br>16xF:5_16xD#:maj_16xF:5_16xD#:maj<br>16xC#:maj_16xD#:maj_24xF:maj_8xF:5",
          "15xG#:maj_16xF:min7_3xC:min7_13xC:min<br>9xA#:maj_8xG:min7_15xG#:maj_16xF:min7<br>3xC:min7_13xC:min_9xA#:maj_8xG:min7<br>15xG#:maj_16xF:min7_3xC:min7_13xC:min<br>9xA#:maj_8xG:min7_15xG#:maj_16xF:min7<br>3xC:min7_13xC:min_9xA#:maj_8xG:min7",
          "32xF:maj_32xC:maj_32xF:maj_16xC:sus2<br>16xA:min_32xF:maj_32xC:maj_32xF:maj<br>16xC:sus2_16xA:min",
          "16xC:maj_16xG:min_16xA#:maj_16xF:maj<br>16xC:maj_16xG:min_16xA#:maj_16xF:maj<br>16xC:maj_16xG:min_16xA#:maj_16xF:maj<br>16xC:maj_16xG:min_16xA#:maj_16xF:maj",
          "16x<nc>_16xG#:maj_16xA#:maj_16xG:min<br>16xC:min_16xG#:maj_16xA#:maj_16xG:min<br>16xC:min_16xG#:maj_16xA#:maj_16xG:min<br>16xC:min_16xG#:maj_16xF:5_16xG:maj",
          "12xC:sus2_20xD#:sus2_12xC:sus2_20xD#:sus2<br>12xC:sus2_20xD#:sus2_12xC:sus2_20xD#:sus2<br>128x<pad>",
          "32xC:maj_32xF:maj_32xA:min_32xG:maj<br>128x<pad>",
          "16x<nc>_16xC:maj_16xF:maj_16xC:maj<br>16xF:maj_16xC:maj_16xF:maj_16xC:maj<br>12xF:maj_4xG:maj_112x<pad>",
          "32xC:maj_16xF:maj_16xG:maj_32xC:maj<br>16xF:maj_16xG:maj_128x<pad>",
          "7xC:maj_9xF:maj_7xG:maj_9xA:min<br>7xC:maj_9xF:maj_7xG:maj_9xA:min<br>7xC:maj_9xF:maj_7xG:maj_9xA:min<br>7xC:maj_9xF:maj_7xG:maj_9xA:min<br>7xC:maj_9xF:maj_7xG:maj_9xA:min<br>7xC:maj_9xF:maj_7xG:maj_9xA:min<br>7xC:maj_9xF:maj_7xG:maj_9xA:min<br>7xC:maj_9xF:maj_7xG:maj_9xA:min",
          "16xC:min_16xG#:maj_16xD#:maj_8xD#:sus2<br>8xA#:maj_16xC:min_16xG#:maj_16xG:min<br>16xA#:sus2_16xF:maj_16xG#:maj_8xD#:maj6<br>8xA#:maj_32xC:min_48x<pad>",
          "8xF:5_16xD#:maj_8xA#:maj_8xF:5<br>16xD#:maj_8xA#:maj_8xF:5_16xD#:maj<br>8xA#:maj_8xF:5_16xD#:maj_8xA#:maj<br>8xF:5_16xD#:maj_8xA#:maj_8xF:5<br>16xD#:maj_8xA#:maj_8xF:5_16xD#:maj<br>8xA#:maj_8xF:5_16xD#:maj_8xA#:maj",
          "16xC:maj_16xF:maj_32xG:maj_16xC:maj<br>16xF:maj_14xA#:maj_2xF:maj_144x<pad>",
          "28xC:min_36xF:maj_28xC:min_36xF:maj<br>28xC:min_36xF:maj_32xC:min_16xG#:7<br>16xG:7",
          "8x<nc>_24xC:min_32xA#:maj_32xG#:maj<br>16xD#:maj_24xF:maj_24xC:min_32xA#:maj<br>32xG#:maj_32xD#:maj",
          "8xG#:maj_8xG:min7_8xC:min_8xD#:maj<br>8xG#:maj_8xG:min7_8xC:min_8xD#:maj<br>8xG#:maj_8xG:min7_8xC:min_8xD#:maj<br>8xG#:maj_8xA#:maj_144x<pad>",
          "16xC:min_16xD#:maj_16xF:5_8xG#:maj<br>8xA#:maj_16xC:min_16xD#:maj_16xF:5<br>8xG#:maj_8xA#:maj_128x<pad>",
          "7xC:maj_1xA:min7_8xG:maj_8xE:sus2<br>8xF:sus2_7xC:maj_1xA:min7_8xG:maj<br>8xE:sus2_8xF:sus2_7xC:maj_1xA:min7<br>8xG:maj_8xE:sus2_8xF:sus2_7xC:maj<br>1xA:min7_8xG:maj_16xC:maj_128x<pad>",
          "12xC:min_4xA#:maj_16xD#:maj_12xG:min<br>20xF:maj_12xC:min_4xA#:maj_16xD#:maj<br>12xG:min_20xF:maj_128x<pad>",
          "64xG:min_64xF:min_64xG:min_48xF:min<br>8xD#:sus2_8xF:min",
          "4xC:min_4xA#:maj_4xG#:maj_4xG:min<br>4xG#:maj_4xC:min_4xA#:maj_4xG:min<br>4xC:min_4xA#:maj_4xG#:maj_4xG:min<br>4xG#:maj_4xC:min_4xA#:maj_4xG:min<br>8xC:min_8xA#:maj_8xG#:maj_8xG:min<br>8xG#:maj_8xG:min_24xC:min_8xA#:maj<br>8xG#:maj_8xG:min_8xG#:maj_8xG:min<br>16xC:min_64x<pad>",
          "16x<nc>_16xC:maj_16xG:maj_14xA:min<br>8xF:maj_10xG:maj_16xC:maj_16xG:maj<br>14xA:min_8xF:maj_10xG:maj_112x<pad>",
          "32xC:maj_16xA:min_16xG:maj_32xF:maj<br>16xA:min_16xG:maj_32xF:maj_16xA:min<br>16xG:maj_32xF:maj_16xA:min_16xG:maj",
          "32xC:maj_224x<pad>",
          "128xC:min_14xG:min_2xC:min_14xG:min<br>2xC:min_14xG:min_2xC:min_14xG:min<br>2xC:min_14xG:min_2xC:min_14xG:min<br>2xC:min_14xG:min_2xC:min_14xG:min<br>2xC:min",
          "32xC:maj_32xF:maj_32xC:maj_32xF:maj<br>16xC:maj_16xG:7_16xC:maj_16xF:maj<br>64x<pad>",
          "32xC:min7_32xD#:maj_32xC:min_32xC:min7<br>32xD#:maj_32xC:min_64x<pad>",
          "16xC:min_8xA:hdim7_24xC:min_8xD#:7<br>8xC:min_192x<pad>",
          "32xF:maj_24xE:min_8xA:7_16xD:min<br>16xG:7_16xC:maj_16xA:7_32xF:maj<br>24xE:min_8xA:7_16xD:min_16xD:dim<br>32xC:maj",
          "32xG#:maj_32xG:min_16xG#:maj_16xG:maj<br>16xC:min_16xA#:maj_32xG#:maj_32xG:min<br>16xG#:maj_16xA#:maj_32xD#:maj",
          "8xD:min7_8xG:maj_8xC:maj7_8xA:min<br>8xD:min7_8xG:maj_8xC:maj7_8xA:min<br>8xD:min7_8xG:maj_8xC:maj7_8xA:min<br>8xD:min7_8xG:maj_8xC:maj7_8xA:min<br>128x<pad>",
          "10xG#:maj_4xC:min7_12xF:7_2xF#:maj<br>2xG:maj_10xG#:maj_6xG#:7_8xC#:maj<br>10xG:7_192x<pad>",
          "16x<nc>_112xC:min_16xA#:maj_112xC:min",
          "8xC:maj_8xG#:maj_8xF:5_16xC:maj<br>8xD#:maj_8xG#:maj_8xG:min_16xC:maj<br>176x<pad>",
          "6xC:maj_6xF#:dim_6xC:maj_6xF#:dim<br>6xC:maj_6xF#:dim_6xC:maj_6xF#:dim<br>6xC:maj_6xF#:dim_6xC:maj_6xF#:dim<br>6xC:maj_6xF#:dim_6xC:maj_6xF#:dim<br>160x<pad>",
          "8xC:maj_8xE:min_8xA:min_8xC:maj<br>8xF#:dim_8xF:maj_24xC:maj_8xE:min<br>8xA:min_8xC:maj_8xF#:dim_8xF:maj<br>16xC:maj_128x<pad>",
          "16xF:maj_16xG:maj_24xC:maj_8xG:maj<br>16xA#:maj_16xA:min_16xG:maj_16xF:maj<br>12xC:maj_4xF:sus2_112x<pad>",
          "6xC:min_8xF#:maj_2xD#:5_6xC:min<br>8xF#:maj_2xD#:5_6xC:min_8xF#:maj<br>2xD#:5_6xC:min_8xF#:maj_2xD#:5<br>192x<pad>",
          "24xC:min_24xG#:maj_24xC:min_24xG:7<br>24xG#:maj_24xG:maj_24xG#:maj_24xG:maj<br>64x<pad>",
          "16xC:min7_16xA#:maj_16xG:min7_16xC:min<br>16xC:min7_16xA#:maj_16xG:min7_16xC:min<br>128x<pad>",
          "16xC:min_32xG:min7_16xC:maj_16xC:min<br>32xG:min7_16xC:maj_128x<pad>",
          "28xC:min_4xA#:maj_28xG#:maj_4xA#:maj<br>28xC:min_4xA#:maj_24xG#:maj_8xA#:7<br>128x<pad>",
          "8xC:maj_8xG:maj_8xA:min_8xC:maj<br>8xF:maj_8xF#:dim_8xC:sus2_8xG:maj<br>8xC:maj_8xG:min_8xF:maj_8xF:5<br>8xC:maj_4xF#:dim_4xG:maj_3xG#:maj<br>3xA#:maj_10xC:maj_128x<pad>",
          "48xC:min_48xC:maj_48xC:min_48xG:min<br>48xA#:maj_16xF:5",
          "16xF:5_16xG#:maj_16xC:min_16xA#:maj<br>16xF:5_16xG#:maj_16xC:min_16xA#:maj<br>128x<pad>",
          "32xC:min_16xD#:maj_16xA#:maj_32xC:min<br>16xD#:maj_16xA#:maj_128x<pad>",
          "8xE:min_8xA:min7_8xD:min_8xG:maj<br>16xF:maj_8xE:min_8xA:min7_8xD:min<br>8xE:min_8xA#:maj_8xC:maj_16xF:maj<br>8xE:min_8xA:min7_8xD:min_8xE:min<br>8xF:maj_8xG:maj_16xF:maj_16xE:min<br>64x<pad>",
          "4x<nc>_32xC:min_16xG:min7_48xC:min<br>16xG:min7_12xC:min_128x<pad>",
          "16xA:min_16xC:maj_32xE:min_16xA:min<br>16xC:maj_32xE:min_128x<pad>",
          "16xC:maj_16xG:maj_16xD:min_8xA:min<br>4xF:maj_4xG:maj_16xC:maj_16xG:maj<br>16xD:min_8xA:min_4xF:maj_4xG:maj<br>16xF:maj_16xG:maj_8xA:min_4xF:maj<br>4xG:maj_16xA:min_16xG:maj_16xE:maj<br>32x<pad>",
          "16xC:min_16xA#:maj_16xG#:maj_12xG:maj<br>4xG:7_16xC:min_16xA#:maj_8xG#:maj<br>8xG:maj_8xC:min_8xA#:maj_128x<pad>",
          "16xC:min_16xD#:maj_32xA#:maj_16xC:min<br>16xD#:maj_32xA#:maj_48xC:min_16xG:maj<br>16xC:min_16xD#:maj_32xA#:maj",
          "16xF:maj_12xC:maj_4xA#:maj_16xF:maj<br>8xC:maj_8xA#:maj_16xF:maj_8xC:maj<br>8xA#:maj_16xG:maj_12xC:maj_4xA#:maj<br>128x<pad>",
          "7xD:min7_8xG:7_16xC:maj7_8xD:min7<br>8xG:7_16xC:maj7_8xD:min7_8xG:7<br>16xC:maj7_8xD:min7_8xG:7_17xC:maj7<br>128x<pad>",
          "8xC:min_8xC#:maj_8xD:min_8xD#:5<br>8xC:min_8xD#:5_8xD:min_8xC#:maj<br>192x<pad>",
          "16x<nc>_16xC:maj_16xD:min_16xC:maj<br>16xE:min_16xA:min_16xD:7_16xG:maj<br>16xB:min_16xF:maj_16xE:7_16xA:min<br>16xD:min_8xF:maj_24xG:maj_16x<pad>",
          "8xC:maj_8xG:maj_8xC:maj_8xG:maj<br>8xC:maj_8xG:maj_8xF:maj_8xG:maj<br>8xF:maj_8xC:maj_8xF:maj_8xC:maj<br>8xF:maj_4xA#:maj_4xF:maj_16xC:maj<br>128x<pad>",
          "24xD#:maj_24xG#:min_24xD#:maj_24xG#:min<br>24xD#:maj_24xG#:min_24xA#:maj_24xG:maj<br>64x<pad>",
          "16xF:maj_16xD:min_24xA:min_8xG:maj<br>16xF:maj_16xD:min_24xA:min_8xG:maj<br>128x<pad>",
          "16xD:min_16xG:min_16xC#:maj_16xC:min7<br>16xD:min_16xG:min_16xC#:maj_16xC:min7<br>128x<pad>",
          "6xA:min_6xC:maj_26xF:maj_6xA:min<br>20xG:maj_6xA:min_6xC:maj_26xF:maj<br>6xA:min_20xG:maj_128x<pad>",
          "16xG#:maj_16xD#:maj6_16xC:min_16xC:min7<br>16xG#:maj_16xD#:maj6_16xC:min_16xG:min7<br>128x<pad>",
          "16x<nc>_32xC:min_32xA#:maj_32xC:min<br>32xA#:maj_16xC:min_96x<pad>",
          "128xC:maj_128x<pad>",
          "16xF:maj_16xC:maj_16xG:maj_8xA:min<br>8xG:maj_16xF:maj_16xC:maj_16xG:maj<br>16xE:7_16xF:maj_16xC:maj_16xG:maj<br>8xA:min_8xG:maj_16xF:maj_16xC:maj<br>16xD:min_16xE:min",
          "32xC:min_14xF:5_18xA#:maj_32xC:min<br>14xF:5_18xA#:maj_14xG#:maj_18xF:5<br>16xC:min_80x<pad>",
          "16xC:min_16xD#:maj_16xA#:maj_16xF:maj<br>16xC:min_16xD#:maj_16xA#:maj_16xF:maj<br>128x<pad>",
          "16xF:maj7_16xE:min7_16xF:maj7_16xE:min7<br>16xF:maj7_16xE:min7_16xF:maj7_16xC:maj<br>16xF:maj7_16xG:maj_16xE:min7_16xF:maj<br>16xF:maj7_16xG:maj_16xE:min7_16xF:maj",
          "16x<nc>_16xC:min_16xD#:maj_16xC:min<br>16xG:min_16xC:min_16xG#:maj_8xA#:maj<br>8xG#:maj_8xA#:maj_8xG#:maj_8xG:7<br>32xC:min_8xG#:maj_8xF:maj_8xB:maj<br>8xG:maj_24xC:min_16x<pad>",
          "8xC:min7_6xG:min7_10xC:min7_6xG:min7<br>10xC:min7_6xG:min7_8xF:min7_10xG:min7<br>192x<pad>",
          "4xC:maj_3xG:maj_9xC:maj_4xD:min<br>3xE:min_9xG:maj_7xE:maj_7xA:min<br>2xE:min_8xF:maj_8xD:hdim7_4xC:maj<br>3xG:maj_9xC:maj_4xF:maj_3xC:maj<br>9xG:maj_7xE:maj_7xA:min_2xE:min<br>8xF:maj_8xG:maj_16xC:maj_112x<pad>",
          "16xC:min_8xA#:maj_16xG#:maj_8xD#:maj<br>8xF:5_24xC:min_8xG#:maj_8xG:maj<br>16xF:5_8xG:maj_8xC:sus2_128x<pad>",
          "16xC:maj_16xF:maj_16xC:maj_16xF:5<br>16xC:maj_16xE:min_16xF:maj_16xF:5<br>16xC:sus2_16xC:maj_16xF:min7_8xA#:maj<br>8xB:dim_16xC:maj_16xE:min_16xF:min7<br>16xG:min7",
          "8xC:min_8xC#:maj_16xG#:maj_8xC:min<br>8xC#:maj_16xG#:maj_192x<pad>",
          "16xG:maj_16xF:sus2_16xD:min_16xC:maj<br>16xG:maj_16xF:sus2_16xD:min_144x<pad>",
          "24xC:maj_8xD:min_24xA:min_8xF:maj<br>24xC:maj_8xD:min_24xA:min_8xF:maj<br>128x<pad>",
          "16xC:min_16xG#:maj_32xG:min_16xF:5<br>16xG#:maj_32xC:sus2_16xC:maj_16xG#:maj<br>32xG:min_16xF:5_16xG#:maj_32xC:sus2",
          "16xA#:maj_16xG:maj_16xF:maj_16xC:maj<br>16xA#:maj_16xG:maj_16xF:maj_16xC:maj<br>128x<pad>",
          "32xC:min_32xG:min_32xA#:maj_32xF:maj<br>32xC:min_32xG:min_32xA#:maj_32xF:maj",
          "16xE:min_16xF:maj_16xC:maj_32xA:min<br>8xF:maj_8xC:maj_8xD:min_8xG:maj<br>16xF:maj_128x<pad>",
          "8xC:min_8xD#:maj_16xG#:maj_8xC:min<br>8xD#:maj_16xG#:maj_8xC:min_8xD#:maj<br>16xG#:maj_8xC:min_8xD#:maj_16xG#:maj<br>128x<pad>",
          "2xC#:maj_30xC:min_2xA#:5_30xC:min<br>2xC#:maj_30xC:min_2xA#:5_14xC:min<br>4xC#:maj_4xD#:maj_8xF:5_128x<pad>",
          "8xC:min7_8xC:min_8xF:min7_8xA#:maj<br>8xC:min7_8xC:min_8xF:min7_8xA#:maj<br>8xC:min7_8xC:min_8xF:min7_8xA#:maj<br>32xC:min_128x<pad>",
          "64xC:maj_32xF:maj_32xC:maj_16xG:maj<br>16xF:maj_32xC:maj_64x<pad>",
          "6xC:maj_10xA:min7_6xG:maj_10xC:min<br>6xC:maj_10xA:min7_6xG:maj_10xC:min<br>6xC:maj_10xA:min7_6xG:maj_10xC:min<br>6xC:maj_10xA:min7_6xG:maj_10xC:min<br>128x<pad>",
          "32xA#:maj_14xD#:maj7_8xD#:maj_10xD#:maj7<br>14xG#:maj_8xG:min_10xF:5_14xG#:maj<br>8xG:min_10xF:5_128x<pad>",
          "8xG#:maj_8xA#:maj_8xC:min_8xA#:maj<br>8xF:5_8xG:min_8xG#:maj_8xA#:maj<br>8xG#:maj_8xA#:maj_8xC:min_8xA#:maj<br>8xF:5_8xG:min_8xG#:maj_8xA#:maj<br>32xC:min_96x<pad>",
          "28xC:min_28xG#:maj_28xA#:maj_28xF:5<br>28xC:min_28xG#:maj_28xA#:maj_28xF:5<br>32x<pad>",
          "16xC:maj_8xA#:maj_8xF:maj_16xC:min<br>8xA#:maj_8xF:maj_16xC:maj_8xA#:maj<br>8xF:maj_32xC:maj_128x<pad>",
          "16xC:7_16xD#:7_16xD#:maj6_32xC:7<br>16xD#:7_16xD#:maj6_16xC:7_128x<pad>",
          "32xC:maj_32xG:maj_32xF:maj_32xC:maj<br>32xE:min_32xF:maj_32xG:maj_32x<pad>",
          "16xC:min_16xG#:maj_16xD#:maj_16xF:5<br>16xC:min_16xG#:maj_16xD#:maj_16xD:dim<br>128x<pad>",
          "18xC:min_4xG#:maj_4xC:min_4xG#:maj<br>4xC:min_6xF:sus2_8xA#:maj_2xA#:sus2<br>4xD#:sus2_2xA#:maj_2xD#:sus2_2xA#:maj<br>2xA#:sus2_2xA#:maj_18xC:min_6xG#:maj<br>2xC:min_4xG#:maj_10xD#:sus2_6xA#:maj<br>8xA#:sus2_2xA#:maj_2xA#:sus2_2xA#:maj<br>2xA#:sus2_2xA#:maj_18xC:min_14xG#:maj<br>8xD#:sus2_8xA#:maj_8xA#:sus2_8xA#:maj<br>64x<pad>",
          "16xF:maj_16xE:min_16xG:maj_16xD:min<br>16xF:maj_16xE:min_16xG:maj_16xD:min<br>128x<pad>",
          "16xG:maj_16xC:min_16xG:min_8xG#:maj<br>8xA#:maj_16xD#:maj_16xG:maj_8xC:min<br>8xD#:maj_8xA:dim_8xD:min_16xG:maj<br>112x<pad>",
          "32xF:min7_32xC:min_32xF:min7_32xC:min7<br>32xA#:min7_16xF:5_16xG:min7_16xG#:maj<br>16xA#:7_16xC:sus2_16xG:7",
          "8xC:maj_8xA#:maj_8xC:maj_8xA#:maj<br>8xC:maj_8xA#:maj_8xF:maj_8xA#:sus2<br>8xC:maj_8xA#:maj_8xC:maj_8xA#:maj<br>8xC:maj_8xA#:maj_8xF:maj_8xG:maj<br>6xF:sus2_8xC:maj_18xD:min_96x<pad>",
          "8xC:min_8xA#:maj_8xG#:maj_8xD#:maj<br>16xF:5_8xC:sus2_8xG:maj_8xC:min<br>8xA#:maj_8xG#:maj_8xD#:maj_16xF:5<br>8xC:sus2_8xG:maj_128x<pad>",
          "16x<nc>_16xG#:maj_14xA#:maj_34xC:min<br>16xG#:maj_14xA#:maj_34xC:min_112x<pad>",
          "8xA:min_8xD:7_8xD:min_8xG:7<br>16xA:min7_8xA:7_8xA:maj_8xA:min<br>8xD:7_8xD:min_8xG:7_16xA:min7<br>8xG:min_8xC:7_16xF:maj7_16xF:min<br>16xE:min7_16xA:7_16xD:min7_16xG:7<br>16xC:maj7_16xA:7",
          "16xA:min_16xC:maj_16xA:min_8xC:maj<br>8xG:maj_16xA:min_16xC:maj_16xA:min<br>144x<pad>",
          "96xC:min_16xG#:maj_16xA#:maj_128x<pad>",
          "28xG#:maj_4xG:min_32xC:min_28xG#:maj<br>4xG:min_32xC:min_128x<pad>",
          "32xC:maj_32xG:min_32xF:maj_32xC:maj<br>128x<pad>",
          "64xC:maj_32xF:maj_16xC:sus2_16xG:maj<br>128x<pad>",
          "8xC:min7_8xC:min_8xF:min7_8xA#:maj<br>8xC:min7_8xC:min_8xF:min7_8xA#:maj<br>8xC:min7_8xC:min_8xF:min7_8xA#:maj<br>32xC:min_128x<pad>",
          "16xC:min_16xF:5_16xA#:maj_32xC:min<br>16xF:5_16xA#:maj_16xC:min_128x<pad>",
          "16xD:min_16xF:maj_16xD:min_16xG:maj<br>192x<pad>",
          "8xC:min_8xD#:maj_8xF:maj_8xG#:maj<br>8xC:min_8xD#:maj_8xF:maj_8xG#:maj<br>192x<pad>",
          "8xF:maj_8xC:maj_8xD:min_8xC:maj<br>16xC:sus2_8xA:min7_8xC:maj_8xD:maj<br>8xD:min_16xG:maj_160x<pad>",
          "32xC:maj7_16xF:maj7_12xE:maj_4xE:7<br>32xC:maj7_16xF:maj7_12xE:maj_4xE:7<br>128x<pad>",
          "16xC:min_16xD#:maj_24xA#:maj_8xG:maj<br>16xC:min_16xD#:maj_24xA#:maj_8xG:maj<br>16xC:min_16xD#:maj_24xA#:maj_8xG:maj<br>16xC:min_16xD#:maj_24xA#:maj_8xG:maj",
          "16xG:maj_8xA:min_8xC:maj_16xF:maj<br>16xC:maj_32xF:maj_32xG:maj_128x<pad>",
          "16xC:maj_16xG:min_16xF:maj_16xF:5<br>16xC:maj_16xG:min_16xF:maj_16xF:5<br>128x<pad>",
          "6xG:7_10xD#:maj7_6xA#:maj_10xC:maj<br>6xG:7_10xD#:maj7_6xA#:maj_4xC:maj<br>2xF:sus2_4xC:maj_6xG:7_10xD#:maj7<br>6xA#:maj_10xC:maj_6xG:7_10xD#:maj7<br>6xA#:maj_4xC:maj_2xF:sus2_4xC:maj<br>128x<pad>",
          "8xC:min_8xD#:maj_8xA#:maj_8xG#:maj<br>8xC:min_8xD#:maj_8xA#:maj_8xG#:maj<br>8xC:min_8xD#:maj_8xA#:maj_8xG#:maj<br>8xC:min_8xD#:maj_8xA#:maj_8xG#:maj<br>8xC:min_8xD#:maj_8xA#:maj_8xG#:maj<br>8xC:min_8xD#:maj_8xA#:maj_8xG#:maj<br>8xC:min_8xD#:maj_8xA#:maj_8xG#:maj<br>32x<pad>",
          "16xF:maj7_16xF:5_32xC:maj9_16xF:maj7<br>16xF:5_16xC:maj9_144x<pad>",
          "30xC:maj_34xG:maj_16xD:min_16xC:maj7<br>16xF:maj_16xG:maj_128x<pad>",
          "16xC:min7_16xF:min7_16xC:min7_32xG:min7<br>176x<pad>",
          "12xC:min_4xG:min_10xF#:maj_2xC:min<br>2xD#:maj_2xD:min_12xC:min_4xB:min<br>16xD:min_12xC:min_4xG:min_10xF#:maj<br>2xC:min_2xD#:maj_2xD:min_12xC:min<br>4xB:min_16xD:min_128x<pad>",
          "6xC:min_10xG#:maj_6xC:min_10xG#:maj<br>6xC:min_10xG#:maj_6xC:min_10xG#:maj<br>6xC:min_10xG#:maj_6xC:min_10xG#:maj<br>6xC:min_10xG#:maj_16xC:min_128x<pad>",
          "24xC:min_12xA#:maj_12xG:min_12xG#:maj<br>12xF:5_12xG:maj_12xC:min_12xF:5<br>12xD:dim_24xC:min_24xG#:maj_12xB:min7<br>12xC:sus2_64x<pad>",
          "96xF:maj_64xC:maj_96xF:maj",
          "16xC:min_16xG:min_16xD:min_8xG#:maj<br>8xG:maj_16xC:min_16xG:min_16xD:min7<br>8xG#:maj_8xG:maj_128x<pad>",
          "60xC:maj_4xC:maj7_32xA:min_96xC:maj<br>32xA:min_16xA#:sus2_16x<pad>",
          "16xC:min_8xD#:maj_8xC:min_8xA#:maj<br>32xD#:maj_16xC:min_8xD#:maj_8xC:min<br>8xA#:maj_32xD#:maj_112x<pad>",
          "16xC:maj_16xG:maj_14xA:min_18xF:maj<br>16xC:maj_16xG:maj_14xA:min_18xF:maj<br>128x<pad>",
          "24xC:min_24xD#:maj_24xG#:maj_24xF:5<br>22xC:min_26xD#:maj_24xG#:maj_24xF:5<br>64x<pad>",
          "16xD:min_16xC:maj_8xG:maj_8xG:sus2<br>8xF:maj_8xE:min7_16xD:min_16xF:maj<br>16xG:sus2_144x<pad>",
          "6xC:min7_10xD#:maj_6xF:maj_42xC:min7<br>6xD#:maj_10xD:min_6xF:maj_48xC:min7<br>10xD#:maj_6xF:maj_42xC:min7_6xD#:maj<br>10xD:min_6xF:maj_42xG#:maj",
          "64xC:maj_64xF:maj_32xA:min_32xG:maj<br>64x<pad>",
          "16xF:maj_16xC:maj_16xF:maj_16xC:maj<br>16xF:maj_8xC:maj_8xG:maj_16xF:maj<br>16xC:maj_16xF:maj_112x<pad>",
          "16xF:5_16xC:min_16xA#:maj_16xF:maj<br>192x<pad>",
          "16xC:min_16xF:5_16xG#:maj_16xA#:maj<br>16xC:min_16xF:5_16xG#:maj_16xA#:maj<br>128x<pad>",
          "16xA#:maj_16xF:maj_32xC:maj_16xA#:maj<br>16xF:maj_32xC:maj_16xA#:maj_16xF:maj<br>32xC:maj_16xA#:maj_16xF:maj_32x<pad>",
          "16xF:maj_16xE:min_16xD#:maj7_16xD:maj<br>16xF:maj_16xE:min_16xD#:maj7_16xB:maj<br>128x<pad>",
          "24xC:maj_24xE:min7_24xF:maj_24xC:maj<br>24xA:min7_24xE:min7_24xF:maj_24xC:maj<br>24xC:maj7_24xE:min7_16xF:maj7",
          "26xC:min_6xA#:maj_26xG#:maj_6xA#:maj<br>26xC:min_6xA#:maj_26xG#:maj_6xA#:maj<br>26xC:min_6xA#:maj_26xG#:maj_6xA#:maj<br>26xC:min_6xA#:maj_26xG#:maj_6xA#:maj",
          "24xC:maj7_24xA:maj_12xF:maj7_12xF:5<br>12xC:maj_12xG:maj_160x<pad>",
          "16xC:maj_16xG:maj_16xA:min_16xG:maj<br>16xC:maj_16xG:maj_16xA:min_16xF:maj<br>128x<pad>",
          "24xC:min_6xD:hdim7_10xC:min_2xF:sus2<br>14xC:min_6xD#:maj_2xD#:5_16xF:5<br>16xD:hdim7_24xC:min_4xC:sus2_4xG:maj<br>16xC:min_112x<pad>",
          "16xC:maj_16xD#:maj_16xC:maj_16xG#:maj<br>16xC:maj_16xD#:maj_16xC:maj_16xG#:maj<br>128x<pad>",
          "16xG:maj_16xF:maj_16xG:maj_16xF:maj<br>16xC:maj_16xA#:maj_16xG:maj_16xF:maj<br>16xC:maj_16xA#:maj_96x<pad>",
          "14xC:min_16xA#:maj_34xG#:maj_14xA#:maj<br>16xG#:maj_48xC:min_16xA#:maj_34xG#:maj<br>14xA#:maj_16xG#:maj_34xC:min",
          "16xD:min_8xG:min_8xE:maj_32xC:min7<br>16xD:min_4xG:min7_4xG:min_8xE:7<br>32xC:min7_128x<pad>",
          "4x<nc>_24xC:maj_8xF:maj_24xC:maj<br>8xF:maj_24xC:maj_8xF:maj_24xC:maj<br>4xF:maj_128x<pad>",
          "24xC:min_8xG:min7_32xC:min_192x<pad>",
          "8xC:maj_8xA:min_16xE:min_16xD:min7<br>20xG:7_8xC:maj_8xA:min_16xE:min<br>8xD:min7_16xF:5_32xC:maj_50xG:7<br>16xF:maj_18xC:maj_16x<pad>",
          "8xC:maj_8xC:min_8xD:min9_8xC:sus2<br>8xC:maj_8xC:min_8xD:min9_4xC:sus2<br>4xG:maj_16xF:maj9_16xC:maj_8xD:min9<br>8xD:min7_8xD:min9_8xD:min7_16xC:sus2<br>112x<pad>",
          "32xC:min_16xF:5_16xD#:maj_32xC:min<br>16xF:5_16xD#:maj_32xC:min_16xF:5<br>16xD#:maj_32xC:min_16xF:5_16xD#:maj",
          "8xC:min_8xD#:maj_8xA#:maj_16xC:min<br>8xD#:maj_8xC:sus2_8xG:maj_8xC:min<br>8xD#:maj_8xA#:maj_16xC:min_8xA#:maj<br>24xC:min_8xD#:maj_8xA#:maj_16xC:min<br>8xD#:maj_8xC:sus2_8xG:maj_8xC:min<br>8xD#:maj_8xA#:maj_16xC:min_8xA#:maj<br>16xC:min",
          "16xC:maj_16xD:min7_16xA:min7_16xF:maj<br>16xC:maj_16xD:min_16xA:min_16xF:maj<br>16xC:maj_16xD:min_16xA:min_16xF:maj<br>16xC:maj_16xD:min_16xA:min_16xF:maj",
          "8xC:dim_8xF:min7_16xC:min_8xC:dim<br>8xF:min7_16xC:min_8xC:dim_8xF:min7<br>16xC:min_8xC:dim_8xF:min7_16xC:min<br>8xC:dim_8xF:min7_16xC:min_8xC:dim<br>8xF:min7_16xC:min_8xC:dim_8xF:min7<br>48xC:min",
          "32xC:min_32xC:min7_56xC:min_8xA#:maj<br>32xC:min_32xC:min7_56xC:min_8xA#:maj",
          "16xA:min_16xC:maj_8xE:min_8xE:min7<br>32xA:min_16xC:maj_8xE:min_8xE:min7<br>32xA:min_16xC:maj_8xE:min_8xE:min7<br>16xA:min_64x<pad>",
          "16xC:maj_16xF:maj_16xA:min7_16xF:5<br>16xG:maj_10xG:min_2xF#:maj_2xF:maj<br>2xE:min_14xD:min7_2xF:maj7_16xF:min7<br>16xC:maj_16xF:maj_16xA:min7_16xF:5<br>16xG:maj_10xG:min_2xF#:maj_2xF:maj<br>2xE:min_14xD:min7_2xF:maj7_16xF:min7",
          "16xF:5_16xG#:maj_32xC:min_16xD#:maj<br>16xF:5_16xC:min_16xG:min_128x<pad>",
          "16xC:min_16xC:min7_32xC:sus2_16xC:min<br>16xD#:maj_32xG:min_16xG#:maj_16xF:5<br>32xC:min_16xC#:maj_16xA#:5_32xF:5",
          "16xC:maj_8xF:maj_8xG:maj_16xC:maj<br>8xF:maj_8xG:maj_16xC:maj_8xF:maj<br>8xG:maj_16xC:maj_144x<pad>",
          "16xC:min_16xA#:maj_32xG#:maj_48xF:maj<br>144x<pad>",
          "8x<nc>_8xC:maj_4xF:maj_4xG:maj<br>8xC:maj_4xF:maj_4xG:maj_4xE:min<br>4xA:min_4xF:maj_4xF:5_24xC:maj<br>4xF:maj_4xG:maj_8xC:maj_4xF:maj<br>4xG:maj_4xE:min_4xA:min_4xF:maj<br>4xF:5_24xC:maj_112x<pad>",
          "8xD#:maj_8xA#:maj_24xD#:maj_8xA#:maj<br>12xD#:maj_4xD:dim_8xC:min_8xG:maj<br>24xC:min_8xG:maj_10xC:min_6xD:dim<br>8xD#:maj_8xA#:maj_24xD#:maj_8xA#:maj<br>12xD#:maj_4xD:dim_8xC:min_8xG:maj<br>24xC:min_8xG:maj_12xC:min_4xA#:maj",
          "16x<nc>_16xC:min_16xF:min7_16xG#:maj<br>16xC:min7_16xG:maj_16xC:min_16xC:maj<br>8xF:5_8xD#:maj_16xC:min_16xF:min7<br>16xG#:maj_16xD#:maj_6xG:min_26xC#:maj<br>16x<pad>",
          "16xC:min_16xF:maj_16xA#:maj_16xD#:maj<br>16xC:min_16xG#:maj_16xA#:maj_16xD#:maj<br>16xC:min_16xF:maj_16xA#:maj_16xD#:maj<br>16xC:min_16xG#:maj_16xG:maj_16xC:min",
          "16xC:min_16xF:maj_16xC:min_16xF:maj<br>16xC:min_16xF:maj_16xC:min_16xF:maj<br>16xG#:maj_16xA#:maj_16xD#:maj_16xG#:maj<br>16xF:5_16xG:min_32xC:maj",
          "32xC:maj_32xG:maj_32xA:min_32xF:maj<br>128x<pad>",
          "42xG#:maj_6xA#:maj_42xC:min_6xC:min7<br>42xG#:maj_6xA#:maj_48xC:min_64x<pad>",
          "32xC:min_32xG:min7_32xC:min_16xG:min<br>16xG:maj_32xC:min_32xA#:maj_32xG#:maj<br>6xC:sus2_26xG:maj",
          "16xC:maj_8xF:maj7_8xG:maj_16xC:maj<br>8xF:maj7_8xG:maj_16xC:maj_8xF:maj7<br>8xG:maj_16xC:maj_8xF:maj7_8xG:maj<br>128x<pad>",
          "48xF:sus2_208x<pad>",
          "32xF:maj_32xA:min_32xF:maj_16xA:min<br>16xG:maj_128x<pad>",
          "8xC:maj_8xG:maj_12xG:min_4xC:maj<br>16xF:maj_16xC:7_8xC:maj_8xG:maj<br>12xG:min_4xC:maj_16xF:maj_6xC:maj<br>10xC:min_8xD:min7_8xG:7_112x<pad>",
          "28xC:min_4xG:maj_224x<pad>",
          "16xC:maj_12xF:maj_4xG:maj_16xC:maj<br>8xF:maj_6xA:min_18xG:maj_176x<pad>",
          "32xC:min_32xG#:maj_32xD#:maj_32xA#:maj<br>128x<pad>",
          "6xA:min_10xC:maj_6xF:maj_10xG:maj<br>6xA:min_10xD:min_6xF:maj_10xG:maj<br>6xA:min_10xC:maj_6xF:maj_10xG:maj<br>6xA:min_10xD:min_6xF:maj_10xG:maj<br>128x<pad>",
          "16xC:maj_16xG:maj_16xF:maj_16xE:min<br>16xC:maj_16xG:maj_16xF:maj_16xE:min<br>128x<pad>",
          "32xC:min_16xF:5_16xD#:maj_32xG:maj<br>16xF:5_8xD#:maj_8xG:maj_32xC:min<br>16xF:5_8xD#:maj_8xF#:dim_32xG:maj<br>16xF:5_8xD#:maj_4xG:maj_4xC:min",
          "48xC:min_16xA#:maj_22xC:min_10xA#:maj<br>16xC:min_16xA#:maj_14xD#:maj_18xB:dim<br>32xC:min_14xF:maj_8xG#:maj_10xA#:maj<br>16xC:min_16xA#:maj",
          "32xC:maj_32xA#:maj_32xG#:maj_16xC:sus2<br>16xG:maj_32xC:maj_32xA#:maj_32xG#:maj<br>16xC:sus2_16xG:maj",
          "16xC:min_16xG#:maj_16xD#:maj_8xA#:maj<br>8xG:maj_16xC:min_16xG#:maj_16xD#:maj<br>8xA#:maj_8xG:maj_16xG#:maj_16xA#:maj<br>8xF:maj_8xG:maj_80x<pad>",
          "8xC:min_8xG#:maj_8xA#:maj_8xG:min<br>8xG#:maj_8xF:maj_8xA#:maj_8xG:maj<br>8xC:min_8xG#:maj_8xA#:maj_8xG:min<br>8xG#:maj_8xF:maj_8xA#:maj_8xG:maj<br>8xC:min_8xG#:maj_8xA#:maj_8xG:min<br>8xG#:maj_8xF:maj_8xA#:maj_8xG:maj<br>64x<pad>",
          "16xA:min_8xA:sus2_8xE:maj_16xF:maj<br>16xC:maj_16xA:min_8xA:sus2_8xE:maj<br>16xF:maj_16xC:maj_16xA:min_8xA:sus2<br>8xE:maj_16xF:maj_16xC:maj_16xA:min<br>8xA:sus2_8xE:maj_16xF:maj_16xG:7",
          "16x<nc>_16xC:min_32xG:min7_32xC:min<br>32xG:min7_32xC:min_32xG:min7_16xC:min<br>48x<pad>",
          "16xC:min_16xA#:maj_16xF:5_16xG:min<br>16xC:min_16xA#:maj_16xF:5_16xG:min<br>16xC:min_16xG:min_16xF:5_16xG:min<br>16xC:min_16xG:min_16xF:5_16xG:min",
          "12xC:maj_12xG:maj_12xC:maj_12xG:maj<br>12xC:maj_12xG:maj_12xA#:maj_12xF:maj<br>12xC:maj_12xG:maj_12xC:maj_12xG:maj<br>12xC:maj_12xG:maj_12xA#:maj_12xF:maj<br>64x<pad>",
          "128xC:maj_128x<pad>",
          "12xC:min9_12xC:min_12xF:5_12xD:hdim7<br>24xA#:maj_12xD#:maj_12xG:maj_12xC:min9<br>12xC:min_12xD:hdim7_12xF:5_12xC:min<br>12xA#:maj_24xC:min_12xD:hdim7_12xG:min7<br>24xC:min9_12xD:hdim7_4xG:min7",
          "16xC:min_16xG#:maj_32xA#:maj_16xC:min<br>16xG#:maj_32xA#:maj_128x<pad>",
          "32xC:maj_32xF:sus2_32xC:maj_32xF:sus2<br>128x<pad>",
          "16xF:maj_16xC:maj_32xG:maj_16xF:maj<br>16xC:maj_32xG:maj_16xF:maj_16xC:maj<br>32xG:maj_16xF:maj_16xC:maj_32xG:maj",
          "16x<nc>_16xF:maj_16xG:maj_16xE:min<br>16xA:min_48xF:maj_128x<pad>",
          "72xF:sus2_24xG:hdim7_72xF:sus2_24xG:hdim7<br>48xD#:maj_16xE:dim",
          "16xC:maj_16xA#:maj_16xG:maj_16xE:min<br>16xA:min_16xG:maj_16xF:maj_16xD:min<br>16xC:maj_16xA#:maj_16xG:maj_16xE:min<br>16xA:min_16xG:maj_16xF:maj_8xD:min<br>8xE:7",
          "8xF:5_8xC:min_8xG:maj_8xC:min<br>8xF:5_8xC:min_8xG:maj_8xC:min<br>8xF:5_8xC:min_8xG:maj_8xC:min<br>8xF:5_8xC:min_8xG:maj_8xC:min<br>128x<pad>",
          "14xC:maj_8xB:hdim7_8xE:7_16xA:min7<br>8xG:min7_8xC:7_16xF:maj_16xC:maj<br>16xD:min7_18xG:7_6xE:min7_8xA:min7<br>8xD:min7_10xG:7_6xE:min7_8xA:min7<br>8xD:min7_10xG:7_6xE:min7_8xA:min7<br>8xD:min7_10xG:7_6xF:min7_8xG:min7<br>18xC:maj",
          "8xC:maj_8xF:maj_12xA:min_4xF:maj<br>8xC:maj_8xF:maj_12xA:min_4xF:maj<br>192x<pad>",
          "16xC:min_16xA#:maj_16xC:min_16xA#:maj<br>16xC:min_16xA#:maj_16xC:min_16xA#:maj<br>128x<pad>",
          "8xA:min_8xF:maj_16xC:maj_8xA:min<br>8xF:maj_16xC:maj_8xA:min_8xF:maj<br>16xC:maj_8xA:min_8xF:maj_16xC:maj<br>128x<pad>",
          "16xD:min_16xC:maj_16xG:maj_16xA:min<br>16xD:min_16xC:maj_16xG:maj_16xA:min<br>128x<pad>",
          "16x<nc>_16xA:min_16xG:maj_16xF:maj<br>16xG:maj_16xA:min_16xG:maj_16xF:maj<br>16xG:maj_16xA:min_16xG:maj_16xF:maj<br>16xG:maj_16xF:maj_16xC:maj_16xA:min",
          "16x<nc>_32xC:min_32xG#:maj_32xD#:maj<br>32xG:maj_16xG#:maj_16xD#:maj_16xG:maj<br>8xC:min_8xA#:maj_16xG#:maj_16xD#:maj<br>16xG:maj",
          "24xC:min_24xC:min7_24xA:hdim7_24xG#:7<br>24xF:5_24xG#:maj_24xF:5_24xG:maj<br>64x<pad>",
          "24xC:min_8xG:min_24xD#:maj_8xA#:maj<br>24xC:min_8xG:min_24xD#:maj_8xA#:maj<br>128xC:min",
          "6xA:min_6xC:maj_26xF:maj_6xA:min<br>20xG:maj_6xA:min_6xC:maj_26xF:maj<br>6xA:min_20xG:maj_6xA:min_6xC:maj<br>26xF:maj_6xA:min_20xG:maj_6xA:min<br>6xC:maj_26xF:maj_6xA:min_20xG:maj",
          "16xC:maj_6xG:maj_4xG:sus2_6xG:maj<br>16xD:min_16xF:maj_16xC:maj_6xG:maj<br>4xG:sus2_6xG:maj_16xD:min_16xF:maj<br>128x<pad>",
          "32xA:min_32xC:maj_32xF:maj_32xD:min<br>32xA:min_32xC:maj_32xF:maj_32xG:maj",
          "32xG:maj_16xF:maj_16xC:maj_32xG:maj<br>16xF:maj_16xC:maj_32xG:maj_16xF:maj<br>16xC:maj_32xG:maj_16xF:maj_16xG:maj",
          "160xC:maj_96x<pad>",
          "6xG#:maj_8xA#:maj_8xC:min7_10xA#:maj<br>6xG#:maj_8xA#:maj_18xC:min_6xG#:maj<br>8xA#:maj_8xC:min7_10xA#:maj_6xG#:maj<br>8xA#:maj_18xC:min_128x<pad>",
          "16xC:min_8xD#:maj_8xD#:5_48xC:min<br>8xD#:maj_8xD#:5_32xC:min_128x<pad>",
          "96xC:min_16xG#:maj_144x<pad>",
          "16xC:maj_16xE:maj_16xA:maj_16xA:7<br>16xD:7_16xG:7_16xC:maj_6xD:maj<br>10xG:7_16xC:maj_16xE:maj_32xA:maj<br>16xE:min_16xB:maj_16xE:maj_16xG:7",
          "14xC:maj_32xF:maj_32xC:maj_18xD:min<br>14xA#:maj_18xC:maj_128x<pad>",
          "14xC:min_16xD#:maj_16xA#:maj_18xF:maj<br>14xC:min_16xD#:maj_16xA#:maj_18xF:maj<br>128x<pad>",
          "8xC:maj_8xG:maj_8xA:min_8xE:min<br>8xF:maj_8xF#:dim_16xG:maj_8xC:maj<br>8xG:maj_8xA:min_8xE:min_8xF:maj<br>8xG:maj_16xC:maj_128x<pad>",
          "16xG#:maj_16xD#:maj_16xG:7_16xC:min<br>16xG#:maj_16xD#:maj_16xF:5_16xG:7<br>128x<pad>",
          "16xC:min_16xD#:maj_16xA#:maj_16xF:5<br>16xC:min_16xD#:maj_16xA#:maj_16xF:5<br>128x<pad>",
          "16xC:min_8xG#:maj_8xA#:maj_16xC:min<br>8xG#:maj_8xA#:maj_16xC:min_8xG#:maj<br>8xA#:maj_16xC:min_8xG#:maj_8xA#:maj<br>16xC:min_8xG#:maj_8xA#:maj_16xC:min<br>8xG#:maj_8xA#:maj_16xC:min_8xG#:maj<br>8xA#:maj_16xC:min_8xG#:maj_8xA#:maj",
          "8xC:min_6xG:min7_18xF:maj7_8xC:min<br>6xG:min7_18xC:7_8xC:min_6xG:min7<br>18xF:maj7_8xC:min_6xG:min7_18xC:7<br>128x<pad>",
          "16x<nc>_44xC:maj_4xA:min_16xG:maj<br>44xC:maj_4xA:min_16xG:maj_112x<pad>",
          "16xG:maj_24xA:min_8xG:maj_16xF:maj<br>16xG:maj_16xA:min_16xF:maj_32xG:maj<br>112x<pad>",
          "12xC:min_12xG:maj_8xC:min_4xF:5<br>12xG:maj_12xC:maj_12xF:5_12xA#:maj<br>12xD#:maj_12xG#:maj_12xD:dim_8xG:maj<br>4xC:min_12xD:dim_112x<pad>",
          "15xC:min_9xG#:maj_8xD#:maj_8xF:5<br>7xC:min_17xG:7_15xC:min_9xG#:maj<br>8xD#:maj_8xF:5_7xC:min_9xG:maj<br>8xC:min_128x<pad>",
          "12xC:maj7_12xA:min7_12xD:min7_12xG:7<br>12xC:maj7_12xA:min7_12xD:min7_12xG:7<br>160x<pad>",
          "16xF:maj_16xG:7_16xE:min7_8xA:min<br>8xE:min_16xF:maj_16xG:7_8xD:min7<br>8xE:min7_8xF:maj_8xG:maj_128x<pad>",
          "12xC:maj_18xF:maj_2xG:maj_12xA:min<br>20xF:maj_12xC:maj_18xF:maj_2xG:maj<br>6xA:min_6xC:maj_20xF:maj_128x<pad>",
          "16xF:maj_16xG:maj_16xC:maj_16xA:min<br>16xF:maj_16xG:maj_16xC:maj_16xE:7<br>16xF:maj_16xD:hdim7_16xC:maj_16xD:7<br>30xA#:maj_34xA#:7",
          "64xC:min_64xE:min_64xC#:maj_64xC:min",
          "6xF:maj_8xG:maj_8xA:min_10xC:maj<br>16xF:maj_16xG:maj_6xF:maj_8xG:maj<br>8xA:min_10xC:maj_16xF:maj_16xG:maj<br>6xF:maj_8xG:maj_8xA:min_10xC:maj<br>16xF:maj_16xG:maj_64x<pad>",
          "32xC:maj_32xE:min_32xF:maj_32xG:maj<br>32xC:maj_32xE:min_32xF:maj_32xG:maj",
          "16xA:min7_8xB:hdim7_8xE:7(b9)_16xA:min7<br>8xB:hdim7_8xE:7(b9)_16xA:min7_8xB:hdim7<br>8xE:7(b9)_16xA:min7_8xE:7(b9)_24xA:min7<br>96xD:7_16xB:hdim7",
          "8xD#:min7_8xG#:7_8xD:min7_8xG:7<br>16xC:maj7_16xB:aug_16xG:min7_16xC:7<br>16xF:maj7_8xF#:hdim7_8xB:7_16xE:min7<br>16xA:7_16xD:min7_16xG:7_32xC:maj7<br>16xE:min7_16xF:13",
          "16xE:minmaj7_16xD:minmaj7_8xE:minmaj7_8xD:minmaj7<br>16xE:7_16xA:min9_16xD:13_20xG:maj6<br>4xF#:7_8xF:7_8xG:maj6_8xF:7<br>8xC:min7_8xF:7_8xA#:maj7_8xG:min7<br>8xC:min7_8xF:7_8xF:min7_8xA#:7<br>8xD#:maj7_4xD#:min_4xG#:7_16xC#:maj7<br>8xC#:min7_8xF#:9",
          "32xF:maj7_32xG#:maj7_16xC:maj_16xC:7<br>32xG#:maj7_32xF:maj7_32xG#:maj7_16xC:maj<br>16xC:7_16xF:maj_16xC:maj",
          "16xC:maj7_16xF:9_16xC:maj7_8xE:hdim7<br>8xA:7_16xD:min7_12xG:maj13_4xG:7<br>8xE:min7_8xA:7_8xD:min7_8xG:7<br>8xC:1_8xG:sus4_16xC:maj6_8xG:min7<br>8xC:1_8xG:min7_8xC:1_8xF:maj7<br>8xC:7_16xF:maj7_8xA:min7_8xD:1<br>8xA:min7_8xD:1",
          "16xA:13_16xG:13_16xA:13_16xG:13<br>16xA:13_16xG:13_16xA:13_16xG:13<br>16xC#:hdim7_16xF#:7(b9)_16xC:min7_8xF:9<br>8xF:13_16xF#:13_8xD#:maj_8xF:7<br>16xC#:min7_16xF#:13",
          "12xC:maj7_12xA:aug_12xD:min7_6xG:7<br>6xG#:dim7_12xA:min7_12xG:min7_12xF#:min7<br>12xB:7_12xE:min7_12xF:min7_12xE:min7<br>12xF:min7_12xC#:7(#11)_12xF#:7_12xD:hdim7<br>12xG:7_12xD:min7_12xG:7_12xC:maj6<br>6xB:hdim7_6xE:7_12xA:min7_4xD:7",
          "64xF:7_64xD:7_32xC:maj6_16xE:7<br>16xA:min7_32xD:7_16xD:min7_8xG:7<br>8xF#:7",
          "64xE:min7_32xC:7_32xE:min7_16xC:7<br>16xA:maj7_8xF#:hdim7_8xB:7(#9)_16xE:min7<br>64x<pad>",
          "32xC:maj7_32xD:9_16xD:min9_8xG:maj13<br>8xG:13_8xC:maj7_8xC#:maj7_8xD:maj7<br>8xC#:maj7_8xD:maj7_8xD#:maj7_32xE:maj7<br>16xE:min7_16xA:7_32xD:maj7_16xD:min7",
          "12xC:maj7_12xA:min7_12xD:min7_6xG:7<br>6xG#:dim7_24xA:min7_12xF#:hdim7_12xF:minmaj7<br>12xF:maj7_12xD#:dim7_12xD:min7_12xE:7<br>12xA:min7_12xB:7_6xE:min7_6xA:7<br>6xD:min7_6xG:7_12xC:maj_12xD#:dim7<br>12xD:min7_12xE:7_12xA:min7_4xD:7",
          "16xC:maj6_8xE:hdim7_8xA:7(b9)_16xD:min9<br>8xF#:hdim7_8xB:7(b9)_16xC:maj7_8xE:hdim7<br>4xA:sus4_4xA:7_32xD:9_12xG:13<br>4xF:dim7_8xE:min7_8xA:min7_8xD:min7<br>4xG:sus4_4xG:7_16xC:maj7_16xA:min7<br>16xD:9_16xD:min7_16xG:7",
          "8xC:maj7_8xA#:7_16xA:7_32xD:7<br>16xD:min7_16xG:7_16xC:maj7_8xG:min7<br>8xC:7_16xF:maj7_8xF:min7_8xA#:7<br>16xC:maj7_16xA:7_32xD:7_16xD:min7<br>16xG:7",
          "8xG:maj6_8xG#:dim7_8xA:min7_8xD:7<br>8xG:maj7_4xD:min7_4xG:7_8xC:maj7<br>8xF:9_8xG:maj7_8xE:7_8xA:min7<br>8xD:7_8xG:maj6_8xE:min7_8xA:7<br>8xD:7_8xG:maj6_8xC:maj6_8xG:maj6<br>4xD:min7_4xG:7_16xC:maj6_8xD:9<br>8xG:7_16xC:maj6_8xF:7_8xE:7<br>16xA:min7_8xF:7_8xE:7",
          "32xC:maj7_16xE:hdim7_8xA:7(b13)_8xA:7<br>32xD:min7_16xD:hdim7_8xG:7(b13)_8xG:7<br>16xC:maj7_8xG:min7_8xC:7_16xF:maj7<br>8xE:hdim7_8xA:7(#9)_16xD:min7_8xF#:hdim7<br>8xB:7(b13)_8xE:min7_8xA:min7_8xD:min7<br>8xG:7",
          "8xC:maj7_8xC#:dim7_8xD:min7_8xD#:dim7<br>8xC:maj7_4xG:min7_4xC:7_8xF:maj7<br>8xA#:7_8xC:maj7_8xA:min7_8xD:min7<br>8xG:7_8xE:min7_8xA:7_8xD:min7<br>8xG:7_8xC:maj7_8xF:7_8xA#:min7<br>8xD#:7_8xG#:maj7_8xF:min7_8xA#:min7<br>8xD#:7_8xC:min7_8xF:7_8xA#:min7<br>8xD#:7_16xG#:maj7_16xF:min7",
          "16xG:min7_8xC:sus4_8xC:aug_16xF:maj7<br>16xA#:maj7_16xE:hdim7_16xA:aug_16xD:min9<br>16xD:min7_16xA#:maj7_16xA:aug_16xD:min9<br>16xD:min7_16xB:hdim7_16xE:aug_32xA:min11",
          "16xA:min9_8xA#:maj7_8xA:maj9_16xE:13<br>16xF:maj7_16xD:min11_16xA#:maj7_16xE:maj7<br>16xA:min7_16xD:min11_16xA#:maj7_16xD:min11<br>16xA#:maj7_16xG:min7_16xC:hdim7_16xF:maj7<br>16xA#:7(#9)",
          "8xC:maj7_8xC:7_8xF:maj7_8xF:dim7<br>8xC:maj7_8xD#:dim7_8xG:7_8xC#:dim7<br>8xD:min7_4xE:dim_4xF:maj6_8xF#:hdim7<br>8xG:7_8xE:aug_8xA:9_8xD:min7<br>8xG:7_16xC:maj6_16xC:7_32xF:maj7<br>16xF:min6_16xC:maj6_8xF#:hdim7_8xB:7(b9)<br>16xE:7(b9)",
          "48xG:7(b9)_48xF:7(b9)_48xG:7(b9)_48xC:sus4<br>24xF:min7_24xA#:7(b9)_16xD#:maj7",
          "8xG:maj_8xC#:7(#11)_8xE:min7_8xF:9<br>8xA#:13_8xD#:7_16xG#:13_8xG:maj<br>8xC#:7(#11)_8xE:min7_8xF:9_8xA#:7<br>8xD#:7_16xG#:7_16xD:min7_16xG:7(b9)<br>16xC:maj7_32xA:7(b9)_16xA:7(#11)_16xA:min7<br>16xD:7(b9)",
          "16xA:maj7_16xD:13_16xG:sus4_16xF#:maj7<br>16xA:maj7_16xD:13_16xG:sus4_16xF#:maj7<br>16xF:maj7_16xF:13_16xA#:min11_8xD:min9<br>8xB:maj7_16xA:maj7_16xD:13_8xG:min11<br>24xC:min11",
          "16xG:maj7_8xA:min7_8xA#:dim7_8xD:min7<br>8xG:7_8xC:min7_8xF:7_8xB:min7<br>8xA#:min7_8xA:min7_8xD:7_16xG:maj7<br>8xA:min7_8xD:7_8xG:maj7_8xF#:7(#9)<br>16xB:maj7_8xC#:min7_8xF#:7_16xB:maj7<br>8xE:min7_8xA:7_16xD:maj7_8xE:min7<br>8xA:7_16xD:maj7",
          "16xA:7_16xD:7_16xA:7_8xE:min7<br>8xA:7_16xD:7_16xD#:dim7_16xA:7<br>8xC#:min7_8xF#:7_16xB:min7_16xE:7<br>8xA:7_8xF#:7_8xB:min7_8xE:7<br>64x<pad>",
          "24xF:maj7_12xD#:min7_20xE:aug_48xA:sus4<br>24xF:maj7_12xD#:min7_12xE:7(#9)_48xA:7(#9)<br>24xD:sus4_12xG:min7_12xC:13_8xF:aug",
          "4xF#:min7_4xB:7_4xF:min7_4xA#:7<br>4xE:min7_4xA:7_4xD#:min7_4xG#:7<br>8xD:min7_8xG:aug_8xA#:7(#11)_8xA:7<br>8xD:7_8xC#:7_8xC:maj7_8xD:7<br>8xD:min7_8xG:7_4xA#:7_4xA:7<br>4xG#:7_4xG:7_16xC:maj7_8xD:min7<br>8xG:7_16xC:maj7_8xD:min7_8xC#:7(#11)<br>16xC:maj7_32xD:7_8xD:min7_8xG:7",
          "8xA:7_8xF:7_8xE:7_8xA:7<br>8xD:7_8xG:7_8xC:maj6_8xE:7<br>8xA:7_8xF:7_8xE:7_8xA:7<br>8xD:7_8xG:7_8xC:maj6_8xC:7<br>8xF:maj6_8xF#:dim7_8xC:maj6_8xC:7<br>8xF:maj6_8xF#:dim7_8xB:hdim7_8xE:7<br>8xA:7_8xF:7_8xE:7_8xA:7<br>8xD:7_8xG:7_16xC:maj6",
          "16x<nc>_48xA:7_64xD:7_64xG:7<br>16xC:maj7_8xD:min7_8xG:7_16xC:maj7<br>8xB:hdim7_8xE:7(b9)",
          "8xA:min7_8xD:7_8xB:maj_8xG:maj7<br>8xF#:hdim7_8xB:7(b9)_8xE:min7_8xA:7<br>8xG#:maj7_8xD#:maj7_8xF:min7_8xG#:maj7<br>8xD#:maj9_8xD#:sus4_8xD:min11_4xB:hdim7<br>4xE:7(b9)_128x<pad>",
          "32xF:maj7_16xG:min7_16xC:7_32xF:maj7<br>16xG:min7_16xC:7_32xA:7(b9)_32xD:min7<br>32xG:7_32xC:7",
          "8xF:maj7_8xD:min7_8xG:min7_4xC:7<br>4xC#:dim_8xD:min7_8xA#:maj7_8xA:min7<br>8xD:7_8xG:min7_4xC:7_4xC#:dim<br>8xD:min7_8xG:7_8xG:min7_8xC:7<br>4xA:min7_4xD:7_4xG:min7_4xC:7<br>8xF:maj6_4xB:hdim7_4xE:7_16xA:min7<br>8xB:hdim7_8xE:7(b9)_16xA:min7_8xB:hdim7<br>8xE:7(b9)_8xA:min_8xA:minmaj7_8xA:min7<br>8xD:7_8xG:min7_8xD:7",
          "16xC#:7_16xF#:7_16xC#:7_8xG#:min7<br>8xC#:7_16xF#:7_16xG:dim7_16xC#:7<br>8xF:min7_8xA#:7_16xD#:min7_16xG#:7<br>8xC#:7_8xA#:7_8xD#:min7_8xG#:7<br>64x<pad>",
          "8xC:maj7_8xF:7(#11)_8xE:min7_8xA:min7<br>16xD:min7_16xG:7_8xF:maj7_4xF#:hdim7<br>4xB:7_8xE:min7_8xA:7(b9)_8xD:min7<br>8xA:7(b9)_8xD:min7_8xG:7_8xC:maj7<br>8xF:7(#11)_8xE:min7_8xA:min7_16xD:min7<br>16xG:7_8xF:maj7_4xF#:hdim7_4xB:7<br>8xE:min7_8xA:7(b13)_8xD:min7_8xG:7<br>8xE:aug_8xA:aug",
          "32xC:maj7_32xD:7_8xF:maj7_8xF#:dim7<br>8xC:maj6_8xA:7_16xG#:7_16xG:7<br>8xD:min7_8xG:7_16xC:maj6_32xG#:7<br>16xC:maj7_8xB:hdim7_8xE:7(b9)_8xA:min<br>8xA:minmaj7_8xA:min7_8xD:7",
          "64xA:7_64xD:7_80xG:7_8xD:min7<br>8xG:7_16xC:maj7_8xB:min7_8xE:7",
          "12xC:maj7_12xA:7_12xD:min7_12xG:7<br>12xC:maj7_12xA:min7_24xD:7_12xD:min7<br>12xG:7_12xC:maj7_12xA:min7_12xF#:hdim7<br>12xB:7(b9)_6xE:min7_6xD#:7_6xD:min7<br>6xG:7_12xC:maj7_12xA:7_12xD:min7<br>12xG:7_12xC:maj7_4xA:min7",
          "8xC:maj6_8xA:min7_8xD:min7_8xG:7<br>8xC:maj6_8xA:min7_8xD:min7_4xB:hdim7<br>4xE:7_8xA:min7_8xF:min6_8xC:maj<br>4xE:min7_4xD#:min7_8xD:min7_8xG:7<br>4xE:min7_4xA:min7_4xD:min7_4xG:7<br>8xC:maj6_4xF#:hdim7_4xB:7_8xE:maj7<br>8xF:dim7_8xF#:min7_8xB:7_8xE:maj7<br>8xC#:min7_8xF#:min7_8xB:7_8xE:maj7<br>8xF:dim7_8xF#:min7_8xB:7_8xE:7<br>8xA:7",
          "16xD:hdim7_16xG:7(b9)_8xC:maj7_8xA#:min7<br>8xG#:maj7_8xG:maj7_8xG:min7_8xC:7<br>8xF:7_8xE:7_8xA:7_8xG#:7<br>8xG:7_8xF#:7_8xF:min7_8xA#:7<br>8xD#:maj7_8xG#:maj7_8xD:min7_8xG:7<br>16xC:maj7_16xF:min7_16xA#:7_8xD#:maj7<br>8xF:min7_8xG:min7_8xC:7",
          "16xE:min7_8xF#:hdim7_8xB:7(b9)_32xE:min7<br>16xD:min7_16xG:7_32xC:maj7_16xF#:hdim7<br>16xB:7(b9)_8xC:7_8xB:7(b9)_16xE:min7<br>16xC:7_8xG:min7_8xC:7_16xF:maj7<br>8xF#:hdim7_8xB:7",
          "8xB:hdim7_8xE:7(b9)_8xC#:min7_8xF#:7(b9)<br>8xB:hdim7_8xE:7(b9)_8xA:maj7_8xD#:7(#11)<br>16xD:min7_8xC#:min7_8xC:dim7_8xB:min7<br>8xE:sus4_16xA:maj6_8xG:min7_8xC:7<br>8xF:maj7_8xD:7(b9)_8xG:min7_8xC:7<br>16xF:maj7_8xA:min6_8xF#:hdim7_4xB:hdim7<br>4xE:7_8xA:min7_16xD:min7_8xB:min7<br>8xE:7",
          "64xC#:hdim7_64xC:maj7_52xA#:maj7_4xA:maj7<br>4xA#:maj7_4xF#:maj7_64xA:maj7",
          "8xC:maj6_8xC:7(b9)_8xF:min7_8xA#:7<br>8xE:min7_8xA:7_8xD:min7_8xG:7<br>8xC:maj7_8xA:7_8xD:min7_8xG:7<br>8xC:maj6_8xA:7_8xD:min7_8xG:7<br>16xC:maj6_16xC:7_16xF:maj7_8xF#:hdim7<br>8xB:7(b9)_24xE:min7_8xA:7(b9)_24xD:min7<br>8xG:7(b9)",
          "32xD:maj7_32xD:min7_16xE:7_16xD#:maj7<br>16xD:maj7_16xB:7_16xE:min7_16xA:7<br>32xD:maj7_16xG:min7_16xC:7_16xF:maj7<br>8xE:min7_8xA:7",
          "16xC:min_16xC:min7_32xD:7_32xG:7(b9)<br>16xC:min_8xD:hdim7_8xG:7_16xC:min<br>8xA:hdim7_8xD:7_32xG:min_16xG#:maj7<br>16xG#:maj6_32xG:7(b9)",
          "32xF:maj7_32xE:min7_32xF:maj7_16xE:min7<br>16xF:maj7_32xA#:maj7_8xB:min7_8xE:7<br>16xA:min7_8xF#:min7_8xB:7_8xE:maj7<br>8xC#:7_8xF#:min7_8xB:7_16xE:maj7",
          "16xF:maj6_16xA#:7(#11)_16xC:maj6_16xD:9<br>16xD:min7_16xG:13_8xC:maj6_8xC:dim7<br>4xD:hdim7_4xC:dim_8xC:maj6_24xC:7<br>4xB:7_4xA#:7_32xA:7_32xD:9<br>8xG:13_8xG#:7_8xG:7_8xC:7",
          "16xE:maj7_8xG:min7_8xC:7_16xF#:min7<br>8xB:min7_8xE:7_16xE:min7_16xB:aug<br>16xA#:13_16xA:13_16xE:maj6_16xC#:min7<br>16xF#:min7_16xB:aug_16xE:7(#9)_16xC#:hdim7<br>16xC:7_16xB:aug",
          "8xC:maj7_8xA:min7_8xD:min7_8xG:7<br>16xC:min7_16xF:9_16xG#:9_8xD:min7<br>8xG:7_8xC:maj7_8xA:7_8xD:min7<br>8xG:7_8xC:maj6_8xF:min6_16xC:maj7<br>16xF:min7_16xA#:9_16xD#:maj7_16xE:dim7<br>16xF:min7_16xA#:9",
          "32xE:min6_16xD#:7(#9)_16xG:13_16xB:min7<br>16xE:7(#11)_32xD#:13_16xA:min7_16xD:7<br>16xG:maj7_16xA:min7_16xD:7_16xG:maj7<br>32xE:min6",
          "16xA:min6_16xE:7(b13)_16xA:min7_16xD:7<br>8xD:min7_8xG:7_4xF:7_4xA#:7<br>8xC:maj7_8xA#:maj7_8xB:hdim7_8xE:7(b9)<br>8xA:min7_8xB:hdim7_8xE:7(b9)_8xA:min7<br>8xF#:hdim7_16xB:hdim7_16xE:7(b9)_16xA:min7<br>16xF#:hdim7_16xF:7(#11)_16xA:min7",
          "16xC:7_16xF:7_32xC:7_32xF:7<br>32xC:7_16xD:min7_16xG:7_16xC:7<br>16xG:7_64x<pad>",
          "16xF:7(#11)_8xB:min7_8xE:7_16xF:7(#11)<br>8xB:min7_8xE:7_8xA#:min7_8xD#:7<br>16xA:7(#11)_16xG#:maj7_8xG:hdim7_8xC:7<br>8xG:min7_8xC:7_8xG:min7_4xA:hdim7<br>4xD:7_8xG:min7_4xA:hdim7_4xD:7<br>8xG:min7_4xA:hdim7_4xD:7_8xA#:min7<br>8xD#:7_8xG#:maj7_8xA:dim7_8xA#:min7<br>8xD#:7_16xG#:maj7",
          "16xD:min7_8xG:sus4_8xG:7_8xC:maj7<br>8xF:9_8xE:min7_8xA:7(#9)_16xD:min7<br>8xG:9_8xG:7_8xC:maj7_8xG:sus4<br>16xC:maj7_16xB:hdim7_16xE:7_32xA:min<br>8xA:min7_8xD:7_8xA:min7_8xD:7<br>16xD:min7_16xG:7",
          "32xF#:hdim7_32xG:maj7_32xF#:hdim7_32xF:maj7<br>16xE:7_16xF:7(#11)_16xF#:hdim7_8xG:maj7<br>8xF:maj7_16xE:min9_16xA:7_16xA:min7<br>16xG#:maj9",
          "8xA:maj7_8xG:maj7_8xF:maj7_8xD#:maj7<br>8xD:maj7_8xG#:13_8xC#:maj7_8xF#:maj7<br>8xC:maj7_8xF:maj7_8xA#:maj7_8xD#:maj7<br>8xG#:maj7_8xC#:maj7_8xF#:maj7_8xB:maj7<br>64xF:sus4_64xE:sus4",
          "64xF:maj7_64xE:min11_64xF:maj7_64xC:maj7",
          "32xE:7(b9)_32xA:min_32xB:7(b13)_64xE:7(b9)<br>32xC:maj6_32xD:min7_32xA:min",
          "12xG#:maj6_12xC:aug_12xF:min9_12xA#:13<br>12xE:maj6_12xA:maj6_12xA#:min9_12xC:13<br>24xF:maj9_24xF:min9_24xF:maj9_24xF:min9<br>24xF:maj9_24xF:min9_16xF:maj9",
          "8xD:maj7_8xD:7_8xB:min7_4xA#:7<br>4xA:7_8xD:maj9_8xD:7_8xB:min7<br>4xA#:7_4xA:7_8xD:maj9_8xD:7<br>8xB:min7_4xA#:7_4xA:7_16xD:maj6<br>16xA:7_48xD:7_32xG:7_32xE:7<br>16xA:7",
          "16xG:7_16xC:7_16xG:7_8xD:min7<br>8xG:7_16xC:7_16xC#:dim7_16xG:7<br>8xB:min7_8xE:7_16xA:min7_16xD:7<br>8xG:7_8xE:7_8xA:min7_8xD:7<br>64x<pad>",
          "16xC:maj7_16xG#:dim7_16xG:min7_16xC:7(b9)<br>16xF:maj7_16xF:min6_8xE:13_8xE:1<br>8xE:min7_8xA:7(b9)_16xD:9_8xG#:7<br>8xG:7_8xC:min7_8xF:7_8xC:min7<br>8xF:7_16xF:min7_16xA#:9_32xG:min7",
          "16xG:7_16xC:7_32xG:7_32xC:7<br>32xG:7_16xA:min7_16xD:7_32xG:7<br>64x<pad>",
          "16xB:min7_16xE:7(b9)_16xA:min7_16xD:7<br>16xD:min7_16xG:7_16xC:maj7_16xF:maj7<br>16xB:hdim7_16xE:7(b9)_32xA:min7_16xF#:hdim7<br>16xB:7(b9)_16xB:hdim7_16xE:7(b13)",
          "32xC:maj7_16xF#:min7_16xB:7(b13)_16xF:maj7<br>16xF:maj6_32xA#:7_16xE:min7_16xA:7(b9)<br>16xD:min7_8xB:hdim7_8xE:7(b13)_16xA:min7<br>16xD:7_16xD:min7_8xG#:7_8xG:7",
          "8xG:maj7_8xB:dim7_8xA:min7_8xD:7(b9)<br>8xG:maj7_8xB:dim7_8xA:min7_8xD:7(b9)<br>8xD:min7_8xG:7_8xC:maj7_8xC#:dim7<br>4xG:maj7_4xA:7_4xD:7_20xG:maj7<br>16xD:min7_16xG:7_32xC:maj7_16xC:min7<br>16xF:7_16xA#:maj7_8xA:min7_8xD:7",
          "16xG:maj7_16xF#:min6_16xF:maj7_16xE:7<br>16xD:min7_16xF:maj7_16xF#:sus4_16xF:min7<br>16xE:min7_16xD#:min7_16xG#:9_16xD:min7<br>16xG:7_16xC:maj7_16xC:min7_16xG:maj7",
          "8xC:maj_8xC:maj7_8xA:min_8xA:min7<br>8xF:maj7_8xC:maj_4xG:maj_4xC:maj<br>8xE:7_16xA:min11_8xF:maj7_8xE:min7<br>32xA:sus4_32xF:maj7_8xE:min_8xC:maj<br>8xE:min_8xA:min_16xC:maj_16xE:maj<br>32xA:sus4",
          "20xC:maj7_4xC:7_4xF:maj7_4xF:min7<br>8xE:min7_8xA:7_8xD:min7_8xG:7<br>8xC:maj7_8xF:7_8xE:min7_4xA:min7<br>4xG#:min7_8xG:min7_8xC:7_8xF:min7<br>8xA#:7_8xE:min7_8xD#:7_8xD:min7<br>8xG:7_8xG:min7_8xC:7_16xF:maj7<br>8xF:min7_8xA#:7_8xE:min7_8xA:7<br>16xD#:7(#11)_8xD:min7_8xG:7",
          "24xA:maj7_12xD#:min7_12xF:7_24xA#:min7<br>12xD:min7_12xC#:maj7_24xC:maj7_24xD#:maj7<br>12xF#:maj7_12xB:maj7_6xA:maj7_6xC#:maj7<br>6xF:maj7_6xA#:maj7_12xA#:min7_12xG:min11<br>24xC#:maj7_16xC:sus4",
          "128xA:sus4_128xD:sus4",
          "8xG:maj6_8xA:min7_8xB:min7_8xE:min7<br>8xA:min7_8xG#:dim7_8xA:min7_8xD:7<br>8xA:min7_8xG#:dim7_8xA:min7_8xD:7<br>4xB:min7_4xA:min7_8xD:7_8xG:maj7<br>4xG:sus4_4xG:7_8xC:maj7_8xD:7<br>8xB:min7_8xE:min7_8xA:min7_8xD:7<br>16xG:maj7_8xF#:hdim7_8xB:7_16xE:min<br>8xC:maj7_8xE:7_8xA:7_4xD:sus4<br>4xD:7",
          "12xD:min7_12xG:7_24xC:maj7_12xD:min7<br>12xG:7_24xC:maj7_12xB:7_24xE:min7<br>12xA:min7_12xD:7_12xE:min7_12xG:maj7<br>12xA:min7_12xE:7(b9)_12xA:7_12xA:7(b13)<br>12xD:min7_12xG:7_4xA:min7",
          "16xC:maj6_16xD:9_24xD:min7_8xG:7<br>8xC:maj7_8xF:maj7_8xE:hdim7_8xA:7<br>24xD:min7_8xG:7_16xC:maj7_16xD#:dim7<br>16xD:min7_16xG:13_16xA:min7_16xD:7<br>16xD:min7_16xG:13",
          "8xE:min7_8xF#:min7_8xG:maj6_8xA:7<br>8xD:maj7_8xE:min7_8xF#:min7_8xB:7(b9)<br>8xE:min7_8xF#:min7_8xG:maj6_8xA:7<br>16xF#:hdim7_16xB:7(b9)_16xE:min7_8xG:min7<br>8xC:7_24xF:maj7_8xE:7(b9)_8xA:min7<br>8xF#:hdim7_8xB:hdim7_8xE:7(b9)_16xA:maj7<br>8xA:7_8xA:aug",
          "24xA:min6_24xD:min7_12xB:hdim7_12xE:7(b9)<br>24xA:min6_12xF:maj7_12xE:7(b9)_24xA:min6<br>12xF#:hdim7_12xB:7(#9)_12xE:sus4_12xE:13<br>64x<pad>",
          "16xD:7_16xG:7_32xC:maj6_32xC:7<br>32xF:maj_32xF:min_16xC:maj6_16xA:7<br>32xD:7_20xG:7_4xC:maj_8xG#:7",
          "8xC:maj7_8xG:sus4_8xC:maj7_8xG:sus4<br>8xC:maj7_8xF#:9_8xF:maj7_8xA#:sus4<br>8xC:maj7_8xF:7_8xE:7_8xA:7<br>8xD:min7_8xG#:7_8xG:7_8xF:7<br>8xE:13_8xE:7(b9)_8xA:7(b9)_8xA:aug<br>8xD:13_8xD:aug_8xG:13_8xG:maj6<br>8xC:13_8xC:7(b13)_16xF:7_4xD:min7<br>4xE:min7_4xF:maj6_4xF#:dim_8xG:sus4<br>8xG:7",
          "32xC:maj6_8xF:9_8xF#:dim7_48xC:maj6<br>16xD:7_16xG:7_16xC:maj6_16xC:7<br>16xF:maj6_16xE:7_8xF:maj7_8xF#:dim7<br>8xC:maj_8xA:7_8xD:min7_8xG:7<br>16xC:maj6",
          "24xD:min7_8xG:7(b9)_16xC:maj7_8xE:hdim7<br>8xA:7_24xD:min7_8xG:7(b9)_16xC:maj7<br>8xG:min7_8xC:7_16xF:maj7_16xA#:7(#11)<br>16xC:maj7_16xA:7(b9)_32xD:7(#11)_16xG:7<br>8xE:min7_8xA:7",
          "16xA:min6_8xE:hdim7_8xA:7(b9)_16xD:min6<br>8xB:hdim7_8xE:7(b9)_16xA:min7_16xD:min7<br>16xF:7(#11)_8xE:9_8xE:7(b13)_8xB:hdim7<br>8xE:7(b9)_16xA:min6_8xD:min_8xD:minmaj7<br>8xD:min7_8xG:7_16xC:maj7_8xE:min7<br>8xA:7(b9)_8xD:min_8xD:minmaj7_8xD:min7<br>8xG:7",
          "16xC:maj7_16xA:min7_16xD:7_8xG:sus4<br>8xG:7_16xC:maj7_16xA:min7_16xD:7<br>16xG:7_16xG:min7_16xC:7_16xF:maj7<br>8xE:min7_8xA:7_16xD:min7_8xF:min7<br>8xA#:7_8xE:min7_8xA:7_8xD:7<br>8xG:7",
          "16xA:min_8xB:hdim7_8xE:7(b9)_8xD:min7<br>8xG:7_16xC:maj7_8xB:hdim7_8xE:7(b9)<br>16xA:min_16xB:hdim7_16xE:7(b9)_16xA:min7<br>16xA:min6_16xA:min7_16xA:min6_16xC:maj7<br>8xD:min7_8xG:7_16xC:maj7_8xB:hdim7<br>8xE:7(b9)",
          "16xA:min_16xD:min7_16xG:7_16xC:maj7<br>16xF:maj7_8xF#:min7_8xB:7_32xE:maj7<br>16xE:min7_16xA:min7_16xD:7_16xG:maj7<br>16xC:maj7_8xC#:min7_8xF#:7_32xB:maj7",
          "8xA:maj7_8xC:dim7_8xB:min7_8xE:7<br>8xE:min7_8xA:7_8xD:maj7_8xD#:dim7<br>8xC#:min7_8xF#:min7_8xB:min7_8xE:7<br>8xC#:min7_8xF#:7_8xB:min7_8xE:7<br>16xA:maj6_8xG:min7_8xC:7_16xF:maj7<br>16xA#:7(#11)_8xA:min7_8xD:7_8xG:min7<br>8xC:7_16xF:maj7_8xB:min7_8xE:7",
          "32xC:maj6_32xC#:maj6_32xC:maj6_32xA:7<br>32xD:7_32xG:7_16xC:maj_16xD#:dim7<br>16xD:min7_16xG:7",
          "8xG:min7_8xC:7_8xF:maj6_8xD:min7<br>8xG:min7_8xC:7_8xF:maj6_8xD:min7<br>8xG:min7_8xC:7_8xF:maj6_8xD:min7<br>8xG:min7_8xC:7_16xF:maj6_8xC:min7<br>8xF:7_8xA#:maj6_8xG:min7_8xC:min7<br>8xF:7_16xA#:maj6_8xD:min7_8xG:7<br>8xC:maj7_8xA:min7_8xD:min7_8xG:7<br>8xG:min7_8xC:7",
          "16xA#:maj6_16xD#:7_16xF:maj7_16xG:7<br>32xC:7_16xF:maj7_8xC:min7_8xF:7<br>16xA#:maj6_16xD#:7_16xF:maj7_16xG:7<br>32xC:7_8xF:maj6_8xA#:7_16xF:maj6",
          "16xG:maj7_16xG#:dim7_16xA:min7_16xD:7<br>16xG:maj7_16xB:hdim7_8xE:7_8xF#:min7<br>8xG:dim7_8xE:7_16xA:min7_16xC:min6<br>16xB:min7_16xA#:dim7_16xA:min7_16xD:7<br>8xG:maj7_8xE:7_8xA:min7_8xD:7",
          "32xD:min7_32xG:7_48xC:maj6_16xA:7<br>32xD:min7_32xG:7_64xC:maj6",
          "8xD:min7_8xG:7_8xE:min7_8xA:min7<br>8xD:min7_8xG:7_8xC:maj7_8xE:min7<br>8xD:min7_8xG:7_8xE:min7_8xA:min7<br>8xD:min7_8xG:7_8xC:maj7_8xA:7<br>16xC:maj7_16xG:min7_16xC:7_32xF:maj7<br>16xA:min7_16xD:7_16xD:min7",
          "8xD#:maj7_8xG:7_8xC:min7_8xA#:7<br>16xA:7_8xD:maj7_4xD:min7_4xG:7<br>8xC:maj7_8xE:7_8xA:min7_8xG:7<br>16xF#:7_16xB:maj7_16xB:hdim7_16xE:7(b9)<br>16xF:min7_16xA#:7_32xD#:maj7_16xE:min7<br>16xA:7",
          "8xC:maj7_8xG:13_8xC:maj7_8xG:13<br>8xC:maj7_8xG:13_8xE:min7_8xA:1<br>8xD:min7_8xG:1_8xA#:7(#11)_8xA:7<br>8xD:min9_8xG:7_8xC:maj6_8xC#:9<br>16xC:maj6_8xF:min7_8xA#:7_16xD#:maj7<br>8xG#:min7_8xC#:7_16xF#:maj7_8xB:min7<br>8xE:7_16xA:maj7_8xA:min7_8xD:1",
          "32xA:min6_16xB:hdim7_16xE:7(b9)_16xD:min6<br>16xA:min6_16xG:min7_16xC:7_32xF:maj7<br>32xA#:7_32xC:maj6_16xB:hdim7_16xE:7(b9)",
          "32xB:hdim7_32xE:7_32xB:hdim7_32xE:7<br>16xG:min7_16xC:7_16xF:maj7_16xA#:7<br>16xD:min7_16xG:7_32xC:maj7",
          "8xC:maj7_8xD:min7_8xE:min7_8xD#:dim7<br>16xD:min7_16xG:sus4_16xG:min7_16xC:7<br>8xF:maj7_4xE:min7_4xA:7_8xD:min7<br>8xG:sus4_8xF:maj7_8xG:7_8xC:maj6<br>4xF#:hdim7_4xB:7_8xE:min7_8xB:7(b9)<br>8xE:min7_8xB:7(b9)_8xE:min7_8xC#:hdim7<br>8xF#:hdim7_8xB:7(b9)_8xE:min7_8xB:7(b9)<br>8xE:min7_8xA:7",
          "56xA:min6_8xA:7(b9)_32xD:min7_32xA:min6<br>16xF:7_16xE:7(b9)_32xA:min6_64x<pad>",
          "8xC:maj7_8xA:7_8xD:min7_8xG:7<br>8xE:min7_8xA:7_8xD:min7_8xG:7<br>8xG:min7_8xC:7_8xF:7_8xA#:7<br>8xE:min7_8xA:7_8xD:min7_8xG:7<br>8xD:min7_8xG:7_16xC:maj6_32xE:7<br>32xA:7_32xD:7",
          "32xC:maj7_32xG#:maj7_32xC:maj7_16xE:min7<br>16xA:1_16xD:min7_8xB:hdim7_8xE:7<br>16xA:min7_16xB:aug_16xE:maj7_16xB:13<br>8xE:maj7_8xA:7_8xD:min7_8xG:7",
          "8xC:maj7_4xF:min7_4xA#:7_8xD#:maj7<br>4xB:min7_4xE:7_8xA:maj7_4xG#:min7<br>4xC#:7_8xF#:maj7_4xD:min7_4xG:7<br>8xC:maj7_4xF:min7_4xA#:7_8xD#:maj7<br>4xD:min7_4xG:7_16xC:maj7_16xD:min7<br>16xC:maj7_12xD:min7_4xG:7_96x<pad>",
          "12xA:min_8xE:min7_12xA:min_8xE:min7<br>12xA:min_8xE:min7_12xA:min_8xE:min7<br>12xA:min_8xE:min7_12xA:min_8xE:min7<br>12xA:min_8xE:min7_12xA:min_8xE:min7<br>12xF:maj7_8xD:min6_12xE:min7_8xA:min7<br>12xD:min7_8xG:7_20xC:maj7_12xF:maj7<br>4xD:min6",
          "16xA:min7_8xB:hdim7_8xE:7(b13)_16xA:min7<br>8xB:hdim7_8xE:7(b13)_16xA:min7_8xB:hdim7<br>8xE:7(b13)_16xA:min7_8xB:hdim7_8xE:7(b13)<br>16xD:min7_8xF:7_8xE:7(b13)_16xA:min7<br>8xB:hdim7_8xE:7(b13)_16xA:min7_16xD:min7<br>16xG:7_16xC:min7",
          "32xA:min6_16xA#:min6_16xA:7(b9)_16xD:min7<br>8xB:hdim7_8xE:7(b9)_16xA:min6_8xB:hdim7<br>8xE:7(b9)_32xA:min6_16xF:maj7_8xG#:min7<br>8xC#:7_16xF#:maj7_8xA:min7_8xD:7<br>16xG:maj7_8xA#:min7_8xD#:7",
          "8xA:maj7_8xA#:dim7_8xB:min7_8xE:7<br>8xA:maj7_8xA#:dim7_8xB:min7_8xE:7<br>8xA:maj6_8xA#:dim7_8xB:min7_8xE:aug<br>8xA:maj6_8xF#:7(#9)_8xB:min7_8xE:7<br>8xA:maj6_8xD:9_8xC#:min7_8xA#:dim7<br>8xB:min7_8xE:aug_8xA:maj6_8xA:7<br>8xD:maj6_8xD#:dim7_8xA:maj6_8xA:7<br>8xD:maj6_8xD#:dim7_8xA:maj6_8xA:7",
          "16xB:hdim7_16xE:7(b9)_16xA:hdim7_16xD:7(b9)<br>16xG:hdim7_16xC:7(b9)_32xF:maj7_8xC:min7<br>8xF:7_8xC:min7_8xF:7_8xC:min7<br>8xF:7_16xA#:maj7_8xD:min7_8xG:7<br>8xD:min7_8xG:7_8xD:min7_8xG:7<br>16xC:maj7",
          "16xA:maj6_8xG:min7_8xC:7_16xF:maj7<br>8xB:hdim7_8xE:7(b9)_8xA:min7_8xF#:hdim7<br>8xB:hdim7_8xE:7(b9)_8xA:maj6_8xF#:min7<br>8xB:min7_8xE:7_16xA:maj6_8xE:min7<br>8xA:7_16xD:maj6_8xC:min7_8xF:7<br>16xA#:maj7_8xE:hdim7_8xA:7(b9)_8xD:min7<br>8xB:hdim7_8xE:hdim7_8xA:7(b9)",
          "64xC:13_48xF:13_16xF:7_32xC:13<br>16xA#:13_16xA:aug_16xD:min9_16xG:13<br>16xC:13_16xG:13",
          "16xD:min11_16xD#:maj7_16xD:min11_16xD#:maj7<br>16xD:min11_16xD#:maj7_16xD:min11_8xD#:maj7<br>8xF:min11_8xF#:min11_8xD:min11_8xE:min11<br>8xC:min11_16xB:hdim7_16xC:min11_16xB:hdim7<br>16xC:min11_16xB:hdim7_16xA#:7",
          "16xF:min_16xC:7_32xC#:maj7_16xF:min<br>16xC:7_16xC#:maj7_16xF#:maj7_16xF:maj7<br>16xA:min9_8xE:min7_8xB:7(#9)_8xD:min7<br>8xG:sus4_16xC:maj7_16xC:maj_16xC:maj7<br>16xC:maj",
          "16xD:7_16xG:7_32xC:maj6_16xG:min7<br>16xC:7_32xF:maj7_16xF:maj6_16xA#:7<br>16xC:maj6_16xA:9_32xD:7_16xG:7<br>16xA:7",
          "16xD:min7_16xG:7_16xD:min7_16xG:7<br>16xC:maj7_16xF:7(#11)_16xE:min7_16xA:min7<br>8xE:maj7_8xB:7_16xE:maj6_16xG:min7<br>16xC:7_16xG:min7_16xC:7_16xF:maj7<br>16xA#:7",
          "4xC:maj7_4xA#:7_4xA:9_4xD#:9<br>8xD:9_8xG:13_8xD:9_8xG:13<br>4xE:min7_4xA:7_4xD:min7_4xG:7<br>4xC:maj7_4xA#:7_4xA:9_4xD#:9<br>8xD:9_8xG:13_8xD:9_8xG:13<br>8xC:9_4xG:min7_4xC:9_8xF:maj6<br>8xF#:dim7_4xC:maj6_4xG:7_8xC:9<br>8xF:maj6_8xF#:dim7_4xC:maj6_4xA:7<br>4xD:min7_4xG:7_4xC:maj7_4xA#:7<br>4xA:9_4xD#:9_8xD:9_8xG:13<br>8xD:9_8xG:13_4xC:9_4xB:9<br>4xA#:9_4xA:9",
          "32xC:maj7_32xF:7(#11)_32xC:maj7_16xE:min7<br>16xA:7(b9)_32xD:min7_32xA#:7(#11)_16xE:min7<br>16xD#:dim7_16xD:min7_16xG:7",
          "16xA:maj7_16xA#:7(#11)_16xA:maj7_16xA#:7(#11)<br>16xA:maj7_16xF#:7(#9)_16xF:maj7_16xB:7<br>16xA#:maj7_8xA:min7_8xD:7_8xG:min7<br>8xC:7_16xF:maj7_16xB:min7_16xA#:7<br>16xA:maj7_16xG#:7",
          "16xD:min7_16xG:7_32xC:maj7_16xD:min7<br>16xG:7_32xC:maj7_16xB:min7_16xE:7<br>16xA:min7_16xD:7_16xG:maj7_8xA:min7<br>8xD:7_8xD:min7_4xG:7_4xC:maj<br>16xG:7",
          "16x<nc>_48xF:min7_8xA#:min7_8xD#:7<br>8xG#:min7_8xC#:7_8xG:min7_8xC:7<br>8xC#:min7_8xF#:7_48xF:min7_8xA#:min7<br>8xD#:7_8xG#:maj7_8xF:min7_8xC#:7<br>8xC:7_16xF:min7_8xG:aug_8xC:7(b9)",
          "16xD:min7_16xG:7_16xD:min7_16xG:7<br>16xC:maj7_16xF:7_16xE:min7_16xD#:dim7<br>16xD:min7_8xG:7_8xF:7_16xE:min7<br>16xA:7_16xF#:min7_16xB:7_16xE:maj6<br>8xE:hdim7_8xA:7(b9)",
          "12xG:maj7_12xD:sus4_12xG:maj7_12xD:sus4<br>12xG:maj7_12xD:sus4_12xB:hdim7_12xE:7<br>12xA:min7_12xD:7_12xB:7_12xE:min7<br>24xA:7_6xA#:min7_6xD#:7_6xA:min7<br>6xD:7_12xG:maj7_12xD:sus4_12xG:maj7<br>12xD:sus4_12xG:maj7_4xD:sus4",
          "16xA:min_8xA:min6_8xA:min7_8xD:min7<br>8xG:7_8xC:maj7_8xE:7(b9)_8xE:hdim7<br>8xA:7(b9)_16xD:9_8xD:min7_8xG:sus4<br>8xC:maj6_8xE:7(b13)_8xC:maj6_4xF#:hdim7<br>4xB:7_16xE:min_8xA:min6_8xB:7(b9)<br>8xE:min_8xC#:hdim7_8xC:7(#11)_8xB:7(b9)<br>8xE:min_8xC#:hdim7_8xF#:hdim7_8xB:7(b9)<br>16xE:maj7",
          "8xC:maj7_8xA:min7_8xD:min7_8xG:7<br>8xC:maj7_8xA:min7_8xD:min7_8xG:7<br>8xG:min7_8xC:7_8xF:maj7_4xE:7<br>4xA:7_16xD:7_8xD:min7_8xG:7<br>8xD:7_8xG:7_8xC:maj6_4xF#:hdim7<br>4xB:7_8xE:min7_8xC#:hdim7_8xF#:hdim7<br>8xB:7(b9)_16xE:min7_8xA:7_8xD:7<br>8xG:maj7_8xE:min7_8xA:min7_8xD:7",
          "8xC:maj7_8xF:maj7_8xE:min7_8xG:sus4<br>8xC:maj6_8xF:maj7_8xE:min7_8xG:sus4<br>8xC:maj6_8xD:min7_8xD#:dim7_8xC:maj6<br>32xD:9_8xD:min7_8xG:7_8xB:hdim7<br>8xE:7(b9)_16xA:min7_8xF#:hdim7_8xB:7<br>8xE:min7_8xA:hdim7_8xD:sus4_8xD:7<br>8xD:min7_8xA:7(#9)_8xG#:7(#11)_8xG:7",
          "16xG:maj7_16xA:min7_16xB:min7_16xA:min7<br>16xB:min7_16xA:min7_16xG:maj7_8xD:min7<br>8xG:7_16xC:maj7_8xC#:hdim7_8xF#:7(b9)<br>16xB:min7_16xE:7_16xA#:min7_16xD#:7<br>16xA:min7_16xD:7",
          "8xC:maj7_8xB:7_8xA#:9_8xA:7<br>16xD:min7_16xG:7_8xC:maj7_8xC:dim7<br>8xC:maj7_8xE:aug_16xF:maj6_16xG:7<br>8xC:maj7_8xE:7_8xA:min7_8xC:7<br>8xF:maj7_8xC#:dim7_16xD:min7_16xG:9<br>16xG:7_8xE:min7_8xA:7_8xD:min7<br>8xG:7",
          "8xC:maj6_8xA:min7_8xD:min7_8xG:7<br>8xC:maj7_8xA:min7_8xD:min7_8xG:7<br>16xF:maj6_16xC:maj7_16xB:hdim7_16xE:7<br>16xA:min7_16xD:13_16xA:min7_16xD:13<br>24xD:min7_8xD#:dim7_16xD:min7_16xG:7",
          "8xD:min7_8xG:7_8xD:min7_8xG:7<br>8xC:maj7_8xF:7_8xE:min7_8xA:7<br>8xD:min7_8xG:7_8xD:min7_8xG:7<br>32xC:maj7_8xF#:min7_8xB:7_8xF#:min7<br>8xB:7_8xE:maj7_8xA:7_8xG#:min7<br>8xC#:7_8xF#:min7_8xB:7_8xF#:min7<br>8xB:7_16xE:maj7_16xG:7",
          "64xA#:7(#11)_8xA:7(b13)_8xD:7_8xG:7(b13)<br>8xC:7_8xC#:maj7_4xD:7_4xC#:maj7<br>16xC:maj6_8xD:min7_8xG:aug_16xC:maj7<br>8xD#:min7_8xG#:7(b9)_16xC#:maj7_8xG:hdim7<br>8xC:aug_16xC#:maj7_8xG:7(#11)_8xF#:7(#11)<br>8xF:maj7_8xG:7(#11)",
          "12xC:maj6_12xA#:9_12xA:min7_12xD:13<br>12xA:min13_12xD:9_12xA:min9_12xD:9<br>12xF:min9_12xA#:13_12xC:maj7_12xA#:9<br>12xD:min9_8xG:maj13_4xG:13_88x<pad>",
          "8xF:maj7_8xA:min7_8xA#:min7_8xD#:7<br>16xG#:maj7_8xG:hdim7_8xC:7(b13)_8xF:min7<br>8xD:hdim7_8xG:hdim7_8xC:7(b13)_8xF:maj7<br>8xD:min7_8xG:min7_8xC:7_16xF:maj7<br>8xC:min7_8xF:7_16xA#:maj7_16xB:dim7<br>32xF:maj6_8xB:min7_8xE:7_8xC#:min7<br>8xF#:7(b9)",
          "16xC:maj7_16xA:min7_16xB:min7_16xA#:min7<br>16xA:min7_16xD:7_16xG:maj7_16xD#:aug<br>16xG#:aug_16xC#:min7_16xF#:7(b9)_16xB:maj7<br>16xD#:hdim7_16xG#:7(b9)_16xC#:aug_16xC#:maj7",
          "16xC:maj7_16xF:9_16xA#:9_16xA:7<br>32xD:9_16xD:min7_16xG:7_8xD:min7<br>8xG:7_32xC:maj6_8xB:hdim7_8xE:7<br>16xA:min6_8xB:hdim7_8xE:7_16xA:min6<br>8xB:hdim7_8xE:7",
          "8xC:maj7_8xA:min7_8xD:min7_8xG:7<br>8xC:maj7_8xC:7_8xF:maj6_8xA#:7<br>8xE:min7_8xA:7(b13)_8xD:min7_8xG:7<br>8xE:min7_8xA:7(b9)_8xD:min7_8xG:7<br>32xC:maj6_16xC:min7_16xF:7_16xD:7(b9)<br>16xG:maj7_16xA:hdim7_16xD:7",
          "12xA#:maj_12xA:7_24xD:min7_12xB:hdim7<br>12xE:7_12xA:min7_12xC#:maj7_6xF#:hdim7<br>6xB:7(b9)_12xE:maj7_12xF:maj7_12xE:maj7<br>12xF:maj7_12xE:maj7_6xD#:hdim7_6xG#:7(b9)<br>24xC#:min7_12xA#:hdim7_12xD#:7_12xG#:maj7<br>12xD:7_4xG:maj7",
          "16x<nc>_16xD:min7_16xG:7_16xC:maj7<br>16xF:maj7_16xB:hdim7_16xE:7_32xA:min<br>16xE:7_32xA:min_16xB:hdim7_16xE:7<br>32xA:min",
          "16xA:min_8xB:hdim7_8xE:7(b9)_16xA:min<br>8xB:hdim7_8xE:1_8xA:min_8xA:1<br>8xA:min7_8xA:min6_8xD:min6_8xA:min<br>16xB:hdim7_16xE:1_16xE:7_32xA:min<br>32xB:7(b9)_32xE:7",
          "16xF:maj_16xG:maj_16xC:maj_16xC:7<br>16xF:maj_8xG:maj_8xE:maj_24xA:min<br>8xC:7_16xF:maj_12xG:maj_4xE:maj<br>16xA:min_8xD:7_8xD#:dim7_16xC:maj<br>16xF:maj_12xG:7_20xC:maj",
          "8xA:min_4xB:7_4xE:7_8xA:min<br>8xF:9_8xA:min_8xF#:hdim7_8xB:hdim7<br>8xE:7_8xA:min_4xB:7_4xE:7<br>8xA:min_8xF#:hdim7_8xF:9_8xE:aug<br>8xA:min_4xB:hdim7_4xE:7_16xA:min<br>8xG:min9_8xC:13_8xF:maj7_8xF#:dim7<br>8xG:min9_8xC:13_16xF:maj7_8xF#:min9<br>8xB:13_16xE:maj7_8xA#:min7_8xD#:7",
          "32xC:maj7_32xA:7(b9)_16xD:min7_16xG:7<br>16xC:maj7_8xG:min7_8xC:7_32xF:maj7<br>32xD:7(b9)_16xG:min7_16xC:7_16xF:maj<br>16xG:7(#9)",
          "8xA:hdim7_8xF:maj_8xE:7_8xA:min7<br>8xD:9_8xA:min7_16xD:9_16xD:min7<br>4xE:aug_4xA:7_4xD:7_4xG:13<br>8xC:maj6_8xA:min7_8xD:min7_8xG:7<br>8xC:maj6_8xF#:dim7_8xG:min7_8xC:7<br>32xF:maj6_32xA#:7_16xC:maj7_8xE:min7<br>8xA:7",
          "16xD:min7_16xG:min11_8xC:maj7_4xD:min7<br>4xD#:dim_8xC:maj_8xA:min7_16xD:min7<br>16xG:min11_8xC:dim7_8xC:maj7_8xC:dim7<br>8xC:maj7_32xE:maj7_16xF:maj7_8xE:min7<br>8xA:7(b9)_8xD:min7_8xG:min11_16xC:maj7<br>8xF#:hdim7_8xB:7_16xE:min7",
          "80xD:7_16xG:7_32xD:7_16xG#:7<br>16xG:7_32xD:7_64x<pad>",
          "64xE:min7_32xA:7_32xE:min7_16xD#:13<br>16xF:13_32xE:min7_64x<pad>",
          "16xC:maj6_16xB:7_48xC:maj6_8xE:min7<br>8xA:7(b9)_16xD:min7_8xG:7_8xA:7(b9)<br>16xD:min7_16xA:7(b9)_16xD:min7_16xA:7(b9)<br>32xD:7_16xD:min7_16xG:7",
          "12xC:maj7_12xA:min7_12xD:min9_12xG:9<br>12xC:maj7_12xC:13_12xF:maj7_12xA#:13<br>12xA:maj7_12xF#:min7_12xB:min7_12xE:7(b9)<br>12xA:min7_12xD:13_12xD:min7_12xG:aug<br>12xC:maj7_12xA:min7_12xD:min9_12xG:9<br>12xC:maj7_4xC:13",
          "16xA:7_16xD:7_32xA:7_32xD:7<br>32xA:7_16xB:min7_16xE:7_8xA:7<br>8xF#:7_8xB:min7_8xE:7_64x<pad>",
          "16xG:7_16xD:maj6_16xG:7_16xD:maj6<br>16xC:7(#11)_16xD:maj6_8xA#:7_8xF:7(#11)<br>4xG:maj6_4xG#:maj6_8xA:maj6_32xD#:maj6<br>32xD:maj6_16xF:min7_16xA#:7_8xE:min7<br>8xA:7_8xD#:min7_8xG#:7",
          "64xC:maj7_64xD:min7_64xC:maj7_16xA:min<br>16xA:minmaj7_16xA:min7_16xA:min6",
          "16xD:7_8xD:min7_8xG:7(b9)_16xE:min7<br>16xA:7(b9)_16xD:7_8xD:min7_8xG:7(b9)<br>16xC:7_16xC:aug_8xF:maj6_8xF:min6<br>8xC:maj6_8xC:7_8xF:maj6_8xF:min6<br>8xE:hdim7_8xA:7(b9)_16xD:7_8xA:min7<br>8xD:7_8xD:min7_8xG:7_8xE:hdim7<br>8xA:7(b9)",
          "64xB:min_48xD:min_8xD:min7_8xG:7<br>16xC:maj7_8xC:min7_8xF:7_16xA#:maj7<br>8xA#:min7_8xD#:7_16xG#:maj7_8xA:min7<br>8xD:7_16xG:maj7_16xF#:7(#9)",
          "8xC:maj7_8xA#:7_16xG#:7_16xD:min7<br>16xG:7_8xG:min7_8xC:7(b9)_8xF:maj7<br>8xA#:7_16xD:7_16xG:7_16xD:min7<br>16xG:7_16xD:min7_16xG:7_16xD:min7<br>16xG:7_16xD:min7_16xG:7",
          "64xA:min7_32xD:min7_32xA:min7_16xF:7<br>16xE:7_32xA:min7_64x<pad>",
          "16xC:maj7_16xE:7(b13)_8xD:min7_8xA:7(b13)<br>8xD:min7_8xA:7(b13)_16xD:min7_16xG:7<br>16xC:maj7_8xB:hdim7_8xE:7(b9)_32xA:min7<br>48xD:min7_16xG:aug_16xC:maj7_16xG:aug",
          "8xC:maj6_8xA:7(b9)_8xD:min7_8xD#:dim7<br>8xC:maj_8xA:7(b9)_8xD:min7_8xG:7<br>16xC:7_8xF:maj6_8xF#:dim7_8xC:maj<br>8xA:7(b9)_8xD:7_8xG:7_8xC:maj<br>8xA:min7_8xD:min7_4xG:7_4xC:maj<br>16xB:min7_16xE:7_16xA#:min7_16xD#:7<br>16xA:min7_16xD:7",
          "8xC:maj7_8xC#:dim7_8xD:min7_8xG:7<br>8xC:maj7_8xC:7_8xF:maj7_8xA#:7<br>8xC:maj7_8xA:min7_8xG#:7_8xG:7<br>8xC:maj7_8xA:min7_8xD:min7_8xG:7<br>16xC:maj7_16xF:7_8xE:hdim7_8xA:7(b9)<br>16xD:min7_8xD:hdim7_8xG:7_16xC:maj7<br>8xE:hdim7_8xA:7(b9)_16xD:min7",
          "8xC:maj_8xA:min7_8xE:min7_4xG:min7<br>4xC:7_8xF:maj7_4xB:hdim7_4xE:7<br>8xA:min_8xF:min6_8xC:maj7_8xD:min7<br>8xC:maj7_4xF:min7_4xA#:9_8xC:maj7<br>8xA:min7_8xD:min7_8xG:7_8xC:maj7<br>8xA:min7_8xD:min7_8xG:7_16xC:maj7<br>8xF#:hdim7_8xB:7_8xE:maj7_8xC#:min7<br>8xF#:min7_8xB:7_8xG#:min7_8xG:dim7<br>8xF#:min7_8xB:7",
          "16xC:maj6_8xD:min7_8xG:7_16xC:maj6<br>8xD:min7_8xG:7_16xC:maj6_8xE:hdim7<br>8xA:7(b9)_24xD:min7_8xA:7(b9)_24xD:min7<br>8xA:aug_16xD:min7_16xG:7_16xD:min7<br>8xG:maj13_8xG:13_16xC:maj6_8xD:min7<br>8xG:13",
          "16xC:7_16xF:7_32xC:7_16xF:7<br>16xF#:dim7_16xC:7_8xE:min7_8xA:7<br>16xD:min7_16xG:7_8xC:7_8xA:7<br>8xC:7_8xA:7_64x<pad>",
          "16xD:min7_4xA#:7_4xA:7_4xG#:7<br>4xG:7_16xC:maj7_4xC:7_4xB:7<br>4xA#:7_4xA:7_16xD:7_8xD:min7<br>8xG:13_16xE:min7_16xA:7(b9)_16xC:maj6<br>8xC#:hdim7_8xF#:7_8xB:maj7_8xG#:min7<br>8xC#:min7_8xF#:7_8xD#:min7_8xG#:7(b9)<br>8xC#:min7_8xF#:7_8xB:maj7_8xG#:min7<br>8xC#:min7_8xF#:7",
          "16xC:maj6_16xF:7_16xC:maj6_16xC#:dim7<br>16xD:min7_16xG:7_32xC:maj6_16xG:min7<br>16xC:7_32xF:maj6_32xD:7_16xD:min7<br>16xG:7",
          "16xG:maj6_16xC:7_16xG:maj6_8xB:min7<br>8xE:7_16xA:min7_16xD:7_16xG:maj6<br>16xD:7_16xG:maj6_16xC:7_16xC#:dim7<br>16xG:maj6_8xB:min7_8xE:7_32xA:7<br>16xD:7",
          "112xA:min7_8xE:7(#9)_8xA:min7_16xE:hdim7<br>16xA:7(b9)_48xD:min7_16xG:7_16xC:7<br>16xE:7(b9)",
          "32xC#:9_32xD:min11_32xC#:9_32xD:min11<br>16xB:hdim7_16xE:7(b9)_16xA:min7_16xD:9<br>16xD:min11_16xC#:7(#9)_32xC:maj7",
          "16xE:maj7_16xA#:7_8xA:7_4xA#:hdim7<br>4xD#:7_16xG#:7_8xG#:hdim7_8xC#:7<br>16xF#:hdim7_8xE:maj7_4xF#:min7_4xB:sus4<br>8xE:maj6_4xF#:min7_4xB:7_8xE:maj6<br>4xC:min7_4xF:7_16xA#:maj7_8xD:min7<br>8xC#:dim7_8xC:min7_8xF:7_8xF:min7<br>8xA#:7_16xD#:maj7_8xE:13_8xD#:7<br>8xG#:maj7_8xG:hdim7",
          "16xA:min7_16xG:maj_16xA:min7_16xG:maj<br>16xA:min7_16xG:maj_32xA:min7_16xD:min7<br>16xG:13_16xC:maj7_16xC:7_8xF#:hdim7<br>8xF:min6_8xA:min7_8xE:min7_32xA:min7",
          "8xC:maj6_8xC#:dim7_8xD:min7_8xG:7<br>8xC:maj7_8xC#:dim7_8xG:min7_8xG:7<br>8xC:maj7_8xC:7_8xF:maj7_8xF:maj6<br>8xE:min7_8xD#:dim7_8xD:min7_8xG:7<br>16xG:min9_16xC:7_16xG:min9_16xC:7<br>8xB:hdim7_8xE:7(b9)_16xA:min7_16xD:min7<br>16xG:7",
          "12xA:min_12xE:7_12xG:min7_12xF:maj7<br>12xB:7_12xE:7_12xA:min7_12xE:7<br>12xA:min_12xE:7_12xG:min7_12xF:maj7<br>12xB:7_12xE:7_12xA:min7_12xE:7<br>16xA:min_4xE:7_4xA:min7_12xF#:hdim7<br>12xB:7_12xE:7_4xA:7",
          "16xC:maj7_16xF:9_16xC:min9_16xF:13<br>16xD:min9_16xA#:9_16xC:maj7_8xE:min7<br>8xA:7_16xD:hdim7_16xG:13_16xD:hdim7<br>8xG:13_8xG#:dim7_16xA:min7_16xD:13<br>16xD:min7_16xG:7",
          "8xC:maj7_8xA:7_8xD:min7_8xG:7<br>8xE:min7_8xA:7_8xD:min7_8xG:7<br>16xC:maj7_16xD:min7_16xE:min7_16xA:7<br>16xD:min7_8xB:hdim7_8xE:7(b9)_16xA:min7<br>16xA:7(b9)_32xD:9_16xD:min7_16xG:7",
          "16xG:7_16xG:dim7_8xG:7_8xC:7<br>8xF:7_8xA#:7_8xC:maj7_8xD#:dim7<br>8xD:min7_4xG:7_4xC:7_8xF:maj7<br>4xD:min7_4xG:7_8xE:min7_8xA:7<br>8xC:maj6_4xG:min7_4xC:7_8xF:maj7<br>8xA#:7_8xF:maj7_8xA#:7_8xF:maj7<br>8xA#:7_8xF:maj7_4xF#:hdim7_4xB:7<br>8xE:min7_8xB:7(b9)_8xE:min7_8xB:7(b9)<br>8xE:min7_8xB:7(b9)",
          "4x<nc>_16xD:min7_8xF:min6_8xA#:7<br>16xE:min7_16xD#:dim7_16xD:min7_8xE:min7<br>8xA:7(b9)_8xD:min7_8xG:7(b9)_8xE:min7<br>8xA:7(b9)_16xD:min7_8xF:min6_8xA#:7<br>16xE:min7_16xD#:dim7_16xD:min7_8xE:min7<br>8xA:7(b9)_8xD:min7_8xG:7(b9)_8xG:min7<br>4xC:7",
          "16xG:7_16xC:7_32xG:7_32xC:7<br>32xG:7_32xD:7_32xG:7_64x<pad>",
          "16xC:maj7_16xA:7_32xD:7_16xD:min7<br>16xG:7_16xC:maj7_8xG:min7_8xC:7<br>16xF:maj7_16xA#:7_16xC:maj7_16xA:7<br>48xD:7_16xG:7",
          "16xD:maj7_16xC#:maj7_16xF:maj7_16xE:maj7<br>16xG#:1_16xA:maj7_64xA:min7_16xC#:min7<br>16xA#:min7_32xG:min7_16xE:min7_16xG:min7",
          "12xE:min7_12xF:7(#9)_12xE:min7_12xF:7(#9)<br>12xE:min7_12xF:7(#9)_12xE:min7_6xF:7(#9)<br>6xE:min7_12xA:13_12xA#:13_12xA:13<br>12xB:7(b13)_12xE:min7_12xF:7(#9)_12xE:min7<br>6xF:7(#9)_6xE:min7_12xC:13_6xC#:13<br>6xC:13_12xB:7(b13)_6xC:13_6xB:7(b13)<br>12xE:min7_4xF:7(#9)",
          "64xG:7(#9)_32xC:9_32xG:7(#9)_16xD:9<br>16xC:9_16xD:9_16xC:9_16xD:9<br>16xC:9_32xG:7(#9)",
          "16xF:maj7_8xA:min7_8xD:7(#11)_16xG:min7<br>16xC:7(#11)_16xB:7_8xA#:min7_8xD#:7<br>16xG:min7_16xG:7(#9)_16xC:min7_16xF:7(#11)<br>16xA#:maj7_16xD#:7_16xD:min7_16xA:7(#11)<br>16xG:7_16xC:7(#11)",
          "8xC:maj6_8xA:7_8xD:7_8xG:7<br>8xC:maj6_8xA:7_8xD:7_8xG:7<br>8xC:maj6_8xA:7_8xD:7_8xG:7<br>8xC:maj6_8xA:min7_8xD:min7_8xG:7<br>8xC:maj6_8xD:min7_8xD#:dim7_8xC:maj6<br>8xD#:dim7_8xC:maj6_8xD#:dim7_8xC:maj6<br>8xD#:dim7_8xC:maj6_8xD#:dim7_8xC:maj6<br>8xD#:dim7_8xC:maj6_8xD#:dim7_8xC:maj6",
          "48xC:maj6_16xA:7_16xD:min7_16xG:7(b9)<br>8xC:maj6_8xA:7(b9)_8xD:min7_8xG:7(b9)<br>32xC:maj6_16xG:min7_16xC:7_32xF:maj7<br>16xF:min7_16xA#:7",
          "16xA:min6_8xB:hdim7_8xE:7(b9)_16xA:min6<br>8xE:hdim7_8xA:7(b9)_32xD:min7_32xA:min6<br>8xC:min7_8xF:7_8xB:hdim7_8xE:7(b9)<br>32xA:min6_64x<pad>",
          "16xB:hdim7_16xE:7(b9)_32xA:minmaj7_16xF#:hdim7<br>16xB:7(b9)_32xE:maj7_16xE:min7_16xA:7(b9)<br>32xD:maj7_32xC:7(b9)_32xB:7(b9)",
          "8xG:min_8xD#:maj_8xG:min6_8xG:min7<br>8xC:maj7_8xF:maj7_8xE:hdim7_8xA:7<br>8xD:min7_4xF:min7_4xA#:7_8xE:min7<br>4xD#:min7_4xG#:7_8xD:min7_8xG:7(#9)<br>16xC:maj6_8xB:hdim7_8xE:7(#9)_16xA:min6<br>8xB:min7_8xE:7_16xA:maj7_8xA:min7<br>8xD:7(#9)_16xG:maj7_8xG#:min7_8xC#:7<br>8xG:min7_8xC:7",
          "32xF:maj6_32xF:min6_16xC:maj6_16xB:7<br>32xC:maj6_64xA:7_32xD:7_16xD:min7<br>16xG:7",
          "16xC:maj7_8xE:min7_8xA:7_8xD:min7<br>8xG:7_8xC:maj7_8xC:aug_8xF:7<br>8xF#:dim7_8xE:hdim7_8xA:7_8xD:min7<br>8xG:7_24xC:maj7_8xB:7(b13)_16xE:min7<br>8xA#:min7_8xD#:7_8xD:maj7_8xE:min7<br>8xF#:min7_8xB:7_8xF:min7_8xA#:7<br>8xE:min7_8xA:7_8xD#:min7_8xG#:7",
          "16xC:maj_16xD:maj_8xG:min7_8xG:aug<br>32xC:maj_16xD:maj_16xG#:7_16xG:7<br>16xC:maj_16xC:7_16xF:maj6_16xA#:7<br>16xC:maj_16xD:maj_8xG:min7_8xG:aug<br>16xC:maj",
          "16xD:7_16xG:7_32xD:7_32xG:7<br>32xD:7_32xA:7_32xD:7_64x<pad>",
          "16xA:min_8xB:hdim7_8xE:7(b9)_16xA:min<br>8xB:hdim7_8xE:7(b9)_16xA:min_8xD:min7<br>8xG:7_16xC:maj7_16xA:7(b9)_16xD:min7<br>16xG:7_16xC:maj7_16xF:maj7_16xB:hdim7<br>16xE:7_16xA:min_8xB:hdim7_8xE:7(b9)",
          "8xF:maj7_8xA#:13_16xF:maj7_8xA:min7<br>8xE:aug_8xA:min7_8xD:9_8xG:min7<br>8xD:7_8xG:min7_8xC:7_8xA:min7<br>8xD:7_8xG:min7_8xC:7_8xF:maj6<br>8xA#:min7_8xF:maj6_4xB:min7_4xE:7<br>8xA:maj7_8xF#:min7_8xB:min7_8xE:7<br>8xC#:min7_8xC:dim7_8xB:min7_8xE:7<br>8xA:maj7_8xF#:min7_8xB:min7_8xE:7",
          "32xC:maj7_16xC:min7_16xF:7_32xD:min7<br>16xF:min7_16xA#:7_16xC:maj7_8xD#:min7<br>8xG#:7_16xD:min7_8xB:hdim7_8xE:7(#11)<br>16xC:maj7_8xD#:min7_8xG#:7_16xD:min7<br>16xG:7",
          "16xC:min_8xA#:min7_8xD#:7_16xG#:maj7<br>8xD:min7_8xG:7_16xC:maj7_8xE:hdim7<br>8xA:7(b9)_16xD:min7_8xB:hdim7_8xE:7(b9)<br>8xA:min_4xG:7_4xF:min7_8xE:min7<br>8xA:min7_16xD:min7_8xB:hdim7_8xE:7(b9)<br>16xA:min_8xA#:min7_8xD#:7_16xG#:maj7<br>8xD:hdim7_8xG:7(b9)",
          "8xC:maj6_8xA:min7_8xD:min7_8xG:7<br>16xC:maj7_8xD:min7_8xG:7_16xC:maj6<br>8xD:min7_8xG:7_16xC:maj6_8xD:min7<br>8xG:7_8xD#:maj6_8xC:min7_8xF:min7<br>8xA#:7_16xD#:maj7_16xD:7_16xG:maj7<br>16xE:min7_16xD:min7_16xG:7",
          "8xA:min7_24xA#:maj7_8xA:min7_24xA#:maj7<br>8xA:min7_24xA#:maj7_16xA:min7_16xD#:7(#11)<br>16xD:7(#11)_8xC:min7_8xF:7_16xA:min7<br>16xD#:7(#11)_16xD:7(#11)_8xC:min7_8xF:7<br>8xA:min7_24xA#:maj7",
          "16xA:min6_8xB:hdim7_8xE:7(b9)_16xA:min6<br>8xE:hdim7_8xA:7(b9)_32xD:min7_8xE:hdim7<br>8xA:7(b9)_16xD:min7_8xB:hdim7_8xE:7(b9)<br>16xA:min6_8xB:hdim7_8xE:7(b9)_32xA:min6<br>48x<pad>",
          "8xD:7_8xD#:13_16xD:7_16xD:min9<br>16xG:7_8xB:maj_8xC:maj_8xB:maj<br>8xC:maj_32xC:maj9_8xG:min7_8xC:7<br>16xF:maj6_16xA#:9_16xC:maj7_32xD:7<br>20xG:9_4xF:9_4xE:7_4xD#:7",
          "32xF:maj6_16xG:min7_16xC:7_8xF:maj7<br>8xG:min7_8xA:min7_8xA#:maj7_16xC:min7<br>16xF:7_16xA#:maj7_8xG:min7_8xE:7(#9)<br>16xA:min7_16xD:min7_8xA#:maj7_8xE:hdim7<br>8xA:min7_8xD:7_16xG:min7_16xC:7",
          "8xC:maj7_8xF:7_8xE:min7_8xD#:dim7<br>16xD:min7_16xG:7_8xC:maj7_8xF:7<br>8xE:min7_8xD#:dim7_16xE:hdim7_16xA:7(b13)<br>16xD:min7_8xF:min6_8xA#:7_8xE:min7<br>8xA:min7_8xF#:hdim7_8xB:7(b9)_8xE:maj7<br>8xC#:min7_8xF#:min7_8xB:7_16xE:maj7<br>8xD:min7_8xG:7",
          "16xD:7_8xD:min7_8xG:7_8xC:maj6<br>8xF:7_8xE:min7_8xA:7_16xD:7<br>8xD:min7_8xG:7_8xA#:7_8xA:7<br>8xF#:min7_8xB:7_8xE:min7_8xA:7<br>8xD:min7_8xG:7_8xC:maj7_8xF:maj7<br>8xB:hdim7_8xE:7_16xA:min7_16xD:7<br>16xD:min7_8xG:7_8xA:7",
          "16xC:maj7_8xF#:sus4_8xF#:aug_24xB:min7<br>8xE:aug_16xA:hdim7_16xD:aug_24xD:min7<br>8xG:aug_16xG:min7_16xC:aug_16xF:min9<br>16xA#:7(#9)_16xE:hdim7_8xD#:sus4_8xD#:7<br>8xD:sus4_8xD:7_16xC#:9",
          "2x<nc>_16xA:min6_8xB:hdim7_8xE:7(b9)<br>16xA:min6_8xB:hdim7_8xE:7(b9)_16xA:min6<br>8xE:hdim7_8xA:7(b9)_32xD:min7_8xF#:min7<br>8xB:7_8xD:min7_8xG:7_16xC:maj7<br>8xB:hdim7_8xE:7(b9)_32xA:maj7_30xE:hdim7",
          "24xA:min_12xA:min6_12xA:min7_12xD:min7<br>12xE:min7_12xF:maj7_12xG:sus4_24xA:min<br>12xA:min6_6xG:min7_6xC:7_12xF#:aug<br>12xF:7(#11)_12xE:aug_12xA:min_12xD:min7<br>12xA:7(b9)_12xD:min7_12xA:7(b9)_6xD:min7<br>6xD#:13_4xG#:maj7",
          "16xA:min7_16xF:maj7_16xD#:maj7_16xF:sus4<br>8xA#:maj7_8xE:13_16xD#:maj7_16xE:min7<br>16xA:7_16xD:min9_16xG:7_32xC:maj7<br>16xF#:hdim7_16xB:7(b9)_16xB:hdim7_16xE:7",
          "16xA:maj7_16xD:maj6_16xC#:min7_16xF#:7(b9)<br>16xB:min7_16xE:7_8xA:maj7_8xF#:min7<br>8xB:min7_8xE:7_16xA:maj7_16xD:maj6<br>16xA:maj7_16xF#:7(b9)_16xB:min7_16xE:7<br>32xA:maj7",
          "16xD:min7_16xG:7_16xC:maj6_8xE:min7<br>8xA:7_16xD:min7_16xG:7_16xC:maj6<br>8xE:min7_8xA:7_16xC:maj6_32xE:7<br>32xA:7_32xD:7_16xG:7",
          "32xC:maj7_32xF:7_16xC:maj7_16xA:min7<br>16xD:min7_16xG:7_32xC:maj7_32xF:7<br>8xE:min7_8xA:min7_8xD:min7_8xG:7<br>32xC:maj6",
          "16xF:min6_16xC:maj7_48xF:min6_16xC:maj7<br>32xF:min6_16xE:min7_16xA:7_16xD:min7<br>16xG:7_8xC:maj7_8xB:7_8xA#:7<br>8xA:7_16xD:min7_16xG:7",
          "16xF:maj7_16xC:sus4_16xF:maj7_8xA:min7<br>8xD:7_16xG:min7_8xA:min7_8xD:min7<br>8xG:min7_8xC:sus4_16xF:dim7_16xC:sus4<br>8xC:7_8xC:aug_16xE:min7_8xF:min<br>8xG:7_16xE:min7_16xG:sus4_16xE:min7<br>8xF:min_8xG:7",
          "48xC:maj7_24xD:min7_24xG:7_24xD:min7<br>24xG:7_96xC:maj7_16xB:hdim7",
          "16xA:min7_8xB:hdim7_8xE:7(b9)_16xA:min7<br>8xF#:hdim7_8xB:7(b9)_16xE:min7_8xF#:hdim7<br>8xB:7(b9)_8xE:min7_8xD#:7_8xD:min7<br>8xG:7_32xC:7_32xF:7_32xG#:7<br>16xG:7_8xB:hdim7_8xE:7(b9)",
          "8xA:min7_8xE:7(#9)_8xA:min7_8xD#:13<br>8xF#:maj7_8xA:maj6_8xG:maj9_4xG#:min<br>4xC#:7_8xF#:min7_8xE:aug_8xA:maj6<br>4xA:13_4xC#:7_8xC:maj6_8xB:7<br>8xA#:maj7_8xA:min7_8xD:min7_8xC:maj<br>8xA#:maj7_8xA:min7_8xD:min7_8xA#:maj6<br>8xG:min9_8xE:min11_8xF:maj7_8xD#:7(#11)<br>8xD:min9_8xG:9_8xC:min7_8xF:7<br>8xB:hdim7_8xE:7",
          "16xA:maj7_16xG#:aug_16xC#:hdim7_16xF#:7<br>16xB:hdim7_16xE:7_16xA:maj7_8xB:min7<br>8xE:7_8xE:min7_8xA:7_16xD:7<br>16xD#:dim7_16xA:maj_8xE:min7_8xA:7<br>16xD:7_16xD#:dim7_16xF:7",
          "16xC:maj6_16xC:min7_16xG:min7_16xA:7(b9)<br>16xD:hdim7_16xG:7_8xE:aug_8xA:7<br>8xD:aug_8xG:7_8xC:maj6_8xF:7<br>8xC:maj6_4xB:7_4xE:7_8xA:min6<br>8xF#:hdim7_8xB:aug_8xE:7(b9)_16xA:min6<br>16xE:7(b9)_8xA:min6_8xF#:hdim7_8xB:aug<br>8xE:7(b9)",
          "16xC:maj7_8xD:min7_8xG:7_8xE:min11<br>8xA:7_8xD:min7_8xG:7_16xC:maj7<br>8xD:min7_8xG:7_16xC:maj7_8xD:min7<br>8xG:7_8xF#:min7_8xB:7_16xE:maj7<br>8xF#:min7_8xB:7_16xE:maj7_8xE:min7<br>8xA:7_16xD:maj7_8xA:min7_8xD:7<br>16xD:min7",
          "16xG:7_16xF:7_16xG:7_16xF:7<br>16xG:7_16xF:7_16xG:7_16xF:7<br>16xG:7_16xF:7_16xG:7_16xF:7<br>16xG:7_16xF:7_16xG:7_16xF:7",
          "16xG:maj7_8xA:min7_8xD:7_16xG:maj7<br>8xC#:hdim7_8xF#:7(b9)_8xB:min7_8xA#:7<br>8xA:min7_8xG#:7_8xG:maj7_4xA#:7<br>4xD#:maj_16xG#:7_16xG:maj7_16xC#:7<br>8xC:maj7_8xA:min7_8xD:min7_8xG:7<br>16xC:maj7_8xB:hdim7_8xE:7_16xA:min7<br>8xB:hdim7_8xE:7",
          "128xA:min11_128xA#:min11",
          "32xC:maj7_16xB:hdim7_16xE:7(b9)_16xA:min7<br>16xD:7_16xG:min7_16xC:7_16xF:maj7<br>8xF:min7_8xA#:7_32xC:maj7_16xF#:hdim7<br>16xB:7(b9)_8xE:min7_8xA:7_8xD:min7<br>8xG:7",
          "16xA:min_16xE:7_16xA:min7_16xF#:hdim7<br>16xD:min7_16xA:7_8xD:min7_8xB:hdim7<br>8xE:sus4_8xE:7(b9)_16xA:maj7_16xD:min6<br>16xA:maj7_8xE:min7_8xA:7(b9)_16xD:maj7<br>8xD#:hdim7_8xG#:7(b9)_8xC#:maj7_8xG#:7(b9)<br>8xC#:maj7_8xG:7(b9)",
          "32xD:min9_24xG:min13_8xG:7_16xC:maj6<br>16xF:9_16xE:min7_16xA:7_32xC:maj6<br>32xG:min7_8xC:sus4_8xC:7_16xC:9<br>32xF:maj7",
          "8xD:hdim7_8xG:7(b9)_16xC:maj7_8xB:hdim7<br>8xE:7(b9)_16xA:min7_8xF#:7_8xF:7<br>8xE:min7_8xD#:7_8xD:min7_8xC#:7(#11)<br>24xC:maj7_4xG:min7_4xC:7_16xF:maj7<br>8xF:dim7_8xF:maj7_8xF:min6_8xE:7(#9)<br>16xA:min7_8xB:hdim7_8xE:7(b13)_16xA:min7<br>8xA:hdim7_8xD:7(b9)",
          "8xC:maj7_8xC#:dim7_8xD:min7_8xG:7<br>8xC:maj7_8xF:maj7_8xE:hdim7_8xA:7<br>8xD:min7_8xA:aug_8xD:min7_8xG:7<br>8xE:7_8xA:7_8xD:min7_8xG:7<br>16xC:maj7_8xG:min7_8xC:9_8xF:maj7<br>8xD:min7_8xF#:min7_8xB:7_16xE:min7<br>8xC#:hdim7_8xF#:7(b9)_8xB:min7_8xE:min7<br>8xA:min7_8xD:7",
          "16xC:maj7_16xG:aug_16xC:maj7_16xG:aug<br>8xC:maj7_8xF:7(#11)_8xE:min7_8xD#:dim7<br>16xD:min7_16xG:7_16xD:min7_8xB:hdim7<br>8xE:7(b9)_32xA:min7_32xD:7_16xD:min7<br>16xG:7",
          "16xA:maj6_16xC#:7_32xF#:7_16xB:7<br>16xE:7_32xA:maj6_8xE:min7_8xA:7<br>8xE:min7_8xA:7_8xF:min7_8xA#:7<br>16xA:7_8xF#:min7_8xB:7_24xA#:7<br>8xF:7_8xB:min7_8xE:7",
          "48xD:min9_8xD:min7_8xG:7_16xC:maj7<br>16xF:9_16xE:min7_16xA:9_16xD:min7<br>16xE:7_16xA:min_8xA:minmaj7_24xA:min7<br>16xD:9_16xD:min7_8xE:min7_8xA:7",
          "16xB:hdim7_16xE:7(b13)_8xF:maj7_8xD#:maj7<br>8xC#:min7_8xF#:7_8xD:min7_8xG:7<br>8xC:maj7_4xB:hdim7_4xE:7_16xA:min7<br>8xF:min7_8xA#:7_8xE:7_8xD#:7<br>16xD:7_16xC#:maj7_8xD:min7_8xG:aug<br>16xC:maj7_8xB:hdim7_8xE:7(b13)_32x<pad>",
          "32xA:maj7_16xA:min7_16xD:7_32xG:maj7<br>16xG:min7_16xC:7_16xF:maj7_8xB:hdim7<br>8xE:7(b9)_16xA:min7_8xB:hdim7_8xE:7(b9)<br>16xC#:min7_16xF#:min7_16xB:min7_16xE:7",
          "64xD:7_32xG:7_32xD:7_16xA:7<br>16xG:7_32xC:7_32xD:7_32x<pad>",
          "16xD:min7_16xG:7_8xC:maj6_8xF:7<br>8xE:min7_8xA:7(#9)_8xD:min7_8xG:7<br>8xD:min7_8xG:7_16xC:maj7_16xA:7(b9)<br>16xD:min7_16xG:7_16xC:maj6_8xF#:hdim7<br>8xB:7(b9)_8xE:maj7_8xC#:min7_8xF#:min7<br>8xB:7_16xE:7_16xA:7(b9)",
          "96xA:min_32xE:7_64xA:min_16xA:7<br>16xD:7_8xB:7_8xE:7_16xA:min",
          "96xA:min6_16xE:hdim7_16xA:7(b9)_16xD:min7<br>16xG:7_16xC:maj7_16xF:7_16xF#:hdim7<br>16xB:7(b9)_16xB:hdim7_16xE:7(b9)",
          "16xC:maj7_8xD:min7_8xG:7_16xC:maj7<br>16xF:7_16xC:maj7_8xG#:7_8xG:sus4<br>16xC:maj6_8xD:min7_8xG:7_16xC:maj7<br>8xD:min7_8xG:7_16xC:maj7_8xF#:hdim7<br>8xB:7(b9)_16xE:min7_8xC:7_8xB:sus4<br>16xE:min7_16xA:aug",
          "32xD:maj6_32xG:7_16xD:maj6_8xG:min7<br>8xC:7_8xE:min7_8xA:7_16xD:maj6<br>8xA:min7_8xD:7_8xA:min7_8xD:7<br>8xB:min7_8xE:min7_8xB:min7_8xE:min7<br>8xC:min7_8xF:7_8xC:min7_8xF:7<br>8xB:min7_8xE:min7_8xA#:min7_8xD#:7",
          "64xA:min_32xD:min6_32xA:min_32xE:7<br>8xA:min_8xD:min6_16xA:min_32xF:7<br>16xA:maj_8xC#:min7_8xC:dim7",
          "8xC:maj7_8xD#:dim7_8xD:min7_8xG:7<br>8xC:maj7_8xD#:dim7_8xD:min7_8xG:7<br>8xE:min7_8xA:min7_32xD:7_8xD:min7<br>8xG:7_8xC:maj7_8xD#:dim7_8xD:min7<br>8xG:7_8xC:maj7_8xD#:dim7_8xD:min7<br>4xF:min7_4xA#:7_8xE:min7_8xA:min7<br>16xD:7_8xC:maj_8xA:min7_8xD:7<br>8xG:7",
          "16xF#:min_16xF#:minmaj7_16xF#:min7_8xB:7<br>8xE:7_8xA:maj6_8xF#:7_8xB:min7<br>8xE:7_16xA:maj6_8xG#:hdim7_8xC#:7<br>16xA:maj6_32xF#:min7_32xD:7_32xF#:min7<br>16xD:7",
          "8xC:maj7_8xA:7_8xD:min7_8xG:7<br>8xE:min7_8xA:7_8xD:min7_8xG:7<br>8xG:min7_8xC:7_8xF:7_8xA#:7<br>8xE:min7_8xA:7_8xD:min7_8xG:7<br>8xD:min7_8xG:7_16xC:maj6_32xE:7<br>32xA:7_32xD:7",
          "8xG:7(#9)_8xG#:7(#9)_8xG:7(#9)_8xG#:7(#9)<br>8xG:7(#9)_8xG#:7(#9)_8xG:7(#9)_8xG#:7(#9)<br>32xC:7_8xG:7(#9)_8xG#:7(#9)_8xG:7(#9)<br>8xE:7(b9)_16xA:min7_16xD:aug_8xG:7(#9)<br>8xG#:7(#9)_8xG:7(#9)_8xG#:7(#9)_8xG:7(#9)<br>8xC#:7_16xC:min7_16xG:min7_8xA:7<br>8xD:1",
          "12xC:maj7_12xE:aug_12xF:maj7_12xA:aug<br>12xD:min7_12xA:aug_12xD:min7_12xG:7<br>12xE:min7_12xD#:dim7_12xD:min7_12xG:7<br>12xE:min7_12xD#:dim7_12xD:min7_12xG:7<br>12xC:maj7_12xE:aug_12xF:maj7_12xA:aug<br>12xD:min7_4xA:aug",
          "8xA:7_8xA#:7(#11)_8xA:7_8xD#:7(#11)<br>8xD:7_8xC:7_8xF:maj7_8xE:aug<br>8xA:min7_8xA#:7(#11)_8xA:min7_8xD:7<br>8xD:min7_8xB:aug_8xB:hdim7_8xE:7<br>8xD:min7_4xF:7_4xE:7_16xA:min6<br>8xF:min7_8xA#:7_8xF:min7_8xA#:7<br>8xF:min7_8xA#:7_16xD#:maj7_8xA#:min7<br>8xD#:7_8xG#:maj7_8xF:min7",
          "16xC:maj7_8xE:min7_8xA:7_16xD:min7<br>16xG:7_16xC:maj7_8xE:min7_8xA:7<br>16xD:min7_8xB:hdim7_8xE:7_32xA:min7<br>32xD:13_8xD#:min7_8xG#:7_16xG:7(#9)<br>8xC:maj7_8xA:7_8xD:min7_8xG:7",
          "8xC:maj7_8xD:min7_8xE:min7_8xG:13<br>8xC:maj7_8xF:maj7_8xE:min7_8xA:7(b9)<br>16xD:min7_8xG:sus4_8xG:7_8xC:maj7<br>8xA:7_8xD:min7_8xG:7_32xC:maj7<br>32xC:7_32xF:maj7_32xD:7",
          "88xG:min11_8xB:7_8xA#:7_8xA:7<br>8xG#:7_8xG:7_32xC:7_32xF:7<br>32xD:7_8xE:min7_8xD#:7_8xD:min7<br>8xC#:7",
          "16xC:maj_8xF:maj_8xC:maj_8xF:maj<br>8xC:maj_8xF:maj_8xC:maj_8xF:maj<br>8xC:maj_8xF:maj_8xC:maj_8xF:maj<br>8xC:maj_8xF:maj_8xC:maj_8xF:maj<br>8xC:maj_16xE:min_8xE:min6_24xE:min<br>8xE:min7_8xB:7_8xE:maj_8xF:5<br>8xE:maj6_8xF:dim7_8xF#:min7_8xB:9",
          "4xC:maj7_4xA#:7_4xA:7_4xG#:7<br>8xD:min7_8xG:7(b9)_8xC:maj7_4xD:min7<br>4xD#:min7_8xE:min7_8xA:7(b9)_16xB:hdim7<br>8xD:min7_8xG:7(b9)_8xC:maj7_8xC#:dim7<br>4xD:min7_4xA:7_4xD:min7_4xC#:7<br>8xE:hdim7_8xA:7(#11)_8xD:min7_8xG:7(b9)<br>8xC:7_8xF:7_8xB:min7_8xE:7(b13)<br>16xA:min_24xA:min7_8xD:7(b9)_16xD:min7",
          "12xE:min7_12xF#:min7_6xG:maj7_6xF#:min7<br>24xE:min7_12xF#:min7_6xG:maj7_6xF#:min7<br>12xE:min7_24xD:maj_6xC:maj_6xD:maj<br>12xE:min7_24xD:maj_6xC:maj_6xD:maj<br>12xE:min7_64x<pad>",
          "16x<nc>_8xC:maj7_8xG:7_16xC:maj7<br>8xE:min7_8xA:7_16xD:min7_16xG:13<br>8xC:maj6_8xD#:13_8xD:min7_8xG:13<br>16xC:maj6_16xC:7_8xF:13_8xF#:13<br>16xF:13_8xA#:13_8xB:13_16xA#:13<br>8xD#:9_8xE:9_16xD#:9",
          "8xD:min9_8xG#:13_8xG:min7_8xC:7<br>8xF:maj7_8xA#:9_8xA:hdim7_8xD:7(b9)<br>8xG:min7_8xA#:min7_8xC#:min7_8xC:7<br>16xF:maj7_8xE:hdim7_8xA:9_8xF:maj7<br>8xC:min11_8xB:hdim7_8xE:7(b9)_16xA:min7<br>16xD:min7_8xE:7(b9)_8xA:min7_8xD:min7<br>8xG:7(b9)_16xC:maj7_16xG:min7",
          "16xG:7_16xF:9_12xG:7_4xG#:7<br>16xA:9_16xD:min9_16xG:9_8xC:maj<br>8xF:maj6_8xC:dim7_8xC:maj6_8xE:7<br>8xF:7_16xE:7_16xA:min7_16xD:9<br>8xG:7_8xD:min7_8xG:7_4xA#:13<br>4xA:aug_16xD:9_16xG:aug",
          "16xC:maj7_8xF#:min7_8xB:7_16xC:maj7<br>8xG:min7_8xC:7_16xF:maj7_8xF:min7<br>8xA#:7_8xE:min7_8xA:7_8xD:min7<br>8xG:7_16xC:maj7_8xG:min7_8xC:7<br>16xF:maj7_8xB:min7_8xE:7_16xA:maj7<br>8xB:min7_8xE:7_16xA:maj7_8xA:min7<br>8xD:7",
          "32xD:min9_32xC:9_16xA#:9_16xA:7<br>32xD:min9_32xC:7_32xD:min7_8xC:9<br>8xA#:9_16xA:7_32xD:min9",
          "24xC:maj7_8xD:dim7_16xC:maj7_8xD#:min7<br>8xG#:7_16xC#:maj7_16xD:min7_16xG:7<br>8xC:maj7_8xG:7_16xC:maj7_16xF:min7<br>16xA#:7_16xC:maj7_8xB:hdim7_8xE:7<br>16xA:min7_16xD:7_16xG:7",
          "16xB:maj7_16xE:maj7_16xA#:hdim7_16xD#:7(b9)<br>16xD:maj9_16xD:maj7_16xC#:hdim7_16xF#:7(b9)<br>16xG:maj7_16xF:maj7_16xB:9_16xG:maj<br>16xG:min11_16xF#:7(#11)_16xC#:minmaj7_16xF#:7(#11)",
          "16xC:7_16xF:7_32xC:7_32xF:7<br>32xC:7_32xG:7_16xC:7_16xG:7<br>64x<pad>",
          "8xC:maj6_8xA:min7_8xD:min7_8xG:7<br>8xC:maj6_8xA:min7_16xA#:9_8xD:min7<br>8xG:sus4_16xC:maj6_8xF#:min7_8xB:7<br>8xE:maj7_8xC#:min7_8xF#:min7_8xB:7<br>16xE:maj7_8xG:min7_8xC:7_8xF:maj7<br>8xD:min7_8xG:min7_8xC:7_8xF:maj7<br>8xG:7(b9)_8xC:maj6_8xA:min7_8xD:min7<br>8xG:7",
          "12xC:maj7_12xG:7_12xB:hdim7_12xE:7<br>12xA:min7_12xF:7_12xD:7_12xF:7(#11)<br>12xC:maj7_12xD#:7_12xD:min7_12xG:7<br>24xC:maj7_24xC#:7_64x<pad>",
          "16xC:maj7_16xC#:maj7_16xG#:aug_8xA:7<br>8xG#:7_16xC#:maj7_16xG:7_16xD:7<br>16xG:7_24xC:maj7_16xC#:maj7_8xF#:7<br>8xE:7_8xA:7_8xD:7_16xC#:maj7<br>16xD:min7_16xD:7_8xG:min7",
          "16xB:hdim7_16xE:7(b9)_16xB:hdim7_16xE:7(b9)<br>8xA:min6_8xF#:hdim7_8xB:hdim7_8xE:1<br>32xA:min6_32xA:maj9_16xE:min7_16xA:7<br>16xE:min7_16xA:7_32xD:7",
          "8xC:maj6_8xA:min7_8xD:min7_8xG:7<br>8xC:maj6_8xA:7_8xD:min7_8xG:7<br>8xC:maj6_8xC:7_8xF:maj6_8xF:min6<br>8xE:min7_8xA:min7_8xD:min7_8xG:7<br>4xD:min7_4xG:7_8xC:maj6_32xE:7<br>32xA:7_32xD:7_16xG:7",
          "16xC:maj_16xD:7_16xA#:maj_32xC:maj<br>8xE:min_8xE:min7_16xA:min_16xF:maj<br>32xG:sus4_16xG:7_16xA:min_16xE:7<br>16xA:min7_32xF:maj7",
          "16xA:min7_8xB:hdim7_8xE:7(b9)_16xA:min7<br>16xE:7(b9)_32xA:min7_16xE:sus4_16xE:7(b9)<br>16xA:min7_16xD#:7(#11)_16xD:min7_16xC:9<br>16xB:hdim7_16xE:7(b9)_16xF:9_16xE:7(b9)",
          "32xC:maj7_32xC:min7_16xD:min7_16xG:7<br>8xE:min7_8xA:7_8xD:min7_8xG:7<br>8xC:maj7_8xD:min7_8xE:min7_8xD#:dim7<br>16xD:min7_16xG:9_8xC:maj7_8xA#:9<br>16xA:7(b9)_16xD:13_8xG:9_4xC:sus4<br>4xC:7",
          "16xF:maj7_16xE:7_32xA:7(b9)_8xA#:7(#11)<br>8xA:7(#11)_8xG#:7(#11)_8xG:7(#11)_16xF#:maj7<br>16xF#:7_16xC:min7_8xF#:7_8xB:7<br>16xA#:maj7_16xF:maj7_8xA#:maj7_8xF:maj7<br>48x<pad>",
          "16xD:maj7_8xC:maj7_8xB:maj7_16xA#:maj7<br>16xA:7(#9)_16xD:min7_16xD:maj7_8xC:maj7<br>8xB:maj7_16xA#:maj7_16xA:7(#9)_16xD:min7<br>16xC#:min7_16xD:maj7_16xF#:min13_16xC#:hdim7<br>16xE:hdim7_16xB:hdim7",
          "4xC:maj7_4xC:7_8xF:maj6_4xC:maj7<br>4xC:7_8xF:maj6_8xG:min7_8xC:7<br>8xG:min7_8xC:7_16xF:maj7_16xF:min6<br>8xE:min7_8xA:7(b9)_8xD:min7_8xG:7<br>16xC:maj6_8xD:min7_8xG:7_8xB:hdim7<br>8xE:7(b9)_8xA:min_8xA:minmaj7_8xA:min7<br>8xA:min6_16xE:min7_8xB:hdim7_8xE:7(b9)<br>8xA:min_8xA:minmaj7",
          "128xC:maj6_32xB:7_32xE:7_32xA:7<br>16xD:7_16xG:7",
          "8xD:min7_8xA:7_8xD:min7_8xG:9<br>8xC:maj7_8xF:9_8xE:min7_8xD#:dim7<br>16xD:min7_8xB:hdim7_8xE:7_8xA:min7<br>4xD:min7_4xG:7_8xC:maj6_4xE:hdim7<br>4xA:7_8xC:maj6_4xD#:min7_4xG#:7<br>8xC#:maj7_8xD#:min7_8xF:min7_8xF#:1<br>4xF:min7_4xA#:min7_4xD#:min7_4xG#:7<br>16xC#:maj7_8xC#:min7_8xF#:7_8xD#:min7<br>8xD:dim7_8xC#:min7_8xF#:7",
          "4xC:maj6_4xA#:7_8xA:7_8xD:min7<br>8xF:min6_8xC:maj7_8xF:9_4xE:min7<br>4xA:9_4xD#:min7_4xG#:9_8xD:min7<br>8xG:7_8xD:min7_8xG:13_8xE:aug<br>8xA:7(#9)_8xD:min7_8xG:7_8xC:maj6<br>4xF:maj6_4xF#:dim7_16xC:maj6_16xB:min7<br>16xE:7_32xA:13_32xD:9",
          "16xB:min7_16xF#:7(b9)_16xB:min7_16xE:7<br>16xE:min7_16xA:hdim7_16xF#:hdim7_16xB:7(b9)<br>16xG:maj7_8xG#:hdim7_8xC#:7(b9)_16xF#:maj7<br>8xG:min7_8xC:7_16xF:maj7_8xE:min7<br>8xA:7_16xD:maj7_8xC#:hdim7_8xF#:7(b9)",
          "16xC:7_16xF:7_32xC:7_32xF:7<br>32xC:7_16xG:7_48xC:7_64x<pad>",
          "16xA:min_8xB:hdim7_8xE:7(b9)_16xA:min<br>8xB:hdim7_8xE:7(b9)_16xA:min_8xD:min7<br>8xG:7_16xC:maj7_16xA:7(b9)_16xD:min7<br>16xG:7_16xC:maj7_16xF:maj7_16xB:hdim7<br>16xE:7_16xA:min_8xB:hdim7_8xE:7(b9)",
          "16xA:maj7_8xC#:hdim7_8xF#:7(b9)_16xB:min7<br>8xD:min7_8xG:7_8xA:maj7_4xD:min7<br>4xG:7_8xC:maj7_8xF:7_16xB:min7<br>16xE:7_8xB:min7_8xE:7_8xA:maj7<br>4xD:min7_4xG:7_8xC:maj7_8xA:min7<br>8xD:min7_8xG:7_8xA#:7_8xA:7<br>16xD:7_8xD:min7_8xG:7_4xB:hdim7<br>4xE:7_8xA:min7",
          "64xC:7_32xF:7_32xC:7_16xD:min7<br>16xG:7_32xC:7_64x<pad>",
          "8xB:hdim7_8xA#:maj7_8xA:min7_8xA#:7<br>8xC:7_8xD:7_8xA#:7_8xA:min7<br>8xB:hdim7_8xA#:maj7_8xA:min7_8xD:7<br>8xC:7_8xB:min11_8xA#:7_8xA:min7<br>64xC:sus4_32xB:sus4_16xC#:min7_16xC:7",
          "8xC:maj6_8xF:7_8xC:maj6_8xF:7<br>8xC:maj6_4xD:min7_4xG:7_4xC:maj6<br>4xD:min7_4xD#:dim_4xC:maj6_16xF:9<br>8xD:hdim7_8xG:1_8xC:maj6_8xF:7<br>8xC:maj6_8xG:1_16xC:maj6_8xG:min7<br>8xC:7_16xF:min7_8xC:min7_8xC:7<br>8xF:min7_8xD#:7_8xC#:7_8xC:7<br>8xF:min_8xF:min6_8xC:min7_8xC:7",
          "16xC:maj7_16xC#:dim7_16xD:min7_16xG:7<br>16xC:maj7_16xA:hdim7_16xD:7_16xG:7<br>16xC:maj7_8xG:min7_8xC:7_16xF:maj7<br>16xA#:7_16xE:min7_16xA:7_16xD:7<br>16xG:7",
          "32xA:min6_16xB:7_16xA#:7_32xA:min6<br>16xB:7_16xE:7_16xE:hdim7_16xA:7(b9)<br>32xD:min6_16xA:min6_32xB:7_16xE:7",
          "16xG:min7_16xC:7_16xF:maj7_16xE:7<br>16xC#:min7_16xF#:min7_8xB:min7_8xE:7<br>16xA:maj7_16xG:min7_16xC:7_16xA#:min7<br>16xD#:7_16xG:min7_16xC:7_8xA:min7<br>8xD:7_8xG#:min7_8xC#:7",
          "64xF#:sus4_64xE:sus4_64xF:minmaj7_16xF:min7<br>16xG:min7_16xF:min7_16xG:min7",
          "16xC:maj7_8xF#:hdim7_8xF:13_16xE:min7<br>16xA:13_16xD:min7_8xF:min6_8xA#:7<br>16xA:min7_8xD:13_8xD#:dim7_8xE:min7<br>8xA:7_8xD:min7_4xG#:9_4xG:13<br>8xF#:7(#11)_4xF:7_4xE:7_4xD#:13<br>4xG#:maj7_8xG:hdim7_32xC:7(#11)_16xF:min<br>8xF:min6_8xF:min",
          "16xC:maj6_16xC:9_16xF:maj7_16xA#:9<br>16xC:maj6_16xA:7_16xD:7_16xG:7<br>8xC:maj6_8xE:7_16xA:min7_8xF#:hdim7<br>8xB:7_16xE:min_32xD:7_8xD:min7<br>8xG:7_16xC:maj6",
          "8xC:maj7_8xA:7_8xD:min7_8xG:7<br>8xD:min7_8xG:7_8xC:maj7_4xD:min7<br>4xG:7_8xG:min7_8xC:7_8xF:maj7<br>8xD:hdim7_16xG:7_8xC:maj6_4xD:min7<br>4xG:7_8xC:maj6_8xC:7_8xF:maj7<br>8xF#:dim7_8xC:maj7_8xA:7_8xD:min7<br>8xG:13_8xC:maj6_8xC:7_8xF:maj7<br>8xF#:dim7_16xC:maj7_8xE:hdim7_8xA:7",
          "8xC:maj7_8xA:min7_8xD:min7_8xG:7<br>8xC:maj7_8xF:maj7_8xC:maj_8xA:min7<br>16xD:min7_16xG:7_8xC:maj6_8xD#:dim7<br>8xD:min7_8xG:7_16xC:maj6_8xB:hdim7<br>8xE:7(b9)_16xA:min_16xA:minmaj7_16xA:min7<br>16xD:7_16xA:min7_16xD:7",
          "16xD:min7_8xD#:min7_8xG#:7_16xD:min7<br>8xD#:min7_8xG#:7_16xC#:maj7_16xC:7<br>16xB:maj7_16xA#:7_16xA#:min7_8xB:min7<br>8xE:7_16xA#:min7_8xB:min7_8xE:7<br>16xA:maj7_16xC#:7(b9)_16xF#:min7_16xB:7",
          "8xA:maj6_8xF#:min7_8xB:min7_8xE:7<br>8xA:maj6_8xF#:min7_8xB:min7_8xE:7<br>16xA:maj6_8xF#:min7_8xB:7_8xC#:min7<br>8xF#:7_8xB:min7_24xE:7_8xE:min7<br>8xA:7_16xD:maj6_8xE:min7_8xA:7<br>16xD:maj6_16xG:7_16xF#:min7_16xB:7",
          "8xG:maj7_8xE:7_8xA:min7_8xD:7<br>8xG:maj7_8xE:7_8xA:min7_8xD:7<br>8xG:maj7_8xG:7_8xC:maj7_8xC#:dim7<br>8xG:maj_8xE:7_8xA:min7_8xD:7<br>8xG:maj_8xD:7_16xG:maj6_8xG#:min7<br>8xG:7_16xC:maj7_8xC#:min7_8xF#:7<br>8xF#:hdim7_8xB:7_16xE:7(#11)_8xE:min7<br>8xA:7",
          "8xC:maj7_8xA:min7_8xD:min7_8xG:7<br>8xC:maj7_8xA:min7_8xD:min7_8xG:7<br>16xC:maj7_16xF:maj7_16xE:min7_16xA:7<br>16xD:min7_8xF:min6_8xA#:9_16xC:maj7<br>16xC:maj6_16xB:min7_16xE:7_8xA:7<br>8xD:7_16xG:7",
          "16xC:maj7_16xC:7_16xF:maj7_16xF:min6<br>8xC:maj7_8xD#:dim7_8xD:min7_8xG:7<br>8xC:maj7_8xD#:dim7_8xD:min7_8xG:7<br>16xC:maj6_8xF#:hdim7_8xB:7(b9)_16xE:min7<br>8xF#:hdim7_8xB:7(b9)_16xE:min7_8xF#:hdim7<br>8xB:7(b9)_8xE:min7_8xC#:hdim7_8xF#:hdim7<br>8xB:7(b9)",
          "8xC:maj7_8xD#:7_8xG#:maj7_8xB:7<br>8xE:maj7_8xG:7_8xC:min7_8xF:7<br>8xA#:maj7_8xC#:7_8xF#:maj7_8xA:7<br>8xD:maj7_8xF:7_8xA#:min7_8xD#:7<br>16xG#:maj7_8xD:hdim7_8xG:7(b9)_16xC:min7<br>8xD:hdim7_8xG:7(b9)_16xC:maj7_8xA#:min7<br>8xD#:7_8xG#:maj7_8xB:7_8xE:maj7<br>8xG:7",
          "128xD:min7_16xC:min7_16xF:7_16xA#:maj7<br>16xD#:7_16xE:min7_16xA:7(#9)_16xD:maj7<br>16xA:7(#9)",
          "8xG:maj6_8xB:hdim7_16xE:aug_8xA:hdim7<br>8xD:13_8xG:maj9_8xE:min7_8xA:hdim7<br>8xD:7_8xB:hdim7_8xE:7_8xA:min7<br>8xD:aug_8xG:maj7_4xA:min7_4xD:7<br>8xG:maj6_8xG:7_16xC:maj6_16xB:7<br>8xE:min7_8xB:aug_16xE:min7_8xA:7<br>8xA#:13_16xA:7_8xD:9_8xD#:7",
          "32xC:maj7_16xB:hdim7_16xE:7(b9)_32xA:7<br>32xD:7_32xG:7_32xC:7_32xF:maj7<br>16xA#:maj7_8xB:hdim7_8xE:7(b9)",
          "8xD#:hdim7_8xD:7_8xC#:min7_8xF#:7<br>8xF:maj7_4xF#:hdim7_4xB:7_16xE:maj7<br>8xF:min7_8xA#:7_8xD#:maj7_8xC:min7<br>8xA:hdim7_8xD:7_16xG:maj7_8xF#:1<br>8xF:7(#11)_16xE:maj7_96x<pad>",
          "16xF:maj7_16xF:minmaj7_16xC:maj7_16xA:7(#11)<br>16xD:min7_16xG:7_16xC:maj7_16xC:7<br>32xE:7_32xA:7_32xD:7_32xG:7",
          "8xD#:hdim7_8xG#:7(b9)_8xC#:hdim7_8xF#:7(b9)<br>16xE:aug_8xB:min9_8xE:13_8xD#:hdim7<br>8xG#:7(b9)_8xC#:hdim7_8xF#:7(b9)_16xE:aug<br>16xE:7(#11)_24xF#:hdim7_8xB:7(b9)_8xF#:hdim7<br>8xB:7(b9)_8xF#:hdim7_8xB:7(b9)_24xF#:hdim7<br>8xB:7(b9)_8xF#:hdim7_8xB:7(b9)_8xF#:hdim7<br>8xB:7(b9)",
          "8xA:min_8xF#:hdim7_8xB:7(#11)_8xE:7(b9)<br>8xA:min_8xF#:hdim7_8xB:7(b9)_8xE:7(b9)<br>16xA:min_16xF#:hdim7_16xF:9_16xE:7(b9)<br>8xA:min_8xF#:hdim7_8xB:7(b9)_8xE:7(b9)<br>8xA:min_8xA:min7_8xF#:dim7_8xC:dim7<br>16xB:hdim7_16xE:aug_24xA:min_8xD#:9",
          "12xG:maj7_12xA:min7_12xB:min7_12xA:min7<br>12xG:maj7_12xG#:dim7_12xA:min7_12xD:7<br>12xA:hdim7_12xD:7_12xA#:maj7_12xD:7<br>12xA:min7_12xD:7_12xG:maj6_12xD:7<br>12xG:7_12xC:maj6_12xD:min7_12xE:min7<br>12xD:min7_4xC:maj7",
          "8xG#:7_8xG:7_8xG#:7_8xG:7<br>32xC:maj7_8xG#:7_8xG:7_8xG#:7<br>8xG:7_32xC:maj7_8xG:min7_8xC:7<br>8xG:min7_8xC:7_8xG:min7_8xC:7<br>16xF:maj7_8xA:min7_8xD:7_8xA:min7<br>8xD:7_16xD:min7_16xG:7",
          "16xD#:7_16xG#:aug_32xC#:min6_16xD#:7<br>16xG#:aug_32xC#:min6_24xB:min9_8xE:9<br>8xA:maj7_8xD:9_8xC#:min7_8xF#:min7<br>16xD#:7_16xG#:aug_32xC#:min6",
          "8xA:min7_8xE:7_8xA:min7_8xE:7<br>16xA:min7_16xA:7_8xD:min7_8xA:7<br>8xD:min7_8xA:7_16xD:min7_8xG:min7<br>8xC:7_16xF:7_16xA#:7_16xC:maj7<br>8xE:min7_8xA:7_16xD:7_8xA:min7<br>24xD:7_8xG:7_8xE:7",
          "16xA:min_8xF:7_8xE:7(b9)_8xA:min7<br>8xE:7(b9)_16xF:7_8xB:hdim7_8xE:7(b9)<br>4xA:min7_4xG#:7_4xG:min7_4xF#:7<br>16xF:7_8xB:hdim7_8xE:7(b9)_8xF:7<br>8xE:7(b9)_16xA:min6_8xD:min7_8xG:7<br>16xC:maj7_8xD:min7_8xG:7_16xC:maj7<br>8xF#:min7_8xB:7_16xE:maj7",
          "16xE:min_16xE:minmaj7_16xE:min7_16xE:min6<br>16xA:7_16xD:7_16xG:maj6_16xB:7(#11)<br>16xG:maj6_16xD:min7_16xG:7_32xC:maj6<br>16xE:min7_16xA:7_16xD:7",
          "16xE:maj7_8xG:min7_8xC:7_8xF#:min7<br>8xD:7_8xG:maj7_8xC#:7(#11)_8xC:7<br>8xF:7_8xA#:maj7_8xA:aug_8xG:min7<br>4xC:7_4xB:7_16xF:maj7_8xB:min7<br>8xE:7_8xE:min7_8xA:7_16xA#:7<br>16xD#:maj7_8xF#:min7_8xB:7(b13)_8xE:maj7<br>4xB:min7_4xE:7_8xD#:min7_8xG#:7<br>8xC#:7_4xF#:7_4xB:7",
          "16xC:maj7_16xA#:maj7_8xA:min9_8xF:13<br>8xF#:13_8xB:aug_16xC:min7_16xC#:maj7<br>16xC:min7_8xC#:maj7_40xA#:maj7_16xG:min9<br>8xA:min7_8xD:13_16xG:min9_8xA:min7<br>40xB:min11",
          "8xC:maj7_8xD#:dim7_8xD:min7_8xG:7<br>8xC:maj9_8xC:7_8xF:maj7_8xA#:7<br>8xE:min7_8xA:aug_24xD:min7_8xG:7(b9)<br>4xE:min7_4xA:7_4xD:min7_4xG:7<br>8xC:maj6_8xB:7(b9)_16xE:min_8xE:min6<br>24xE:min_8xE:min6_8xA:7_8xG:maj6<br>8xE:min7_8xA:min7_8xD:13_16xD:min7",
          "8xD:min7_8xG:7_16xC:maj7_8xF:min7<br>8xA#:7_8xC:maj7_8xA:7(b9)_8xD:min7<br>8xG:7_16xC:maj7_8xE:min7_8xA:7(b9)<br>8xD:min7_8xA:aug_8xD:min7_8xG:7<br>8xC:maj7_8xA:7(b9)_8xD:min7_8xG:7<br>8xC:maj7_8xA:7(b9)_8xD:min7_8xG:7<br>8xC:maj7_8xA:7_16xD:7_8xD:min7<br>8xG:7",
          "8xE:min7_8xF#:min7_8xG:maj6_8xA:7<br>8xD:maj7_8xE:min7_8xF#:min7_8xB:7(b9)<br>8xE:min7_8xF#:min7_8xG:maj6_8xA:7<br>16xF#:hdim7_16xB:7(b9)_16xE:min7_8xG:min7<br>8xC:7_24xF:maj7_8xE:7(b9)_8xA:min7<br>8xF#:hdim7_8xB:hdim7_8xE:7(b9)_16xA:maj7<br>8xA:7_8xA:aug",
          "12xG:maj7_12xA:hdim7_12xG:maj7_12xA:hdim7<br>12xG:maj7_12xA:hdim7_12xG:maj7_12xC#:7(b9)<br>12xC:maj7_12xF#:7(#9)_12xB:min7_12xE:min7<br>24xA:min7_16xD:min7_8xC#:7(b9)_12xC:maj7<br>12xF#:7(#9)_12xB:min7_12xE:7(#9)_12xA:min7<br>4xD:7",
          "16xA:min7_16xE:7_16xA:min7_16xA:7<br>16xD:7_16xG:7_16xC:maj6_16xE:7<br>16xC:maj6_32xE:7_32xA:min7_32xD:7<br>16xG:7",
          "12xA:min7_12xC:sus4_12xF#:maj7_12xB:sus4<br>12xE:sus4_12xG#:maj7_24xC#:maj_12xD:maj7<br>12xC:maj7_12xC:sus4_6xC#:maj7_6xC:maj7<br>6xB:maj7_6xA#:maj7_12xG:min7_12xD#:7<br>12xA:min7_12xG#:7(#9)_52x<pad>",
          "8xC:maj7_8xF:9_8xE:min7_8xD#:dim7<br>8xD:min7_8xG:sus4_8xC:maj7_8xA:min7<br>8xD:13_8xD#:dim7_8xE:min7_8xA:7<br>8xD:min7_8xG:7_4xC:maj7_4xA:7<br>4xD:min7_4xG:7_8xC:1_4xG:min11<br>4xC:7_8xF:maj7_8xD:min7_8xB:min11<br>8xE:7_8xA:min7_4xD:min9_4xG:7<br>8xC:maj7_4xG:min7_4xC:7_8xF:maj7<br>8xD:min7_8xB:min11_8xE:7_8xA:min7<br>8xD:9",
          "8xA:min_8xA:minmaj7_8xA:min7_8xA:min6<br>8xD:min_8xD:minmaj7_12xD:min7_4xE:7<br>16xA:min_8xE:min7_8xA:9_8xD:min7<br>8xG:7(b9)_8xC:maj6_4xB:min7_4xE:7<br>8xC:maj6_4xA#:min7_4xD#:7_8xG#:maj7<br>8xF:min7_8xA#:min9_8xD#:7_8xG#:maj6<br>8xF:aug_8xA#:min7_8xD#:7_8xG#:maj7<br>8xF:min7_8xA#:min9_8xD#:7_16xG:sus4",
          "8xC:maj_8xC:aug_16xC:maj6_8xC:maj<br>8xC:aug_16xC:maj6_16xG:min7_16xC:7<br>16xG:min7_16xC:7_8xF:maj_8xF:aug<br>16xF:maj6_16xF:min7_16xA#:7_16xC:maj7<br>8xE:min7_8xA:7_16xD:min7_16xG:7",
          "32xD:maj7_32xC:maj7_32xF:maj7_32xD#:maj7<br>16xF#:min7_8xG:hdim7_8xC:7(b9)_32xF:maj7<br>16xF:min7_16xE:7(#9)_32xD#:maj7",
          "16xD:maj7_8xC#:hdim7_8xF#:7(b9)_8xB:min7<br>8xA#:min7_8xA:min7_8xD:7_16xG:maj7<br>8xG:min7_8xC:7_8xF#:min7_8xB:7<br>8xF:min7_8xA#:7_16xE:min7_16xA:7<br>8xF#:min7_8xB:7_8xE:min7_8xA:7<br>64x<pad>",
          "32xC:maj6_16xD:min7_16xG:7_16xD:7<br>16xD:min7_8xC:maj6_8xA:7(b9)_8xD:7<br>8xG:7_16xC:maj6_8xF#:min7_8xB:7<br>8xE:maj6_8xC#:min7_8xF#:min7_8xB:7<br>8xE:maj6_8xC#:min7_8xF#:min7_8xB:7<br>8xE:maj6_8xC#:min7_8xF#:min7_8xB:7",
          "8xD:min7_8xG:7_8xD:min7_8xG:7<br>8xD:min7_8xG:7_8xD:min7_8xG:7<br>8xC:maj6_8xC:7_8xF:maj6_8xG:7<br>8xC:maj6_8xF:7_8xE:min7_8xA:7<br>32xC:maj6_16xC:7_8xG:min7_8xC:7<br>32xF:maj6_32xD:7",
          "16xC:maj7_8xG:min9_8xC:maj6_16xF:maj7<br>8xF:min9_8xA#:13_8xE:min7_8xA:min7<br>8xD:min7_8xG:7_8xE:7_8xA:7<br>8xD:1_8xG:13_8xC:maj6_8xG:sus4<br>16xC:maj6_8xG:min7_8xG:minmaj7_8xG:min7<br>8xC:7(b9)_16xF:maj7_16xF:maj6_16xF#:min7<br>8xB:7_8xD:7",
          "8xF#:hdim7_8xF:9_8xE:7_8xA:7(b13)<br>8xD:7_8xD#:7_16xD:7_16xD:min7<br>8xB:hdim7_8xE:7_8xA:min7_8xG#:7<br>8xG:min7_8xC:7_16xF:maj7_8xF:min7<br>8xA#:7_8xC:maj7_8xG:7_16xC:maj7<br>8xF#:hdim7_8xB:7_8xF#:hdim7_8xB:7(b9)<br>8xE:min7_8xD#:7_8xD:min7_8xG:7",
          "32xB:min7_32xD:min7_24xF:min7_8xG:7<br>32xC:maj7_32xF#:min7_32xD:min7_24xA#:min7<br>8xD#:7_16xG#:maj7_8xC:min7_8xF:7",
          "32xF:7(#11)_8xE:7(b13)_8xF:7(#11)_16xE:7(b13)<br>16xA:min7_8xF#:hdim7_8xF:7(#11)_8xA:min7<br>8xF:7_8xE:7_8xA:min7_8xB:hdim7<br>8xF:7(#11)_8xE:7(b13)_8xA#:7(#11)_16xA:maj7<br>8xB:hdim7_8xE:7(b9)_8xG:7_8xF#:7(#9)<br>16xB:min7_16xE:7_16xA:maj6",
          "16xD:7_16xG:7_8xC:maj7_8xF:7<br>8xE:min7_8xA:7_16xD:7_16xG:7<br>16xC:maj7_8xG:min7_8xC:7_16xF:maj7<br>16xA#:7_16xC:maj7_16xA:min7_48xD:min7<br>16xG:7",
          "16xC:maj7_16xD#:dim7_16xD:min7_16xG:7<br>16xC:maj7_16xD#:dim7_16xD:min7_16xG:7<br>16xC:maj7_8xG:min7_8xC:7_32xF:maj7<br>32xD:7_16xD:min7_16xG:7",
          "16xC:maj7_16xC#:maj7_16xC:maj7_16xA#:maj7<br>16xA:min7_16xA#:maj7_8xA:min7_8xG:min7<br>16xF:min7_16xE:min7_16xF:maj7_8xB:hdim7<br>8xE:7(b9)_16xA:min7_16xD:min7_16xC#:maj7<br>16xC:min7_16xC#:maj7",
          "8xC:maj6_8xA:7_8xD:min7_8xG:7<br>8xC:maj6_8xA:min7_8xD:7_8xG:7<br>16xC:7_8xF:maj6_8xF:min6_8xE:min7<br>8xA:7_8xD:min7_8xG:7_8xD:min7<br>8xG:7_16xC:maj6_32xE:7_32xA:7<br>32xD:7",
          "8xD:min7_8xG:13_8xC:maj7_8xF:maj7<br>8xB:hdim7_8xE:aug_8xA:min7_8xF#:7(#11)<br>8xB:hdim7_8xE:aug_16xA:min7_8xF#:hdim7<br>8xF:9_8xB:hdim7_8xE:7_8xF#:hdim7<br>8xB:hdim7_12xE:13_4xA#:7(#9)_8xA:sus4<br>8xA:7(b9)_8xD:min7_8xA:7(b9)_8xD:min7<br>4xF:min9_4xA#:9_8xE:hdim7_8xA:7(b9)<br>8xD:min9_8xG:13_8xC:maj6_8xD#:13",
          "12xA:min7_12xB:min7_12xA:min7_12xA#:7(#11)<br>12xA:min7_12xB:min7_12xE:min7_12xA:7<br>12xD:min7_12xE:min7_12xF:min7_12xA#:7<br>12xA:min7_12xB:min7_12xC:maj7_12xC#:min7<br>12xC:min7_12xF:7_12xB:min7_12xE:7<br>12xA:min7_4xB:min7",
          "24xD:min11_12xC#:maj7_12xD#:maj7_12xG:aug<br>12xA#:7(#11)_24xF:aug_24xA:min7_12xA#:7(#11)<br>12xA:min7_12xA#:7(#11)_12xA#:min_24xA#:7(#11)<br>64x<pad>",
          "32xA:min_16xA:min6_16xA:7(#9)_8xD:min<br>8xD:minmaj7_8xD:min7_8xD:min6_8xA:min7<br>8xB:min7_16xC:maj7_16xF:7_16xE:7(b9)<br>8xA:min_8xC:7_8xF:7_8xE:7(b13)<br>64x<pad>",
          "16xC:maj7_8xG:min7_8xC:7_32xF:maj7<br>16xA#:7_8xD:min7_8xG:7_8xC:maj6<br>8xA:7_8xD:min7_8xG:7_32xC:maj6<br>8xG:min7_8xC:7_8xG:min7_8xC:7<br>32xF:maj7_8xA:min7_8xD:7_8xA:min7<br>8xD:7",
          "8xA:maj6_8xF:9_8xB:min7_8xE:7<br>16xF#:min7_16xB:9_8xG:min9_8xC:7<br>16xF:maj7_8xB:hdim7_8xF:9_8xE:sus4<br>8xE:13_8xB:hdim7_8xE:13_16xA:maj6<br>8xF:7_8xE:7(#9)_16xA:min6_8xF:9<br>8xE:7(#9)_16xA:min6_8xF:maj6_8xE:7<br>8xD#:13_8xD:7",
          "8xC:maj6_8xD:min7_8xE:min7_8xA:7(b9)<br>16xD:min7_16xG:7_8xC:maj6_8xD:min7<br>8xE:min7_8xA:7(b9)_16xD:min7_16xG:7<br>16xC:min7_8xA#:min7_8xD#:7_16xG#:maj7<br>8xD:hdim7_8xG:7(b13)_16xC:min7_16xD:7<br>16xD:min7_16xG:sus4",
          "16xC:maj6_8xB:min7_8xE:7_8xA:min7<br>8xD:7_8xG:min7_8xC:aug_16xF:maj6<br>8xF:min7_8xA#:7_16xC:maj6_8xD#:min7<br>8xG#:7_16xD:min7_16xG:7_8xE:min7<br>8xA:min7_8xD:min7_8xG:7_64x<pad>",
          "128xA:min9_64xD:min9_64xA:min9",
          "8xC:maj7_8xF:7_8xE:min7_8xA:7(b13)<br>8xD:min7_8xG:7_8xE:hdim7_8xA:7(b9)<br>16xD:min7_16xG:7_8xE:min7_8xA:7(b9)<br>8xD:min7_8xG:7_8xC:maj6_8xF:7<br>8xC:maj6_4xE:min7_4xD#:min7_8xD:min7<br>8xG:7_8xE:min7_8xA:7(b9)_8xD:min7<br>8xG:7_16xC:maj7_8xF#:hdim7_8xB:7(b9)<br>8xE:min7_8xA:7",
          "8xD:min7_8xG:7_8xD:min7_8xG:7<br>8xC:maj7_8xG:aug_16xC:maj7_8xD:7<br>8xD#:dim7_8xD:min7_8xG:7_8xC:maj7<br>8xD:min7_8xE:min7_8xA:7(b9)_16xC:maj7<br>8xG:min7_8xC:7_16xF:maj7_16xA:7(b9)<br>16xD:min7_16xD#:dim7_16xA:min7_16xD:7",
          "16xA:min_8xA:min6_8xA:min7_16xD:min7<br>8xB:hdim7_8xE:7(b9)_8xA:min_8xA:minmaj7<br>8xA:min7_8xA:min6_16xD:min7_8xF:min6<br>8xG:7_8xC:maj7_8xA:min7_8xD:min7<br>8xG:7_16xC:maj7_8xB:hdim7_8xE:7(b9)<br>16xA:min_8xA:min6_8xA:min7_8xD:min7<br>8xF:7_16xE:7(b9)",
          "8xC:maj7_8xC#:dim7_8xD:min7_8xD#:dim7<br>8xC:maj7_8xA:min7_8xF#:hdim7_8xF:min6<br>8xC:maj7_8xB:7_8xA#:13_8xA:7<br>8xD:7_8xG#:9_8xC:maj6_4xD:min7<br>4xG:7_8xC:maj6_4xB:hdim7_4xE:7<br>16xA:min7_16xF:9_16xA:min_8xD:9<br>8xE:7_16xA:min_8xD:sus4_8xD:9<br>16xD:min7",
          "8xC:maj6_8xA:min7_8xD:min7_8xG:7<br>8xC:maj7_8xF:7_8xE:min7_8xA:7<br>24xD:min7_8xG:7_16xC:maj7_8xD:min7<br>8xG:7_8xG:min7_8xC:7_8xF:maj7<br>8xE:7_8xD:min7_8xG:7_16xC:maj7<br>8xB:hdim7_8xE:7(b9)_16xA:min_8xD:9<br>8xB:7_16xE:maj7",
          "16xD#:maj7_16xE:maj7_16xF#:min9_16xG:maj7<br>16xD#:maj7_16xE:maj7_16xB:9_16xE:7(b9)<br>16xA#:min7_16xA:min7_16xE:maj_16xB:min7<br>16xD:min7_16xA:minmaj7_16xB:sus4_16xA:maj",
          "16xC:maj7_8xD:min7_8xG:7_16xC:maj7<br>8xD:min7_8xG:7_16xC:maj7_16xD#:dim7<br>16xD:min7_16xG:7_16xD:min7_16xA#:7(#11)<br>16xC:maj6_16xA:min6_16xD:min7_16xG:7<br>8xE:min7_8xA:7_8xD:min7_8xG:7",
          "16xA#:min7_16xA:min7_16xB:hdim7_8xD:min7<br>8xG:9_8xB:hdim7_8xD:min7_8xG:min9<br>8xC:maj6_8xB:hdim7_8xC:13_8xD:13<br>8xE:aug_64xA:min7_8xE:hdim7_8xA:7<br>16xD:min7_8xB:hdim7_8xE:7_16xA:min7",
          "16xD:min7_16xG:7_16xD:min7_16xG:7<br>16xC:7_8xF:maj7_8xA#:7_8xG:maj7<br>8xD:7_16xG:maj6_8xC:min7_8xF:7<br>16xG:maj7_8xC:min7_8xF:7_16xG:maj7<br>8xD#:min7_8xG#:7_16xA#:maj7_8xA#:min7<br>8xD#:7_8xA:min7_8xD:7",
          "16xD:min7_8xG:sus4_8xG:7(b9)_16xC:dim7<br>16xC:maj7_32xE:aug_16xA:7_8xE:min7<br>8xA:7_16xD:min7_16xG:7_8xB:hdim7<br>8xE:7(b13)_16xA:min7_32xD:7_16xD:min7<br>8xE:hdim7_8xA:7(b9)",
          "8xA:maj7_4xD:min7_4xG:7_8xC:maj7<br>8xF:7_8xB:min7_8xE:7_8xA:maj7<br>8xF#:7_8xD:maj7_8xD#:dim7_8xA:maj7<br>8xF#:7(b9)_8xB:min7_8xE:7_16xA:maj6<br>16xD:maj6_16xD#:dim7_16xA:maj6_16xA:7<br>16xD:maj6_16xD#:dim7_8xA:maj7_8xF#:7<br>8xB:min7_8xE:7",
          "12xC:maj6_12xD:min7_12xE:min7_12xA:min7<br>24xD:9_12xG:maj13_12xG:13_12xC:maj6<br>12xD:min7_12xE:min7_12xA:min7_24xB:hdim7<br>24xE:7(b9)_24xA:min7_24xD:7_16xA:min7",
          "8xA:min7_8xB:min7_8xC:maj7_8xB:min7<br>8xA:min7_8xB:min7_8xC:maj7_8xB:min7<br>8xA:min7_8xB:min7_8xC:maj7_8xB:min7<br>8xA:min7_8xB:min7_8xC:maj7_8xB:min7<br>8xA:min7_8xG:7_8xC:maj7_8xF:maj7<br>8xF:7_8xF#:7_8xF:7_8xE:7(b9)<br>8xA:min7_8xB:min7_8xC:maj7_8xE:7(#9)<br>8xA:min7_8xB:min7_8xC:maj7_8xB:min7",
          "32xA:maj7_16xA:min7_16xD:7_32xG:maj7<br>16xG:min7_16xC:7_16xF:maj7_8xB:hdim7<br>8xE:7(b9)_16xA:min7_8xB:hdim7_8xE:7(b9)<br>16xA:maj7_16xF#:min7_16xB:min7_16xE:7",
          "32xC#:maj7_32xA:maj_32xF:maj_32xC#:maj<br>32xC:maj_32xG#:maj7_32xE:maj_32xC:maj7",
          "12xC:maj7_12xD:7_12xE:maj_12xC#:min7<br>12xG#:maj7_12xA:maj7_24xA#:maj7_12xF#:sus4<br>12xF#:hdim7_12xE:sus4_12xC:maj7_12xF:maj7<br>12xF#:sus4_12xF#:hdim7_6xD:maj7_6xC:maj7<br>12xF:maj7_12xC:sus4_36xE:maj_4x<pad>",
          "8xC:maj7_8xA:min7_8xD:min7_8xD#:dim7<br>8xE:min7_8xA:7(b9)_8xD:min7_8xG:7<br>16xC:7_8xF:7_8xF:min7_8xE:min7<br>8xA:7(b9)_8xD:min7_8xG:7_8xD:min7<br>8xG:7_16xC:maj6_32xF:7_16xC:7<br>16xA:aug_32xD:7(#11)",
          "16xC:maj6_8xD:min7_8xG:7_8xE:min7<br>8xA:7(b9)_8xD:min7_8xG:7(b9)_16xC:maj7<br>8xD:min7_8xG:7_16xE:min7_16xA:7(b9)<br>8xF#:min7_8xB:7(b9)_8xE:min7_8xA:7<br>8xD:min7_8xG:7_16xC:maj6_8xB:min7<br>8xE:7_8xA:min7_8xD:7_16xD:min7<br>16xG:7",
          "8xC:maj6_8xD:min7_8xC:maj6_8xF:maj7<br>8xC:maj7_8xF#:7_8xF:maj7_8xC:maj<br>8xF:maj7_8xC:maj_8xD:7_8xG:7<br>8xC:maj6_8xA:min7_8xF:maj7_8xD:min7<br>8xC:maj6_8xG:7(#9)_16xC:maj6_8xA:min7<br>8xG#:7_8xG:min7_8xC:7_16xF:maj7<br>8xE:hdim7_8xA:7_8xD:min_8xA#:7<br>4xG:min7_4xC:7_8xF:maj6",
          "16xA:min7_8xB:aug_8xE:7_16xA:min7<br>8xB:aug_8xE:7_16xA:min7_8xD:min7<br>8xA:min7_16xF#:hdim7_16xB:7(b9)_16xE:min7<br>8xF#:aug_8xB:7_16xE:min7_8xF#:aug<br>8xB:7_16xE:min7_8xA:min7_8xE:min7<br>8xF#:aug_8xB:7(#9)_16xE:min7",
          "8xC:maj7_8xC#:dim7_8xD:min7_8xD#:dim7<br>8xC:maj7_4xD:min7_20xG:7_8xC:maj7<br>8xC#:dim7_8xD:min7_8xG:7_16xC:maj7<br>8xD:min7_8xG:7_16xC:7_8xF:maj7<br>8xD:7(b9)_8xG:min7_8xC:7_8xF:maj7<br>4xG:min7_4xC:7_16xC:7(b9)_8xF:maj7<br>8xD:7(b9)_8xG:min7_8xC:7_16xF:maj7",
          "16xD:min7_16xG:13_32xC:maj6_16xE:min7<br>16xA:9_32xD:9_16xD:min7_4xG:7<br>8xB:hdim7_4xE:7_8xA:min7_8xE:7<br>8xA:min7_4xF#:hdim7_4xB:7(b9)_8xE:maj7<br>8xC#:min7_8xF#:min7_8xB:7_8xE:7<br>8xA:7_8xD:7_8xG:7",
          "16xA:min6_8xB:hdim7_8xE:7(b9)_16xA:min7<br>16xD:7_16xF:maj7_16xD:min7_16xB:hdim7<br>16xE:7(b9)_16xA:min6_8xB:hdim7_8xE:7(b9)<br>16xA:min7_16xD:7_16xF:maj7_16xD:min7<br>16xD:hdim7_16xG:7",
          "4x<nc>_8xG:maj7_8xE:min7_8xA:min7<br>8xD:7_8xG:maj7_8xG:aug_8xC:maj7<br>8xC#:dim7_8xG:maj6_8xE:min7_8xA:min7<br>4xD:7_4xE:7_16xA:min7_16xD:7<br>8xA:min7_4xD:min7_4xG:7_16xC:maj7<br>8xB:hdim7_8xE:7(b9)_32xA:min6_32xE:min7<br>8xA:min7_4xD:7",
          "32xC#:hdim7_32xF#:min7_32xD:min7_40xA:min7<br>8xD:7_8xA:min7_8xD:7_32xG:maj7<br>16xG:min7_16xC:7_32xF:maj7",
          "16xC:maj7_16xF:7_8xC:maj7_8xF:7<br>8xE:min7_8xA:7_16xD:min7_16xG:7<br>8xC:maj6_8xA:min7_8xD:min7_8xG:7<br>16xC:maj6_8xG:min7_8xC:7_16xF:maj7<br>16xF#:dim7_16xC:maj7_8xB:hdim7_8xE:7(b9)<br>16xA:min7_16xD:7",
          "16xG:min7_16xC:min7_32xG:min7_32xC:min7<br>32xG:min7_16xD#:7_16xC:min7_32xG:min7<br>64x<pad>",
          "12xC#:hdim7_12xF#:7(b9)_12xC#:hdim7_6xC:maj7<br>6xD:7(#11)_12xD:min7_12xG:13_24xC:maj7<br>12xG:min7_12xC:7(b9)_12xA:aug_6xE:min7<br>6xA:7(#11)_12xG:min11_12xG:7(#11)_12xG:min7<br>12xF#:7(#11)_12xC#:hdim7_12xF#:7(b9)_12xC#:hdim7<br>6xC:maj7_6xD:7(#11)_12xD:min7_4xG:13",
          "192xB:7_64xE:min6",
          "8xD:min7_8xC:maj7_8xD:min7_8xG:7<br>16xC:maj7_8xG:min7_8xC:aug_16xF:maj7<br>24xD:min7_8xG:sus4_16xC:maj7_8xG:min7<br>8xC:aug_8xG:min7_8xF#:7_32xF:maj7<br>8xF:min7_8xA#:aug_8xF:min7_8xE:7<br>8xD#:maj7_8xD#:min7_8xD:min7_8xG:7",
          "16xA:min_8xB:hdim7_8xE:7_16xA:min<br>8xB:hdim7_8xE:7_8xA:min_8xG#:aug<br>16xA:min7_16xF#:hdim7_16xB:7_16xE:aug<br>16xA:9_16xD:13_16xG:9_16xC:13<br>16xF:maj9_16xB:hdim7_16xE:7",
          "8xG:maj7_8xE:7_8xA:min7_8xD:7<br>8xB:min7_8xE:7_8xA:min7_8xD:7<br>8xD:min7_8xG:7_8xC:7_8xF:7<br>8xB:min7_8xE:7_8xA:min7_8xD:7<br>8xA:min7_8xD:7_16xG:maj6_32xB:7<br>32xE:7_32xA:7",
          "16xA:7_16xD:7_32xA:7_16xD:7<br>16xG:7_32xA:7_32xE:7_32xA:7<br>64x<pad>",
          "16xG:minmaj7_16xG:min6_16xA:min9_16xD:7(b9)<br>16xG:minmaj7_16xG:min6_16xD:min7_16xG:7<br>16xC:min7_16xF:7_16xA#:min7_16xD#:7<br>16xG#:min7_16xC#:7_16xA:min9_16xD:1",
          "16xD:9_16xD:min7_32xC:maj7_32xD:min7<br>16xC:maj7_16xA:1_16xD:9_16xD:min7<br>32xC:maj7_32xD:min7_32xC:maj7",
          "16xC:maj7_16xC:maj6_16xC:maj7_16xC:maj6<br>16xC:min7_16xC:min6_16xC:min7_16xC:min6<br>16xD:hdim7_16xG:7(b9)_16xE:hdim7_16xA:7(b9)<br>16xD:min7_16xG:7_32xC:maj7",
          "32xC:maj7_16xC:min7_16xF:7_32xA#:maj7<br>16xA#:min7_16xD#:7_16xG#:maj6_16xD:7(b9)<br>32xG:7(b9)_8xE:min7_8xA:min7_8xD:min7<br>8xG:7_32xC:maj7",
          "80xA:maj7_8xC#:min7_8xF#:7_16xB:min7<br>16xE:7_16xC:min7_16xF:7_16xC:min7<br>16xF:7_16xB:min7_16xE:7_32xA:maj6",
          "128xE:min11_128xF:min11",
          "32xC:maj7_32xD:7(#11)_16xD:min7_16xG:7<br>16xE:hdim7_16xA:7(b9)_16xD:min7_16xE:7(b9)<br>16xA:7_16xA:7(b9)_32xD:7(b9)_16xC#:maj7<br>16xG:7(b9)",
          "8xB:hdim7_8xE:7(b13)_4xA:min7_4xG#:7<br>4xG:min7_4xC:7_8xF:maj7_8xA#:7<br>8xE:hdim7_8xA:7(b9)_8xD:min7_8xG:7<br>8xE:hdim7_8xA:7(b9)_16xD:7_4xD:min7<br>4xG:7_4xC:min7_4xF:7_8xD:7<br>8xG:7_16xC:maj6_8xC:maj7_8xG:aug<br>8xG:min7_8xC:7_16xF:maj7_16xA#:7<br>8xC:maj7_4xB:hdim7_4xE:7_16xA:min7",
          "8xF:maj7_8xC:min7_8xF:maj7_4xG:min7<br>4xC:7_8xF:maj7_8xC:min7_8xF:maj7<br>8xC:min7_8xF:maj7_8xC:min7_8xF:maj7<br>4xG:min7_4xC:7_8xF:maj7_16xC:min7<br>8xF:7_8xA#:maj7_8xG#:maj7_8xA#:maj7<br>8xD#:13_8xF:maj7_8xG:min7_4xA:min7<br>4xG:min7_8xF:maj7_8xA:aug_8xD:7(#9)<br>4xG:min7_4xA:min7_4xA#:maj6_4xC:sus4<br>16xF:maj6_8xB:hdim7_8xE:7",
          "16xG:min7_16xD:7_16xG:min7_16xE:7(#9)<br>16xA:min7_16xA#:maj7_16xA:min7_16xD:7<br>16xG:min7_16xD:7_16xG:min7_16xE:7(#9)<br>16xA:maj7_8xB:min7_8xE:7_16xA:maj7<br>16xG:min7",
          "16xC:maj6_8xE:min7_8xD#:dim7_16xD:min7<br>16xG:7_8xD:min_8xD:minmaj7_8xD:min7<br>8xG:7_8xC:maj7_8xA:7_8xD:min7<br>8xG:7_24xC:maj7_8xB:7_8xE:min7<br>8xB:7_16xE:min7_16xA:min7_16xD:7<br>16xD:min7_16xG:7",
          "16xC:maj7_16xF:min7_8xC:7_8xA#:7<br>16xA:7_16xD:7_8xD:min7_8xG:7<br>8xC:maj7_8xA:7_8xD:min7_8xG:7<br>16xC:maj7_8xG:min7_8xC:7_16xF:maj7<br>8xF:min7_8xA#:7_24xC:maj7_8xA:7<br>32xD:7",
          "64xC:7_32xF:7_32xC:7_16xG:7<br>16xF:7_32xC:7_64x<pad>",
          "16xG:7_8xA:min7_8xD:7_16xG:7<br>8xD:min7_8xG:7_32xC:7_16xG:7<br>8xB:hdim7_8xE:7_16xA:hdim7_16xD:7<br>8xG:7_4xC:maj6_4xC#:dim_8xG:7<br>4xD:7_4xG:7_64x<pad>",
          "32xF:maj7_16xF:min7_16xA#:7_32xC:maj7<br>16xD#:min7_16xG#:7_16xD:min7_16xG:7<br>16xC:maj7_16xA:min7_32xD:7_16xD:min7<br>8xG:7_8xC:7",
          "16xC:maj7_16xF#:7(#11)_16xF:maj7_8xE:min7<br>8xA:7_16xD:min7_16xG:7_8xE:min7<br>8xA:7_8xD:min7_8xG:7_16xC:maj6<br>16xD#:7_16xD:min7_8xE:min7_8xA:7<br>16xF:min7_16xA#:7_16xD#:maj7_8xD:min7<br>8xG:7",
          "16xC:7_16xF:7_32xC:7_32xF:7<br>16xC:7_8xE:min7_8xA:7_16xD:min7<br>16xG:7_32xC:7_64x<pad>",
          "128xA:min_24xG:7_8xC:7_24xG:7<br>8xC:7_24xG:7_8xC:7_24xG:7<br>8xC:7",
          "32xC:maj6_32xD:7_16xD:min7_16xG:9<br>8xC:maj6_8xD#:dim7_8xD:min7_8xG:13<br>8xC:maj6_8xG#:9_16xC:maj6_32xC:13<br>32xA#:13_32xG#:13",
          "16xA:7_16xD:7_16xA:7_8xE:min7<br>8xA:7_16xD:7_16xD#:dim7_16xA:7<br>8xC#:min7_8xF#:7_16xB:min7_16xE:7<br>8xA:7_8xF#:7_8xB:min7_8xE:7<br>64x<pad>",
          "8xC:maj7_8xA:7_8xD:min7_8xG:7<br>8xE:min7_8xA:7_8xD:min7_8xG:7<br>8xG:min7_8xC:7_8xF:maj7_8xA#:7<br>8xE:min7_8xA:7_8xD:min7_8xG:7<br>8xD:min7_8xG:7_16xC:maj6_32xE:7<br>32xA:7_32xD:7",
          "16xD:9_8xG:maj13_8xG:13_32xC:maj7<br>16xE:hdim7_16xA:7_16xD:7_8xD:min7<br>8xG:13_8xC:maj6_8xC:7_8xF:maj6<br>8xG:13_16xC:maj6_8xB:hdim7_8xE:7<br>16xA:min7_8xF#:hdim7_8xB:7_8xE:maj7<br>8xA:dim7_8xD:min7_8xG:13",
          "16xF:maj7_8xD:maj7_8xD:aug_32xG:9<br>16xC#:maj7_8xF:min6_8xC:13_32xF:maj9<br>8xB:hdim7_8xE:7(b9)_16xA:min6_8xC#:hdim7<br>8xF#:7(b9)_16xB:min6_16xB:hdim7_16xD#:aug<br>8xA:maj7_8xG#:maj7_8xG:maj7_8xF#:maj7",
          "16xE:min7_16xA:7_8xD:maj7_8xG:7<br>8xF#:min7_8xB:7_16xE:min7_16xA:7<br>32xD:maj7_16xG:min7_16xC:7_32xF:maj7<br>8xA:maj7_8xF#:min7_8xB:min7_8xE:7<br>16xE:min7_16xA:7",
          "16xG:maj7_8xA:min7_8xD:13_16xG:maj7<br>8xG:min7_8xC:7_16xF:maj7_8xB:min7<br>8xE:7_16xA:maj7_8xD#:13_8xD:13<br>32xC:maj7_16xC:min7_16xF:13_32xA#:maj7<br>16xA:min7_8xD:sus4_8xD:13",
          "16xC:maj7_16xC#:dim7_16xD:min7_16xD#:dim7<br>16xC:maj7_16xF:maj7_16xE:hdim7_16xA:7(b9)<br>16xD:min7_16xG:7_16xC:maj7_8xB:hdim7<br>8xE:7(b9)_16xA:min7_16xD:7_16xD:min7<br>16xG:7",
          "8xC:maj7_8xA:7_8xD:min7_8xG:7<br>8xE:min7_8xA:7_8xD:min7_8xG:7<br>8xG:min7_8xC:7_8xF:7_8xA#:7<br>8xE:min7_8xA:7_8xD:min7_8xG:7<br>8xD:min7_8xG:7_16xC:maj6_32xE:7<br>32xA:7_32xD:7",
          "16xD:min7_16xG:7_24xC:maj6_8xD#:min7<br>16xD:min7_16xG:7_16xG:min7_16xC:7<br>8xF:min7_8xA#:7_16xD#:maj7_16xC:min7<br>16xA#:maj6_8xA:min7_8xD:7_16xG:maj7<br>8xA:min7_8xD:7_8xG:maj7_8xD#:min7",
          "8xC:maj7_8xA:min7_8xD:min7_8xG:7<br>8xE:min7_8xA:7_8xD:min7_8xG:7<br>8xG:min7_8xC:7_8xF:7_8xA#:7<br>8xE:min7_10xA:7_8xD:min7_8xG:7<br>4xD:min7_4xG:7_8xC:maj7_16xC#:min7<br>16xF#:7_16xC:min7_16xF:7_8xB:min7<br>8xE:7_8xA#:min7_8xD#:7_8xA:min7<br>6xD:7",
          "4xC:maj6_4xA#:7_8xA:7_8xD:min7<br>4xG:7_4xE:7_4xA:min7_4xG#:7<br>4xG:min7_4xC:7_8xF:7_8xE:7(b9)<br>8xA:7_8xD:7_8xD:min7_8xG:7<br>8xE:min7_8xA:7_8xD:min7_8xG:7<br>8xC:maj6_4xF:7_4xF#:dim_8xC:maj6<br>4xG:min7_4xC:7_8xF:maj6_8xA:7<br>4xD:min7_4xC#:7_4xC:min7_4xF:7<br>8xA#:maj7_8xA:7_4xD:min7_4xC#:7<br>4xC:min7_4xF:7_8xA#:maj7_8xA:7<br>8xG#:7(#11)_8xG:7",
          "8xA:min7_8xF#:hdim7_8xB:hdim7_8xE:7<br>8xA:min7_8xD:7_4xF:min7_4xA#:7<br>4xE:min7_4xA:7_8xD:min7_8xG:7<br>8xA:min7_8xD:7_16xF:7_16xE:7<br>8xF:7_8xE:7_16xA:maj6_8xF#:hdim7<br>8xB:7(b9)_16xE:7_8xF#:hdim7_8xB:7(b9)<br>16xE:7_4xD:min7_4xG:7_8xC:maj7<br>8xF:7_8xE:7",
          "4x<nc>_16xA:min6_16xA:min7_16xD:min7<br>16xG:7_16xB:hdim7_16xE:7_32xA:min6<br>16xC:min7_16xF:7_32xA#:maj7_16xB:hdim7<br>16xE:7_16xA:min6_8xB:hdim7_4xE:7",
          "8xC:maj_8xA:7_8xD:min7_8xG:7<br>8xC:maj_8xA:7_8xD:min7_8xG:7<br>16xC:7_8xF:7_8xA#:7_16xC:maj<br>8xD:min7_8xG:7_32xC:maj_32xE:7<br>32xA:7_32xD:7",
          "16xC:7_16xF:7_16xC:7_48xF:7<br>32xC:7_16xD:min7_16xG:7_8xC:7<br>8xA:7_8xD:min7_8xG:7_64x<pad>",
          "32xC:maj7_16xE:min7_16xA:7_32xD:min7<br>16xF:min7_16xA#:7_16xD:min7_16xG:7<br>8xB:hdim7_8xE:7(b13)_32xA:min7_16xD:7<br>16xD:min7_16xG:7",
          "16xA:min7_8xB:hdim7_8xE:7_16xA:min7<br>8xB:hdim7_8xE:7_16xA:min7_8xB:hdim7<br>8xE:7_16xA:min7_16xA:7_8xD:min7<br>8xG:7_8xC:maj7_8xF:maj7_8xB:hdim7<br>8xE:7_8xA:min7_8xA:7_8xD:min7<br>8xG:7_8xC:maj7_8xF:maj7_8xB:hdim7<br>8xE:7_16xA:min7",
          "16xC:7_16xF:7_32xC:7_32xF:7<br>16xC:7_8xA#:7_8xA:7_16xG:7<br>16xF:7_24xC:7_8xG:7_64x<pad>",
          "8xD:min7_8xG:7_16xC:maj7_8xD:min7<br>8xG:7_16xC:maj7_8xD:min7_8xG:7<br>8xE:min7_8xA:7_8xD:min7_8xG:7<br>16xC:maj7_16xF:maj7_8xE:min7_8xA:7<br>8xD:min7_8xG:7_16xC:maj7_16xF:maj7<br>8xE:min7_8xA:7_8xD:min7_8xG:7<br>16xC:maj7",
          "8xF:maj6_8xD:min7_8xG:min7_8xC:7<br>8xA:min7_8xD:7_8xG:min7_8xC:7<br>8xF:maj6_8xF:7_8xA#:maj6_8xB:dim7<br>8xF:maj6_8xD:min7_8xG:min7_16xC:7<br>8xF:maj6_32xA:7_32xD:7_32xG:7<br>16xC:7",
          "8xD:min7_8xG:7_8xC:maj7_8xF:maj7<br>8xB:hdim7_8xE:7(b9)_8xA:min7_8xD:7<br>8xG:sus4_8xG:7_8xE:min7_8xA:7(b9)<br>8xD:min7_8xG:7_16xC:maj7_8xE:min7<br>8xA:7_8xD:maj7_8xG:maj7_8xC#:hdim7<br>8xF#:7(b9)_8xB:min7_8xE:7_8xA:sus4<br>8xA:7_8xF#:min7_8xB:7(b9)_8xE:min7<br>8xA:7_16xD:maj7",
          "8xF#:min7_4xB:7_4xC:dim_16xC#:min7<br>16xA:min7_8xF#:min7_8xC#:min7_8xG:min7<br>8xA:7(b9)_8xD:min7_4xA#:min7_4xD#:7<br>16xD:min7_8xA:min11_8xA:min7_128x<pad>",
          "12xD#:maj7_12xD:min7_12xD#:maj7_12xD:min7<br>12xC:min7_12xA#:maj7_12xC:min7_12xA:7(b9)<br>12xD:min7_6xD#:min7_6xG#:7_12xC#:maj7<br>6xD:min7_6xG:7_12xC:maj7_12xA#:7(#11)<br>4xA:7_4xA:9_4xA:7_4xD:min7<br>8xD:min_64x<pad>",
          "32xF:maj7_32xA#:7(#11)_32xA:min7_32xD:7<br>32xB:hdim7_32xE:hdim7_32xC#:hdim7_32xF#:7",
          "32xA:min_32xF:9_16xB:hdim7_16xE:7<br>16xA:min_8xB:hdim7_8xE:7_16xA:min<br>8xF:maj6_8xD:min7_8xG:min7_8xC:7<br>8xF:maj6_8xD:min7_8xG:min7_8xC:7<br>8xF:maj6_8xD:min7_8xG:min7_8xC:7<br>16xF:maj6",
          "80xC:maj7_16xD#:dim7_16xD:min7_16xA:7<br>32xD:min7_16xF:min7_16xA#:7_32xC:maj7<br>16xD:min7_16xG:7",
          "32xG:maj7_32xC:7(#11)_32xG:min7_32xC:min6<br>16xA:hdim7_16xD:7(b9)_16xG:min7_16xA#:7<br>16xD#:7_16xD:7(b13)_16xG:maj6_8xA:min7<br>8xD:7",
          "8xC:maj7_8xG:aug_8xC:maj7_8xA#:7<br>8xA:7_8xE:min7_16xA:7_8xD:7<br>8xA:min7_8xD:7_8xA:min7_8xD:7<br>8xA:min7_16xD:7_16xG:7_8xB:hdim7<br>8xE:7(b9)_8xA:min7_8xE:7(b9)_8xA:min7<br>8xD#:7(#11)_8xD:7_8xA:min7_16xD:7<br>16xD:min7_8xG:7_8xG:aug",
          "32xA:min7_32xD:min7_16xF:7(#11)_16xE:7(#11)<br>16xA:min7_8xB:hdim7_8xE:7(b9)_32xA:min7<br>48xD:min7_16xG:13_16xC:maj7_8xB:hdim7<br>8xE:7(b9)",
          "8xA:min7_8xE:7(#9)_8xA:min7_4xG:min7<br>4xC:7_8xF:7_8xE:7(#9)_8xA:min7<br>8xD:7_8xC:maj7_8xE:7_16xA:min7<br>8xF#:hdim7_8xB:7(#9)_16xE:7(#9)_8xA:min7<br>8xE:7(#9)_8xA:min7_4xG:min7_4xC:7<br>8xF:7_8xE:7(#9)_8xA:min7_8xD:7<br>8xC:maj7_8xE:7_8xA:min7_8xF#:hdim7<br>8xC:maj_8xG:sus4_8xC:maj6_8xE:7",
          "16xB:hdim7_16xA#:7(#11)_16xA:min7_8xD:13<br>8xD:7(b13)_16xD:min7_16xG:7_8xC:maj7<br>8xF#:7_8xF:7_8xB:7(b9)_32xE:min<br>16xE:min6_8xE:min7_8xA:7_16xD:min7<br>8xE:min7_8xA:7_8xD:min7_8xG:7(b9)<br>8xE:min_8xB:hdim7",
          "16xD:min9_16xG:7(b9)_32xC:maj6_16xC:min9<br>16xF:7(b9)_32xA#:maj7_16xA#:min7_8xD#:sus4<br>8xD#:7(b9)_16xG#:maj7_16xF:min7_8xD:hdim7<br>16xG:7(#11)_8xG:7_16xC:maj7_16xA:7(b13)",
          "16xD:min9_16xG:maj13_16xC:maj7_8xA#:7<br>8xA:7_16xD:min9_16xG:maj13_16xC:maj7<br>16xF#:1_16xF:maj7_16xE:min7_16xD:min7<br>16xA:min7_16xF:maj7_16xE:min7_16xA#:7<br>8xA:min7_4xC:7_4xC#:7",
          "16xA:7_16xD:7_32xA:7_32xD:7<br>16xA:7_8xC#:min7_8xF#:7_16xB:min7<br>16xE:7_8xA:7_8xF#:7_8xB:min7<br>8xE:7_64x<pad>",
          "16xC:maj_16xF:7_16xC:maj_8xE:hdim7<br>8xA:7_16xD:min7_8xF#:min7_8xB:7<br>8xE:min_12xD#:min7_4xD:min_12xC#:7(#9)<br>4xD:min_4xC#:7_4xF:7_32xE:7<br>32xA:min6_16xA:min7_16xD:7_16xD:min7",
          "8xC:maj7_8xA:min7_8xD:min7_8xG:7<br>8xC:maj7_8xA:min7_8xD:min7_8xG:7(b9)<br>16xF:maj_16xC:maj7_16xB:min7_16xE:7<br>32xA:minmaj7_32xD:7(#11)_8xA:hdim7_8xD:7<br>8xG:maj7_8xG:maj6_8xA:maj_8xC:min6<br>8xG:maj_8xA#:dim7",
          "8xC:maj7_8xF#:7_8xF:maj7_8xA#:7<br>8xE:min7_8xA:7(b9)_4xD:min7_4xE:min7<br>4xF:maj6_4xG:7_8xC:min7_8xF:min7<br>8xD:7(b9)_8xG:7_8xE:min7_8xA:7(b9)<br>4xE:min7_4xF:min7_4xG:min7_4xA:7<br>16xD:7_8xG:7_8xF:min7_8xE:min7<br>8xA:min7_8xD:min7_8xG:7_64x<pad>",
          "8xF:7_8xE:7(#9)_8xA:min7_8xA#:maj7<br>8xC#:maj7_8xE:7_8xE:min7_8xA:7<br>8xF:7_8xE:7(#9)_8xA:min7_8xA#:maj7<br>8xD:7_8xG:7_16xC:7_32xF:7<br>32xC:7_32xF:7_8xC:min7_8xF:7<br>8xB:min7_8xE:7",
          "8xA:min_8xF#:hdim7_8xB:7_8xE:1<br>8xE:min7_8xA:7_8xD:min7_8xC:9<br>16xB:hdim7_16xE:1_16xA:min_8xF:7<br>8xE:7_16xA:min_32xF:7_8xA:maj6<br>8xE:min11_8xA:maj6_8xA:7_32xF:7<br>8xA:maj6_8xF#:7",
          "32xC#:maj7_16xG:7_16xC:min7_8xA#:min7<br>8xD#:7_8xG#:maj7_8xG:7_16xC:min7<br>16xF:maj_16xA#:maj7_16xB:hdim7_16xE:7<br>16xA:min7_8xD:min7_8xG:7_16xC:maj7<br>16xF:min7_16xF#:dim7",
          "16xC:maj6_16xA#:maj6_16xC:maj6_16xA#:maj6<br>16xC:maj6_16xA#:maj6_16xC:sus4_16xC:7<br>32xF:maj7_16xF:min7_16xA#:7_8xD#:min7<br>8xG#:7_8xC#:maj7_8xG:7_16xC:maj6<br>16xA#:maj6",
          "8xD:min7_8xG:7_8xF:min7_8xA#:7<br>8xC:maj7_8xD:min7_8xE:min7_8xA:7<br>8xF#:hdim7_4xF:min7_4xA#:7_8xC:maj7<br>4xD#:min7_4xG#:7_8xD:min7_4xG:7<br>4xF:7_8xE:min7_8xA:7(b9)_8xB:min7<br>8xE:7(b9)_8xA:maj7_8xB:min7_8xC#:min7<br>8xF#:7(#9)_8xB:min7_8xE:7(b9)_16xA:maj7<br>8xA:min7_8xD:7_8xG:maj7_8xE:min7<br>8xC:maj7_4xA:min7_4xD:7",
          "64xG:min11_64xD#:7(#11)_64xE:min11_64xG:min11",
          "8xC:maj6_8xA:min7_8xD:min7_8xG:7<br>8xC:maj6_8xA:min7_8xD:min7_8xG:7<br>8xC:maj7_8xC:7_8xF:maj7_8xA#:7<br>4xE:min_4xD#:7_4xD:min_4xC#:7<br>8xC:maj6_8xG:1_8xC:maj6_8xC:aug<br>8xF:maj6_8xD:min7_8xG:min7_8xC:7<br>8xF:maj6_8xD:min7_8xG:min7_8xC:7<br>8xF:maj7_8xF:7_8xA#:maj7_8xD#:7<br>4xA:min_4xG#:7_4xG:min_4xF#:7",
          "12xD:min9_12xE:min7_12xD:min9_12xE:min7<br>12xD:min9_12xE:min7_12xD:min9_12xF:maj9<br>12xC:min9_12xD:min7_12xC:min9_12xD:min7<br>12xC:min9_12xD:min7_12xC:min9_12xD#:maj9<br>12xA:maj7_12xB:maj7_12xE:maj7_12xF#:maj7<br>12xA:maj7_4xB:maj7",
          "16xA#:maj9_16xC:13_16xC:min7_8xF:7(b9)<br>8xF:13_16xA#:maj7_16xD#:13_8xA:min<br>8xF:maj_8xA:min6_8xA:min7_8xA:minmaj7<br>8xA:min7_16xD:aug_16xA#:maj9_16xC:13<br>16xF:maj6_8xD:min11_8xD:aug_16xF:maj6<br>16xB:min11",
          "24xC:maj7_8xG:7(b9)_24xC:maj7_8xG:7(b9)<br>24xC:maj7_8xG:7(b9)_24xC:7_8xC:7(b9)<br>24xF:maj7_8xF#:dim7_32xC:maj7_16xA:min7<br>16xD:7_24xG#:7_8xG:7(b9)",
          "16xF:maj7_8xF:maj6_8xF:maj7_8xF:min7<br>24xA#:9_16xD#:maj7_8xD#:maj6_8xD#:maj7<br>8xD#:min7_24xG#:9_16xC#:maj7_8xC#:maj6<br>8xC#:maj7_8xC#:min7_24xF#:9_16xF:maj7<br>8xG:min7_8xC:7_8xF:maj7_8xD:min7<br>8xB:hdim7_8xE:7",
          "4xC#:min9_4xC:min9_4xD#:min7_20xD:min7<br>16xE:maj_8xC#:min7_8xD:maj7_8xA:maj9<br>8xG:min6_8xF:maj9_8xA#:min9_16xG#:maj9<br>16xG:hdim7_16xA:13_8xG#:min9_8xF#:min9<br>8xF:hdim7_8xA#:aug_16xD#:dim7_16xD:hdim7<br>4xC#:min9_4xC:min9_4xD#:min7_20xD:min7<br>16xE:maj",
          "16xA:7_16xD:7_32xA:7_16xD:7<br>16xG:7_16xD:7_8xF#:hdim7_8xB:7(b9)<br>16xB:min7_16xE:7_16xA:7(#11)_16xA:7<br>64x<pad>",
          "8xC:maj7_8xA:min7_8xD:min7_8xG:7<br>8xE:min7_8xA:7(b9)_8xD:min7_8xG:7<br>8xC:maj7_8xA:min7_8xD:min7_8xG:7<br>16xE:hdim7_16xA:7(b9)_8xF#:hdim7_8xB:7<br>8xE:min7_8xA:7_8xD:min7_8xG:7<br>16xC:maj7_16xE:7_16xA:min7_16xD:7<br>16xG:7",
          "8xG#:maj7_4xA#:7_4xD#:7_8xG#:maj7<br>4xG#:7_4xC#:7_16xD#:maj7_8xF:9<br>8xA#:7(#11)_8xG#:maj7_4xA#:7_4xD#:7<br>8xG#:maj7_4xG#:7_4xC#:7_16xD#:maj7<br>8xF:9_8xA#:7(#11)_128x<pad>",
          "8xA:min7_8xD:7_8xA:min7_8xD:7<br>8xD:min7_8xG:7_8xD:min7_8xG:7<br>16xC:7_16xF:7_4xD#:min7_4xG#:7<br>4xD:min7_4xG:7_8xC:maj7_4xB:hdim7<br>4xE:7_8xC:maj7_8xB:7(b9)_8xE:min<br>8xE:minmaj7_8xE:min7_8xA:7_8xD:maj7<br>8xE:min7_8xF#:min7_4xE:min7_4xA:7<br>8xD:min_8xD:minmaj7_8xD:min7_8xG:7<br>16xC:maj7",
          "32xG:maj6_16xF:7_16xE:7_16xA:min7<br>16xE:aug_16xA:min7_16xE:aug_32xA:min7<br>16xD:7_16xD#:dim7_16xE:min7_16xA:7<br>16xA:min7_16xD:7",
          "8xF:maj7_8xG#:7_8xC#:maj7_8xE:7<br>16xA:maj7_8xD#:min7_8xG#:7_8xC#:maj7<br>8xE:7_8xA:maj7_8xC:7_16xF:maj7<br>8xB:min7_8xE:7_16xA:maj7_8xD#:min7<br>8xG#:7_16xC#:maj7_8xG:min7_8xC:7<br>16xF:maj7_8xB:min7_8xE:7_16xA:maj7<br>8xG:min7_8xC:7",
          "64xE:min11_64xG:min11_64xF:min11_64xD#:min9",
          "16xA:min_8xB:hdim7_8xE:7(b9)_8xA:min<br>8xA:7(b9)_16xD:min7_16xB:hdim7_16xE:7(b9)<br>32xA:maj7_32xF:7_32xE:7_32xF:7<br>8xE:7_8xF:7_16xE:7",
          "16xE:min7_8xC#:hdim7_8xC:maj7_8xE:min7<br>8xC#:hdim7_8xF#:hdim7_8xB:7(b9)_16xE:min7<br>8xC#:hdim7_8xC:maj7_8xE:min7_8xC#:hdim7<br>4xF#:hdim7_4xB:7_16xE:min7_8xD:7<br>8xC:7_8xB:7(b9)_8xE:min7_8xD:7<br>8xC:7_8xB:7(b9)_8xE:min7_8xD:7<br>8xC:7_8xB:7(b9)_8xE:min7_8xD:7<br>8xC:7_8xB:7(b9)",
          "16xC:maj7_8xE:hdim7_8xA:7(b9)_16xD:min7<br>16xA#:7_8xF:min7_4xA#:7_4xB:dim<br>8xC:maj7_4xE:7_4xA:7_8xD:7<br>8xG:7_4xE:min_4xD#:7_4xD:min<br>4xC#:7_8xC:maj6_4xF#:hdim7_4xB:7<br>16xE:min7_8xF#:hdim7_8xB:7(b9)_16xE:min7<br>8xA:7_8xG#:7(#9)_8xG:maj7_8xE:min7<br>8xA:hdim7_8xD:7_8xD:min7_8xG:dim7",
          "16xD:min7_8xD:hdim7_8xG:7(b9)_16xC:maj7<br>8xE:min7_8xD#:dim7_16xD:hdim7_16xG:7(b9)<br>16xC:maj7_8xE:min7_8xA:7_8xG:min7<br>8xC:7_16xF:maj7_16xA#:7(#11)_8xC:maj7<br>8xD:min7_8xE:min7_8xB:7_16xE:min7<br>8xF#:hdim7_8xB:7(b9)_8xE:min7_8xA:7",
          "32xG:maj6_32xC:7_16xA:7_8xA:min7<br>8xD:7_8xG:maj6_8xE:7_8xA:min7<br>8xD:7_32xG:maj6_8xD:min7_8xG:7<br>8xD:min7_8xG:7_32xC:maj6_8xE:min7<br>8xA:7_8xE:min7_8xA:7",
          "8xG:7_8xF#:7_8xF:7_8xE:7<br>8xA:7_8xD:7_24xG:7_8xF#:7<br>8xF:7_8xE:7_16xA:7_16xD:7<br>32xG:7_16xC:7_16xC#:dim7_8xG:7<br>8xF#:7_8xF:7_8xE:7_8xA:7<br>8xD:7_8xG:7_8xD:7",
          "256xC:min7",
          "8xC:9_8xA#:dim7_8xA:min7_8xD:13<br>8xC:9_8xC#:dim7_8xD:sus4_8xD:9<br>8xD:min11_8xG:13_8xC:maj6_8xC:min6<br>8xB:min7_8xE:7_8xA:min7_8xD:9<br>8xG:maj7_8xC:9_8xB:min7_8xC#:dim7<br>8xD:min7_8xF:9_8xE:13_8xA#:9<br>8xA:min11_8xB:min7_8xC:maj9_8xD:sus4<br>12xD#:9_4xD#:7_8xD:sus4_8xD:aug",
          "8xC:maj7_8xF:maj7_8xE:min7_8xA:7<br>16xD:min7_8xF#:min7_8xB:7(b9)_8xC:maj7<br>8xE:7(#9)_16xA:min7_24xD:min7_8xG:7(b9)<br>16xC:maj7_8xG:min7_8xC:7_16xF:maj6<br>8xB:hdim7_8xE:7(b9)_8xA:min7_8xE:7(b13)<br>8xA:min7_8xD:7_8xD:min7_8xA:7<br>8xD:min7_8xG:7",
          "16xF#:min7_16xB:7_16xF#:min7_16xB:7<br>16xF#:min7_16xB:7_16xF#:min7_16xB:7<br>16xF#:min7_16xB:7_16xF#:min7_16xB:7<br>16xF#:min7_16xB:7_16xF#:min7_16xB:7",
          "16xA:min_16xE:7_16xA:min_16xA:7<br>16xD:min_16xA:7_32xD:min_8xB:min7<br>8xE:7_8xC:min7_8xF:7_16xA#:maj<br>8xB:min7_8xE:7_16xA:min_8xB:hdim7<br>8xE:7_16xA:min_16xE:7",
          "16xC:maj7_8xB:hdim7_8xE:7(b9)_8xA:min7<br>8xD:7_8xG:min7_8xC:7_16xF:7<br>8xE:min7_8xA:7_16xD:7_16xG:7(b9)<br>8xD:min7_8xG:7_16xC:maj7_16xG:min7<br>16xC:7_32xF:maj7_16xA#:min7_16xD#:7",
          "16xC:maj7_16xC#:dim7_16xD:min7_8xF:min7<br>8xA#:9_8xC:maj7_8xD#:dim7_8xD:min7<br>8xG:7_8xE:min7_8xD#:13_8xD:min7<br>8xG:7_8xC:maj7_8xF:min6_16xC:maj7<br>16xF:maj7_16xF#:dim7_16xC:maj7_16xA:7<br>16xD:min7_16xD:9",
          "32xE:min7_16xF#:hdim7_16xB:7(b9)_16xE:min7<br>16xC:maj7_8xC#:hdim7_8xA:min7_8xB:7(#9)<br>8xE:min7_16xA:min7_16xD:7_16xG:maj7<br>8xG#:min7_8xC#:7_16xG:min7_16xC:7<br>16xF:maj7_8xF#:min7_8xB:7",
          "16xA:min7_8xD:sus4_8xD:7_16xG:min7<br>8xC:sus4_8xC:7_16xF:maj6_8xB:min7<br>8xE:7_16xD#:maj7_8xA:min7_8xD:7<br>16xD:min7_16xG:7(b9)_16xC:minmaj7_16xF:7<br>16xA#:maj7_8xE:hdim7_8xA:7(b9)_16xD:maj7<br>8xB:min7_4xF:7_4xE:7",
          "8xA:7_8xG:7_8xA:7_8xG:7<br>8xA:7_8xG:7_8xA:7_8xG:7<br>8xC:min7_8xF:7_8xC:min7_8xF:7<br>8xA:7_8xG:7_8xA:7_8xG:7<br>8xF#:min7_8xB:7_8xE:min7_8xA:7<br>8xD:min7_8xG:7_16xA:7_64x<pad>",
          "96xF:maj7_8xG:min11_24xC:min11_32xF:maj7<br>16xD:7(b9)_8xC:7_8xG:7_64xF:maj7",
          "32xG:7_16xC:7_16xC#:dim_16xG:maj<br>8xB:hdim7_4xF:7_4xE:7_16xA:7<br>16xD:7_8xA:min7_8xD:7_8xG:maj<br>8xC:maj_16xG:maj_32xD:7_8xG:maj<br>8xA:min7_16xG:7_16xC:maj6",
          "8xG:maj7_4xA:min7_4xB:min_8xC:maj7<br>8xB:min7_8xA:min7_4xB:min7_4xC:maj7<br>8xB:min7_8xA:min7_8xG:maj6_4xA:min7<br>4xB:min_8xC:maj7_4xA:min7_4xD:7<br>8xG:maj6_8xE:min7_8xA:min7_8xD:7<br>8xG:maj6_8xF:7(#11)_16xG:maj6_8xF:min7<br>8xA#:7_8xF:min7_8xA#:7_8xD#:maj7<br>8xA#:sus4_16xD#:maj7_8xG:maj7_8xG#:dim7<br>8xA:min7_8xD:7",
          "16xC:maj7_8xB:hdim7_8xE:7(b9)_8xA:min<br>8xA:min7_8xD:maj_4xF:min7_4xA#:7<br>8xE:min7_8xA:7_8xD:min7_8xG:7<br>8xE:min7_8xA:7_8xD:min7_8xG:aug<br>16xC:maj6_8xB:hdim7_8xE:7(b9)_8xA:min<br>8xE:7(b9)_8xA:min_8xF:7_8xA:min<br>8xE:7(b9)_8xA:min_8xD:7_8xA:min<br>8xE:7(b9)_8xA:min_4xF#:hdim7_4xB:7",
          "16xA:min9_16xA#:maj7_16xD#:maj7_16xD:min9<br>8xG:min9_8xC:min9_16xF:min9_16xC#:maj7<br>16xF#:maj7_16xG:min9_16xC:min9_16xF:min9<br>16xA#:min9_16xD#:min11_16xD:min9_32xA:min9",
          "8xG:maj_8xE:7_8xA:min7_8xD:7<br>8xG:maj_8xE:7_8xA:min7_8xD:7<br>16xG:7_8xC:7_8xC#:dim7_8xG:7<br>8xE:7_8xA:min7_8xD:7_32xB:7<br>32xE:7_32xA:7_32xD:7",
          "16xC:maj_16xC:maj6_32xC:maj7_48xF:maj7<br>8xD:min7_8xG:sus4_16xC:maj7_16xG:sus4<br>8xB:hdim7_8xE:7(b9)_16xA:min7_16xD:min7<br>16xB:hdim7_16xE:7(b9)_16xA:min7",
          "8xC:maj6_8xA:7_8xD:min7_8xG:7<br>8xC:maj7_8xA:7_8xD:min7_8xG:7<br>8xC:maj7_8xF:7_8xE:7(b9)_8xA:7(b9)<br>16xD:7_16xG:7_8xC:maj7_8xA:7<br>8xD:min7_8xG:7_8xC:maj7_8xF:7<br>8xE:hdim7_8xA:7(b9)_8xD:min7_8xB:hdim7<br>8xE:hdim7_8xA:7(b9)_8xD:min7_8xA:7(b9)<br>8xD:min7_8xG:7",
          "8xC:maj6_8xA:min7_8xD:min7_8xG:7<br>8xC:maj6_8xA:min7_8xD:min7_8xG:7<br>8xC:maj7_8xA:min7_8xD:min7_8xG:sus4<br>8xC:maj6_8xA:min7_8xD:min7_8xG:7<br>16xC:maj6_16xA:min7_8xD:min7_8xG:7<br>8xC:maj6_8xA:min7_8xD:min7_8xG:7<br>8xC:maj6_8xA:min7_8xC:maj6_8xA:min7<br>8xD#:maj7_8xD#:maj6",
          "32xG:maj7_16xF#:hdim7_16xB:7_32xE:min7<br>16xD:min9_16xG:13_16xC:maj7_16xF:9<br>16xG:maj7_16xE:min7_32xA:9_16xA:min7<br>16xD:7",
          "8xD:min7_8xG:7_16xC:maj7_8xC:min7<br>8xF:7_16xA#:maj7_8xA#:min7_8xD#:7<br>8xA#:min7_8xD#:7_8xG#:maj7_4xD:min7<br>4xG:7_16xC:maj7_8xA:min7_8xD:7<br>8xA:min7_8xD:7_8xA:min7_8xD:7<br>8xA:min7_8xD:7_16xG:maj7_8xE:min7<br>8xA:7_8xA:min7_8xD:7_8xD:min7<br>8xG:7",
          "8xA:7_8xD:7_8xG:7_8xC:maj7<br>8xA:7_8xD:7_8xG:7_4xC:maj7<br>4xE:7_8xF:maj7_8xF#:dim7_8xC:maj7<br>8xA:7_8xD:7_8xG:7_16xC:maj6<br>8xF:maj7_8xF#:dim7_8xC:maj_8xC:7<br>8xF:maj7_8xF#:dim7_8xC:maj6_8xC:7<br>8xF#:hdim7_8xB:7(b9)_8xC:maj_8xD#:7<br>24xD:7_8xG:7",
          "8xA:min7_8xD:7_8xD:min7_8xG:7<br>8xC:maj7_8xF:maj7_8xE:min7_8xD#:dim7<br>16xD:min7_8xG:sus4_8xG:7_16xC:maj7<br>8xE:hdim7_8xA:7(b9)_8xD:min7_8xG:7<br>8xE:min7_8xA:7_8xD:min7_8xG:7<br>16xC:maj7_8xE:min7_8xA:7_8xD:maj7<br>8xB:min7_8xE:min7_8xA:7_8xD:min7<br>8xG:7",
          "8xF#:min7_8xB:7_16xF:7(#11)_8xE:7<br>8xA:7_8xD:7_8xG:7_8xC:7<br>8xC#:min7_8xF#:aug_40xB:maj7_16xF#:min7<br>16xB:7(#11)_16xE:maj7_16xD#:hdim7_8xG#:min7<br>8xC#:7_8xE:7_8xF:7_8xD:7<br>8xG:7_8xC#:min7_8xF#:7",
          "16xD:min7_16xG:7_16xC:maj7_16xA:min7<br>16xD:min7_16xG:7_16xC:maj7_8xE:min7<br>8xA:7_16xD:min7_16xG:7_16xF#:hdim7<br>16xB:7(b13)_16xE:maj7_8xF#:min7_8xB:7<br>8xE:maj7_8xA:7_8xD:min7_8xG:7",
          "16xD:maj7_8xE:min7_8xA:7_4xD:maj7<br>4xC#:7_4xC:7_4xF#:7_16xB:7(b9)<br>16xE:7_16xA:7_32xD:maj6_16xA:min7<br>16xD:7_32xG:maj7_32xE:7_32xA:sus4",
          "16xG:min7_16xC:7_8xF:maj7_8xA#:maj7<br>8xA:min7_8xG#:7_8xG:min7_8xD:7(b9)<br>8xG:min7_8xC:7_16xF:maj7_8xA:hdim7<br>8xG#:7_16xF:maj7_8xC:min7_8xF:7<br>16xA#:maj7_16xA#:min7_16xF:maj7_8xE:hdim7<br>8xA:7(b9)_16xD:min7_16xG:7",
          "16xD:min7_16xG:7_16xD:min7_16xG:7<br>8xC:maj7_8xC:7_8xF:maj7_8xF#:dim7<br>8xC:maj7_8xD:min7_8xE:min7_8xA:7<br>8xC:maj7_8xG:7_16xC:maj7_32xE:7<br>32xA:7_32xD:7",
          "16xC#:min7_16xC:7_16xB:min7_16xA#:7(#11)<br>16xC#:min7_16xC:7_16xB:min7_16xA#:7(#11)<br>16xE:min7_16xA:7_16xD:maj7_16xG:7<br>16xC#:min7_16xC:7_8xB:min7_8xA#:7(#11)<br>16xA:maj6",
          "8xC:maj6_8xC#:dim7_8xD:min7_8xG:7<br>8xE:min7_8xD#:dim7_8xD:min7_8xG:7<br>8xG:min7_8xC:7_8xF:maj7_8xA#:7<br>4xE:min7_4xA:7_4xD:min7_4xG:7<br>8xC:maj6_4xD:min7_4xG:7_8xC:maj6<br>8xE:7(b9)_8xA:min7_8xB:7_8xE:7<br>8xA:7_8xD:7_8xG:7_8xC:maj7<br>8xE:7(b9)_8xA:min7_8xB:7_8xE:7<br>8xA:7_8xD:7_8xG:7",
          "16xA:min7_8xD:min7_8xG:7_8xC:min7<br>8xF:7_8xA#:min7_8xD#:7_16xD:min7<br>16xD#:7(#11)_16xD:min9_16xD#:1_32xD:min7<br>8xA#:min7_8xD#:7_8xA#:min7_8xD#:7<br>8xA#:min7_8xD#:7_8xA#:min7_8xD#:7<br>8xA#:min7_8xD#:7_8xA#:min7_8xD#:7",
          "64xB:1_64xD:1_16xD:min9_16xG:1<br>16xD:min9_16xG:1_16xF#:hdim7_16xB:hdim7<br>16xE:hdim7_16xA:hdim7",
          "16xC:maj9_8xF:sus4_8xF:9_16xC:maj9<br>8xF:min9_8xA#:9_4xE:min9_4xA:min9<br>4xD#:min9_4xG#:9_8xD:min9_8xG:9<br>8xA#:7(#11)_8xA:7(b9)_8xD:hdim7_8xG:7<br>8xC:maj6_8xF:min6_16xC:maj6_8xF#:min7<br>8xB:7_8xG#:min7_8xC#:7_8xF#:min7<br>8xB:7_16xE:maj7_8xF#:min7_4xA:min7<br>4xD:7_4xB:min7_4xB:aug_8xE:min9",
          "32xC:maj7_32xC:maj6_32xC:maj7_32xA:7<br>16xD:min7_12xG:9_4xG#:dim_32xA:min7<br>32xD:7_32xG:7",
          "16xD:maj7_8xF:min7_8xA#:7_8xE:min7<br>8xA:7_8xE:min7_8xA:aug_16xD:maj7<br>8xF:min7_8xA#:7_8xE:min7_8xA:7<br>8xC#:hdim7_8xF#:7(b9)_16xB:min7_16xG:min6<br>16xB:min7_16xE:9_16xF#:min7_16xB:7<br>8xB:min7_8xE:7_8xE:min7_8xA:7",
          "16xA:min7_16xD:7_16xG:maj7_16xE:min7<br>16xA:min7_16xD:7_16xG:maj7_16xE:min7<br>16xA:min7_16xD:7_16xG:maj6_16xE:min7<br>32xA:7(#11)_16xD:7_16xD:7(b9)",
          "16xC:min_8xF#:7_8xB:7_8xE:min7<br>8xD#:7_8xG#:maj7_8xG:7_16xC:min<br>16xD#:9_32xG:9_8xF#:maj7_8xG:7<br>8xD#:min7_8xG#:7(#11)_16xE:min7_16xA:13<br>16xA:min7_8xD:sus4_8xD:7_32xG:9",
          "12xC:maj7_12xF:min6_12xC:maj7_12xF:min6<br>12xC:maj7_8xF:min6_4xC:1_12xB:hdim7<br>12xE:7(#9)_12xA:min7_12xE:7(b9)_12xA:min7<br>12xE:7(b9)_12xA:min7_12xD:7_12xF:maj9<br>12xG:7_12xC:maj7_12xF:min6_12xC:maj7<br>12xF:min6_12xC:maj7_4xE:aug",
          "16xD:7_16xG:7_16xD:7_16xG#:7<br>16xG:7_16xC:7_16xF:7_16xA#:7<br>32xA:7_16xD:7_16xA:7_64x<pad>",
          "16xD:min7_16xG:7_8xC:maj6_8xD:min7<br>8xE:min7_8xD#:maj7_16xD:maj7_16xC#:min7<br>16xC:maj7_16xC#:dim7_16xD:min7_16xG:7<br>16xC:maj6_8xE:min7_8xD#:maj7_16xD:maj7<br>16xC#:min7_32xC:maj7",
          "8xD:min9_8xG:7_8xE:min7_8xD#:dim7<br>8xD:min7_8xG:7_8xE:hdim7_8xA:7<br>8xD:min7_8xA#:9_8xE:min7_8xA:9<br>8xD:min7_8xG:7_16xC:maj7_16xC:maj6<br>8xG:min7_8xC:7(#9)_8xF:maj7_8xD:min7<br>8xG:min7_8xC:7(b9)_16xF:maj7_8xF#:min7<br>8xB:7(#9)_16xE:maj7_8xA:min7_8xD:7",
          "64xA:7_16xD:min7_16xG:7_16xC:maj7<br>16xF:maj7_16xB:hdim7_16xE:7_16xA:min7<br>16xE:7(#9)_64x<pad>",
          "32xC:maj6_32xC:7_32xF:maj7_32xA#:9<br>32xC:maj6_32xD:9_16xD:min7_16xA:7(b9)<br>16xD:min7_16xG:aug",
          "8xA:min_8xB:hdim7_8xA:min_8xD:min6<br>16xA:min_8xB:hdim7_8xE:7(b9)_8xA:min<br>8xB:hdim7_8xA:min_8xD:min6_16xA:min<br>4xB:hdim7_4xE:7_8xA:min_16xA:min7<br>16xD:7(#9)_32xG:maj7_16xG:min7_16xC:7(#9)<br>16xF:maj7_8xB:hdim7_8xE:7(b9)",
          "8xC:maj7_8xC#:dim7_8xD:min7_8xD#:dim7<br>8xE:min7_8xE:aug_8xF:maj7_8xA#:maj7<br>8xC:maj7_8xF#:9_8xF:maj7_8xA#:7<br>8xE:min7_8xA:7_8xD:min7_8xG:7<br>16xC:maj7_16xC:maj6_32xC:7_32xF:maj7<br>32xD:7",
          "8xC:maj7_8xA#:7_8xG#:7_8xG:7<br>8xC:maj7_8xA#:7_8xG#:7_8xG:7<br>8xC:maj7_8xA#:7_8xG#:7_8xG:7<br>8xC:maj7_8xA#:7_8xG#:7_8xG:7<br>128x<pad>",
          "16xD:hdim7_16xG:7(b9)_32xC:maj7_16xD:min7<br>16xG:7_32xC:maj7_16xD:hdim7_16xG:7(b9)<br>16xC:maj7_8xF#:min7_8xB:7_16xE:maj7<br>8xF#:min7_8xB:7_32xE:maj7",
          "16xC:maj7_8xB:hdim7_8xE:7(b9)_32xA:min<br>16xD:7_16xG:7_16xC:maj7_8xG:min7<br>8xC:7_16xF:min7_16xC:min7_16xF:min7<br>8xD:min7_8xG:7_8xF#:hdim7_8xB:7(b9)<br>8xE:hdim7_8xA:7(b9)_8xE:hdim7_8xA:7(b9)<br>8xD:min7_8xG:7",
          "16xD:min7_16xG:7_16xD:min7_16xC#:7<br>16xC:maj7_16xF:maj7_16xE:min7_16xC#:7<br>16xD:min7_16xG:7_16xD:min7_16xC#:7<br>16xC:maj7_16xF:maj7_8xF#:min7_8xB:7<br>16xE:maj",
          "16xG:maj7_16xE:7_16xA:min7_16xD:7<br>16xB:min7_16xE:min7_16xA:min7_16xD:7<br>16xD:min7_16xG:7_16xC:maj7_8xA#:min7<br>8xD#:7_16xG#:maj7_8xF#:min7_8xB:7<br>16xE:maj7_8xA#:min7_8xD#:7",
          "8xG:min7_8xC:7_16xF:maj7_8xG:min7<br>8xC:7_16xF:maj7_8xB:min7_8xE:7<br>8xA:maj6_8xF#:7_8xB:min7_8xE:7<br>16xA:maj7_16xA:min_16xG#:dim7_16xG:min7<br>16xC:7_16xF:maj7_8xA:hdim7_8xD:7<br>16xG:min7_16xC:7",
          "16xE:min6_16xB:hdim7_16xE:min7_16xA:7<br>16xD:min7_16xA:7_16xD:min7_16xD:aug<br>32xG:min9_32xC:aug_32xF:min9_8xG#:9<br>8xG:9_8xF#:9_8xB:7(b9)",
          "96xA:min7_48xF:maj7_48xE:7(b9)_64x<pad>",
          "80xC:maj6_16xA:7_32xD:7_16xD:min7<br>16xG:7_16xE:7_16xA:min7_32xD:7<br>32xG:7",
          "32xF:maj7_32xE:min7_32xF:maj7_32xE:maj<br>8xF:maj7_8xE:min7_8xF:maj7_8xE:min7<br>32xA:maj_16xA:min_16xF:maj7_32xE:min7",
          "8xA:min7_8xF#:hdim7_8xB:hdim7_8xE:7(b9)<br>8xA:min7_8xD:7_8xG:7_8xC:7<br>16xF:maj7_8xB:7_8xE:7_8xA:7<br>8xD:7_8xG:7_8xC:7_8xF:maj7<br>8xB:7_8xB:hdim7_8xE:7(b9)_16xA:min6<br>8xF:7_8xE:7(b9)_16xA:aug_8xD:min7<br>8xG#:7_8xG:min11_8xG:9_8xC:maj7<br>8xE:7(b13)",
          "16xF#:hdim7_16xB:7(b9)_16xD:min7_16xG:7<br>16xG:min7_16xC:7_16xF:maj7_16xA#:7<br>16xC:maj7_8xF#:hdim7_8xB:7(b9)_16xE:min7<br>8xC:min7_8xF:7_16xG:maj7_16xF#:hdim7<br>16xF:maj7_16xE:7(b9)",
          "8xG:min7_8xC:7_8xG:min7_8xC:7<br>8xA:min7_8xD:7_8xA:min7_8xD:7<br>16xG:7_16xF#:9_16xF:maj7_16xD:7<br>16xF:maj7_8xC:min7_8xF:7_8xC:min7<br>8xF:7_32xA#:maj7_8xD:min7_8xG:7<br>8xD:min7_8xG:7_16xC:7",
          "8xC:maj_8xC:aug_8xC:maj6_8xC:aug<br>8xC:maj7_8xD:min7_8xE:min7_8xD:min7<br>8xC:maj7_8xD:min7_8xE:min7_8xA:7<br>24xD:min7_8xG:7_8xG:min7_8xC:7<br>8xF:maj7_8xE:min7_8xD:min7_8xG:7<br>8xC:maj7_8xG:min11_8xC:maj7_8xG:min11<br>8xC:maj7_8xD:min7_8xE:min7_4xF#:hdim7<br>4xB:7_8xE:min7_8xA:7",
          "32xA:maj7_16xD:min7_16xG:7_32xA:maj7<br>16xG:min7_16xC:7_32xF:maj7_16xF#:min7<br>16xB:7_16xB:min7_16xE:7_8xA:maj7<br>8xC:maj7_8xF:maj7_8xE:aug",
          "32xD:maj7_16xF:min7_16xA#:7_32xD:maj7<br>16xF#:min7_16xB:7(b9)_16xE:min7_16xB:7(b9)<br>32xE:min7_32xA#:7_16xE:min7_16xA:7",
          "16xC:7_16xF:7_16xC:7_8xG:min7<br>8xC:7_16xF:7_16xF#:dim7_16xC:7<br>8xE:min7_8xA:7_16xD:min7_16xG:7<br>8xC:7_8xA:7_8xD:min7_8xG:7<br>64x<pad>",
          "8xF:maj7_8xF#:9_8xC:maj7_8xA:min7<br>8xD:min7_8xG:13_8xC:maj7_8xF#:7(#11)<br>8xF:maj7_8xF#:9_8xC:maj7_8xA:min7<br>8xF#:hdim7_8xB:7(b9)_16xE:min_8xD:min7<br>8xC:maj7_8xD:min7_8xC:maj7_8xD:hdim7<br>8xG:13_8xD:hdim7_8xG:13_24xC:sus4<br>8xC:13_8xF:maj7_8xF:7(#9)_8xF:minmaj7<br>8xG:13",
          "32xE:minmaj7_16xB:min7_16xE:7_32xA:maj7<br>16xA:min7_16xD:7_16xG:maj7_8xG:min7<br>8xC:7_16xF:maj7_8xF#:hdim7_8xB:7<br>64x<pad>",
          "16xC:maj7_8xD:min7_8xG:7_16xC:maj7<br>8xG:min7_8xC:13_16xF:maj7_8xF#:min9<br>8xB:13_16xC:maj7_16xA:7_16xD:min9<br>16xG:9_16xE:min9_16xA:9_16xF#:min9<br>16xB:9_8xE:min7_8xA:aug_8xD:min7<br>8xG:7(b9)",
          "8xE:min7_8xA:7(b9)_8xF#:min7_8xB:7(b9)<br>8xE:min7_8xA:7(b9)_16xD:maj7_8xG:min7<br>8xC:7(b9)_8xF:maj7_8xA#:maj7_8xE:min7<br>8xA:7(b9)_8xD:maj7_8xA:7_16xD:maj7<br>8xA:min7_8xD:7_16xG:maj7_8xA:min7<br>8xD:7_16xG:maj7_8xB:min7_8xE:7<br>16xA:maj7_8xB:min7_8xE:7",
          "16xG:sus4_16xC:sus4_32xG:sus4_32xC:sus4<br>32xG:sus4_16xD:sus4_16xC:sus4_32xG:sus4<br>64x<pad>",
          "16xD:min7_16xG:7_16xC:maj7_8xE:min7<br>8xA:7(b9)_16xD:min7_16xG:7_16xC:maj7<br>8xE:min7_8xA:7(b9)_16xD:min7_16xG:7<br>16xE:hdim7_16xA:7(b9)_16xD:min7_16xG:7<br>16xC:maj6_8xE:min7_8xA:7(b9)",
          "64xE:min7_32xA:min7_32xE:min7_16xC:7<br>16xB:7_32xE:min7_64x<pad>",
          "8xA:maj_8xG:7_8xF:7_8xE:sus4<br>8xD#:7_8xD:7_8xC#:7_8xC:7<br>8xB:sus4_8xE:sus4_8xF:maj_8xA#:maj<br>8xA:7_8xD:7_8xF:7_8xE:7<br>8xA:7_8xD:7_8xF:7_8xE:7<br>8xB:min11_8xE:7_16xA:maj7_16xC#:7<br>8xD:min7_8xG:7_16xC#:aug_16xC:7",
          "16xC:7_8xD:min7_8xG:7_32xC:7<br>16xF:7_16xF:min7_16xC:7_16xD#:min7<br>16xD:min7_16xG:7_16xC:7_8xD:min7<br>8xG:7_64x<pad>",
          "32xG:maj7_16xC#:min7_16xF#:7_32xG:maj7<br>16xB:min7_16xE:7_32xA:7_16xA:min7<br>16xD:7_16xB:min7_16xA#:min7_16xA:min7<br>16xD:7",
          "16xA:maj6_8xE:min7_8xA:7_16xD:maj7<br>8xD:min7_8xG:9_8xA:maj7_8xF#:aug<br>8xB:7_8xE:13_8xA:maj6_4xD:maj6<br>6xD#:maj_6xE:sus4_8xE:7_8xA:maj6<br>4xG#:min9_4xC:13_64xF:maj7_16xA:maj7<br>8xC#:min7_8xF#:7_16xB:7",
          "16xB:hdim7_16xE:7(b9)_16xA:min7_16xD:7<br>8xG:dim7_8xG:maj6_16xG:maj7_16xG:min7<br>16xC:7_16xD:min7_16xG:7_16xC#:hdim7<br>16xF#:7(b13)_32xB:maj7_16xD:hdim7_16xG:7(b13)",
          "16xC:maj7_8xF#:hdim7_8xB:7(b13)_16xE:hdim7<br>8xA:7_8xA:7(b13)_16xD:9_8xG#:7<br>8xG:13_8xE:min7_8xA:7_8xD:min7<br>8xG:7_16xG:min7_16xC:9_16xF:maj9<br>16xA#:sus4_16xE:min7_8xG:min7_8xC:7<br>16xF:maj9_16xA#:sus4",
          "16xA:min6_8xB:hdim7_8xE:aug_16xA:min6<br>16xA:7_16xD:min6_16xA:aug_32xD:min6<br>16xB:hdim7_16xE:aug_16xD:min7_16xG:7<br>8xC:min7_8xF:7_8xB:hdim7_8xE:aug<br>16xA:min6_8xB:hdim7_8xE:aug",
          "32xG#:7(b13)_8xC#:min7_8xF#:7_8xB:min7<br>8xE:7_8xA:maj7_8xF#:min7_8xB:min7<br>8xE:7_16xC#:min7_16xF#:7_32xA:maj6<br>32xF:maj7_16xG:min7_16xC:7_32xD:min7",
          "8xC:maj7_8xD:min7_8xE:min7_4xD:min7<br>4xG:7_8xC:maj7_8xF:9_8xE:min7<br>8xA:7_8xF#:hdim7_8xF:min7_8xC:maj<br>8xA:7(#9)_8xD:min7_8xG:7_4xE:min7<br>4xA:7_4xD:min7_4xG:7_16xC:maj6<br>8xG:min7_8xC:7_8xA:min7_8xD:min7<br>8xG:min7_8xC:7_16xF:maj7_8xA:min7<br>8xD:7_8xB:min7_8xE:min7_8xA:min7<br>8xD:7",
          "8xD:min7_4xE:min7_4xA:7_8xD:min7<br>8xG:7_8xC:maj7_8xF:7_8xE:min7<br>8xA:min7_8xD:min7_8xE:min7_8xD:min7<br>8xG:7(b9)_8xC:maj7_8xD:min7_8xE:min7<br>8xA:min7_16xD:min7_16xG:7_8xG:min7<br>8xC:7_16xF:maj7_8xC:maj_4xB:min7<br>4xE:7_16xA:min7_8xG:min7_8xC:7<br>16xF:maj7",
          "16xF#:hdim7_16xB:13_16xE:hdim7_16xA:13<br>16xD:hdim7_16xG:13_16xC#:min7_16xF#:9<br>16xF:maj7_16xE:13_16xA:min7_8xF#:min11<br>8xB:7_8xE:maj7_8xC#:min7_8xF#:min7<br>8xB:13_16xE:maj6_8xD:min7_8xG:9",
          "16xF:maj7_16xG:7_16xC:maj6_8xE:min7<br>8xA:7_16xD:min7_8xG:sus4_8xG:7(b9)<br>16xC:maj6_8xG:min7_8xC:7_16xC:maj6<br>16xB:min7_16xE:7_32xA:maj7_16xA:min7<br>16xD:7_16xB:min7",
          "192xE:min7_16xG:7_16xF#:min7_32xE:maj7",
          "8xB:hdim7_8xE:7(b9)_8xA:min7_8xD:7<br>8xB:hdim7_8xE:7(b9)_8xA:min7_8xD:7<br>8xD:min7_8xG:7_16xA:min7_8xF:maj7<br>8xE:min7_8xD:min7_8xC:min7_8xD:min7<br>8xG:7_16xC:maj7_8xB:hdim7_8xE:7(b9)<br>8xB:hdim7_8xE:7(b9)_4xA:min7_4xG#:7<br>4xG:min7_4xF#:7_16xF:maj7_16xC:maj7<br>8xA:min7_8xD:7",
          "16xD:min7_8xE:hdim7_8xA:7(b9)_16xD:min7<br>16xG:7_16xC:maj7_16xF:maj7_16xE:min7<br>16xA:7(b9)_16xD:min7_16xG:7_8xC:maj7<br>8xF:maj7_8xE:min7_8xA:7(b9)_16xD:min7<br>16xG:7_8xC:maj7_8xF:maj7_8xE:min7<br>8xA:7(b9)",
          "16xC:maj7_16xD#:7_16xG#:maj7_16xC#:maj7<br>16xD:min7_16xG:7_16xC:maj7_8xG:min7<br>8xC:7(b9)_16xF:min7_16xA#:7_16xD#:maj7<br>16xG#:maj7_16xD:min7_16xG:7_8xC:maj7<br>8xA:min7_8xD:min7_8xG:7",
          "8xC:maj6_8xA:min7_8xD:min7_8xG:7<br>8xC:maj7_8xC#:dim7_8xD:min7_8xG:7<br>8xC:maj6_8xA:7_8xD:min7_8xG:7<br>16xC:maj7_8xG:min7_8xC:7_16xF:maj7<br>8xG:7_8xE:7_8xA:min_8xE:7<br>8xG:min7_8xC:7_8xF:maj7_8xA:7<br>8xD:min_4xB:hdim7_4xE:7_8xA:min<br>8xD:7_8xG:1_8xG:7",
          "32xA:min_32xG#:dim7_32xG:min6_32xD:7<br>32xF:maj7_32xA#:maj7_16xB:hdim7_16xE:7(b9)<br>24xA:min_8xG#:7",
          "16xD:min7_16xD:7_16xD:min7_16xG:9<br>16xD:min7_16xG:13_16xD:min7_16xG:7<br>16xG:min7_16xG:7_16xG:min7_16xC:9<br>16xG:min7_16xC:13_16xG:min7_16xC:7",
          "16xA:min7_8xB:hdim7_8xE:7(b9)_16xA:min7<br>8xG:min7_8xC:7_16xF:maj7_8xG:min7<br>8xC:7_32xF:maj7_16xD:min7_16xG:7<br>16xC:maj7_8xB:hdim7_8xE:7(b9)_16xA:min7<br>16xD:7_16xD:min7_8xB:hdim7_8xE:7(b9)",
          "8xB:7_8xC:7_8xB:7_8xC:7<br>8xB:7_8xC:7_8xB:7_8xC:7<br>8xC#:7_8xD:7_8xC#:7_8xD:7<br>8xC#:7_8xD:7_8xC#:7_8xD:7<br>8xC#:7_8xD:7_8xC#:7_8xD:7<br>8xC#:7_8xD:7_8xC#:7_8xD:7<br>8xB:7_8xC:7_8xB:7_8xC:7<br>8xB:7_8xC:7_8xB:7_8xC:7",
          "32xD:maj7_32xA:min7_32xD:maj7_32xA:min7<br>16xD:min7_16xG:7_16xC:maj7_16xF:7<br>16xB:hdim7_16xE:7(b13)_32xA:min6",
          "16xC:maj7_16xD#:dim7_16xD:min7_16xG:7<br>16xD:min7_16xF:min6_16xC:maj7_8xB:hdim7<br>8xE:7(b9)_8xA:min_8xA:min7_8xF#:hdim7<br>8xB:aug_16xE:min7_8xA:min7_8xD:7<br>8xG:maj7_8xE:min7_8xA:min7_8xD:7<br>16xD:min7_16xG:7",
          "16xC:maj7_8xG:min7_8xC:7_16xF:maj7<br>8xF:min7_8xA#:7_8xE:min7_8xA:min7<br>8xD:min7_8xG:7_8xE:min7_8xA:min7<br>8xD:min7_8xG:7_16xC:maj6_8xF#:min7<br>8xB:7_16xE:maj7_8xA:min7_8xD:7<br>16xG:maj7_8xB:hdim7_8xE:7(b9)_16xA:min7<br>16xD:7",
          "12xA:min7_12xB:min7_12xA:min7_12xB:min7<br>48xF:maj7_12xD:min7_12xG:7_12xC:maj7<br>12xF:maj7_12xC:maj7_12xF:maj7_12xB:hdim7<br>12xE:7(b9)_12xA:min7_12xB:min7_12xA:maj7<br>12xB:min7_16xD:maj7",
          "16xD:9_8xD:min7_8xG:aug_16xC:maj7<br>16xA:9_16xD:min7_8xE:min7_8xA:7<br>8xD:min7_8xG:7_8xC:maj7_8xA:7<br>16xC:maj6_8xF:min7_8xA#:7_16xD#:maj7<br>8xG#:min7_8xC#:7_16xF#:maj7_8xF#:min7<br>8xB:7_8xE:maj7_8xF:dim7_8xF#:min7<br>8xB:7",
          "16xC:maj7_16xF:7_16xG:maj6_8xB:min7<br>8xE:7_16xA:7_8xA:min7_8xD:7<br>32xB:7_16xG:maj6_8xD:min7_8xG:7<br>32xC:maj7_8xG:maj6_8xA:min7_16xG:maj6<br>32xA:7",
          "8xF:maj7_8xA#:maj7_4xA:min7_4xD:min7<br>8xE:7_8xA:min7_8xD:min7_8xG:min7<br>4xA#:min7_4xD#:7_8xG#:maj7_8xF#:maj7<br>8xF:min7_8xE:min7_4xD#:min7_4xG#:7<br>8xC#:maj7_4xG:7_4xF#:7_8xF:maj7<br>8xA#:maj7_8xA:7_8xG:7_8xF:maj7<br>8xD#:min7_8xC#:maj7_8xC:7(b9)_8xA#:min7<br>4xG:hdim7_4xC:7_8xF:min7_4xF:hdim7<br>4xA#:7_8xD#:min7_4xC#:maj_4xD#:min7<br>4xC#:maj6_4xC:hdim7_4xA#:min7_4xG#:sus4<br>8xF#:7(#11)",
          "16xB:hdim7_16xE:aug_32xA:min_16xD:min7<br>16xG:7_16xC:maj7_8xB:hdim7_8xE:7<br>16xA:min_16xD:min7_16xF:7_16xE:7<br>16xA:min_16xD:7(#11)_16xB:hdim7_16xE:7",
          "16xC:maj7_8xD:min7_8xG:7_16xC:maj7<br>4xA:min7_4xG#:min7_4xG:min7_4xC:7<br>16xF:maj7_8xG:min7_8xC:7_16xF:maj7<br>8xA:min7_8xD:7_16xG:maj7_16xB:7(b9)<br>8xE:min7_8xA:7_8xB:hdim7_8xE:7(b9)<br>16xA:min7_16xD:7_16xG:7_8xD:min7<br>8xG:7",
          "64xA:min9_64xG#:maj7_64xF:maj9_64xF:maj6",
          "16xG:maj6_8xA:min7_8xD:7_8xG:maj6<br>8xE:aug_8xA:min7_8xD:7_16xG:maj6<br>8xC:maj6_8xC#:dim7_8xG:maj6_8xD:7<br>8xG:maj6_8xG:7_16xC:maj6_8xD:min7<br>8xG:7_8xC:maj6_8xA:aug_8xD:min7<br>8xG:7_16xC:maj6_8xF:maj6_8xF#:dim7<br>8xC:maj6_8xG:7_8xC:maj6_8xD:7",
          "24xC:maj7_8xC:7_16xF:maj7_8xA#:9<br>8xA:7_16xD:min7_16xG:7_16xC:maj7<br>8xD:min7_8xG:7_16xC:7_16xF:maj6<br>16xF#:dim7_16xC:maj6_8xG:min7_8xC:7<br>16xF:maj6_16xF#:dim7_8xC:maj6_4xE:min7<br>4xD#:dim7",
          "16xD:13_8xD:min7_8xG:7_16xC:maj7<br>16xA:9_16xD:13_8xD:min7_8xD#:dim7<br>8xC:maj_8xD#:dim7_8xD:min7_8xA:7<br>8xD:min7_8xC:maj7_16xG:min7_16xC:7(b9)<br>32xF:maj7_8xF:min7_8xC:7_8xE:min7<br>8xA:7_8xD#:min7_8xG#:7",
          "16xC:maj6_16xC#:maj6_16xC:maj6_16xC#:maj6<br>16xC:maj6_16xC#:maj6_32xC:maj6_32xD:7<br>32xD#:7_8xE:7_8xF:7_8xF#:7<br>8xF:7_8xE:7_8xD#:7_8xD:7<br>8xC#:7(#11)"
         ],
         "legendgroup": "",
         "marker": {
          "color": {
           "bdata": "AAAAAAAAAAAAAAAAAAAAAAAAAAAAAAAAAAAAAAAAAAAAAAAAAAAAAAAAAAAAAAAAAAAAAAAAAAAAAAAAAAAAAAAAAAAAAAAAAAAAAAAAAAAAAAAAAAAAAAAAAAAAAAAAAAAAAAAAAAAAAAAAAAAAAAAAAAAAAAAAAAAAAAAAAAAAAAAAAAAAAAAAAAAAAAAAAAAAAAAAAAAAAAAAAAAAAAAAAAAAAAAAAAAAAAAAAAAAAAAAAAAAAAAAAAAAAAAAAAAAAAAAAAAAAAAAAAAAAAAAAAAAAAAAAAAAAAAAAAAAAAAAAAAAAAAAAAAAAAAAAAAAAAAAAAAAAAAAAAAAAAAAAAAAAAAAAAAAAAAAAAAAAAAAAAAAAAAAAAAAAAAAAAAAAAAAAAAAAAAAAAAAAAAAAAAAAAAAAAAAAAAAAAAAAAAAAAAAAAAAAAAAAAAAAAAAAAAAAAAAAAAAAAAAAAAAAAAAAAAAAAAAAAAAAAAAAAAAAAAAAAAAAAAAAAAAAAAAAAAAAAAAAAAAAAAAAAAAAAAAAAAAAAAAAAAAAAAAAAAAAAAAAAAAAAAAAAAAAAAAAAAAAAAAAAAAAAAAAAAAAAAAAAAAAAAAAAAAAAAAAAAAAAAAAAAAAAAAAAAAAAAAAAAAAAAAAAAAAAAAAAAAAAAAAAAAAAAAAAAAAAAAAAAAAAAAAAAAAAAAAAAAAAAAAAAAAAAAAAAAAAAAAAAAAAAAAAAAAAAAAAAAAAAAAAAAAAAAAAAAAAAAAAAAAAAAAAAAAAAAAAAAAAAAAAAAAAAAAAAAAAAAAAAAAAAAAAAAAAAAAAAAAAAAAAAAAAAAAAAAAAAAAAAAAAAAAAAAAAAAAAAAAAAAAAAAAAAAAAAAAAAAAAAAAAAAAAAAAAAAAAAAAAAAAAAAAAAAAAAAAAAAAAAAAAAAAAAAAAAAAAAAAAAAAAAAAAAAAAAAAAAAAAAAAAAAAAAAAAAAAAAAAAAAAAAAAAAAAAAAAAAAAAAAAAAAAAAAAAAAAAAAAAAAAAAAAAAAAAAAAAAAAAAAAQEBAQEBAQEBAQEBAQEBAQEBAQEBAQEBAQEBAQEBAQEBAQEBAQEBAQEBAQEBAQEBAQEBAQEBAQEBAQEBAQEBAQEBAQEBAQEBAQEBAQEBAQEBAQEBAQEBAQEBAQEBAQEBAQEBAQEBAQEBAQEBAQEBAQEBAQEBAQEBAQEBAQEBAQEBAQEBAQEBAQEBAQEBAQEBAQEBAQEBAQEBAQEBAQEBAQEBAQEBAQEBAQEBAQEBAQEBAQEBAQEBAQEBAQEBAQEBAQEBAQEBAQEBAQEBAQEBAQEBAQEBAQEBAQEBAQEBAQEBAQEBAQEBAQEBAQEBAQEBAQEBAQEBAQEBAQEBAQEBAQEBAQEBAQEBAQEBAQEBAQEBAQEBAQEBAQEBAQEBAQEBAQEBAQEBAQEBAQEBAQEBAQEBAQEBAQEBAQEBAQEBAQEBAQEBAQEBAQEBAQEBAQEBAQEBAQEBAQEBAQEBAQEBAQEBAQEBAQEBAQEBAQEBAQEBAQEBAQEBAQEBAQEBAQEBAQEBAQEBAQEBAQEBAQEBAQEBAQEBAQEBAQEBAQEBAQEBAQEBAQEBAQEBAQEBAQEBAQEBAQEBAQEBAQEBAQEBAQEBAQEBAQEBAQEBAQEBAQEBAQEBAQEBAQEBAQEBAQEBAQEBAQEBAQEBAQEBAQEBAQEBAQEBAQEBAQEBAQEBAQEBAQEBAQEBAQEBAQEBAQEBAQEBAQEBAQEBAQEBAQEBAQEBAQ==",
           "dtype": "i1"
          },
          "coloraxis": "coloraxis",
          "symbol": "circle"
         },
         "mode": "markers",
         "name": "",
         "showlegend": false,
         "type": "scattergl",
         "x": {
          "bdata": "ynSOv8O4pkHrBw5Ct92xwZMPeMDDRStBdhhTwZBFIEGw/x/By/nBQSVBUEJI1KtBAPAfQlCMEEJTXH1BgFGhQW3eDUGXYlFCOJM+QFhSBcBnIeLAVCXhwI02w8F7jfRBiNbXwchPIcKNLY5BunaKwUCr50GfqItCtRtXwb6r18FGHFdAmH2LQV6WIUHv/eVBkwXXwVjje8JS32ZCAlDBwASxHUH0+PjBhTCkQTW9j0LCRx/Ac8SowewHFMKd9nNAzxU3wgfxIMFXgGpCqrjTwdOg/sGuDQLC9v0TQeb7RMHdiSxBHbMFQvw8K0L5scDBLMq8QboeZ8IEd8JByl0owPvI5sHjAzpAgBMOQo7RHMLBB7tBW349wuB6tsGwsCnCTABBQOSAo8A0nnxC44AlwicaQEHyOkPAkBAzQhSJREJ+sCtCx2IFwsfEFkKwFUfCESGtwDNoP0EaYYo/xRKXwawsHUFQvhxBffUsQrRyi8GLhEVCWBymvylsL0L+xYFBn2e4POePA0GWDmxAWVjGwXtvQULQW2BCwb9pwf1iS0KDljFCeX6jQdA7xsHGlIrB57gLQlmc2UGklkDCa6/PwbKECsKxgYhBb4uBwST6VUHN6CZCoCKYwaGFD0LJkaDADdzdwSY2Jb6fHzBCMmmAPwQbRUIFoKk/G4xBwfGXvcBiPaU/ay5FQR5YEkFUxi4/XJPiQcJAAUJHI0zCuYeDQudkBMI57EVCvgXgQUPF7EHq9b1BPHBqQWqQfEKc0EPBN5QCQiGZBUK35xPC4lwTwTdNg8GUcQU+HsMHwugPecIGodC/vK1GQmhMBsGkpotCOC0/QPu0U0B05gvC+KbLQNG5UkKoKYvA3JlgwrFprcHql1/BjQy1waLej8EzZP1B+0o5wo2wlkFof+ZB8WY3QWxEKUHa/QNC67tEQT9LZ0E2/oHBBb0VQrh0REKcpSNCkp6hQX9E0cGeUgvBfr5qwTe0HEKz+OHBXkPwwBcy28D59iHC82ucQYbJVEKrZszALDEcwsja1UGBzyxBq1sJQf9vCcHBSw3Cx8zJwUZdTsJjd+TAIugnQcazDcI8OwzCedHKQXfIHMIi3BdCelHlwY3Fh0EybZ9BVoLiwNidy0C7ya1B+7lawYGfFD98kAhCRmCfwPDHjEHhVgtC5YoZQc7aGUKVie3AseEOQtdPDUIbUQlCUnM2wj9Sa8JvLTNBoyENwlyaAMLiDAHCXfzUwUyFn0Hrbro9WClYwWDyhUEjIifCbRU4QT/gycBu+tnBq5rzQbXnksDC+RDC8e4AwhBV9sGKqi9BxwQJQuXhGUL29U1AV50Ewkni4sElm2xCHUAFwhMGcMGLr5tBUcd2wYHNLkGEwANCyENfwjm9SEGJp2S/YdfKwTNRXkHL3yTBZXVtQfyb6kHYvhzB3mzTwcdI28HzQ13BwlRgwT/oY8HZjnVClWDlQWxOPsHD8gLCTYGCQCR528GI4J1ByipUQo3wWUL6OIhBhqxfwZF+JULRDD/CKPxCwggYKkGyX+nBl5iYQUrTAcKuP4RCvIonQK6Qc8H23+W+XvpNvxZWKMKvJYTBOJAFwiGh3sHWtOlBqwtIQs7LzEFZEj3CBbtOQkUCOUG/dsXBYCwOQsaeEMKtduvBtvIOQeDIPcLNBILBynD5wJD6k8EyWeNB/1HEwcyW+EHYftBBMEeuwZnSx0FCFyXCdxRTwelqVEHgG33BEw5dwCSXQcJH8o7Bq2rXQdGTCsKZplzCX8z8wUrU/sB86J/A15MiwgllMULI2ODAz0VJwDHZccE04YrBO4zrQQEbY0JhZ5FAJQTawS3Vv8BA0axAzzbUwUKsaUGmbqzB9s4UQDmeI8BLQwvCvZSLQmiC+0DvzeDBLBMrQt0HB8Lkz9NBm1dawpmGEUJjHRRCVW9rwukHiMCEP/PA8LcfQi3XJEHoxs/Au1SWwanaJULV1wrCJjp4vm8eTEKvkLtAVXtxwfHjb77bjXNC3oKaQZCShEL4jQJC3+0qQkgPGMLiPV1CO1hTwrA2XcGOPldB9cunwDXt+kF7cttByzLkQUB2IkIUIaZAoL34wI/NR0Fa5RhCfasGwdpoLkJ4SuHBfMBMQXHkmEA+4rXAaKM6wgirdsGhZ7jBY4PGwcIe5cHY+KxAQpWrvz6rKEFS3yhCSg0WwrS9hkLBVM1BYvokQTiTpEF5d+FBQhzIwX0yAcAqE6PBemgbQuqx4UGBmHtCA0gqQhpQDsJAtXFC/yEpQvtBpsBc0sVAf/S9QYow6sF8dS5C8Wv6Qde6l8AfiV1CKjIKQuhEW8FyhPVB9AnSQbypr8GRAiBC5AzcwcA5JkLMN8hB9KgkQqNmQULdslPBdj6wQbYfokHw+EPCNKEkQmxWJcDmjT9Bt8BqPyDcuL81EDFCC65QQs0fa8HGPsFBSqdpQTHjuEGbrIfB0NuGwXaOVcHow4DBgRrDQRCoC8JlSxPCuAHSQVooSsJrNmJBCNC8QRHBj8H5ZWnBJlLFQZf4xsHsccNBW6EtQTe4C0IeYgc/eE1/QXjSjsCfx8vBQTI8QZf3AcHFxtfBzgnGwTysxkGUKpLAT1b7v2LBokE56EFCXGn5wY+GJkG7GgZCMP0aQT63xcEdrzhBC9r5wcTK8kAAHqBBHjM0QioT/MFM6vpARB6TQtBMVkLkNYHBS0BQwfXsl8CvajfCYc+QvU+lEMJOPbZBHDHWQfCuRkKs+F/A3vcqQfyVWkEEMahB5SkAwo6GEUH0ARxCJTMwQtb6O8H++glCm7b7wfhqoEHqnXDBkAmrPwHPOEKcVgXBpsPQQd2jAUI/HZBCYMGhQJ7GdMEkgldBRq+iwD9D40BmJt9B52riwZVgDMJiLkNCzrgHQhIx7r99w4lBv/RwQat7FMI/v4bAmu8OQlYFoEHfyQFCbosSQjBUi8FQ/QRCUT0dQVcXWz7snRVBA8RwQJeJkkFTEuvBfqmeQSw4HME8YIXBojFXQhX+9EE9UCxCQ4QawfVUhMEpKIzA2tLtwcfJM0K/piNChgHewTdAYcFVsTbCsti7QI9PwEGt9YNBbD9iQlkRpUHZ0iHC/kQRwXlc1UHV1CLB2pLVwQDaJ0LMWKHBlrUawaYTqkCGqk7CzuQWQU+RusGBrc7BBP4hQdiyj0I38GlC5de2QYBH70E/mZlALd6MQHKYtkGvmkpCFs7ewL3qhMBXBw7CZEdTQlbH7UGz4A1C9ECPwXlCC8JxsGlB+ZnOwaqCUkIF4U7AL/iXQcnbVUKaYp5B1hMzwIoiDb98yMw/kpQ5wrUslcGRSpRA0vAyQkDMjb/m7g5BJMXRQc6Ep8BhJnrBef01wm+p2cHR7brB9XNgQkH3iUBwt6VAeWhwwolYq0E76m/C2SO+wWaWLkIRU1FA9rn7wcbww8Hz4jbC4tZvP1eTzMGDtwZCKhaeQSjvPUK0/4LBKmC9QYXCfsHJzJLAt8dfwtM+G8DhtelBVmUEQjUV9sHi0W/BMHICwapoEMLDYw7C/FMEwismmb/i3zzBv0aFwd3Eo0HbEE/B3HmcQf+wrEE9qiBC+0ziwTBmTcH2oSvCn4QAQqNDUkIaJgLC+5uewb4LhcGGYuFB7maPQmcOZULtmmtB77O3Qd5aeUKNM+XASZH9QXyBY8CYpxa/JHXjQNXiOEFWLc7AeGiwQUL7wsBQUaJArCPEQZV7KkK5BlDBGhliwRVQrUHTRinArlG0QdlIsEEl5PzBhYoxwr2LOcIl0xvCQDQnwtvOr0GFWfrB//S5wSQkGULlERPCyMYeQX6ncMK0fYtBdNsgQsIE88ELj4/BVS/HQA+RGkITzJLBnVS0wNy/IcHp4RtBQsjUQfX5kT5JczJB9tH+wadQckI8aMLAszCkP3JU1MFG8vPBhGHXP2GuHcFmtT1COYQWQkgNqMEegMfB+HZ+QjhSk8GSowHCJt0OQuIj08G6RjVCa0A+wnltF0KItdBA72OLQUnuC0JxnIXBOAEpwhMk60ETYj7Bgc0QQr1Ct0GVcwdC8PL5QeKaoED73m/CCL3HQa3kT0KGAhFCY7D+QUYIVEGfXX7BzP72wTTqc0A9pA5C++ctQs2LHEITYs/BDXUMwP5Fm0Hi3ZPBj49VwmEd+EHRkEhCFzYNwgMpjMG0BIPBHoFsQuGVmEG07AlCL/8rQd93B8BrjQJBRFLRQXTBicF/8UVCHyAJwqzdeEAZXBBCiULJwLl49EAjyKnA5anvQZjxe8E+66xB8eOdP8VJLMG4ZxPCag41wVjBpsBLx4TCb4RrwbMR7cAz2DbBNuOPwKSQxsDDa7DBFP3iQORxI0Dxa05BYsmmwMmfJcGzLUXBv7SywBm1V0EB4oTBSvn+QPevMsIOUAVAItHbwdNxOMHGnB/AGfQdQTsEP0KIg/bA8TvfQUV8J8LRrpbBIzNnwbRQUsIdNatBT69PQsOM1cAWotjAVx2TQeZi+ECfsBBCyt59wPk9AkF2K0TCu95mQiI9iMG5PLvBWjJFwqbOXkFQl6jAjbcgQb/MFkDSYxJB9YNCQgjPg0EP4TBA1PbhQeEThkGwYefBdMphweSzC0HcgAHAO3gZQqbsvb8/+D/CeUWCQdIfdsG6tirCvl1gQU1pu8CttEFC1+WRwbsCasEp5LXBWFk1wkFlbkFZa+W9fpvgv196vz/WHQ7CgW5NQpNkMcIWPotBFHaRwbscAMKDv+nB6rr+QSQ7JMHyKSDCB68hwkNKvsCyUabBV7wSQtdGZUJX7hJBs/XOQGDVl757sXJBMp+ywcRxMEKnnm1BTWZLQvJUx8H7P03CoDg6v6UzUcK2snvBJDgUQuCIF8ESOGHBENWgQVcuQ0KcATrCaLfzQR5Z40EQVRtBdNAVwTNu7UFrw6PB7i1HwWfy7cHxM6/A+HiMQahQ/UH2u3RBFLc0wdJMHEFF0wHCFR6PQd6QA8I3X5tBfD28wSqqrUEAvORBPWIywAt1KsLlp4/BBt8iwmF0MMJkCSnBXhhyQZKFrsCq6N5BSYccwja1C0L2vQrB4emSwez36sFjRz9CbeHkQHc7IMJW8b/B/LlLwtuzi8DQluPBS7QFwiBN6kG5CALC65QGwRsLjMH8lFnB887cwUjs00AZQRJC7OgTwvucRcHOxwDCqTXNQbJyKkIIEHg/15DjwRQ0nkCTC0zBpvzCQbwwxsAU2k7B+opHwdUY+cER5x7BMdxvwfn4sEBJWtC/K6xQQNXBrr4o6WDCmPGjwHErS70GJk5ArlxivHysjcFjrQRCoyJTwXIaVcIi9NFBb5ZuQTAmuED27D5CmPeWQU6EEELawvjBNBPHQW6eLsIGMzjCZPGVQfguwsFKxhPCjIU8QWmPVkGS34nBY6suPYerEcJbb7RBVJNywHXgI0KkeRxChQ+sQPsfcMEs5oTB98i8QRsYGULn2S/Cm3V+wVQrv0Fy0+zAtQ/FwVUHtsE7Pq/ARNwtwtE8TsJdyybAOJ8ewg6/UcLmgwXCfx8FwuJLBUJBaihCSdEHQa0wWcBRBZnAxR87QUW6xEACfZhBHbhBws43GD/rZrLBS5MBQpQqYkLhh0bCyyE5wlFwO8C+gxrAYFA8wVOhFUHZnMfBbVfMQfF2H8Ki7OC+ZJpzQqFymEEyIO/BqUuqwY9JQUHcYohAxOHKwbkVocET4vHBo/NRwpoBcMHdniTCIDYywo0OBkLsMr/BNNkewSK8A0GFzWDB4OCEwK8EKEIo2BLBo35XwhTOcz8/qWpBq5IHwhvJjsFZUrhBFOA0wlFkHkKoIl2/3+c0weq6fEGzeHDBgT81QVp76z+NiNPBeQ7twPHRskEcg9rAqqEKQXfBN8IaIQRCy79IwKKABMK07wtBH3sswHiMIsFeZ1fAtVAawXMnykE8qQpC6kWRQcDGhMKVGJPB8YnuQcFS6UHMLv1AOXlGQAV9PUGajafATmQ/wjECSME5XTFAg5ouwYucNUHN6fVAPdCJQXKkr8GghcJBuHijwbYJl0FrDfzBUbtcwFSSREE3ssQ+hW7iwFAcksE8wW1BpWCNwNIrg8EV6drAK58dwiwD+MG5/iPB6PTTwFleGMEo8w9A/W0SQrdas0HkS2lARuRaQrEIr0Eqk4HBmgwYwIz7c8ED7stBDrQ5wtyqfcF9CFHByGqDwWeiusF+PmVBK5OQwXaTR8G0WypCMUfOwe5Rx8DxLRbAJBIJwu4w+kGn+o3ArDUeQe/A08F8tzfCOajswB/cpr8fP6jBdFoUQUF4RUEUrlnChKIEwtoZUsHgxLlBBs3rweJbAUJE7wHCLIooQKirlsGllhHC9YHuQT7BuUAKDlPB2/7pwXz5F0EQJonBki3swXHflEDxZ+LBJEKcwdm8CsKkCWvBWh5HQvED7cGI857AyLrDwEqQlcFUAQlBYU0hQazJ7EESaAfCxXPnwE+0DkIZ893BhEcBwj2CFEF7UBJCyQPDwRVShcBbRMrBulgLwsCgicCbNsvA8Q/cwUZJMcJ9clLChMdBwdXvZ8EkkqbBU7+FQTYdO8J0KApBaZJMwTEtOcIxpdLAwE+oQeVFr8EqgBvC3UnWwW6CckEhQwrCZYwOQb96+EFYI8rBz9OVwddn/cFEZRfBBcjFQQJFm8G4ufVB2qP7wTZAukFxCpDBg10IQgPskMF9smhBhzkAQtseQ0CuFAfCjtwtwtLmhEFg/llASZ0BvzZC7MGOeQPCI1wHwoxADcKRPPXB8vR9wUmmdME9V+NBH5ePQSGJKELWxwTC52kIQVfFBUJQP47Az4WjwNkNjkGNnGDB4lMOQIAiTcG/1jPBIYUWQsYv2MEwEvhAz4YLQhD4iEGdro1AOlJJwtx7EUI5l21BF8K0wQqZC0FQXB7CHbXZvgeolMFvqa9ASuiVQGr20EHpQe5BOUcaQU3bLsKpo8rBEyK8QC8xmsAwi4DBTbAGwuZKAMK8n/FBB/BJQsk4EkIE4oPBq2skwkmGTMEJiEzB8vuwwX8eGkFpZ3DBMKt9weXHnkHLlblBdTr1P4HhE0IaNa3BG96IwfWyuMGQ1lnA/UKpwbnRUMAMtJXApMj2vq/cjsEabdzAdaofwSReosHjzBhCHKmcvg==",
          "dtype": "f4"
         },
         "xaxis": "x",
         "y": {
          "bdata": "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",
          "dtype": "f4"
         },
         "yaxis": "y"
        }
       ],
       "layout": {
        "coloraxis": {
         "colorbar": {
          "title": {
           "text": "class"
          }
         },
         "colorscale": [
          [
           0,
           "#0d0887"
          ],
          [
           0.1111111111111111,
           "#46039f"
          ],
          [
           0.2222222222222222,
           "#7201a8"
          ],
          [
           0.3333333333333333,
           "#9c179e"
          ],
          [
           0.4444444444444444,
           "#bd3786"
          ],
          [
           0.5555555555555556,
           "#d8576b"
          ],
          [
           0.6666666666666666,
           "#ed7953"
          ],
          [
           0.7777777777777778,
           "#fb9f3a"
          ],
          [
           0.8888888888888888,
           "#fdca26"
          ],
          [
           1,
           "#f0f921"
          ]
         ]
        },
        "legend": {
         "tracegroupgap": 0
        },
        "margin": {
         "t": 60
        },
        "template": {
         "data": {
          "bar": [
           {
            "error_x": {
             "color": "#2a3f5f"
            },
            "error_y": {
             "color": "#2a3f5f"
            },
            "marker": {
             "line": {
              "color": "#E5ECF6",
              "width": 0.5
             },
             "pattern": {
              "fillmode": "overlay",
              "size": 10,
              "solidity": 0.2
             }
            },
            "type": "bar"
           }
          ],
          "barpolar": [
           {
            "marker": {
             "line": {
              "color": "#E5ECF6",
              "width": 0.5
             },
             "pattern": {
              "fillmode": "overlay",
              "size": 10,
              "solidity": 0.2
             }
            },
            "type": "barpolar"
           }
          ],
          "carpet": [
           {
            "aaxis": {
             "endlinecolor": "#2a3f5f",
             "gridcolor": "white",
             "linecolor": "white",
             "minorgridcolor": "white",
             "startlinecolor": "#2a3f5f"
            },
            "baxis": {
             "endlinecolor": "#2a3f5f",
             "gridcolor": "white",
             "linecolor": "white",
             "minorgridcolor": "white",
             "startlinecolor": "#2a3f5f"
            },
            "type": "carpet"
           }
          ],
          "choropleth": [
           {
            "colorbar": {
             "outlinewidth": 0,
             "ticks": ""
            },
            "type": "choropleth"
           }
          ],
          "contour": [
           {
            "colorbar": {
             "outlinewidth": 0,
             "ticks": ""
            },
            "colorscale": [
             [
              0,
              "#0d0887"
             ],
             [
              0.1111111111111111,
              "#46039f"
             ],
             [
              0.2222222222222222,
              "#7201a8"
             ],
             [
              0.3333333333333333,
              "#9c179e"
             ],
             [
              0.4444444444444444,
              "#bd3786"
             ],
             [
              0.5555555555555556,
              "#d8576b"
             ],
             [
              0.6666666666666666,
              "#ed7953"
             ],
             [
              0.7777777777777778,
              "#fb9f3a"
             ],
             [
              0.8888888888888888,
              "#fdca26"
             ],
             [
              1,
              "#f0f921"
             ]
            ],
            "type": "contour"
           }
          ],
          "contourcarpet": [
           {
            "colorbar": {
             "outlinewidth": 0,
             "ticks": ""
            },
            "type": "contourcarpet"
           }
          ],
          "heatmap": [
           {
            "colorbar": {
             "outlinewidth": 0,
             "ticks": ""
            },
            "colorscale": [
             [
              0,
              "#0d0887"
             ],
             [
              0.1111111111111111,
              "#46039f"
             ],
             [
              0.2222222222222222,
              "#7201a8"
             ],
             [
              0.3333333333333333,
              "#9c179e"
             ],
             [
              0.4444444444444444,
              "#bd3786"
             ],
             [
              0.5555555555555556,
              "#d8576b"
             ],
             [
              0.6666666666666666,
              "#ed7953"
             ],
             [
              0.7777777777777778,
              "#fb9f3a"
             ],
             [
              0.8888888888888888,
              "#fdca26"
             ],
             [
              1,
              "#f0f921"
             ]
            ],
            "type": "heatmap"
           }
          ],
          "histogram": [
           {
            "marker": {
             "pattern": {
              "fillmode": "overlay",
              "size": 10,
              "solidity": 0.2
             }
            },
            "type": "histogram"
           }
          ],
          "histogram2d": [
           {
            "colorbar": {
             "outlinewidth": 0,
             "ticks": ""
            },
            "colorscale": [
             [
              0,
              "#0d0887"
             ],
             [
              0.1111111111111111,
              "#46039f"
             ],
             [
              0.2222222222222222,
              "#7201a8"
             ],
             [
              0.3333333333333333,
              "#9c179e"
             ],
             [
              0.4444444444444444,
              "#bd3786"
             ],
             [
              0.5555555555555556,
              "#d8576b"
             ],
             [
              0.6666666666666666,
              "#ed7953"
             ],
             [
              0.7777777777777778,
              "#fb9f3a"
             ],
             [
              0.8888888888888888,
              "#fdca26"
             ],
             [
              1,
              "#f0f921"
             ]
            ],
            "type": "histogram2d"
           }
          ],
          "histogram2dcontour": [
           {
            "colorbar": {
             "outlinewidth": 0,
             "ticks": ""
            },
            "colorscale": [
             [
              0,
              "#0d0887"
             ],
             [
              0.1111111111111111,
              "#46039f"
             ],
             [
              0.2222222222222222,
              "#7201a8"
             ],
             [
              0.3333333333333333,
              "#9c179e"
             ],
             [
              0.4444444444444444,
              "#bd3786"
             ],
             [
              0.5555555555555556,
              "#d8576b"
             ],
             [
              0.6666666666666666,
              "#ed7953"
             ],
             [
              0.7777777777777778,
              "#fb9f3a"
             ],
             [
              0.8888888888888888,
              "#fdca26"
             ],
             [
              1,
              "#f0f921"
             ]
            ],
            "type": "histogram2dcontour"
           }
          ],
          "mesh3d": [
           {
            "colorbar": {
             "outlinewidth": 0,
             "ticks": ""
            },
            "type": "mesh3d"
           }
          ],
          "parcoords": [
           {
            "line": {
             "colorbar": {
              "outlinewidth": 0,
              "ticks": ""
             }
            },
            "type": "parcoords"
           }
          ],
          "pie": [
           {
            "automargin": true,
            "type": "pie"
           }
          ],
          "scatter": [
           {
            "fillpattern": {
             "fillmode": "overlay",
             "size": 10,
             "solidity": 0.2
            },
            "type": "scatter"
           }
          ],
          "scatter3d": [
           {
            "line": {
             "colorbar": {
              "outlinewidth": 0,
              "ticks": ""
             }
            },
            "marker": {
             "colorbar": {
              "outlinewidth": 0,
              "ticks": ""
             }
            },
            "type": "scatter3d"
           }
          ],
          "scattercarpet": [
           {
            "marker": {
             "colorbar": {
              "outlinewidth": 0,
              "ticks": ""
             }
            },
            "type": "scattercarpet"
           }
          ],
          "scattergeo": [
           {
            "marker": {
             "colorbar": {
              "outlinewidth": 0,
              "ticks": ""
             }
            },
            "type": "scattergeo"
           }
          ],
          "scattergl": [
           {
            "marker": {
             "colorbar": {
              "outlinewidth": 0,
              "ticks": ""
             }
            },
            "type": "scattergl"
           }
          ],
          "scattermap": [
           {
            "marker": {
             "colorbar": {
              "outlinewidth": 0,
              "ticks": ""
             }
            },
            "type": "scattermap"
           }
          ],
          "scattermapbox": [
           {
            "marker": {
             "colorbar": {
              "outlinewidth": 0,
              "ticks": ""
             }
            },
            "type": "scattermapbox"
           }
          ],
          "scatterpolar": [
           {
            "marker": {
             "colorbar": {
              "outlinewidth": 0,
              "ticks": ""
             }
            },
            "type": "scatterpolar"
           }
          ],
          "scatterpolargl": [
           {
            "marker": {
             "colorbar": {
              "outlinewidth": 0,
              "ticks": ""
             }
            },
            "type": "scatterpolargl"
           }
          ],
          "scatterternary": [
           {
            "marker": {
             "colorbar": {
              "outlinewidth": 0,
              "ticks": ""
             }
            },
            "type": "scatterternary"
           }
          ],
          "surface": [
           {
            "colorbar": {
             "outlinewidth": 0,
             "ticks": ""
            },
            "colorscale": [
             [
              0,
              "#0d0887"
             ],
             [
              0.1111111111111111,
              "#46039f"
             ],
             [
              0.2222222222222222,
              "#7201a8"
             ],
             [
              0.3333333333333333,
              "#9c179e"
             ],
             [
              0.4444444444444444,
              "#bd3786"
             ],
             [
              0.5555555555555556,
              "#d8576b"
             ],
             [
              0.6666666666666666,
              "#ed7953"
             ],
             [
              0.7777777777777778,
              "#fb9f3a"
             ],
             [
              0.8888888888888888,
              "#fdca26"
             ],
             [
              1,
              "#f0f921"
             ]
            ],
            "type": "surface"
           }
          ],
          "table": [
           {
            "cells": {
             "fill": {
              "color": "#EBF0F8"
             },
             "line": {
              "color": "white"
             }
            },
            "header": {
             "fill": {
              "color": "#C8D4E3"
             },
             "line": {
              "color": "white"
             }
            },
            "type": "table"
           }
          ]
         },
         "layout": {
          "annotationdefaults": {
           "arrowcolor": "#2a3f5f",
           "arrowhead": 0,
           "arrowwidth": 1
          },
          "autotypenumbers": "strict",
          "coloraxis": {
           "colorbar": {
            "outlinewidth": 0,
            "ticks": ""
           }
          },
          "colorscale": {
           "diverging": [
            [
             0,
             "#8e0152"
            ],
            [
             0.1,
             "#c51b7d"
            ],
            [
             0.2,
             "#de77ae"
            ],
            [
             0.3,
             "#f1b6da"
            ],
            [
             0.4,
             "#fde0ef"
            ],
            [
             0.5,
             "#f7f7f7"
            ],
            [
             0.6,
             "#e6f5d0"
            ],
            [
             0.7,
             "#b8e186"
            ],
            [
             0.8,
             "#7fbc41"
            ],
            [
             0.9,
             "#4d9221"
            ],
            [
             1,
             "#276419"
            ]
           ],
           "sequential": [
            [
             0,
             "#0d0887"
            ],
            [
             0.1111111111111111,
             "#46039f"
            ],
            [
             0.2222222222222222,
             "#7201a8"
            ],
            [
             0.3333333333333333,
             "#9c179e"
            ],
            [
             0.4444444444444444,
             "#bd3786"
            ],
            [
             0.5555555555555556,
             "#d8576b"
            ],
            [
             0.6666666666666666,
             "#ed7953"
            ],
            [
             0.7777777777777778,
             "#fb9f3a"
            ],
            [
             0.8888888888888888,
             "#fdca26"
            ],
            [
             1,
             "#f0f921"
            ]
           ],
           "sequentialminus": [
            [
             0,
             "#0d0887"
            ],
            [
             0.1111111111111111,
             "#46039f"
            ],
            [
             0.2222222222222222,
             "#7201a8"
            ],
            [
             0.3333333333333333,
             "#9c179e"
            ],
            [
             0.4444444444444444,
             "#bd3786"
            ],
            [
             0.5555555555555556,
             "#d8576b"
            ],
            [
             0.6666666666666666,
             "#ed7953"
            ],
            [
             0.7777777777777778,
             "#fb9f3a"
            ],
            [
             0.8888888888888888,
             "#fdca26"
            ],
            [
             1,
             "#f0f921"
            ]
           ]
          },
          "colorway": [
           "#636efa",
           "#EF553B",
           "#00cc96",
           "#ab63fa",
           "#FFA15A",
           "#19d3f3",
           "#FF6692",
           "#B6E880",
           "#FF97FF",
           "#FECB52"
          ],
          "font": {
           "color": "#2a3f5f"
          },
          "geo": {
           "bgcolor": "white",
           "lakecolor": "white",
           "landcolor": "#E5ECF6",
           "showlakes": true,
           "showland": true,
           "subunitcolor": "white"
          },
          "hoverlabel": {
           "align": "left"
          },
          "hovermode": "closest",
          "mapbox": {
           "style": "light"
          },
          "paper_bgcolor": "white",
          "plot_bgcolor": "#E5ECF6",
          "polar": {
           "angularaxis": {
            "gridcolor": "white",
            "linecolor": "white",
            "ticks": ""
           },
           "bgcolor": "#E5ECF6",
           "radialaxis": {
            "gridcolor": "white",
            "linecolor": "white",
            "ticks": ""
           }
          },
          "scene": {
           "xaxis": {
            "backgroundcolor": "#E5ECF6",
            "gridcolor": "white",
            "gridwidth": 2,
            "linecolor": "white",
            "showbackground": true,
            "ticks": "",
            "zerolinecolor": "white"
           },
           "yaxis": {
            "backgroundcolor": "#E5ECF6",
            "gridcolor": "white",
            "gridwidth": 2,
            "linecolor": "white",
            "showbackground": true,
            "ticks": "",
            "zerolinecolor": "white"
           },
           "zaxis": {
            "backgroundcolor": "#E5ECF6",
            "gridcolor": "white",
            "gridwidth": 2,
            "linecolor": "white",
            "showbackground": true,
            "ticks": "",
            "zerolinecolor": "white"
           }
          },
          "shapedefaults": {
           "line": {
            "color": "#2a3f5f"
           }
          },
          "ternary": {
           "aaxis": {
            "gridcolor": "white",
            "linecolor": "white",
            "ticks": ""
           },
           "baxis": {
            "gridcolor": "white",
            "linecolor": "white",
            "ticks": ""
           },
           "bgcolor": "#E5ECF6",
           "caxis": {
            "gridcolor": "white",
            "linecolor": "white",
            "ticks": ""
           }
          },
          "title": {
           "x": 0.05
          },
          "xaxis": {
           "automargin": true,
           "gridcolor": "white",
           "linecolor": "white",
           "ticks": "",
           "title": {
            "standoff": 15
           },
           "zerolinecolor": "white",
           "zerolinewidth": 2
          },
          "yaxis": {
           "automargin": true,
           "gridcolor": "white",
           "linecolor": "white",
           "ticks": "",
           "title": {
            "standoff": 15
           },
           "zerolinecolor": "white",
           "zerolinewidth": 2
          }
         }
        },
        "xaxis": {
         "anchor": "y",
         "domain": [
          0,
          1
         ],
         "scaleanchor": "y",
         "scaleratio": 1,
         "title": {
          "text": "x"
         }
        },
        "yaxis": {
         "anchor": "x",
         "domain": [
          0,
          1
         ],
         "title": {
          "text": "y"
         }
        }
       }
      }
     },
     "metadata": {},
     "output_type": "display_data"
    }
   ],
   "source": [
    "import numpy as np\n",
    "import plotly.express as px\n",
    "import pandas as pd\n",
    "\n",
    "# Example inputs (replace with your actual data)\n",
    "# z_tsne: Nx2 array\n",
    "# z_idxs: list of ints (classes)\n",
    "# z_tokens: list of strings\n",
    "\n",
    "# Combine into a DataFrame for easy Plotly integration\n",
    "df = pd.DataFrame({\n",
    "    'x': z_tsne[:, 0],\n",
    "    'y': z_tsne[:, 1],\n",
    "    'class': z_idxs,\n",
    "    'token': z_tokens\n",
    "})\n",
    "\n",
    "df['hover_text'] = df['token'].str.replace('\\n', '<br>')\n",
    "\n",
    "# Create interactive scatter plot\n",
    "fig = px.scatter(\n",
    "    df,\n",
    "    x='x',\n",
    "    y='y',\n",
    "    color='class',\n",
    "    hover_data=None\n",
    "    # hover_name='token',  # This will show on hover\n",
    "    # title='2D t-SNE Visualization',\n",
    ")\n",
    "\n",
    "fig.update_layout(\n",
    "    xaxis=dict(scaleanchor='y', scaleratio=1),  # Equal aspect ratio\n",
    ")\n",
    "\n",
    "fig.update_traces(\n",
    "    hovertemplate=df['hover_text']\n",
    ")\n",
    "\n",
    "# Show the figure in notebook\n",
    "fig.show()\n"
   ]
  }
 ],
 "metadata": {
  "kernelspec": {
   "display_name": "torch",
   "language": "python",
   "name": "python3"
  },
  "language_info": {
   "codemirror_mode": {
    "name": "ipython",
    "version": 3
   },
   "file_extension": ".py",
   "mimetype": "text/x-python",
   "name": "python",
   "nbconvert_exporter": "python",
   "pygments_lexer": "ipython3",
   "version": "3.12.2"
  }
 },
 "nbformat": 4,
 "nbformat_minor": 5
}
