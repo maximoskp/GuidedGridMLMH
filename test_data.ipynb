{
 "cells": [
  {
   "cell_type": "code",
   "execution_count": 1,
   "id": "c0bc31d6",
   "metadata": {},
   "outputs": [
    {
     "name": "stderr",
     "output_type": "stream",
     "text": [
      "/home/maximos/miniconda3/envs/torch/lib/python3.12/site-packages/tqdm/auto.py:21: TqdmWarning: IProgress not found. Please update jupyter and ipywidgets. See https://ipywidgets.readthedocs.io/en/stable/user_install.html\n",
      "  from .autonotebook import tqdm as notebook_tqdm\n"
     ]
    }
   ],
   "source": [
    "from data_utils import GuidedGridMLMDataset, CSGridMLM_collate_fn\n",
    "from torch.utils.data import DataLoader"
   ]
  },
  {
   "cell_type": "code",
   "execution_count": 2,
   "id": "64948ee7",
   "metadata": {},
   "outputs": [],
   "source": [
    "from GridMLM_tokenizers import CSGridMLMTokenizer\n",
    "tokenizer = CSGridMLMTokenizer(fixed_length=256)"
   ]
  },
  {
   "cell_type": "code",
   "execution_count": 3,
   "id": "53ea8078",
   "metadata": {},
   "outputs": [
    {
     "name": "stdout",
     "output_type": "stream",
     "text": [
      "Frontloading data.\n"
     ]
    },
    {
     "name": "stderr",
     "output_type": "stream",
     "text": [
      "  0%|          | 0/650 [00:00<?, ?it/s]"
     ]
    },
    {
     "name": "stderr",
     "output_type": "stream",
     "text": [
      "/home/maximos/miniconda3/envs/torch/lib/python3.12/site-packages/music21/stream/base.py:3694: Music21DeprecationWarning: .flat is deprecated.  Call .flatten() instead\n",
      "  return self.iter().getElementsByClass(classFilterList)\n",
      "  3%|▎         | 19/650 [00:01<00:48, 13.10it/s]/home/maximos/miniconda3/envs/torch/lib/python3.12/site-packages/music21/stream/base.py:3694: Music21DeprecationWarning: .flat is deprecated.  Call .flatten() instead\n",
      "  return self.iter().getElementsByClass(classFilterList)\n",
      "  5%|▍         | 32/650 [00:02<00:54, 11.30it/s]In /home/maximos/miniconda3/envs/torch/lib/python3.12/site-packages/matplotlib/mpl-data/stylelib/dark_background.mplstyle: .flat is deprecated.  Call .flatten() instead\n",
      "  5%|▌         | 34/650 [00:02<00:54, 11.39it/s]/home/maximos/miniconda3/envs/torch/lib/python3.12/site-packages/music21/stream/base.py:3694: Music21DeprecationWarning: .flat is deprecated.  Call .flatten() instead\n",
      "  return self.iter().getElementsByClass(classFilterList)\n",
      "100%|██████████| 650/650 [00:32<00:00, 20.06it/s]\n"
     ]
    }
   ],
   "source": [
    "# train_dir = '/media/maindisk/maximos/data/hooktheory_train'\n",
    "train_dir = '/media/maindisk/maximos/data/gjt_melodies/Library_melodies/'\n",
    "train_dataset = GuidedGridMLMDataset(train_dir, tokenizer, 512, frontloaded_file='data/gjt.pickle')"
   ]
  },
  {
   "cell_type": "code",
   "execution_count": 6,
   "id": "83c448b8",
   "metadata": {},
   "outputs": [],
   "source": [
    "d = train_dataset[10]"
   ]
  },
  {
   "cell_type": "code",
   "execution_count": 7,
   "id": "03c6cebd",
   "metadata": {},
   "outputs": [
    {
     "name": "stdout",
     "output_type": "stream",
     "text": [
      "{'input_ids': [158, 158, 158, 158, 158, 158, 158, 158, 158, 158, 158, 158, 72, 72, 72, 72, 72, 72, 72, 72, 72, 72, 72, 72, 217, 217, 217, 217, 217, 217, 217, 217, 217, 217, 217, 217, 12, 12, 12, 12, 12, 12, 47, 47, 47, 47, 47, 47, 72, 72, 72, 72, 72, 72, 72, 72, 72, 72, 72, 72, 72, 72, 72, 72, 72, 72, 72, 72, 72, 72, 72, 72, 338, 338, 338, 338, 338, 338, 338, 338, 338, 338, 338, 338, 305, 305, 305, 305, 305, 305, 305, 305, 305, 305, 305, 305, 303, 303, 303, 303, 303, 303, 303, 303, 303, 303, 303, 303, 250, 250, 250, 250, 250, 250, 250, 250, 250, 250, 250, 250, 217, 217, 217, 217, 217, 217, 217, 217, 217, 217, 217, 217, 273, 273, 273, 273, 273, 273, 273, 273, 273, 273, 273, 273, 72, 72, 72, 72, 72, 72, 72, 72, 72, 72, 72, 72, 128, 128, 128, 128, 128, 128, 128, 128, 128, 128, 128, 128, 275, 275, 275, 275, 275, 275, 70, 70, 70, 70, 70, 70, 217, 217, 217, 217, 217, 217, 12, 12, 12, 12, 12, 12, 151, 151, 151, 151, 151, 151, 151, 151, 151, 151, 151, 151, 250, 250, 250, 250, 250, 250, 250, 250, 250, 250, 250, 250, 217, 217, 217, 217, 217, 217, 217, 217, 217, 217, 217, 217, 273, 273, 273, 273, 273, 273, 273, 273, 273, 273, 273, 273, 72, 72, 72, 72, 72, 72, 72, 72, 72, 72, 72, 72, 215, 215, 215, 215], 'attention_mask': [1, 1, 1, 1, 1, 1, 1, 1, 1, 1, 1, 1, 1, 1, 1, 1, 1, 1, 1, 1, 1, 1, 1, 1, 1, 1, 1, 1, 1, 1, 1, 1, 1, 1, 1, 1, 1, 1, 1, 1, 1, 1, 1, 1, 1, 1, 1, 1, 1, 1, 1, 1, 1, 1, 1, 1, 1, 1, 1, 1, 1, 1, 1, 1, 1, 1, 1, 1, 1, 1, 1, 1, 1, 1, 1, 1, 1, 1, 1, 1, 1, 1, 1, 1, 1, 1, 1, 1, 1, 1, 1, 1, 1, 1, 1, 1, 1, 1, 1, 1, 1, 1, 1, 1, 1, 1, 1, 1, 1, 1, 1, 1, 1, 1, 1, 1, 1, 1, 1, 1, 1, 1, 1, 1, 1, 1, 1, 1, 1, 1, 1, 1, 1, 1, 1, 1, 1, 1, 1, 1, 1, 1, 1, 1, 1, 1, 1, 1, 1, 1, 1, 1, 1, 1, 1, 1, 1, 1, 1, 1, 1, 1, 1, 1, 1, 1, 1, 1, 1, 1, 1, 1, 1, 1, 1, 1, 1, 1, 1, 1, 1, 1, 1, 1, 1, 1, 1, 1, 1, 1, 1, 1, 1, 1, 1, 1, 1, 1, 1, 1, 1, 1, 1, 1, 1, 1, 1, 1, 1, 1, 1, 1, 1, 1, 1, 1, 1, 1, 1, 1, 1, 1, 1, 1, 1, 1, 1, 1, 1, 1, 1, 1, 1, 1, 1, 1, 1, 1, 1, 1, 1, 1, 1, 1, 1, 1, 1, 1, 1, 1, 1, 1, 1, 1, 1, 1], 'pianoroll': array([[0, 0, 0, ..., 0, 0, 0],\n",
      "       [0, 0, 0, ..., 0, 0, 0],\n",
      "       [0, 0, 0, ..., 0, 0, 0],\n",
      "       ...,\n",
      "       [0, 0, 0, ..., 0, 0, 0],\n",
      "       [0, 0, 0, ..., 0, 0, 0],\n",
      "       [0, 0, 0, ..., 0, 0, 0]], dtype=uint8), 'time_signature': [0, 1, 0, 0, 0, 0, 0, 0, 0, 0, 0, 0, 0, 0, 0, 1], 'features': [0.06666666759346107, 1.5795657326160703e-14, 4.9652828165286945e-08, 0.0, 8.75711242162349e-11, 0.0, 0.26802425052481516, 0.09734032161362419, 0.3792846189724471, 0.022222222222348584, 0.004811979704125849, 1.191667858334525e-06, 0.11111235243179687, 0.022265172881232878, 0.0, 0.0012012012012327926, 0.0024024033875933454, 0.0, 0.0, 0.0012012012449867633, 0.0, 0.001201218671672441, 1.3135668632435237e-10, 0.0, 0.0, 9.194968961056837e-10, 4.29000429000429e-05, 0.022222247048635936, 0.0, 0.0, 6.580470842078548e-11, 0.18627928944135266, 0.8130760172394149, 0.0006446932534277881, 0.0, 0.0, 0.0]}\n"
     ]
    }
   ],
   "source": [
    "print(d)"
   ]
  }
 ],
 "metadata": {
  "kernelspec": {
   "display_name": "torch",
   "language": "python",
   "name": "python3"
  },
  "language_info": {
   "codemirror_mode": {
    "name": "ipython",
    "version": 3
   },
   "file_extension": ".py",
   "mimetype": "text/x-python",
   "name": "python",
   "nbconvert_exporter": "python",
   "pygments_lexer": "ipython3",
   "version": "3.12.2"
  }
 },
 "nbformat": 4,
 "nbformat_minor": 5
}
