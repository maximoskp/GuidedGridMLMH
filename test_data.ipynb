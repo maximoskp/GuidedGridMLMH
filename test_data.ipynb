{
 "cells": [
  {
   "cell_type": "code",
   "execution_count": 1,
   "id": "c0bc31d6",
   "metadata": {},
   "outputs": [
    {
     "name": "stderr",
     "output_type": "stream",
     "text": [
      "/home/maximos/miniconda3/envs/torch/lib/python3.12/site-packages/tqdm/auto.py:21: TqdmWarning: IProgress not found. Please update jupyter and ipywidgets. See https://ipywidgets.readthedocs.io/en/stable/user_install.html\n",
      "  from .autonotebook import tqdm as notebook_tqdm\n"
     ]
    }
   ],
   "source": [
    "from data_utils import GuidedGridMLMDataset, GuidedGridMLM_collate_fn\n",
    "from torch.utils.data import DataLoader"
   ]
  },
  {
   "cell_type": "code",
   "execution_count": 2,
   "id": "64948ee7",
   "metadata": {},
   "outputs": [],
   "source": [
    "from GridMLM_tokenizers import GuidedGridMLMTokenizer\n",
    "tokenizer = GuidedGridMLMTokenizer(fixed_length=256)"
   ]
  },
  {
   "cell_type": "code",
   "execution_count": 3,
   "id": "53ea8078",
   "metadata": {},
   "outputs": [],
   "source": [
    "# train_dir = '/media/maindisk/maximos/data/hooktheory_train'\n",
    "# # train_dir = '/media/maindisk/maximos/data/gjt_melodies/gjt/'\n",
    "# train_dataset = GuidedGridMLMDataset(train_dir, tokenizer, 512, frontloaded_file='data/' + train_dir.split('/')[-1] + '.pickle')"
   ]
  },
  {
   "cell_type": "code",
   "execution_count": 4,
   "id": "71efd643",
   "metadata": {},
   "outputs": [
    {
     "name": "stdout",
     "output_type": "stream",
     "text": [
      "Loading data file.\n"
     ]
    }
   ],
   "source": [
    "train_dir = '/media/maindisk/maximos/data/hooktheory_all12_train'\n",
    "train_dataset = GuidedGridMLMDataset(train_dir, tokenizer, 512, frontloaded_file='data/' + train_dir.split('/')[-1] + '.pickle')"
   ]
  },
  {
   "cell_type": "code",
   "execution_count": 5,
   "id": "17ad1a12",
   "metadata": {},
   "outputs": [],
   "source": [
    "# val_dir = '/media/maindisk/maximos/data/hooktheory_test'\n",
    "# val_dataset = GuidedGridMLMDataset(val_dir, tokenizer, 512, frontloaded_file='data/' + val_dir.split('/')[-1] + '.pickle')"
   ]
  },
  {
   "cell_type": "code",
   "execution_count": 6,
   "id": "2b287ef8",
   "metadata": {},
   "outputs": [
    {
     "name": "stdout",
     "output_type": "stream",
     "text": [
      "Loading data file.\n"
     ]
    }
   ],
   "source": [
    "val_dir = '/media/maindisk/maximos/data/hooktheory_all12_test'\n",
    "val_dataset = GuidedGridMLMDataset(val_dir, tokenizer, 512, frontloaded_file='data/' + val_dir.split('/')[-1] + '.pickle')"
   ]
  },
  {
   "cell_type": "code",
   "execution_count": 7,
   "id": "83c448b8",
   "metadata": {},
   "outputs": [],
   "source": [
    "d = train_dataset[10]"
   ]
  },
  {
   "cell_type": "code",
   "execution_count": 8,
   "id": "03c6cebd",
   "metadata": {},
   "outputs": [
    {
     "name": "stdout",
     "output_type": "stream",
     "text": [
      "{'input_ids': [209, 209, 209, 209, 209, 209, 209, 209, 214, 214, 214, 214, 214, 214, 214, 214, 6, 6, 6, 6, 6, 6, 214, 214, 214, 214, 214, 214, 214, 214, 214, 214, 209, 209, 209, 209, 209, 209, 209, 209, 214, 214, 214, 214, 214, 214, 214, 214, 213, 213, 213, 213, 213, 213, 6, 6, 6, 6, 6, 6, 6, 6, 6, 6, 209, 209, 209, 209, 209, 209, 209, 209, 214, 214, 214, 214, 214, 214, 214, 214, 6, 6, 6, 6, 6, 6, 214, 214, 214, 214, 214, 214, 214, 214, 214, 214, 151, 151, 151, 151, 151, 151, 151, 6, 6, 6, 6, 6, 6, 6, 6, 6, 209, 209, 209, 209, 209, 209, 64, 64, 64, 64, 64, 64, 64, 64, 64, 64, 209, 209, 209, 209, 209, 209, 209, 209, 214, 214, 214, 214, 214, 214, 214, 214, 6, 6, 6, 6, 6, 6, 214, 214, 214, 214, 214, 214, 214, 214, 214, 214, 209, 209, 209, 209, 209, 209, 209, 209, 214, 214, 214, 214, 214, 214, 214, 214, 213, 213, 213, 213, 213, 213, 6, 6, 6, 6, 6, 6, 6, 6, 6, 6, 209, 209, 209, 209, 209, 209, 209, 209, 214, 214, 214, 214, 214, 214, 214, 214, 6, 6, 6, 6, 6, 6, 214, 214, 214, 214, 214, 214, 214, 214, 214, 214, 151, 151, 151, 151, 151, 151, 151, 6, 6, 6, 6, 6, 6, 6, 6, 6, 209, 209, 209, 209, 209, 209, 64, 64, 64, 64, 64, 64, 64, 64, 64, 64], 'attention_mask': [1, 1, 1, 1, 1, 1, 1, 1, 1, 1, 1, 1, 1, 1, 1, 1, 1, 1, 1, 1, 1, 1, 1, 1, 1, 1, 1, 1, 1, 1, 1, 1, 1, 1, 1, 1, 1, 1, 1, 1, 1, 1, 1, 1, 1, 1, 1, 1, 1, 1, 1, 1, 1, 1, 1, 1, 1, 1, 1, 1, 1, 1, 1, 1, 1, 1, 1, 1, 1, 1, 1, 1, 1, 1, 1, 1, 1, 1, 1, 1, 1, 1, 1, 1, 1, 1, 1, 1, 1, 1, 1, 1, 1, 1, 1, 1, 1, 1, 1, 1, 1, 1, 1, 1, 1, 1, 1, 1, 1, 1, 1, 1, 1, 1, 1, 1, 1, 1, 1, 1, 1, 1, 1, 1, 1, 1, 1, 1, 1, 1, 1, 1, 1, 1, 1, 1, 1, 1, 1, 1, 1, 1, 1, 1, 1, 1, 1, 1, 1, 1, 1, 1, 1, 1, 1, 1, 1, 1, 1, 1, 1, 1, 1, 1, 1, 1, 1, 1, 1, 1, 1, 1, 1, 1, 1, 1, 1, 1, 1, 1, 1, 1, 1, 1, 1, 1, 1, 1, 1, 1, 1, 1, 1, 1, 1, 1, 1, 1, 1, 1, 1, 1, 1, 1, 1, 1, 1, 1, 1, 1, 1, 1, 1, 1, 1, 1, 1, 1, 1, 1, 1, 1, 1, 1, 1, 1, 1, 1, 1, 1, 1, 1, 1, 1, 1, 1, 1, 1, 1, 1, 1, 1, 1, 1, 1, 1, 1, 1, 1, 1, 1, 1, 1, 1, 1, 1], 'pianoroll': array([[0, 0, 0, ..., 0, 0, 0],\n",
      "       [0, 0, 0, ..., 0, 0, 0],\n",
      "       [0, 0, 0, ..., 0, 0, 0],\n",
      "       ...,\n",
      "       [0, 0, 0, ..., 0, 0, 0],\n",
      "       [0, 0, 0, ..., 0, 0, 0],\n",
      "       [0, 0, 0, ..., 0, 0, 0]], dtype=uint8), 'time_signature': [0, 0, 1, 0, 0, 0, 0, 0, 0, 0, 0, 0, 0, 0, 0, 1], 'features': [0.6250382439866033, 0.00022946391961991744, 0.0, 7.648797320663917e-05, 0.06244263402009502, 0.31221317010047506, 0.0, 0.0, 0.0, 0.0, 0.0, 0.0, 0.0, 0.0, 0.0, 0.0, 0.0, 0.0, 0.0, 0.0, 0.0, 0.0, 0.0, 0.0, 0.0, 0.0, 0.0, 0.0, 0.0, 0.0, 0.0, 0.31228965807368175, 0.6874043900334916, 0.00030595189282655666, 0.0, 0.0, 0.0]}\n"
     ]
    }
   ],
   "source": [
    "print(d)"
   ]
  },
  {
   "cell_type": "code",
   "execution_count": 9,
   "id": "22ad7f53",
   "metadata": {},
   "outputs": [],
   "source": [
    "trainloader = DataLoader(train_dataset, batch_size=32, shuffle=True, collate_fn=GuidedGridMLM_collate_fn)"
   ]
  },
  {
   "cell_type": "code",
   "execution_count": 10,
   "id": "0995c43f",
   "metadata": {},
   "outputs": [],
   "source": [
    "batch = next(iter(trainloader))"
   ]
  },
  {
   "cell_type": "code",
   "execution_count": 11,
   "id": "405891e7",
   "metadata": {},
   "outputs": [
    {
     "name": "stdout",
     "output_type": "stream",
     "text": [
      "torch.Size([32, 256])\n",
      "torch.Size([32, 256, 100])\n",
      "torch.Size([32, 37])\n"
     ]
    }
   ],
   "source": [
    "print(batch['input_ids'].shape)\n",
    "print(batch['pianoroll'].shape)\n",
    "print(batch['features'].shape)"
   ]
  }
 ],
 "metadata": {
  "kernelspec": {
   "display_name": "torch",
   "language": "python",
   "name": "python3"
  },
  "language_info": {
   "codemirror_mode": {
    "name": "ipython",
    "version": 3
   },
   "file_extension": ".py",
   "mimetype": "text/x-python",
   "name": "python",
   "nbconvert_exporter": "python",
   "pygments_lexer": "ipython3",
   "version": "3.12.2"
  }
 },
 "nbformat": 4,
 "nbformat_minor": 5
}
