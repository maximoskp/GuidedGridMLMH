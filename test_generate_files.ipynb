{
 "cells": [
  {
   "cell_type": "code",
   "execution_count": 1,
   "id": "514fe4a9",
   "metadata": {},
   "outputs": [],
   "source": [
    "import pickle\n",
    "import os\n"
   ]
  },
  {
   "cell_type": "code",
   "execution_count": null,
   "id": "e548c357",
   "metadata": {},
   "outputs": [],
   "source": [
    "pickles_folder = '/media/maindisk/data/hooktheory_hr/guidance_experiment_data/'\n",
    "pickles_cross_folder = '/media/maindisk/data/hooktheory_hr/guidance_experiment_data/cross/'"
   ]
  },
  {
   "cell_type": "code",
   "execution_count": null,
   "id": "fbd8acc3",
   "metadata": {},
   "outputs": [
    {
     "ename": "NameError",
     "evalue": "name 'pickle_file' is not defined",
     "output_type": "error",
     "traceback": [
      "\u001b[0;31m---------------------------------------------------------------------------\u001b[0m",
      "\u001b[0;31mNameError\u001b[0m                                 Traceback (most recent call last)",
      "Cell \u001b[0;32mIn[6], line 13\u001b[0m\n\u001b[1;32m      9\u001b[0m guide_dataset \u001b[38;5;241m=\u001b[39m \u001b[38;5;124m'\u001b[39m\u001b[38;5;124mtest\u001b[39m\u001b[38;5;124m'\u001b[39m\n\u001b[1;32m     11\u001b[0m base_name \u001b[38;5;241m=\u001b[39m \u001b[38;5;124m'\u001b[39m\u001b[38;5;124m_\u001b[39m\u001b[38;5;124m'\u001b[39m\u001b[38;5;241m.\u001b[39mjoin( [subfolder\u001b[38;5;241m.\u001b[39mreplace(\u001b[38;5;124m'\u001b[39m\u001b[38;5;124m/\u001b[39m\u001b[38;5;124m'\u001b[39m,\u001b[38;5;124m'\u001b[39m\u001b[38;5;124m_\u001b[39m\u001b[38;5;124m'\u001b[39m), curriculum_type, ablation, input_dataset, guide_dataset] )\n\u001b[0;32m---> 13\u001b[0m \u001b[38;5;28;01mwith\u001b[39;00m \u001b[38;5;28mopen\u001b[39m(pickles_folder\u001b[38;5;241m+\u001b[39m\u001b[43mpickle_file\u001b[49m, \u001b[38;5;124m'\u001b[39m\u001b[38;5;124mrb\u001b[39m\u001b[38;5;124m'\u001b[39m) \u001b[38;5;28;01mas\u001b[39;00m f:\n\u001b[1;32m     14\u001b[0m     \u001b[38;5;28mprint\u001b[39m(pickles_folder\u001b[38;5;241m+\u001b[39mpickle_file)\n\u001b[1;32m     15\u001b[0m     ds \u001b[38;5;241m=\u001b[39m pickle\u001b[38;5;241m.\u001b[39mload(f)\n",
      "\u001b[0;31mNameError\u001b[0m: name 'pickle_file' is not defined"
     ]
    }
   ],
   "source": [
    "subfolders = ['unf_CA', 'disentangle/unf_CA']\n",
    "ablations = ['all', 'kl', 'rec', 'con']\n",
    "curriculum_type = 'random'\n",
    "\n",
    "subfolder = subfolders[0]\n",
    "ablation = ablations[0]\n",
    "\n",
    "input_dataset = 'test'\n",
    "guide_dataset = 'test'\n",
    "\n",
    "base_name = '_'.join( [subfolder.replace('/','_'), curriculum_type, ablation, input_dataset, guide_dataset] )\n",
    "pickle_file = base_name + '.pickle'\n",
    "\n",
    "with open(pickles_folder+pickle_file, 'rb') as f:\n",
    "    print(pickles_folder+pickle_file)\n",
    "    ds = pickle.load(f)"
   ]
  }
 ],
 "metadata": {
  "kernelspec": {
   "display_name": "torch",
   "language": "python",
   "name": "python3"
  },
  "language_info": {
   "codemirror_mode": {
    "name": "ipython",
    "version": 3
   },
   "file_extension": ".py",
   "mimetype": "text/x-python",
   "name": "python",
   "nbconvert_exporter": "python",
   "pygments_lexer": "ipython3",
   "version": "3.12.2"
  }
 },
 "nbformat": 4,
 "nbformat_minor": 5
}
